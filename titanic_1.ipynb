{
  "nbformat": 4,
  "nbformat_minor": 0,
  "metadata": {
    "colab": {
      "name": "titanic_1.ipynb",
      "provenance": [],
      "collapsed_sections": [],
      "mount_file_id": "1h-H8nXL0tWR_2qDj_K3l87xth830YNbb",
      "authorship_tag": "ABX9TyNtUbuvhHYIyML7aecd1noC",
      "include_colab_link": true
    },
    "kernelspec": {
      "name": "python3",
      "display_name": "Python 3"
    }
  },
  "cells": [
    {
      "cell_type": "markdown",
      "metadata": {
        "id": "view-in-github",
        "colab_type": "text"
      },
      "source": [
        "<a href=\"https://colab.research.google.com/github/LEE-SANG-HYUK/Titanic/blob/main/titanic_1.ipynb\" target=\"_parent\"><img src=\"https://colab.research.google.com/assets/colab-badge.svg\" alt=\"Open In Colab\"/></a>"
      ]
    },
    {
      "cell_type": "code",
      "metadata": {
        "id": "jA9PLXEAJhga"
      },
      "source": [
        "import numpy as np\r\n",
        "import pandas as pd\r\n",
        "import matplotlib.pyplot as plt\r\n",
        "import tensorflow as tf\r\n",
        "import seaborn as sns\r\n",
        "from sklearn.model_selection import train_test_split\r\n",
        "from sklearn import svm\r\n",
        "from sklearn import metrics\r\n",
        "from sklearn.preprocessing import StandardScaler, LabelEncoder\r\n",
        "from sklearn "
      ],
      "execution_count": null,
      "outputs": []
    },
    {
      "cell_type": "code",
      "metadata": {
        "id": "XbxbO9DcJj2D"
      },
      "source": [
        "path = \"/content/drive/MyDrive/train.csv\"\r\n",
        "train = pd.read_csv(path)"
      ],
      "execution_count": null,
      "outputs": []
    },
    {
      "cell_type": "code",
      "metadata": {
        "id": "AaDN6QzRJn1E"
      },
      "source": [
        "path = \"/content/drive/MyDrive/test.csv\"\r\n",
        "test = pd.read_csv(path)"
      ],
      "execution_count": null,
      "outputs": []
    },
    {
      "cell_type": "code",
      "metadata": {
        "colab": {
          "base_uri": "https://localhost:8080/",
          "height": 932
        },
        "id": "JI3q9AmeJt3w",
        "outputId": "28bfacf9-1713-458b-ad4b-09207b6f9322"
      },
      "source": [
        "train"
      ],
      "execution_count": null,
      "outputs": [
        {
          "output_type": "execute_result",
          "data": {
            "text/html": [
              "<div>\n",
              "<style scoped>\n",
              "    .dataframe tbody tr th:only-of-type {\n",
              "        vertical-align: middle;\n",
              "    }\n",
              "\n",
              "    .dataframe tbody tr th {\n",
              "        vertical-align: top;\n",
              "    }\n",
              "\n",
              "    .dataframe thead th {\n",
              "        text-align: right;\n",
              "    }\n",
              "</style>\n",
              "<table border=\"1\" class=\"dataframe\">\n",
              "  <thead>\n",
              "    <tr style=\"text-align: right;\">\n",
              "      <th></th>\n",
              "      <th>PassengerId</th>\n",
              "      <th>Survived</th>\n",
              "      <th>Pclass</th>\n",
              "      <th>Name</th>\n",
              "      <th>Sex</th>\n",
              "      <th>Age</th>\n",
              "      <th>SibSp</th>\n",
              "      <th>Parch</th>\n",
              "      <th>Ticket</th>\n",
              "      <th>Fare</th>\n",
              "      <th>Cabin</th>\n",
              "      <th>Embarked</th>\n",
              "    </tr>\n",
              "  </thead>\n",
              "  <tbody>\n",
              "    <tr>\n",
              "      <th>0</th>\n",
              "      <td>1</td>\n",
              "      <td>0</td>\n",
              "      <td>3</td>\n",
              "      <td>Braund, Mr. Owen Harris</td>\n",
              "      <td>male</td>\n",
              "      <td>22.0</td>\n",
              "      <td>1</td>\n",
              "      <td>0</td>\n",
              "      <td>A/5 21171</td>\n",
              "      <td>7.2500</td>\n",
              "      <td>NaN</td>\n",
              "      <td>S</td>\n",
              "    </tr>\n",
              "    <tr>\n",
              "      <th>1</th>\n",
              "      <td>2</td>\n",
              "      <td>1</td>\n",
              "      <td>1</td>\n",
              "      <td>Cumings, Mrs. John Bradley (Florence Briggs Th...</td>\n",
              "      <td>female</td>\n",
              "      <td>38.0</td>\n",
              "      <td>1</td>\n",
              "      <td>0</td>\n",
              "      <td>PC 17599</td>\n",
              "      <td>71.2833</td>\n",
              "      <td>C85</td>\n",
              "      <td>C</td>\n",
              "    </tr>\n",
              "    <tr>\n",
              "      <th>2</th>\n",
              "      <td>3</td>\n",
              "      <td>1</td>\n",
              "      <td>3</td>\n",
              "      <td>Heikkinen, Miss. Laina</td>\n",
              "      <td>female</td>\n",
              "      <td>26.0</td>\n",
              "      <td>0</td>\n",
              "      <td>0</td>\n",
              "      <td>STON/O2. 3101282</td>\n",
              "      <td>7.9250</td>\n",
              "      <td>NaN</td>\n",
              "      <td>S</td>\n",
              "    </tr>\n",
              "    <tr>\n",
              "      <th>3</th>\n",
              "      <td>4</td>\n",
              "      <td>1</td>\n",
              "      <td>1</td>\n",
              "      <td>Futrelle, Mrs. Jacques Heath (Lily May Peel)</td>\n",
              "      <td>female</td>\n",
              "      <td>35.0</td>\n",
              "      <td>1</td>\n",
              "      <td>0</td>\n",
              "      <td>113803</td>\n",
              "      <td>53.1000</td>\n",
              "      <td>C123</td>\n",
              "      <td>S</td>\n",
              "    </tr>\n",
              "    <tr>\n",
              "      <th>4</th>\n",
              "      <td>5</td>\n",
              "      <td>0</td>\n",
              "      <td>3</td>\n",
              "      <td>Allen, Mr. William Henry</td>\n",
              "      <td>male</td>\n",
              "      <td>35.0</td>\n",
              "      <td>0</td>\n",
              "      <td>0</td>\n",
              "      <td>373450</td>\n",
              "      <td>8.0500</td>\n",
              "      <td>NaN</td>\n",
              "      <td>S</td>\n",
              "    </tr>\n",
              "    <tr>\n",
              "      <th>...</th>\n",
              "      <td>...</td>\n",
              "      <td>...</td>\n",
              "      <td>...</td>\n",
              "      <td>...</td>\n",
              "      <td>...</td>\n",
              "      <td>...</td>\n",
              "      <td>...</td>\n",
              "      <td>...</td>\n",
              "      <td>...</td>\n",
              "      <td>...</td>\n",
              "      <td>...</td>\n",
              "      <td>...</td>\n",
              "    </tr>\n",
              "    <tr>\n",
              "      <th>886</th>\n",
              "      <td>887</td>\n",
              "      <td>0</td>\n",
              "      <td>2</td>\n",
              "      <td>Montvila, Rev. Juozas</td>\n",
              "      <td>male</td>\n",
              "      <td>27.0</td>\n",
              "      <td>0</td>\n",
              "      <td>0</td>\n",
              "      <td>211536</td>\n",
              "      <td>13.0000</td>\n",
              "      <td>NaN</td>\n",
              "      <td>S</td>\n",
              "    </tr>\n",
              "    <tr>\n",
              "      <th>887</th>\n",
              "      <td>888</td>\n",
              "      <td>1</td>\n",
              "      <td>1</td>\n",
              "      <td>Graham, Miss. Margaret Edith</td>\n",
              "      <td>female</td>\n",
              "      <td>19.0</td>\n",
              "      <td>0</td>\n",
              "      <td>0</td>\n",
              "      <td>112053</td>\n",
              "      <td>30.0000</td>\n",
              "      <td>B42</td>\n",
              "      <td>S</td>\n",
              "    </tr>\n",
              "    <tr>\n",
              "      <th>888</th>\n",
              "      <td>889</td>\n",
              "      <td>0</td>\n",
              "      <td>3</td>\n",
              "      <td>Johnston, Miss. Catherine Helen \"Carrie\"</td>\n",
              "      <td>female</td>\n",
              "      <td>NaN</td>\n",
              "      <td>1</td>\n",
              "      <td>2</td>\n",
              "      <td>W./C. 6607</td>\n",
              "      <td>23.4500</td>\n",
              "      <td>NaN</td>\n",
              "      <td>S</td>\n",
              "    </tr>\n",
              "    <tr>\n",
              "      <th>889</th>\n",
              "      <td>890</td>\n",
              "      <td>1</td>\n",
              "      <td>1</td>\n",
              "      <td>Behr, Mr. Karl Howell</td>\n",
              "      <td>male</td>\n",
              "      <td>26.0</td>\n",
              "      <td>0</td>\n",
              "      <td>0</td>\n",
              "      <td>111369</td>\n",
              "      <td>30.0000</td>\n",
              "      <td>C148</td>\n",
              "      <td>C</td>\n",
              "    </tr>\n",
              "    <tr>\n",
              "      <th>890</th>\n",
              "      <td>891</td>\n",
              "      <td>0</td>\n",
              "      <td>3</td>\n",
              "      <td>Dooley, Mr. Patrick</td>\n",
              "      <td>male</td>\n",
              "      <td>32.0</td>\n",
              "      <td>0</td>\n",
              "      <td>0</td>\n",
              "      <td>370376</td>\n",
              "      <td>7.7500</td>\n",
              "      <td>NaN</td>\n",
              "      <td>Q</td>\n",
              "    </tr>\n",
              "  </tbody>\n",
              "</table>\n",
              "<p>891 rows × 12 columns</p>\n",
              "</div>"
            ],
            "text/plain": [
              "     PassengerId  Survived  Pclass  ...     Fare Cabin  Embarked\n",
              "0              1         0       3  ...   7.2500   NaN         S\n",
              "1              2         1       1  ...  71.2833   C85         C\n",
              "2              3         1       3  ...   7.9250   NaN         S\n",
              "3              4         1       1  ...  53.1000  C123         S\n",
              "4              5         0       3  ...   8.0500   NaN         S\n",
              "..           ...       ...     ...  ...      ...   ...       ...\n",
              "886          887         0       2  ...  13.0000   NaN         S\n",
              "887          888         1       1  ...  30.0000   B42         S\n",
              "888          889         0       3  ...  23.4500   NaN         S\n",
              "889          890         1       1  ...  30.0000  C148         C\n",
              "890          891         0       3  ...   7.7500   NaN         Q\n",
              "\n",
              "[891 rows x 12 columns]"
            ]
          },
          "metadata": {
            "tags": []
          },
          "execution_count": 68
        }
      ]
    },
    {
      "cell_type": "code",
      "metadata": {
        "colab": {
          "base_uri": "https://localhost:8080/",
          "height": 589
        },
        "id": "unPqSGeQLBAD",
        "outputId": "98eed844-85bf-41f9-9a1e-7ab8179d6aad"
      },
      "source": [
        "test"
      ],
      "execution_count": null,
      "outputs": [
        {
          "output_type": "execute_result",
          "data": {
            "text/html": [
              "<div>\n",
              "<style scoped>\n",
              "    .dataframe tbody tr th:only-of-type {\n",
              "        vertical-align: middle;\n",
              "    }\n",
              "\n",
              "    .dataframe tbody tr th {\n",
              "        vertical-align: top;\n",
              "    }\n",
              "\n",
              "    .dataframe thead th {\n",
              "        text-align: right;\n",
              "    }\n",
              "</style>\n",
              "<table border=\"1\" class=\"dataframe\">\n",
              "  <thead>\n",
              "    <tr style=\"text-align: right;\">\n",
              "      <th></th>\n",
              "      <th>PassengerId</th>\n",
              "      <th>Pclass</th>\n",
              "      <th>Name</th>\n",
              "      <th>Sex</th>\n",
              "      <th>Age</th>\n",
              "      <th>SibSp</th>\n",
              "      <th>Parch</th>\n",
              "      <th>Ticket</th>\n",
              "      <th>Fare</th>\n",
              "      <th>Cabin</th>\n",
              "      <th>Embarked</th>\n",
              "    </tr>\n",
              "  </thead>\n",
              "  <tbody>\n",
              "    <tr>\n",
              "      <th>0</th>\n",
              "      <td>892</td>\n",
              "      <td>3</td>\n",
              "      <td>Kelly, Mr. James</td>\n",
              "      <td>male</td>\n",
              "      <td>34.5</td>\n",
              "      <td>0</td>\n",
              "      <td>0</td>\n",
              "      <td>330911</td>\n",
              "      <td>7.8292</td>\n",
              "      <td>NaN</td>\n",
              "      <td>Q</td>\n",
              "    </tr>\n",
              "    <tr>\n",
              "      <th>1</th>\n",
              "      <td>893</td>\n",
              "      <td>3</td>\n",
              "      <td>Wilkes, Mrs. James (Ellen Needs)</td>\n",
              "      <td>female</td>\n",
              "      <td>47.0</td>\n",
              "      <td>1</td>\n",
              "      <td>0</td>\n",
              "      <td>363272</td>\n",
              "      <td>7.0000</td>\n",
              "      <td>NaN</td>\n",
              "      <td>S</td>\n",
              "    </tr>\n",
              "    <tr>\n",
              "      <th>2</th>\n",
              "      <td>894</td>\n",
              "      <td>2</td>\n",
              "      <td>Myles, Mr. Thomas Francis</td>\n",
              "      <td>male</td>\n",
              "      <td>62.0</td>\n",
              "      <td>0</td>\n",
              "      <td>0</td>\n",
              "      <td>240276</td>\n",
              "      <td>9.6875</td>\n",
              "      <td>NaN</td>\n",
              "      <td>Q</td>\n",
              "    </tr>\n",
              "    <tr>\n",
              "      <th>3</th>\n",
              "      <td>895</td>\n",
              "      <td>3</td>\n",
              "      <td>Wirz, Mr. Albert</td>\n",
              "      <td>male</td>\n",
              "      <td>27.0</td>\n",
              "      <td>0</td>\n",
              "      <td>0</td>\n",
              "      <td>315154</td>\n",
              "      <td>8.6625</td>\n",
              "      <td>NaN</td>\n",
              "      <td>S</td>\n",
              "    </tr>\n",
              "    <tr>\n",
              "      <th>4</th>\n",
              "      <td>896</td>\n",
              "      <td>3</td>\n",
              "      <td>Hirvonen, Mrs. Alexander (Helga E Lindqvist)</td>\n",
              "      <td>female</td>\n",
              "      <td>22.0</td>\n",
              "      <td>1</td>\n",
              "      <td>1</td>\n",
              "      <td>3101298</td>\n",
              "      <td>12.2875</td>\n",
              "      <td>NaN</td>\n",
              "      <td>S</td>\n",
              "    </tr>\n",
              "    <tr>\n",
              "      <th>...</th>\n",
              "      <td>...</td>\n",
              "      <td>...</td>\n",
              "      <td>...</td>\n",
              "      <td>...</td>\n",
              "      <td>...</td>\n",
              "      <td>...</td>\n",
              "      <td>...</td>\n",
              "      <td>...</td>\n",
              "      <td>...</td>\n",
              "      <td>...</td>\n",
              "      <td>...</td>\n",
              "    </tr>\n",
              "    <tr>\n",
              "      <th>413</th>\n",
              "      <td>1305</td>\n",
              "      <td>3</td>\n",
              "      <td>Spector, Mr. Woolf</td>\n",
              "      <td>male</td>\n",
              "      <td>NaN</td>\n",
              "      <td>0</td>\n",
              "      <td>0</td>\n",
              "      <td>A.5. 3236</td>\n",
              "      <td>8.0500</td>\n",
              "      <td>NaN</td>\n",
              "      <td>S</td>\n",
              "    </tr>\n",
              "    <tr>\n",
              "      <th>414</th>\n",
              "      <td>1306</td>\n",
              "      <td>1</td>\n",
              "      <td>Oliva y Ocana, Dona. Fermina</td>\n",
              "      <td>female</td>\n",
              "      <td>39.0</td>\n",
              "      <td>0</td>\n",
              "      <td>0</td>\n",
              "      <td>PC 17758</td>\n",
              "      <td>108.9000</td>\n",
              "      <td>C105</td>\n",
              "      <td>C</td>\n",
              "    </tr>\n",
              "    <tr>\n",
              "      <th>415</th>\n",
              "      <td>1307</td>\n",
              "      <td>3</td>\n",
              "      <td>Saether, Mr. Simon Sivertsen</td>\n",
              "      <td>male</td>\n",
              "      <td>38.5</td>\n",
              "      <td>0</td>\n",
              "      <td>0</td>\n",
              "      <td>SOTON/O.Q. 3101262</td>\n",
              "      <td>7.2500</td>\n",
              "      <td>NaN</td>\n",
              "      <td>S</td>\n",
              "    </tr>\n",
              "    <tr>\n",
              "      <th>416</th>\n",
              "      <td>1308</td>\n",
              "      <td>3</td>\n",
              "      <td>Ware, Mr. Frederick</td>\n",
              "      <td>male</td>\n",
              "      <td>NaN</td>\n",
              "      <td>0</td>\n",
              "      <td>0</td>\n",
              "      <td>359309</td>\n",
              "      <td>8.0500</td>\n",
              "      <td>NaN</td>\n",
              "      <td>S</td>\n",
              "    </tr>\n",
              "    <tr>\n",
              "      <th>417</th>\n",
              "      <td>1309</td>\n",
              "      <td>3</td>\n",
              "      <td>Peter, Master. Michael J</td>\n",
              "      <td>male</td>\n",
              "      <td>NaN</td>\n",
              "      <td>1</td>\n",
              "      <td>1</td>\n",
              "      <td>2668</td>\n",
              "      <td>22.3583</td>\n",
              "      <td>NaN</td>\n",
              "      <td>C</td>\n",
              "    </tr>\n",
              "  </tbody>\n",
              "</table>\n",
              "<p>418 rows × 11 columns</p>\n",
              "</div>"
            ],
            "text/plain": [
              "     PassengerId  Pclass  ... Cabin Embarked\n",
              "0            892       3  ...   NaN        Q\n",
              "1            893       3  ...   NaN        S\n",
              "2            894       2  ...   NaN        Q\n",
              "3            895       3  ...   NaN        S\n",
              "4            896       3  ...   NaN        S\n",
              "..           ...     ...  ...   ...      ...\n",
              "413         1305       3  ...   NaN        S\n",
              "414         1306       1  ...  C105        C\n",
              "415         1307       3  ...   NaN        S\n",
              "416         1308       3  ...   NaN        S\n",
              "417         1309       3  ...   NaN        C\n",
              "\n",
              "[418 rows x 11 columns]"
            ]
          },
          "metadata": {
            "tags": []
          },
          "execution_count": 69
        }
      ]
    },
    {
      "cell_type": "code",
      "metadata": {
        "id": "olRIKlqjJvOU"
      },
      "source": [
        "titanic = pd.concat([train, test], axis=0).reset_index(drop=True)"
      ],
      "execution_count": null,
      "outputs": []
    },
    {
      "cell_type": "code",
      "metadata": {
        "colab": {
          "base_uri": "https://localhost:8080/",
          "height": 864
        },
        "id": "r6SUZQfbJ9V2",
        "outputId": "82130427-70c7-4850-e9c8-65e00276ce15"
      },
      "source": [
        "titanic"
      ],
      "execution_count": null,
      "outputs": [
        {
          "output_type": "execute_result",
          "data": {
            "text/html": [
              "<div>\n",
              "<style scoped>\n",
              "    .dataframe tbody tr th:only-of-type {\n",
              "        vertical-align: middle;\n",
              "    }\n",
              "\n",
              "    .dataframe tbody tr th {\n",
              "        vertical-align: top;\n",
              "    }\n",
              "\n",
              "    .dataframe thead th {\n",
              "        text-align: right;\n",
              "    }\n",
              "</style>\n",
              "<table border=\"1\" class=\"dataframe\">\n",
              "  <thead>\n",
              "    <tr style=\"text-align: right;\">\n",
              "      <th></th>\n",
              "      <th>PassengerId</th>\n",
              "      <th>Survived</th>\n",
              "      <th>Pclass</th>\n",
              "      <th>Name</th>\n",
              "      <th>Sex</th>\n",
              "      <th>Age</th>\n",
              "      <th>SibSp</th>\n",
              "      <th>Parch</th>\n",
              "      <th>Ticket</th>\n",
              "      <th>Fare</th>\n",
              "      <th>Cabin</th>\n",
              "      <th>Embarked</th>\n",
              "    </tr>\n",
              "  </thead>\n",
              "  <tbody>\n",
              "    <tr>\n",
              "      <th>0</th>\n",
              "      <td>1</td>\n",
              "      <td>0.0</td>\n",
              "      <td>3</td>\n",
              "      <td>Braund, Mr. Owen Harris</td>\n",
              "      <td>male</td>\n",
              "      <td>22.0</td>\n",
              "      <td>1</td>\n",
              "      <td>0</td>\n",
              "      <td>A/5 21171</td>\n",
              "      <td>7.2500</td>\n",
              "      <td>NaN</td>\n",
              "      <td>S</td>\n",
              "    </tr>\n",
              "    <tr>\n",
              "      <th>1</th>\n",
              "      <td>2</td>\n",
              "      <td>1.0</td>\n",
              "      <td>1</td>\n",
              "      <td>Cumings, Mrs. John Bradley (Florence Briggs Th...</td>\n",
              "      <td>female</td>\n",
              "      <td>38.0</td>\n",
              "      <td>1</td>\n",
              "      <td>0</td>\n",
              "      <td>PC 17599</td>\n",
              "      <td>71.2833</td>\n",
              "      <td>C85</td>\n",
              "      <td>C</td>\n",
              "    </tr>\n",
              "    <tr>\n",
              "      <th>2</th>\n",
              "      <td>3</td>\n",
              "      <td>1.0</td>\n",
              "      <td>3</td>\n",
              "      <td>Heikkinen, Miss. Laina</td>\n",
              "      <td>female</td>\n",
              "      <td>26.0</td>\n",
              "      <td>0</td>\n",
              "      <td>0</td>\n",
              "      <td>STON/O2. 3101282</td>\n",
              "      <td>7.9250</td>\n",
              "      <td>NaN</td>\n",
              "      <td>S</td>\n",
              "    </tr>\n",
              "    <tr>\n",
              "      <th>3</th>\n",
              "      <td>4</td>\n",
              "      <td>1.0</td>\n",
              "      <td>1</td>\n",
              "      <td>Futrelle, Mrs. Jacques Heath (Lily May Peel)</td>\n",
              "      <td>female</td>\n",
              "      <td>35.0</td>\n",
              "      <td>1</td>\n",
              "      <td>0</td>\n",
              "      <td>113803</td>\n",
              "      <td>53.1000</td>\n",
              "      <td>C123</td>\n",
              "      <td>S</td>\n",
              "    </tr>\n",
              "    <tr>\n",
              "      <th>4</th>\n",
              "      <td>5</td>\n",
              "      <td>0.0</td>\n",
              "      <td>3</td>\n",
              "      <td>Allen, Mr. William Henry</td>\n",
              "      <td>male</td>\n",
              "      <td>35.0</td>\n",
              "      <td>0</td>\n",
              "      <td>0</td>\n",
              "      <td>373450</td>\n",
              "      <td>8.0500</td>\n",
              "      <td>NaN</td>\n",
              "      <td>S</td>\n",
              "    </tr>\n",
              "    <tr>\n",
              "      <th>...</th>\n",
              "      <td>...</td>\n",
              "      <td>...</td>\n",
              "      <td>...</td>\n",
              "      <td>...</td>\n",
              "      <td>...</td>\n",
              "      <td>...</td>\n",
              "      <td>...</td>\n",
              "      <td>...</td>\n",
              "      <td>...</td>\n",
              "      <td>...</td>\n",
              "      <td>...</td>\n",
              "      <td>...</td>\n",
              "    </tr>\n",
              "    <tr>\n",
              "      <th>1304</th>\n",
              "      <td>1305</td>\n",
              "      <td>NaN</td>\n",
              "      <td>3</td>\n",
              "      <td>Spector, Mr. Woolf</td>\n",
              "      <td>male</td>\n",
              "      <td>NaN</td>\n",
              "      <td>0</td>\n",
              "      <td>0</td>\n",
              "      <td>A.5. 3236</td>\n",
              "      <td>8.0500</td>\n",
              "      <td>NaN</td>\n",
              "      <td>S</td>\n",
              "    </tr>\n",
              "    <tr>\n",
              "      <th>1305</th>\n",
              "      <td>1306</td>\n",
              "      <td>NaN</td>\n",
              "      <td>1</td>\n",
              "      <td>Oliva y Ocana, Dona. Fermina</td>\n",
              "      <td>female</td>\n",
              "      <td>39.0</td>\n",
              "      <td>0</td>\n",
              "      <td>0</td>\n",
              "      <td>PC 17758</td>\n",
              "      <td>108.9000</td>\n",
              "      <td>C105</td>\n",
              "      <td>C</td>\n",
              "    </tr>\n",
              "    <tr>\n",
              "      <th>1306</th>\n",
              "      <td>1307</td>\n",
              "      <td>NaN</td>\n",
              "      <td>3</td>\n",
              "      <td>Saether, Mr. Simon Sivertsen</td>\n",
              "      <td>male</td>\n",
              "      <td>38.5</td>\n",
              "      <td>0</td>\n",
              "      <td>0</td>\n",
              "      <td>SOTON/O.Q. 3101262</td>\n",
              "      <td>7.2500</td>\n",
              "      <td>NaN</td>\n",
              "      <td>S</td>\n",
              "    </tr>\n",
              "    <tr>\n",
              "      <th>1307</th>\n",
              "      <td>1308</td>\n",
              "      <td>NaN</td>\n",
              "      <td>3</td>\n",
              "      <td>Ware, Mr. Frederick</td>\n",
              "      <td>male</td>\n",
              "      <td>NaN</td>\n",
              "      <td>0</td>\n",
              "      <td>0</td>\n",
              "      <td>359309</td>\n",
              "      <td>8.0500</td>\n",
              "      <td>NaN</td>\n",
              "      <td>S</td>\n",
              "    </tr>\n",
              "    <tr>\n",
              "      <th>1308</th>\n",
              "      <td>1309</td>\n",
              "      <td>NaN</td>\n",
              "      <td>3</td>\n",
              "      <td>Peter, Master. Michael J</td>\n",
              "      <td>male</td>\n",
              "      <td>NaN</td>\n",
              "      <td>1</td>\n",
              "      <td>1</td>\n",
              "      <td>2668</td>\n",
              "      <td>22.3583</td>\n",
              "      <td>NaN</td>\n",
              "      <td>C</td>\n",
              "    </tr>\n",
              "  </tbody>\n",
              "</table>\n",
              "<p>1309 rows × 12 columns</p>\n",
              "</div>"
            ],
            "text/plain": [
              "      PassengerId  Survived  Pclass  ...      Fare Cabin  Embarked\n",
              "0               1       0.0       3  ...    7.2500   NaN         S\n",
              "1               2       1.0       1  ...   71.2833   C85         C\n",
              "2               3       1.0       3  ...    7.9250   NaN         S\n",
              "3               4       1.0       1  ...   53.1000  C123         S\n",
              "4               5       0.0       3  ...    8.0500   NaN         S\n",
              "...           ...       ...     ...  ...       ...   ...       ...\n",
              "1304         1305       NaN       3  ...    8.0500   NaN         S\n",
              "1305         1306       NaN       1  ...  108.9000  C105         C\n",
              "1306         1307       NaN       3  ...    7.2500   NaN         S\n",
              "1307         1308       NaN       3  ...    8.0500   NaN         S\n",
              "1308         1309       NaN       3  ...   22.3583   NaN         C\n",
              "\n",
              "[1309 rows x 12 columns]"
            ]
          },
          "metadata": {
            "tags": []
          },
          "execution_count": 71
        }
      ]
    },
    {
      "cell_type": "code",
      "metadata": {
        "colab": {
          "base_uri": "https://localhost:8080/"
        },
        "id": "PZEsgEqIOT4P",
        "outputId": "bdf579c5-00f4-4b58-98a4-b23c97826aa9"
      },
      "source": [
        "titanic.info()"
      ],
      "execution_count": null,
      "outputs": [
        {
          "output_type": "stream",
          "text": [
            "<class 'pandas.core.frame.DataFrame'>\n",
            "RangeIndex: 1309 entries, 0 to 1308\n",
            "Data columns (total 12 columns):\n",
            " #   Column       Non-Null Count  Dtype  \n",
            "---  ------       --------------  -----  \n",
            " 0   PassengerId  1309 non-null   int64  \n",
            " 1   Survived     891 non-null    float64\n",
            " 2   Pclass       1309 non-null   int64  \n",
            " 3   Name         1309 non-null   object \n",
            " 4   Sex          1309 non-null   object \n",
            " 5   Age          1046 non-null   float64\n",
            " 6   SibSp        1309 non-null   int64  \n",
            " 7   Parch        1309 non-null   int64  \n",
            " 8   Ticket       1309 non-null   object \n",
            " 9   Fare         1308 non-null   float64\n",
            " 10  Cabin        295 non-null    object \n",
            " 11  Embarked     1307 non-null   object \n",
            "dtypes: float64(3), int64(4), object(5)\n",
            "memory usage: 122.8+ KB\n"
          ],
          "name": "stdout"
        }
      ]
    },
    {
      "cell_type": "code",
      "metadata": {
        "colab": {
          "base_uri": "https://localhost:8080/",
          "height": 297
        },
        "id": "4h9oYI_tOWV9",
        "outputId": "61274157-ec94-4a00-a435-ac383f6b8d0a"
      },
      "source": [
        "titanic.describe()"
      ],
      "execution_count": null,
      "outputs": [
        {
          "output_type": "execute_result",
          "data": {
            "text/html": [
              "<div>\n",
              "<style scoped>\n",
              "    .dataframe tbody tr th:only-of-type {\n",
              "        vertical-align: middle;\n",
              "    }\n",
              "\n",
              "    .dataframe tbody tr th {\n",
              "        vertical-align: top;\n",
              "    }\n",
              "\n",
              "    .dataframe thead th {\n",
              "        text-align: right;\n",
              "    }\n",
              "</style>\n",
              "<table border=\"1\" class=\"dataframe\">\n",
              "  <thead>\n",
              "    <tr style=\"text-align: right;\">\n",
              "      <th></th>\n",
              "      <th>PassengerId</th>\n",
              "      <th>Survived</th>\n",
              "      <th>Pclass</th>\n",
              "      <th>Age</th>\n",
              "      <th>SibSp</th>\n",
              "      <th>Parch</th>\n",
              "      <th>Fare</th>\n",
              "    </tr>\n",
              "  </thead>\n",
              "  <tbody>\n",
              "    <tr>\n",
              "      <th>count</th>\n",
              "      <td>1309.000000</td>\n",
              "      <td>891.000000</td>\n",
              "      <td>1309.000000</td>\n",
              "      <td>1046.000000</td>\n",
              "      <td>1309.000000</td>\n",
              "      <td>1309.000000</td>\n",
              "      <td>1308.000000</td>\n",
              "    </tr>\n",
              "    <tr>\n",
              "      <th>mean</th>\n",
              "      <td>655.000000</td>\n",
              "      <td>0.383838</td>\n",
              "      <td>2.294882</td>\n",
              "      <td>29.881138</td>\n",
              "      <td>0.498854</td>\n",
              "      <td>0.385027</td>\n",
              "      <td>33.295479</td>\n",
              "    </tr>\n",
              "    <tr>\n",
              "      <th>std</th>\n",
              "      <td>378.020061</td>\n",
              "      <td>0.486592</td>\n",
              "      <td>0.837836</td>\n",
              "      <td>14.413493</td>\n",
              "      <td>1.041658</td>\n",
              "      <td>0.865560</td>\n",
              "      <td>51.758668</td>\n",
              "    </tr>\n",
              "    <tr>\n",
              "      <th>min</th>\n",
              "      <td>1.000000</td>\n",
              "      <td>0.000000</td>\n",
              "      <td>1.000000</td>\n",
              "      <td>0.170000</td>\n",
              "      <td>0.000000</td>\n",
              "      <td>0.000000</td>\n",
              "      <td>0.000000</td>\n",
              "    </tr>\n",
              "    <tr>\n",
              "      <th>25%</th>\n",
              "      <td>328.000000</td>\n",
              "      <td>0.000000</td>\n",
              "      <td>2.000000</td>\n",
              "      <td>21.000000</td>\n",
              "      <td>0.000000</td>\n",
              "      <td>0.000000</td>\n",
              "      <td>7.895800</td>\n",
              "    </tr>\n",
              "    <tr>\n",
              "      <th>50%</th>\n",
              "      <td>655.000000</td>\n",
              "      <td>0.000000</td>\n",
              "      <td>3.000000</td>\n",
              "      <td>28.000000</td>\n",
              "      <td>0.000000</td>\n",
              "      <td>0.000000</td>\n",
              "      <td>14.454200</td>\n",
              "    </tr>\n",
              "    <tr>\n",
              "      <th>75%</th>\n",
              "      <td>982.000000</td>\n",
              "      <td>1.000000</td>\n",
              "      <td>3.000000</td>\n",
              "      <td>39.000000</td>\n",
              "      <td>1.000000</td>\n",
              "      <td>0.000000</td>\n",
              "      <td>31.275000</td>\n",
              "    </tr>\n",
              "    <tr>\n",
              "      <th>max</th>\n",
              "      <td>1309.000000</td>\n",
              "      <td>1.000000</td>\n",
              "      <td>3.000000</td>\n",
              "      <td>80.000000</td>\n",
              "      <td>8.000000</td>\n",
              "      <td>9.000000</td>\n",
              "      <td>512.329200</td>\n",
              "    </tr>\n",
              "  </tbody>\n",
              "</table>\n",
              "</div>"
            ],
            "text/plain": [
              "       PassengerId    Survived  ...        Parch         Fare\n",
              "count  1309.000000  891.000000  ...  1309.000000  1308.000000\n",
              "mean    655.000000    0.383838  ...     0.385027    33.295479\n",
              "std     378.020061    0.486592  ...     0.865560    51.758668\n",
              "min       1.000000    0.000000  ...     0.000000     0.000000\n",
              "25%     328.000000    0.000000  ...     0.000000     7.895800\n",
              "50%     655.000000    0.000000  ...     0.000000    14.454200\n",
              "75%     982.000000    1.000000  ...     0.000000    31.275000\n",
              "max    1309.000000    1.000000  ...     9.000000   512.329200\n",
              "\n",
              "[8 rows x 7 columns]"
            ]
          },
          "metadata": {
            "tags": []
          },
          "execution_count": 73
        }
      ]
    },
    {
      "cell_type": "markdown",
      "metadata": {
        "id": "ch0wEEVQN0qP"
      },
      "source": [
        "2.Data cleansing"
      ]
    },
    {
      "cell_type": "markdown",
      "metadata": {
        "id": "Plvhd72SOD6E"
      },
      "source": [
        "2.1 Age"
      ]
    },
    {
      "cell_type": "code",
      "metadata": {
        "colab": {
          "base_uri": "https://localhost:8080/",
          "height": 283
        },
        "id": "wDI2qNdPL2-x",
        "outputId": "2971a2ff-dec6-46b6-befa-c487fec87eda"
      },
      "source": [
        "titanic['Age'].hist()"
      ],
      "execution_count": null,
      "outputs": [
        {
          "output_type": "execute_result",
          "data": {
            "text/plain": [
              "<matplotlib.axes._subplots.AxesSubplot at 0x7f05affa7470>"
            ]
          },
          "metadata": {
            "tags": []
          },
          "execution_count": 74
        },
        {
          "output_type": "display_data",
          "data": {
            "image/png": "[encoded data removed]",
            "text/plain": [
              "<Figure size 432x288 with 1 Axes>"
            ]
          },
          "metadata": {
            "tags": [],
            "needs_background": "light"
          }
        }
      ]
    },
    {
      "cell_type": "code",
      "metadata": {
        "colab": {
          "base_uri": "https://localhost:8080/",
          "height": 283
        },
        "id": "nxA5VjFuLjc7",
        "outputId": "b2ec89d8-3f79-418a-b705-20b85a4ff663"
      },
      "source": [
        "titanic[titanic['Pclass'] == 1]['Age'].hist()"
      ],
      "execution_count": null,
      "outputs": [
        {
          "output_type": "execute_result",
          "data": {
            "text/plain": [
              "<matplotlib.axes._subplots.AxesSubplot at 0x7f05aff58668>"
            ]
          },
          "metadata": {
            "tags": []
          },
          "execution_count": 75
        },
        {
          "output_type": "display_data",
          "data": {
            "image/png": "[encoded data removed]",
            "text/plain": [
              "<Figure size 432x288 with 1 Axes>"
            ]
          },
          "metadata": {
            "tags": [],
            "needs_background": "light"
          }
        }
      ]
    },
    {
      "cell_type": "code",
      "metadata": {
        "colab": {
          "base_uri": "https://localhost:8080/",
          "height": 283
        },
        "id": "yZ0ejbszO8DR",
        "outputId": "51e0a98b-91c3-40f2-8c27-5c5c902b45cf"
      },
      "source": [
        "titanic[(titanic['Pclass'] == 1) & (titanic['Sex'] == 'male') & (titanic['Survived'] == 1)]['Age'].hist()"
      ],
      "execution_count": null,
      "outputs": [
        {
          "output_type": "execute_result",
          "data": {
            "text/plain": [
              "<matplotlib.axes._subplots.AxesSubplot at 0x7f05afe2d7b8>"
            ]
          },
          "metadata": {
            "tags": []
          },
          "execution_count": 76
        },
        {
          "output_type": "display_data",
          "data": {
            "image/png": "[encoded data removed]",
            "text/plain": [
              "<Figure size 432x288 with 1 Axes>"
            ]
          },
          "metadata": {
            "tags": [],
            "needs_background": "light"
          }
        }
      ]
    },
    {
      "cell_type": "code",
      "metadata": {
        "colab": {
          "base_uri": "https://localhost:8080/",
          "height": 283
        },
        "id": "XzgmbjnqRJly",
        "outputId": "7e222cf7-cd64-44f7-d922-bd3d2b81b479"
      },
      "source": [
        "titanic[(titanic['Pclass'] == 1) & (titanic['Sex'] == 'female')  & (titanic['Survived'] == 1)]['Age'].hist()"
      ],
      "execution_count": null,
      "outputs": [
        {
          "output_type": "execute_result",
          "data": {
            "text/plain": [
              "<matplotlib.axes._subplots.AxesSubplot at 0x7f05afdb3390>"
            ]
          },
          "metadata": {
            "tags": []
          },
          "execution_count": 77
        },
        {
          "output_type": "display_data",
          "data": {
            "image/png": "[encoded data removed]",
            "text/plain": [
              "<Figure size 432x288 with 1 Axes>"
            ]
          },
          "metadata": {
            "tags": [],
            "needs_background": "light"
          }
        }
      ]
    },
    {
      "cell_type": "code",
      "metadata": {
        "colab": {
          "base_uri": "https://localhost:8080/"
        },
        "id": "2EdnL4NlRrZP",
        "outputId": "570c024d-f6bf-40d5-fd5e-40da02e66a32"
      },
      "source": [
        "print(titanic.groupby(['Pclass', 'Sex', 'Survived'])['Age'].median())"
      ],
      "execution_count": null,
      "outputs": [
        {
          "output_type": "stream",
          "text": [
            "Pclass  Sex     Survived\n",
            "1       female  0.0         25.0\n",
            "                1.0         35.0\n",
            "        male    0.0         45.5\n",
            "                1.0         36.0\n",
            "2       female  0.0         32.5\n",
            "                1.0         28.0\n",
            "        male    0.0         30.5\n",
            "                1.0          3.0\n",
            "3       female  0.0         22.0\n",
            "                1.0         19.0\n",
            "        male    0.0         25.0\n",
            "                1.0         25.0\n",
            "Name: Age, dtype: float64\n"
          ],
          "name": "stdout"
        }
      ]
    },
    {
      "cell_type": "code",
      "metadata": {
        "id": "ngfjKXdaPQgZ"
      },
      "source": [
        "titanic['Age'] = titanic.groupby(['Pclass', 'Sex'])['Age'].apply(lambda x: x.fillna(x.median()))"
      ],
      "execution_count": null,
      "outputs": []
    },
    {
      "cell_type": "markdown",
      "metadata": {
        "id": "dkLZOaLxSSWV"
      },
      "source": [
        "2.2 Fare"
      ]
    },
    {
      "cell_type": "code",
      "metadata": {
        "colab": {
          "base_uri": "https://localhost:8080/",
          "height": 97
        },
        "id": "JG5BW8_TQZTA",
        "outputId": "54cd6dd9-5adf-4003-da47-3c5e57c5b827"
      },
      "source": [
        "titanic.loc[titanic['Fare'].isnull()]"
      ],
      "execution_count": null,
      "outputs": [
        {
          "output_type": "execute_result",
          "data": {
            "text/html": [
              "<div>\n",
              "<style scoped>\n",
              "    .dataframe tbody tr th:only-of-type {\n",
              "        vertical-align: middle;\n",
              "    }\n",
              "\n",
              "    .dataframe tbody tr th {\n",
              "        vertical-align: top;\n",
              "    }\n",
              "\n",
              "    .dataframe thead th {\n",
              "        text-align: right;\n",
              "    }\n",
              "</style>\n",
              "<table border=\"1\" class=\"dataframe\">\n",
              "  <thead>\n",
              "    <tr style=\"text-align: right;\">\n",
              "      <th></th>\n",
              "      <th>PassengerId</th>\n",
              "      <th>Survived</th>\n",
              "      <th>Pclass</th>\n",
              "      <th>Name</th>\n",
              "      <th>Sex</th>\n",
              "      <th>Age</th>\n",
              "      <th>SibSp</th>\n",
              "      <th>Parch</th>\n",
              "      <th>Ticket</th>\n",
              "      <th>Fare</th>\n",
              "      <th>Cabin</th>\n",
              "      <th>Embarked</th>\n",
              "    </tr>\n",
              "  </thead>\n",
              "  <tbody>\n",
              "    <tr>\n",
              "      <th>1043</th>\n",
              "      <td>1044</td>\n",
              "      <td>NaN</td>\n",
              "      <td>3</td>\n",
              "      <td>Storey, Mr. Thomas</td>\n",
              "      <td>male</td>\n",
              "      <td>60.5</td>\n",
              "      <td>0</td>\n",
              "      <td>0</td>\n",
              "      <td>3701</td>\n",
              "      <td>NaN</td>\n",
              "      <td>NaN</td>\n",
              "      <td>S</td>\n",
              "    </tr>\n",
              "  </tbody>\n",
              "</table>\n",
              "</div>"
            ],
            "text/plain": [
              "      PassengerId  Survived  Pclass  ... Fare Cabin  Embarked\n",
              "1043         1044       NaN       3  ...  NaN   NaN         S\n",
              "\n",
              "[1 rows x 12 columns]"
            ]
          },
          "metadata": {
            "tags": []
          },
          "execution_count": 80
        }
      ]
    },
    {
      "cell_type": "code",
      "metadata": {
        "colab": {
          "base_uri": "https://localhost:8080/"
        },
        "id": "kCg-EpAEScnt",
        "outputId": "368e0715-e98c-415b-94fb-2308316b1227"
      },
      "source": [
        "Thomas = titanic.loc[(titanic['Pclass'] == 3) & (titanic['SibSp'] == 0) & (titanic['Embarked'] == 'S')]['Fare'].median()\r\n",
        "print(Thomas)"
      ],
      "execution_count": null,
      "outputs": [
        {
          "output_type": "stream",
          "text": [
            "7.925\n"
          ],
          "name": "stdout"
        }
      ]
    },
    {
      "cell_type": "code",
      "metadata": {
        "id": "oVZl8RwvTRJT"
      },
      "source": [
        "titanic.loc[titanic['Fare'].isnull(), 'Fare'] = Thomas"
      ],
      "execution_count": null,
      "outputs": []
    },
    {
      "cell_type": "markdown",
      "metadata": {
        "id": "UhAPFvBeTw1E"
      },
      "source": [
        "2.3 Cabin"
      ]
    },
    {
      "cell_type": "code",
      "metadata": {
        "id": "-UeccIs4TyKK",
        "colab": {
          "base_uri": "https://localhost:8080/"
        },
        "outputId": "5e31a201-28fb-42b0-df12-724b936506d4"
      },
      "source": [
        "for s in titanic['Cabin']:\r\n",
        "  if pd.notnull(s):\r\n",
        "    print(s[0])"
      ],
      "execution_count": null,
      "outputs": [
        {
          "output_type": "stream",
          "text": [
            "C\n",
            "C\n",
            "E\n",
            "G\n",
            "C\n",
            "D\n",
            "A\n",
            "C\n",
            "B\n",
            "D\n",
            "B\n",
            "C\n",
            "B\n",
            "C\n",
            "F\n",
            "F\n",
            "C\n",
            "E\n",
            "A\n",
            "D\n",
            "D\n",
            "C\n",
            "B\n",
            "E\n",
            "D\n",
            "F\n",
            "D\n",
            "C\n",
            "B\n",
            "F\n",
            "C\n",
            "E\n",
            "B\n",
            "A\n",
            "C\n",
            "F\n",
            "A\n",
            "F\n",
            "B\n",
            "B\n",
            "G\n",
            "A\n",
            "D\n",
            "D\n",
            "C\n",
            "C\n",
            "C\n",
            "D\n",
            "G\n",
            "C\n",
            "B\n",
            "E\n",
            "B\n",
            "C\n",
            "C\n",
            "C\n",
            "D\n",
            "A\n",
            "B\n",
            "D\n",
            "C\n",
            "C\n",
            "B\n",
            "E\n",
            "C\n",
            "C\n",
            "E\n",
            "C\n",
            "B\n",
            "C\n",
            "E\n",
            "C\n",
            "D\n",
            "B\n",
            "C\n",
            "C\n",
            "C\n",
            "E\n",
            "T\n",
            "F\n",
            "C\n",
            "F\n",
            "C\n",
            "E\n",
            "D\n",
            "B\n",
            "E\n",
            "C\n",
            "B\n",
            "D\n",
            "G\n",
            "C\n",
            "E\n",
            "C\n",
            "E\n",
            "B\n",
            "C\n",
            "A\n",
            "C\n",
            "C\n",
            "C\n",
            "E\n",
            "D\n",
            "E\n",
            "E\n",
            "D\n",
            "A\n",
            "B\n",
            "C\n",
            "B\n",
            "C\n",
            "D\n",
            "C\n",
            "B\n",
            "C\n",
            "E\n",
            "D\n",
            "F\n",
            "B\n",
            "B\n",
            "C\n",
            "B\n",
            "B\n",
            "B\n",
            "C\n",
            "C\n",
            "A\n",
            "E\n",
            "C\n",
            "E\n",
            "E\n",
            "C\n",
            "A\n",
            "E\n",
            "B\n",
            "D\n",
            "A\n",
            "C\n",
            "F\n",
            "D\n",
            "D\n",
            "D\n",
            "A\n",
            "B\n",
            "B\n",
            "D\n",
            "A\n",
            "D\n",
            "E\n",
            "C\n",
            "B\n",
            "B\n",
            "D\n",
            "B\n",
            "B\n",
            "C\n",
            "F\n",
            "C\n",
            "E\n",
            "E\n",
            "C\n",
            "C\n",
            "C\n",
            "F\n",
            "C\n",
            "E\n",
            "E\n",
            "B\n",
            "B\n",
            "D\n",
            "C\n",
            "B\n",
            "B\n",
            "D\n",
            "E\n",
            "B\n",
            "B\n",
            "D\n",
            "E\n",
            "F\n",
            "B\n",
            "B\n",
            "D\n",
            "B\n",
            "D\n",
            "B\n",
            "A\n",
            "E\n",
            "B\n",
            "B\n",
            "E\n",
            "B\n",
            "E\n",
            "C\n",
            "C\n",
            "D\n",
            "E\n",
            "D\n",
            "A\n",
            "D\n",
            "B\n",
            "C\n",
            "B\n",
            "C\n",
            "B\n",
            "E\n",
            "B\n",
            "B\n",
            "A\n",
            "C\n",
            "D\n",
            "D\n",
            "A\n",
            "D\n",
            "C\n",
            "C\n",
            "F\n",
            "B\n",
            "B\n",
            "C\n",
            "C\n",
            "D\n",
            "C\n",
            "C\n",
            "C\n",
            "C\n",
            "B\n",
            "C\n",
            "C\n",
            "F\n",
            "A\n",
            "C\n",
            "G\n",
            "C\n",
            "C\n",
            "C\n",
            "B\n",
            "E\n",
            "C\n",
            "C\n",
            "D\n",
            "B\n",
            "C\n",
            "F\n",
            "E\n",
            "E\n",
            "D\n",
            "B\n",
            "E\n",
            "C\n",
            "A\n",
            "B\n",
            "C\n",
            "F\n",
            "C\n",
            "D\n",
            "C\n",
            "E\n",
            "D\n",
            "C\n",
            "C\n",
            "C\n",
            "B\n",
            "F\n",
            "A\n",
            "D\n",
            "B\n",
            "C\n",
            "B\n",
            "C\n",
            "B\n",
            "F\n",
            "F\n",
            "F\n",
            "A\n",
            "C\n",
            "B\n",
            "D\n",
            "E\n",
            "C\n",
            "E\n",
            "E\n",
            "B\n",
            "A\n",
            "C\n",
            "B\n",
            "D\n",
            "C\n",
            "B\n",
            "C\n",
            "D\n",
            "D\n",
            "C\n",
            "C\n",
            "C\n"
          ],
          "name": "stdout"
        }
      ]
    },
    {
      "cell_type": "code",
      "metadata": {
        "colab": {
          "base_uri": "https://localhost:8080/"
        },
        "id": "DyGwqeZqUAgu",
        "outputId": "16e01da7-bb02-4954-e566-8206e3fce4b1"
      },
      "source": [
        "print(titanic['Cabin'].unique())"
      ],
      "execution_count": null,
      "outputs": [
        {
          "output_type": "stream",
          "text": [
            "[nan 'C85' 'C123' 'E46' 'G6' 'C103' 'D56' 'A6' 'C23 C25 C27' 'B78' 'D33'\n",
            " 'B30' 'C52' 'B28' 'C83' 'F33' 'F G73' 'E31' 'A5' 'D10 D12' 'D26' 'C110'\n",
            " 'B58 B60' 'E101' 'F E69' 'D47' 'B86' 'F2' 'C2' 'E33' 'B19' 'A7' 'C49'\n",
            " 'F4' 'A32' 'B4' 'B80' 'A31' 'D36' 'D15' 'C93' 'C78' 'D35' 'C87' 'B77'\n",
            " 'E67' 'B94' 'C125' 'C99' 'C118' 'D7' 'A19' 'B49' 'D' 'C22 C26' 'C106'\n",
            " 'C65' 'E36' 'C54' 'B57 B59 B63 B66' 'C7' 'E34' 'C32' 'B18' 'C124' 'C91'\n",
            " 'E40' 'T' 'C128' 'D37' 'B35' 'E50' 'C82' 'B96 B98' 'E10' 'E44' 'A34'\n",
            " 'C104' 'C111' 'C92' 'E38' 'D21' 'E12' 'E63' 'A14' 'B37' 'C30' 'D20' 'B79'\n",
            " 'E25' 'D46' 'B73' 'C95' 'B38' 'B39' 'B22' 'C86' 'C70' 'A16' 'C101' 'C68'\n",
            " 'A10' 'E68' 'B41' 'A20' 'D19' 'D50' 'D9' 'A23' 'B50' 'A26' 'D48' 'E58'\n",
            " 'C126' 'B71' 'B51 B53 B55' 'D49' 'B5' 'B20' 'F G63' 'C62 C64' 'E24' 'C90'\n",
            " 'C45' 'E8' 'B101' 'D45' 'C46' 'D30' 'E121' 'D11' 'E77' 'F38' 'B3' 'D6'\n",
            " 'B82 B84' 'D17' 'A36' 'B102' 'B69' 'E49' 'C47' 'D28' 'E17' 'A24' 'C50'\n",
            " 'B42' 'C148' 'B45' 'B36' 'A21' 'D34' 'A9' 'C31' 'B61' 'C53' 'D43' 'C130'\n",
            " 'C132' 'C55 C57' 'C116' 'F' 'A29' 'C6' 'C28' 'C51' 'C97' 'D22' 'B10'\n",
            " 'E45' 'E52' 'A11' 'B11' 'C80' 'C89' 'F E46' 'B26' 'F E57' 'A18' 'E60'\n",
            " 'E39 E41' 'B52 B54 B56' 'C39' 'B24' 'D40' 'D38' 'C105']\n"
          ],
          "name": "stdout"
        }
      ]
    },
    {
      "cell_type": "code",
      "metadata": {
        "colab": {
          "base_uri": "https://localhost:8080/"
        },
        "id": "i06dcKpWUisp",
        "outputId": "5f9bb073-0772-444a-877d-4bf875e1390d"
      },
      "source": [
        "print(titanic['Cabin'].nunique())\r\n",
        "print(titanic['Cabin'].isnull().sum())"
      ],
      "execution_count": null,
      "outputs": [
        {
          "output_type": "stream",
          "text": [
            "186\n",
            "1014\n"
          ],
          "name": "stdout"
        }
      ]
    },
    {
      "cell_type": "code",
      "metadata": {
        "id": "FFErFTbvUq3q"
      },
      "source": [
        "titanic['Deck'] = titanic['Cabin'].apply(lambda s: s[0] if pd.notnull(s) else 'M')"
      ],
      "execution_count": null,
      "outputs": []
    },
    {
      "cell_type": "code",
      "metadata": {
        "colab": {
          "base_uri": "https://localhost:8080/",
          "height": 296
        },
        "id": "N2aw23s4VQyv",
        "outputId": "4b5cf36a-432d-4972-eddc-dc627708caa8"
      },
      "source": [
        "titanic.groupby(['Deck'])['Survived'].mean().plot(kind='bar')"
      ],
      "execution_count": null,
      "outputs": [
        {
          "output_type": "execute_result",
          "data": {
            "text/plain": [
              "<matplotlib.axes._subplots.AxesSubplot at 0x7f05afe38cc0>"
            ]
          },
          "metadata": {
            "tags": []
          },
          "execution_count": 87
        },
        {
          "output_type": "display_data",
          "data": {
            "image/png": "[encoded data removed]",
            "text/plain": [
              "<Figure size 432x288 with 1 Axes>"
            ]
          },
          "metadata": {
            "tags": [],
            "needs_background": "light"
          }
        }
      ]
    },
    {
      "cell_type": "code",
      "metadata": {
        "colab": {
          "base_uri": "https://localhost:8080/",
          "height": 151
        },
        "id": "ibMcDHgEV64w",
        "outputId": "8dbb81f8-11d3-47d9-f446-8ca6d9e546c0"
      },
      "source": [
        "titanic[titanic['Deck'] == 'T']"
      ],
      "execution_count": null,
      "outputs": [
        {
          "output_type": "execute_result",
          "data": {
            "text/html": [
              "<div>\n",
              "<style scoped>\n",
              "    .dataframe tbody tr th:only-of-type {\n",
              "        vertical-align: middle;\n",
              "    }\n",
              "\n",
              "    .dataframe tbody tr th {\n",
              "        vertical-align: top;\n",
              "    }\n",
              "\n",
              "    .dataframe thead th {\n",
              "        text-align: right;\n",
              "    }\n",
              "</style>\n",
              "<table border=\"1\" class=\"dataframe\">\n",
              "  <thead>\n",
              "    <tr style=\"text-align: right;\">\n",
              "      <th></th>\n",
              "      <th>PassengerId</th>\n",
              "      <th>Survived</th>\n",
              "      <th>Pclass</th>\n",
              "      <th>Name</th>\n",
              "      <th>Sex</th>\n",
              "      <th>Age</th>\n",
              "      <th>SibSp</th>\n",
              "      <th>Parch</th>\n",
              "      <th>Ticket</th>\n",
              "      <th>Fare</th>\n",
              "      <th>Cabin</th>\n",
              "      <th>Embarked</th>\n",
              "      <th>Deck</th>\n",
              "    </tr>\n",
              "  </thead>\n",
              "  <tbody>\n",
              "    <tr>\n",
              "      <th>339</th>\n",
              "      <td>340</td>\n",
              "      <td>0.0</td>\n",
              "      <td>1</td>\n",
              "      <td>Blackwell, Mr. Stephen Weart</td>\n",
              "      <td>male</td>\n",
              "      <td>45.0</td>\n",
              "      <td>0</td>\n",
              "      <td>0</td>\n",
              "      <td>113784</td>\n",
              "      <td>35.5</td>\n",
              "      <td>T</td>\n",
              "      <td>S</td>\n",
              "      <td>T</td>\n",
              "    </tr>\n",
              "  </tbody>\n",
              "</table>\n",
              "</div>"
            ],
            "text/plain": [
              "     PassengerId  Survived  Pclass  ... Cabin Embarked  Deck\n",
              "339          340       0.0       1  ...     T        S     T\n",
              "\n",
              "[1 rows x 13 columns]"
            ]
          },
          "metadata": {
            "tags": []
          },
          "execution_count": 88
        }
      ]
    },
    {
      "cell_type": "code",
      "metadata": {
        "colab": {
          "base_uri": "https://localhost:8080/"
        },
        "id": "Z066E-HqWl9J",
        "outputId": "848f632a-9d9b-4e21-9010-760a0126ce20"
      },
      "source": [
        "idx = titanic[titanic['Deck'] == 'T'].index\r\n",
        "titanic.loc[idx, 'Deck'] = 'A'\r\n",
        "titanic['Deck'] = titanic['Deck'].replace(['A', 'B', 'C'], 'ABC')\r\n",
        "titanic['Deck'] = titanic['Deck'].replace(['D', 'E'], 'DE')\r\n",
        "titanic['Deck'] = titanic['Deck'].replace(['F', 'G'], 'FG')\r\n",
        "\r\n",
        "titanic['Deck'].value_counts()"
      ],
      "execution_count": null,
      "outputs": [
        {
          "output_type": "execute_result",
          "data": {
            "text/plain": [
              "M      1014\n",
              "ABC     182\n",
              "DE       87\n",
              "FG       26\n",
              "Name: Deck, dtype: int64"
            ]
          },
          "metadata": {
            "tags": []
          },
          "execution_count": 89
        }
      ]
    },
    {
      "cell_type": "markdown",
      "metadata": {
        "id": "cI7Tzkz6XdpB"
      },
      "source": [
        "2.4 Embarked"
      ]
    },
    {
      "cell_type": "code",
      "metadata": {
        "colab": {
          "base_uri": "https://localhost:8080/",
          "height": 250
        },
        "id": "2GoziEzjXfIP",
        "outputId": "1550d279-faab-4afc-f9b4-38fda1c9695d"
      },
      "source": [
        "titanic.loc[titanic['Embarked'].isnull()]"
      ],
      "execution_count": null,
      "outputs": [
        {
          "output_type": "execute_result",
          "data": {
            "text/html": [
              "<div>\n",
              "<style scoped>\n",
              "    .dataframe tbody tr th:only-of-type {\n",
              "        vertical-align: middle;\n",
              "    }\n",
              "\n",
              "    .dataframe tbody tr th {\n",
              "        vertical-align: top;\n",
              "    }\n",
              "\n",
              "    .dataframe thead th {\n",
              "        text-align: right;\n",
              "    }\n",
              "</style>\n",
              "<table border=\"1\" class=\"dataframe\">\n",
              "  <thead>\n",
              "    <tr style=\"text-align: right;\">\n",
              "      <th></th>\n",
              "      <th>PassengerId</th>\n",
              "      <th>Survived</th>\n",
              "      <th>Pclass</th>\n",
              "      <th>Name</th>\n",
              "      <th>Sex</th>\n",
              "      <th>Age</th>\n",
              "      <th>SibSp</th>\n",
              "      <th>Parch</th>\n",
              "      <th>Ticket</th>\n",
              "      <th>Fare</th>\n",
              "      <th>Cabin</th>\n",
              "      <th>Embarked</th>\n",
              "      <th>Deck</th>\n",
              "    </tr>\n",
              "  </thead>\n",
              "  <tbody>\n",
              "    <tr>\n",
              "      <th>61</th>\n",
              "      <td>62</td>\n",
              "      <td>1.0</td>\n",
              "      <td>1</td>\n",
              "      <td>Icard, Miss. Amelie</td>\n",
              "      <td>female</td>\n",
              "      <td>38.0</td>\n",
              "      <td>0</td>\n",
              "      <td>0</td>\n",
              "      <td>113572</td>\n",
              "      <td>80.0</td>\n",
              "      <td>B28</td>\n",
              "      <td>NaN</td>\n",
              "      <td>ABC</td>\n",
              "    </tr>\n",
              "    <tr>\n",
              "      <th>829</th>\n",
              "      <td>830</td>\n",
              "      <td>1.0</td>\n",
              "      <td>1</td>\n",
              "      <td>Stone, Mrs. George Nelson (Martha Evelyn)</td>\n",
              "      <td>female</td>\n",
              "      <td>62.0</td>\n",
              "      <td>0</td>\n",
              "      <td>0</td>\n",
              "      <td>113572</td>\n",
              "      <td>80.0</td>\n",
              "      <td>B28</td>\n",
              "      <td>NaN</td>\n",
              "      <td>ABC</td>\n",
              "    </tr>\n",
              "  </tbody>\n",
              "</table>\n",
              "</div>"
            ],
            "text/plain": [
              "     PassengerId  Survived  Pclass  ... Cabin Embarked  Deck\n",
              "61            62       1.0       1  ...   B28      NaN   ABC\n",
              "829          830       1.0       1  ...   B28      NaN   ABC\n",
              "\n",
              "[2 rows x 13 columns]"
            ]
          },
          "metadata": {
            "tags": []
          },
          "execution_count": 90
        }
      ]
    },
    {
      "cell_type": "code",
      "metadata": {
        "colab": {
          "base_uri": "https://localhost:8080/"
        },
        "id": "w2oVUgBiXmho",
        "outputId": "ce888e13-9cfe-45cd-cc5e-2d9bb982ff91"
      },
      "source": [
        "titanic.loc[(titanic['Pclass'] == 1) & (titanic['Fare'] <= 80) & (titanic['Deck'] == 'ABC')]['Embarked'].value_counts()"
      ],
      "execution_count": null,
      "outputs": [
        {
          "output_type": "execute_result",
          "data": {
            "text/plain": [
              "S    50\n",
              "C    42\n",
              "Name: Embarked, dtype: int64"
            ]
          },
          "metadata": {
            "tags": []
          },
          "execution_count": 91
        }
      ]
    },
    {
      "cell_type": "code",
      "metadata": {
        "id": "ap2MZYDPYF_l"
      },
      "source": [
        "titanic.loc[titanic['Embarked'].isnull(), 'Embarked'] = 'S'"
      ],
      "execution_count": null,
      "outputs": []
    },
    {
      "cell_type": "markdown",
      "metadata": {
        "id": "RxoMecB3YmFf"
      },
      "source": [
        "2.5 Conclusion"
      ]
    },
    {
      "cell_type": "code",
      "metadata": {
        "colab": {
          "base_uri": "https://localhost:8080/"
        },
        "id": "Ia-66_qIYWDX",
        "outputId": "731f51c4-e99b-48b2-ecea-97b3996b1ffb"
      },
      "source": [
        "titanic.info()"
      ],
      "execution_count": null,
      "outputs": [
        {
          "output_type": "stream",
          "text": [
            "<class 'pandas.core.frame.DataFrame'>\n",
            "RangeIndex: 1309 entries, 0 to 1308\n",
            "Data columns (total 13 columns):\n",
            " #   Column       Non-Null Count  Dtype  \n",
            "---  ------       --------------  -----  \n",
            " 0   PassengerId  1309 non-null   int64  \n",
            " 1   Survived     891 non-null    float64\n",
            " 2   Pclass       1309 non-null   int64  \n",
            " 3   Name         1309 non-null   object \n",
            " 4   Sex          1309 non-null   object \n",
            " 5   Age          1309 non-null   float64\n",
            " 6   SibSp        1309 non-null   int64  \n",
            " 7   Parch        1309 non-null   int64  \n",
            " 8   Ticket       1309 non-null   object \n",
            " 9   Fare         1309 non-null   float64\n",
            " 10  Cabin        295 non-null    object \n",
            " 11  Embarked     1309 non-null   object \n",
            " 12  Deck         1309 non-null   object \n",
            "dtypes: float64(3), int64(4), object(6)\n",
            "memory usage: 133.1+ KB\n"
          ],
          "name": "stdout"
        }
      ]
    },
    {
      "cell_type": "code",
      "metadata": {
        "colab": {
          "base_uri": "https://localhost:8080/"
        },
        "id": "JJS_zr9jYa51",
        "outputId": "a2cd2d69-d659-41c8-9645-8ec111749e19"
      },
      "source": [
        "print(titanic.isnull().sum())"
      ],
      "execution_count": null,
      "outputs": [
        {
          "output_type": "stream",
          "text": [
            "PassengerId       0\n",
            "Survived        418\n",
            "Pclass            0\n",
            "Name              0\n",
            "Sex               0\n",
            "Age               0\n",
            "SibSp             0\n",
            "Parch             0\n",
            "Ticket            0\n",
            "Fare              0\n",
            "Cabin          1014\n",
            "Embarked          0\n",
            "Deck              0\n",
            "dtype: int64\n"
          ],
          "name": "stdout"
        }
      ]
    },
    {
      "cell_type": "code",
      "metadata": {
        "colab": {
          "base_uri": "https://localhost:8080/",
          "height": 427
        },
        "id": "d8TMxBRiYef-",
        "outputId": "d156b4c2-3f24-4160-9ace-e9d2745af88e"
      },
      "source": [
        "titanic.boxplot(column=['Fare'], figsize=(15, 7))"
      ],
      "execution_count": null,
      "outputs": [
        {
          "output_type": "execute_result",
          "data": {
            "text/plain": [
              "<matplotlib.axes._subplots.AxesSubplot at 0x7f05afcb8400>"
            ]
          },
          "metadata": {
            "tags": []
          },
          "execution_count": 95
        },
        {
          "output_type": "display_data",
          "data": {
            "image/png": "[encoded data removed]",
            "text/plain": [
              "<Figure size 1080x504 with 1 Axes>"
            ]
          },
          "metadata": {
            "tags": [],
            "needs_background": "light"
          }
        }
      ]
    },
    {
      "cell_type": "code",
      "metadata": {
        "colab": {
          "base_uri": "https://localhost:8080/"
        },
        "id": "H12G2FvieGwS",
        "outputId": "68c8b625-6f39-4ccb-d310-fda5902f4676"
      },
      "source": [
        "titanic['Fare'].describe()"
      ],
      "execution_count": null,
      "outputs": [
        {
          "output_type": "execute_result",
          "data": {
            "text/plain": [
              "count    1309.000000\n",
              "mean       33.276098\n",
              "std        51.743631\n",
              "min         0.000000\n",
              "25%         7.895800\n",
              "50%        14.454200\n",
              "75%        31.275000\n",
              "max       512.329200\n",
              "Name: Fare, dtype: float64"
            ]
          },
          "metadata": {
            "tags": []
          },
          "execution_count": 96
        }
      ]
    },
    {
      "cell_type": "code",
      "metadata": {
        "colab": {
          "base_uri": "https://localhost:8080/",
          "height": 429
        },
        "id": "Fko8HneaePZk",
        "outputId": "399c35bc-fcbb-4dba-b1a3-39ed889e5fbd"
      },
      "source": [
        "titanic.boxplot(column=['Age'], figsize=(15, 7))"
      ],
      "execution_count": null,
      "outputs": [
        {
          "output_type": "execute_result",
          "data": {
            "text/plain": [
              "<matplotlib.axes._subplots.AxesSubplot at 0x7f05afca7630>"
            ]
          },
          "metadata": {
            "tags": []
          },
          "execution_count": 97
        },
        {
          "output_type": "display_data",
          "data": {
            "image/png": "[encoded data removed]",
            "text/plain": [
              "<Figure size 1080x504 with 1 Axes>"
            ]
          },
          "metadata": {
            "tags": [],
            "needs_background": "light"
          }
        }
      ]
    },
    {
      "cell_type": "code",
      "metadata": {
        "colab": {
          "base_uri": "https://localhost:8080/"
        },
        "id": "ALzfOkQ4gRmG",
        "outputId": "7904d660-aea5-4c0b-871c-8bd28f3e64a3"
      },
      "source": [
        "titanic['Age'].value_counts()"
      ],
      "execution_count": null,
      "outputs": [
        {
          "output_type": "execute_result",
          "data": {
            "text/plain": [
              "25.00    178\n",
              "22.00    107\n",
              "24.00     47\n",
              "42.00     46\n",
              "36.00     42\n",
              "        ... \n",
              "74.00      1\n",
              "24.50      1\n",
              "80.00      1\n",
              "23.50      1\n",
              "0.67       1\n",
              "Name: Age, Length: 99, dtype: int64"
            ]
          },
          "metadata": {
            "tags": []
          },
          "execution_count": 98
        }
      ]
    },
    {
      "cell_type": "code",
      "metadata": {
        "id": "3DSbiiZIgz-j"
      },
      "source": [
        "titanic['Age'] = pd.cut(titanic['Age'].astype(int), 5)"
      ],
      "execution_count": null,
      "outputs": []
    },
    {
      "cell_type": "code",
      "metadata": {
        "colab": {
          "base_uri": "https://localhost:8080/"
        },
        "id": "N0tDtewlg-aE",
        "outputId": "6e8d27c0-381d-4d53-ea89-a7b9d3f4e99e"
      },
      "source": [
        "titanic['Age'].value_counts()"
      ],
      "execution_count": null,
      "outputs": [
        {
          "output_type": "execute_result",
          "data": {
            "text/plain": [
              "(16.0, 32.0]     752\n",
              "(32.0, 48.0]     304\n",
              "(-0.08, 16.0]    134\n",
              "(48.0, 64.0]     106\n",
              "(64.0, 80.0]      13\n",
              "Name: Age, dtype: int64"
            ]
          },
          "metadata": {
            "tags": []
          },
          "execution_count": 100
        }
      ]
    },
    {
      "cell_type": "code",
      "metadata": {
        "id": "iXX_YkPig_rX"
      },
      "source": [
        "titanic['Fare'] = pd.qcut(titanic['Fare'], 5)"
      ],
      "execution_count": null,
      "outputs": []
    },
    {
      "cell_type": "code",
      "metadata": {
        "colab": {
          "base_uri": "https://localhost:8080/"
        },
        "id": "aZsTD7xFhO_A",
        "outputId": "e69ffe56-aef3-46fb-d5e6-6b9f1c79a266"
      },
      "source": [
        "titanic['Fare'].value_counts()"
      ],
      "execution_count": null,
      "outputs": [
        {
          "output_type": "execute_result",
          "data": {
            "text/plain": [
              "(-0.001, 7.854]      275\n",
              "(21.558, 41.579]     265\n",
              "(41.579, 512.329]    259\n",
              "(10.5, 21.558]       255\n",
              "(7.854, 10.5]        255\n",
              "Name: Fare, dtype: int64"
            ]
          },
          "metadata": {
            "tags": []
          },
          "execution_count": 102
        }
      ]
    },
    {
      "cell_type": "code",
      "metadata": {
        "colab": {
          "base_uri": "https://localhost:8080/"
        },
        "id": "cEXD9AQ5hSL_",
        "outputId": "ae6c4654-ccd1-4ea9-820c-b2058d8df09e"
      },
      "source": [
        "titanic.groupby(['Age'])['Survived'].mean()"
      ],
      "execution_count": null,
      "outputs": [
        {
          "output_type": "execute_result",
          "data": {
            "text/plain": [
              "Age\n",
              "(-0.08, 16.0]    0.550000\n",
              "(16.0, 32.0]     0.337374\n",
              "(32.0, 48.0]     0.412037\n",
              "(48.0, 64.0]     0.434783\n",
              "(64.0, 80.0]     0.090909\n",
              "Name: Survived, dtype: float64"
            ]
          },
          "metadata": {
            "tags": []
          },
          "execution_count": 103
        }
      ]
    },
    {
      "cell_type": "code",
      "metadata": {
        "colab": {
          "base_uri": "https://localhost:8080/"
        },
        "id": "ZJ7vIbHjhgyI",
        "outputId": "34e2875e-633e-4631-9092-9a5e8234133c"
      },
      "source": [
        "titanic.groupby(['Fare'])['Survived'].mean()"
      ],
      "execution_count": null,
      "outputs": [
        {
          "output_type": "execute_result",
          "data": {
            "text/plain": [
              "Fare\n",
              "(-0.001, 7.854]      0.217877\n",
              "(7.854, 10.5]        0.201087\n",
              "(10.5, 21.558]       0.426901\n",
              "(21.558, 41.579]     0.443243\n",
              "(41.579, 512.329]    0.645349\n",
              "Name: Survived, dtype: float64"
            ]
          },
          "metadata": {
            "tags": []
          },
          "execution_count": 104
        }
      ]
    },
    {
      "cell_type": "markdown",
      "metadata": {
        "id": "CvplEHVUiMtu"
      },
      "source": [
        ""
      ]
    },
    {
      "cell_type": "markdown",
      "metadata": {
        "id": "I7hKAhfRiMwA"
      },
      "source": [
        "3.2 Create new features out of existing variables"
      ]
    },
    {
      "cell_type": "markdown",
      "metadata": {
        "id": "WWiqW4F-iQ8v"
      },
      "source": [
        "3.2.1 Family Size"
      ]
    },
    {
      "cell_type": "code",
      "metadata": {
        "id": "BqX9HKRAiT33"
      },
      "source": [
        "titanic['Family_size'] = titanic['SibSp'] + titanic['Parch'] + 1"
      ],
      "execution_count": null,
      "outputs": []
    },
    {
      "cell_type": "code",
      "metadata": {
        "colab": {
          "base_uri": "https://localhost:8080/",
          "height": 426
        },
        "id": "eI0heEa3ijx5",
        "outputId": "e3f7a72b-37d1-490e-bd8f-7dc298f776c6"
      },
      "source": [
        "titanic['Family_size'].hist(figsize=(15, 7), bins=10)"
      ],
      "execution_count": null,
      "outputs": [
        {
          "output_type": "execute_result",
          "data": {
            "text/plain": [
              "<matplotlib.axes._subplots.AxesSubplot at 0x7f05afc150b8>"
            ]
          },
          "metadata": {
            "tags": []
          },
          "execution_count": 106
        },
        {
          "output_type": "display_data",
          "data": {
            "image/png": "[encoded data removed]",
            "text/plain": [
              "<Figure size 1080x504 with 1 Axes>"
            ]
          },
          "metadata": {
            "tags": [],
            "needs_background": "light"
          }
        }
      ]
    },
    {
      "cell_type": "code",
      "metadata": {
        "id": "EcVD-SYNipAx"
      },
      "source": [
        "titanic['Family_size_bin'] = titanic['Family_size'].map(\r\n",
        "    lambda s: 1 if s == 1 else(2 if s == 2 else(3 if 3 <= s <= 4 else ( 4 if s >=5 else 0))))"
      ],
      "execution_count": null,
      "outputs": []
    },
    {
      "cell_type": "code",
      "metadata": {
        "colab": {
          "base_uri": "https://localhost:8080/"
        },
        "id": "y-seNhxejRnh",
        "outputId": "280435a2-09b2-4d76-aa8a-84e1b6bf9a07"
      },
      "source": [
        "titanic['Family_size_bin'].value_counts()"
      ],
      "execution_count": null,
      "outputs": [
        {
          "output_type": "execute_result",
          "data": {
            "text/plain": [
              "1    790\n",
              "2    235\n",
              "3    202\n",
              "4     82\n",
              "Name: Family_size_bin, dtype: int64"
            ]
          },
          "metadata": {
            "tags": []
          },
          "execution_count": 108
        }
      ]
    },
    {
      "cell_type": "code",
      "metadata": {
        "colab": {
          "base_uri": "https://localhost:8080/",
          "height": 439
        },
        "id": "K1dmQQRGjkpY",
        "outputId": "260bcb2d-48dd-48ce-fc7d-c248ac6a4acb"
      },
      "source": [
        "titanic.groupby(['Family_size_bin'])['Survived'].mean().plot(kind='bar', figsize=(15, 7))"
      ],
      "execution_count": null,
      "outputs": [
        {
          "output_type": "execute_result",
          "data": {
            "text/plain": [
              "<matplotlib.axes._subplots.AxesSubplot at 0x7f05afb2c390>"
            ]
          },
          "metadata": {
            "tags": []
          },
          "execution_count": 109
        },
        {
          "output_type": "display_data",
          "data": {
            "image/png": "[encoded data removed]",
            "text/plain": [
              "<Figure size 1080x504 with 1 Axes>"
            ]
          },
          "metadata": {
            "tags": [],
            "needs_background": "light"
          }
        }
      ]
    },
    {
      "cell_type": "markdown",
      "metadata": {
        "id": "qyE1_HUrkVVa"
      },
      "source": [
        "3.2.2 Tickets"
      ]
    },
    {
      "cell_type": "code",
      "metadata": {
        "colab": {
          "base_uri": "https://localhost:8080/"
        },
        "id": "Kxg4ySODkHhQ",
        "outputId": "628bf2f6-e86d-428d-f62d-d8d2c4995cf3"
      },
      "source": [
        "titanic.groupby(['Ticket'])['Ticket'].count()"
      ],
      "execution_count": null,
      "outputs": [
        {
          "output_type": "execute_result",
          "data": {
            "text/plain": [
              "Ticket\n",
              "110152         3\n",
              "110413         3\n",
              "110465         2\n",
              "110469         1\n",
              "110489         1\n",
              "              ..\n",
              "W./C. 6608     5\n",
              "W./C. 6609     1\n",
              "W.E.P. 5734    2\n",
              "W/C 14208      1\n",
              "WE/P 5735      2\n",
              "Name: Ticket, Length: 929, dtype: int64"
            ]
          },
          "metadata": {
            "tags": []
          },
          "execution_count": 110
        }
      ]
    },
    {
      "cell_type": "code",
      "metadata": {
        "id": "msdp5VW9k9mW"
      },
      "source": [
        "titanic['Ticket_frequency'] = titanic.groupby(['Ticket'])['Ticket'].transform('count')"
      ],
      "execution_count": null,
      "outputs": []
    },
    {
      "cell_type": "code",
      "metadata": {
        "colab": {
          "base_uri": "https://localhost:8080/"
        },
        "id": "rHYOp44WlMKz",
        "outputId": "b15ec224-f0f3-4534-dd2a-2d92855b0967"
      },
      "source": [
        "titanic.groupby(['Ticket_frequency'])['Survived'].mean()"
      ],
      "execution_count": null,
      "outputs": [
        {
          "output_type": "execute_result",
          "data": {
            "text/plain": [
              "Ticket_frequency\n",
              "1     0.270270\n",
              "2     0.513812\n",
              "3     0.653465\n",
              "4     0.727273\n",
              "5     0.333333\n",
              "6     0.210526\n",
              "7     0.208333\n",
              "8     0.384615\n",
              "11    0.000000\n",
              "Name: Survived, dtype: float64"
            ]
          },
          "metadata": {
            "tags": []
          },
          "execution_count": 112
        }
      ]
    },
    {
      "cell_type": "markdown",
      "metadata": {
        "id": "XxfCDhXkl4xz"
      },
      "source": [
        ""
      ]
    },
    {
      "cell_type": "markdown",
      "metadata": {
        "id": "QQxTuAMLl4z9"
      },
      "source": [
        "3.2.3 Title"
      ]
    },
    {
      "cell_type": "code",
      "metadata": {
        "colab": {
          "base_uri": "https://localhost:8080/"
        },
        "id": "QthLoNvFlqXs",
        "outputId": "26be820c-b349-4f34-ef32-298f8c569b73"
      },
      "source": [
        "titanic['Title'] = titanic['Name'].str.split(', ', expand=True)[1].str.split('.', expand=True)[0]\r\n",
        "titanic['is_married'] = 0\r\n",
        "titanic['is_married'].loc[titanic['Title'] == 'Mrs'] = 1"
      ],
      "execution_count": null,
      "outputs": [
        {
          "output_type": "stream",
          "text": [
            "/usr/local/lib/python3.6/dist-packages/pandas/core/indexing.py:670: SettingWithCopyWarning: \n",
            "A value is trying to be set on a copy of a slice from a DataFrame\n",
            "\n",
            "See the caveats in the documentation: https://pandas.pydata.org/pandas-docs/stable/user_guide/indexing.html#returning-a-view-versus-a-copy\n",
            "  iloc._setitem_with_indexer(indexer, value)\n"
          ],
          "name": "stderr"
        }
      ]
    },
    {
      "cell_type": "code",
      "metadata": {
        "colab": {
          "base_uri": "https://localhost:8080/"
        },
        "id": "WhLpZPUzm31O",
        "outputId": "1c8d5b93-6948-4512-f59b-6deb290806a1"
      },
      "source": [
        "titanic['Title'].nunique()"
      ],
      "execution_count": null,
      "outputs": [
        {
          "output_type": "execute_result",
          "data": {
            "text/plain": [
              "18"
            ]
          },
          "metadata": {
            "tags": []
          },
          "execution_count": 114
        }
      ]
    },
    {
      "cell_type": "code",
      "metadata": {
        "colab": {
          "base_uri": "https://localhost:8080/"
        },
        "id": "AqmT9rMYm8XY",
        "outputId": "f07b840f-6ea9-4036-e0db-9cbf08a611e6"
      },
      "source": [
        "titanic['Title'].unique()"
      ],
      "execution_count": null,
      "outputs": [
        {
          "output_type": "execute_result",
          "data": {
            "text/plain": [
              "array(['Mr', 'Mrs', 'Miss', 'Master', 'Don', 'Rev', 'Dr', 'Mme', 'Ms',\n",
              "       'Major', 'Lady', 'Sir', 'Mlle', 'Col', 'Capt', 'the Countess',\n",
              "       'Jonkheer', 'Dona'], dtype=object)"
            ]
          },
          "metadata": {
            "tags": []
          },
          "execution_count": 115
        }
      ]
    },
    {
      "cell_type": "code",
      "metadata": {
        "id": "7erLDiZwnPXo"
      },
      "source": [
        "title_names = (titanic['Title'].value_counts() < 10)"
      ],
      "execution_count": null,
      "outputs": []
    },
    {
      "cell_type": "code",
      "metadata": {
        "colab": {
          "base_uri": "https://localhost:8080/"
        },
        "id": "jsbS-8k9nkTw",
        "outputId": "ff7ab79c-d0cb-43bf-9226-a9c8cb7c2925"
      },
      "source": [
        "title_names"
      ],
      "execution_count": null,
      "outputs": [
        {
          "output_type": "execute_result",
          "data": {
            "text/plain": [
              "Mr              False\n",
              "Miss            False\n",
              "Mrs             False\n",
              "Master          False\n",
              "Rev              True\n",
              "Dr               True\n",
              "Col              True\n",
              "Ms               True\n",
              "Major            True\n",
              "Mlle             True\n",
              "Dona             True\n",
              "the Countess     True\n",
              "Capt             True\n",
              "Sir              True\n",
              "Don              True\n",
              "Jonkheer         True\n",
              "Lady             True\n",
              "Mme              True\n",
              "Name: Title, dtype: bool"
            ]
          },
          "metadata": {
            "tags": []
          },
          "execution_count": 117
        }
      ]
    },
    {
      "cell_type": "code",
      "metadata": {
        "id": "r3S0POZ5nlhz"
      },
      "source": [
        "titanic['Title'] = titanic['Title'].apply(lambda x: 'Misc' if title_names.loc[x] == True else x)"
      ],
      "execution_count": null,
      "outputs": []
    },
    {
      "cell_type": "code",
      "metadata": {
        "colab": {
          "base_uri": "https://localhost:8080/"
        },
        "id": "HJZvm1GEoC03",
        "outputId": "3b69778b-3f32-43d9-8abd-623b088a8318"
      },
      "source": [
        "titanic.groupby(['Title'])['Title'].count()"
      ],
      "execution_count": null,
      "outputs": [
        {
          "output_type": "execute_result",
          "data": {
            "text/plain": [
              "Title\n",
              "Master     61\n",
              "Misc       34\n",
              "Miss      260\n",
              "Mr        757\n",
              "Mrs       197\n",
              "Name: Title, dtype: int64"
            ]
          },
          "metadata": {
            "tags": []
          },
          "execution_count": 119
        }
      ]
    },
    {
      "cell_type": "markdown",
      "metadata": {
        "id": "QWJI7VdZpXxX"
      },
      "source": [
        "3.2.4 Survival rates"
      ]
    },
    {
      "cell_type": "code",
      "metadata": {
        "colab": {
          "base_uri": "https://localhost:8080/",
          "height": 235
        },
        "id": "frg_UCluoOGk",
        "outputId": "e4176b99-8e27-48be-c3cc-1cdbaf979500"
      },
      "source": [
        "titanic.groupby(['Title'])[['Survived', 'Family_size']].mean()"
      ],
      "execution_count": null,
      "outputs": [
        {
          "output_type": "execute_result",
          "data": {
            "text/html": [
              "<div>\n",
              "<style scoped>\n",
              "    .dataframe tbody tr th:only-of-type {\n",
              "        vertical-align: middle;\n",
              "    }\n",
              "\n",
              "    .dataframe tbody tr th {\n",
              "        vertical-align: top;\n",
              "    }\n",
              "\n",
              "    .dataframe thead th {\n",
              "        text-align: right;\n",
              "    }\n",
              "</style>\n",
              "<table border=\"1\" class=\"dataframe\">\n",
              "  <thead>\n",
              "    <tr style=\"text-align: right;\">\n",
              "      <th></th>\n",
              "      <th>Survived</th>\n",
              "      <th>Family_size</th>\n",
              "    </tr>\n",
              "    <tr>\n",
              "      <th>Title</th>\n",
              "      <th></th>\n",
              "      <th></th>\n",
              "    </tr>\n",
              "  </thead>\n",
              "  <tbody>\n",
              "    <tr>\n",
              "      <th>Master</th>\n",
              "      <td>0.575000</td>\n",
              "      <td>4.426230</td>\n",
              "    </tr>\n",
              "    <tr>\n",
              "      <th>Misc</th>\n",
              "      <td>0.444444</td>\n",
              "      <td>1.441176</td>\n",
              "    </tr>\n",
              "    <tr>\n",
              "      <th>Miss</th>\n",
              "      <td>0.697802</td>\n",
              "      <td>2.169231</td>\n",
              "    </tr>\n",
              "    <tr>\n",
              "      <th>Mr</th>\n",
              "      <td>0.156673</td>\n",
              "      <td>1.442536</td>\n",
              "    </tr>\n",
              "    <tr>\n",
              "      <th>Mrs</th>\n",
              "      <td>0.792000</td>\n",
              "      <td>2.492386</td>\n",
              "    </tr>\n",
              "  </tbody>\n",
              "</table>\n",
              "</div>"
            ],
            "text/plain": [
              "        Survived  Family_size\n",
              "Title                        \n",
              "Master  0.575000     4.426230\n",
              "Misc    0.444444     1.441176\n",
              "Miss    0.697802     2.169231\n",
              "Mr      0.156673     1.442536\n",
              "Mrs     0.792000     2.492386"
            ]
          },
          "metadata": {
            "tags": []
          },
          "execution_count": 120
        }
      ]
    },
    {
      "cell_type": "code",
      "metadata": {
        "id": "MB9Le-3TqVJO"
      },
      "source": [
        "import string\r\n",
        "\r\n",
        "def extract_surname(data):\r\n",
        "  families = []\r\n",
        "  for i in range(len(data)):\r\n",
        "    name = data.iloc[i]\r\n",
        "    if '(' in name:\r\n",
        "      name_no_bracket = name.split('(')[0]\r\n",
        "    else:\r\n",
        "      name_no_bracket = name\r\n",
        "    family = name_no_bracket.split(',')[0]\r\n",
        "    title = name_no_bracket.split(',')[1].strip().split(' ')[0]\r\n",
        "    for c in string.punctuation:\r\n",
        "      family = family.replace(c, '').strip()\r\n",
        "    families.append(family)\r\n",
        "  return families\r\n",
        "\r\n",
        "titanic['Family'] = extract_surname(titanic['Name'])"
      ],
      "execution_count": null,
      "outputs": []
    },
    {
      "cell_type": "code",
      "metadata": {
        "colab": {
          "base_uri": "https://localhost:8080/"
        },
        "id": "yFHfFlG3rsNO",
        "outputId": "ecb9e547-73bd-49b7-e5c5-4bf5883a9621"
      },
      "source": [
        "titanic['Family']"
      ],
      "execution_count": null,
      "outputs": [
        {
          "output_type": "execute_result",
          "data": {
            "text/plain": [
              "0              Braund\n",
              "1             Cumings\n",
              "2           Heikkinen\n",
              "3            Futrelle\n",
              "4               Allen\n",
              "            ...      \n",
              "1304          Spector\n",
              "1305    Oliva y Ocana\n",
              "1306          Saether\n",
              "1307             Ware\n",
              "1308            Peter\n",
              "Name: Family, Length: 1309, dtype: object"
            ]
          },
          "metadata": {
            "tags": []
          },
          "execution_count": 122
        }
      ]
    },
    {
      "cell_type": "code",
      "metadata": {
        "colab": {
          "base_uri": "https://localhost:8080/",
          "height": 338
        },
        "id": "8i9fbfCWrwAl",
        "outputId": "8cd03dd3-375a-418c-9028-a134cc27fc29"
      },
      "source": [
        "titanic[(titanic['Sex'] == 'female') & (titanic['Family_size'] > 1)].groupby(['Family'])['Survived'].mean().hist(figsize=(12, 5))"
      ],
      "execution_count": null,
      "outputs": [
        {
          "output_type": "execute_result",
          "data": {
            "text/plain": [
              "<matplotlib.axes._subplots.AxesSubplot at 0x7f05afc15438>"
            ]
          },
          "metadata": {
            "tags": []
          },
          "execution_count": 123
        },
        {
          "output_type": "display_data",
          "data": {
            "image/png": "[encoded data removed]",
            "text/plain": [
              "<Figure size 864x360 with 1 Axes>"
            ]
          },
          "metadata": {
            "tags": [],
            "needs_background": "light"
          }
        }
      ]
    },
    {
      "cell_type": "code",
      "metadata": {
        "colab": {
          "base_uri": "https://localhost:8080/",
          "height": 319
        },
        "id": "6uK-M_MFs86c",
        "outputId": "9917e183-917f-4943-9578-dc21de1ef835"
      },
      "source": [
        "titanic[titanic['Family']=='Allen'].groupby(['Family'])['Survived'].hist()"
      ],
      "execution_count": null,
      "outputs": [
        {
          "output_type": "execute_result",
          "data": {
            "text/plain": [
              "Family\n",
              "Allen    AxesSubplot(0.125,0.125;0.775x0.755)\n",
              "Name: Survived, dtype: object"
            ]
          },
          "metadata": {
            "tags": []
          },
          "execution_count": 124
        },
        {
          "output_type": "display_data",
          "data": {
            "image/png": "[encoded data removed]",
            "text/plain": [
              "<Figure size 432x288 with 1 Axes>"
            ]
          },
          "metadata": {
            "tags": [],
            "needs_background": "light"
          }
        }
      ]
    },
    {
      "cell_type": "code",
      "metadata": {
        "colab": {
          "base_uri": "https://localhost:8080/",
          "height": 289
        },
        "id": "RO7VogvWNhss",
        "outputId": "911c49fa-6026-4932-af87-521a43ba2b5c"
      },
      "source": [
        "titanic.head()"
      ],
      "execution_count": null,
      "outputs": [
        {
          "output_type": "execute_result",
          "data": {
            "text/html": [
              "<div>\n",
              "<style scoped>\n",
              "    .dataframe tbody tr th:only-of-type {\n",
              "        vertical-align: middle;\n",
              "    }\n",
              "\n",
              "    .dataframe tbody tr th {\n",
              "        vertical-align: top;\n",
              "    }\n",
              "\n",
              "    .dataframe thead th {\n",
              "        text-align: right;\n",
              "    }\n",
              "</style>\n",
              "<table border=\"1\" class=\"dataframe\">\n",
              "  <thead>\n",
              "    <tr style=\"text-align: right;\">\n",
              "      <th></th>\n",
              "      <th>PassengerId</th>\n",
              "      <th>Survived</th>\n",
              "      <th>Pclass</th>\n",
              "      <th>Name</th>\n",
              "      <th>Sex</th>\n",
              "      <th>Age</th>\n",
              "      <th>SibSp</th>\n",
              "      <th>Parch</th>\n",
              "      <th>Ticket</th>\n",
              "      <th>Fare</th>\n",
              "      <th>Cabin</th>\n",
              "      <th>Embarked</th>\n",
              "      <th>Deck</th>\n",
              "      <th>Family_size</th>\n",
              "      <th>Family_size_bin</th>\n",
              "      <th>Ticket_frequency</th>\n",
              "      <th>Title</th>\n",
              "      <th>is_married</th>\n",
              "      <th>Family</th>\n",
              "    </tr>\n",
              "  </thead>\n",
              "  <tbody>\n",
              "    <tr>\n",
              "      <th>0</th>\n",
              "      <td>1</td>\n",
              "      <td>0.0</td>\n",
              "      <td>3</td>\n",
              "      <td>Braund, Mr. Owen Harris</td>\n",
              "      <td>male</td>\n",
              "      <td>(16.0, 32.0]</td>\n",
              "      <td>1</td>\n",
              "      <td>0</td>\n",
              "      <td>A/5 21171</td>\n",
              "      <td>(-0.001, 7.854]</td>\n",
              "      <td>NaN</td>\n",
              "      <td>S</td>\n",
              "      <td>M</td>\n",
              "      <td>2</td>\n",
              "      <td>2</td>\n",
              "      <td>1</td>\n",
              "      <td>Mr</td>\n",
              "      <td>0</td>\n",
              "      <td>Braund</td>\n",
              "    </tr>\n",
              "    <tr>\n",
              "      <th>1</th>\n",
              "      <td>2</td>\n",
              "      <td>1.0</td>\n",
              "      <td>1</td>\n",
              "      <td>Cumings, Mrs. John Bradley (Florence Briggs Th...</td>\n",
              "      <td>female</td>\n",
              "      <td>(32.0, 48.0]</td>\n",
              "      <td>1</td>\n",
              "      <td>0</td>\n",
              "      <td>PC 17599</td>\n",
              "      <td>(41.579, 512.329]</td>\n",
              "      <td>C85</td>\n",
              "      <td>C</td>\n",
              "      <td>ABC</td>\n",
              "      <td>2</td>\n",
              "      <td>2</td>\n",
              "      <td>2</td>\n",
              "      <td>Mrs</td>\n",
              "      <td>1</td>\n",
              "      <td>Cumings</td>\n",
              "    </tr>\n",
              "    <tr>\n",
              "      <th>2</th>\n",
              "      <td>3</td>\n",
              "      <td>1.0</td>\n",
              "      <td>3</td>\n",
              "      <td>Heikkinen, Miss. Laina</td>\n",
              "      <td>female</td>\n",
              "      <td>(16.0, 32.0]</td>\n",
              "      <td>0</td>\n",
              "      <td>0</td>\n",
              "      <td>STON/O2. 3101282</td>\n",
              "      <td>(7.854, 10.5]</td>\n",
              "      <td>NaN</td>\n",
              "      <td>S</td>\n",
              "      <td>M</td>\n",
              "      <td>1</td>\n",
              "      <td>1</td>\n",
              "      <td>1</td>\n",
              "      <td>Miss</td>\n",
              "      <td>0</td>\n",
              "      <td>Heikkinen</td>\n",
              "    </tr>\n",
              "    <tr>\n",
              "      <th>3</th>\n",
              "      <td>4</td>\n",
              "      <td>1.0</td>\n",
              "      <td>1</td>\n",
              "      <td>Futrelle, Mrs. Jacques Heath (Lily May Peel)</td>\n",
              "      <td>female</td>\n",
              "      <td>(32.0, 48.0]</td>\n",
              "      <td>1</td>\n",
              "      <td>0</td>\n",
              "      <td>113803</td>\n",
              "      <td>(41.579, 512.329]</td>\n",
              "      <td>C123</td>\n",
              "      <td>S</td>\n",
              "      <td>ABC</td>\n",
              "      <td>2</td>\n",
              "      <td>2</td>\n",
              "      <td>2</td>\n",
              "      <td>Mrs</td>\n",
              "      <td>1</td>\n",
              "      <td>Futrelle</td>\n",
              "    </tr>\n",
              "    <tr>\n",
              "      <th>4</th>\n",
              "      <td>5</td>\n",
              "      <td>0.0</td>\n",
              "      <td>3</td>\n",
              "      <td>Allen, Mr. William Henry</td>\n",
              "      <td>male</td>\n",
              "      <td>(32.0, 48.0]</td>\n",
              "      <td>0</td>\n",
              "      <td>0</td>\n",
              "      <td>373450</td>\n",
              "      <td>(7.854, 10.5]</td>\n",
              "      <td>NaN</td>\n",
              "      <td>S</td>\n",
              "      <td>M</td>\n",
              "      <td>1</td>\n",
              "      <td>1</td>\n",
              "      <td>1</td>\n",
              "      <td>Mr</td>\n",
              "      <td>0</td>\n",
              "      <td>Allen</td>\n",
              "    </tr>\n",
              "  </tbody>\n",
              "</table>\n",
              "</div>"
            ],
            "text/plain": [
              "   PassengerId  Survived  Pclass  ... Title is_married     Family\n",
              "0            1       0.0       3  ...    Mr          0     Braund\n",
              "1            2       1.0       1  ...   Mrs          1    Cumings\n",
              "2            3       1.0       3  ...  Miss          0  Heikkinen\n",
              "3            4       1.0       1  ...   Mrs          1   Futrelle\n",
              "4            5       0.0       3  ...    Mr          0      Allen\n",
              "\n",
              "[5 rows x 19 columns]"
            ]
          },
          "metadata": {
            "tags": []
          },
          "execution_count": 125
        }
      ]
    },
    {
      "cell_type": "code",
      "metadata": {
        "id": "n4dSlQWmtZ9B"
      },
      "source": [
        "non_numeric_features = ['Embarked', 'Sex', 'Title', 'Age', 'Fare', 'Deck']\r\n",
        "\r\n",
        "for feature in non_numeric_features:\r\n",
        "  titanic[feature] = LabelEncoder().fit_transform(titanic[feature])"
      ],
      "execution_count": null,
      "outputs": []
    },
    {
      "cell_type": "code",
      "metadata": {
        "colab": {
          "base_uri": "https://localhost:8080/",
          "height": 204
        },
        "id": "RFh37Q1pMl15",
        "outputId": "c5a0e9cf-40c8-4bc4-bc10-ae385599b9bd"
      },
      "source": [
        "titanic.head()"
      ],
      "execution_count": null,
      "outputs": [
        {
          "output_type": "execute_result",
          "data": {
            "text/html": [
              "<div>\n",
              "<style scoped>\n",
              "    .dataframe tbody tr th:only-of-type {\n",
              "        vertical-align: middle;\n",
              "    }\n",
              "\n",
              "    .dataframe tbody tr th {\n",
              "        vertical-align: top;\n",
              "    }\n",
              "\n",
              "    .dataframe thead th {\n",
              "        text-align: right;\n",
              "    }\n",
              "</style>\n",
              "<table border=\"1\" class=\"dataframe\">\n",
              "  <thead>\n",
              "    <tr style=\"text-align: right;\">\n",
              "      <th></th>\n",
              "      <th>PassengerId</th>\n",
              "      <th>Survived</th>\n",
              "      <th>Pclass</th>\n",
              "      <th>Name</th>\n",
              "      <th>Sex</th>\n",
              "      <th>Age</th>\n",
              "      <th>SibSp</th>\n",
              "      <th>Parch</th>\n",
              "      <th>Ticket</th>\n",
              "      <th>Fare</th>\n",
              "      <th>Cabin</th>\n",
              "      <th>Embarked</th>\n",
              "      <th>Deck</th>\n",
              "      <th>Family_size</th>\n",
              "      <th>Family_size_bin</th>\n",
              "      <th>Ticket_frequency</th>\n",
              "      <th>Title</th>\n",
              "      <th>is_married</th>\n",
              "      <th>Family</th>\n",
              "    </tr>\n",
              "  </thead>\n",
              "  <tbody>\n",
              "    <tr>\n",
              "      <th>0</th>\n",
              "      <td>1</td>\n",
              "      <td>0.0</td>\n",
              "      <td>3</td>\n",
              "      <td>Braund, Mr. Owen Harris</td>\n",
              "      <td>1</td>\n",
              "      <td>1</td>\n",
              "      <td>1</td>\n",
              "      <td>0</td>\n",
              "      <td>A/5 21171</td>\n",
              "      <td>0</td>\n",
              "      <td>NaN</td>\n",
              "      <td>2</td>\n",
              "      <td>3</td>\n",
              "      <td>2</td>\n",
              "      <td>2</td>\n",
              "      <td>1</td>\n",
              "      <td>3</td>\n",
              "      <td>0</td>\n",
              "      <td>Braund</td>\n",
              "    </tr>\n",
              "    <tr>\n",
              "      <th>1</th>\n",
              "      <td>2</td>\n",
              "      <td>1.0</td>\n",
              "      <td>1</td>\n",
              "      <td>Cumings, Mrs. John Bradley (Florence Briggs Th...</td>\n",
              "      <td>0</td>\n",
              "      <td>2</td>\n",
              "      <td>1</td>\n",
              "      <td>0</td>\n",
              "      <td>PC 17599</td>\n",
              "      <td>4</td>\n",
              "      <td>C85</td>\n",
              "      <td>0</td>\n",
              "      <td>0</td>\n",
              "      <td>2</td>\n",
              "      <td>2</td>\n",
              "      <td>2</td>\n",
              "      <td>4</td>\n",
              "      <td>1</td>\n",
              "      <td>Cumings</td>\n",
              "    </tr>\n",
              "    <tr>\n",
              "      <th>2</th>\n",
              "      <td>3</td>\n",
              "      <td>1.0</td>\n",
              "      <td>3</td>\n",
              "      <td>Heikkinen, Miss. Laina</td>\n",
              "      <td>0</td>\n",
              "      <td>1</td>\n",
              "      <td>0</td>\n",
              "      <td>0</td>\n",
              "      <td>STON/O2. 3101282</td>\n",
              "      <td>1</td>\n",
              "      <td>NaN</td>\n",
              "      <td>2</td>\n",
              "      <td>3</td>\n",
              "      <td>1</td>\n",
              "      <td>1</td>\n",
              "      <td>1</td>\n",
              "      <td>2</td>\n",
              "      <td>0</td>\n",
              "      <td>Heikkinen</td>\n",
              "    </tr>\n",
              "    <tr>\n",
              "      <th>3</th>\n",
              "      <td>4</td>\n",
              "      <td>1.0</td>\n",
              "      <td>1</td>\n",
              "      <td>Futrelle, Mrs. Jacques Heath (Lily May Peel)</td>\n",
              "      <td>0</td>\n",
              "      <td>2</td>\n",
              "      <td>1</td>\n",
              "      <td>0</td>\n",
              "      <td>113803</td>\n",
              "      <td>4</td>\n",
              "      <td>C123</td>\n",
              "      <td>2</td>\n",
              "      <td>0</td>\n",
              "      <td>2</td>\n",
              "      <td>2</td>\n",
              "      <td>2</td>\n",
              "      <td>4</td>\n",
              "      <td>1</td>\n",
              "      <td>Futrelle</td>\n",
              "    </tr>\n",
              "    <tr>\n",
              "      <th>4</th>\n",
              "      <td>5</td>\n",
              "      <td>0.0</td>\n",
              "      <td>3</td>\n",
              "      <td>Allen, Mr. William Henry</td>\n",
              "      <td>1</td>\n",
              "      <td>2</td>\n",
              "      <td>0</td>\n",
              "      <td>0</td>\n",
              "      <td>373450</td>\n",
              "      <td>1</td>\n",
              "      <td>NaN</td>\n",
              "      <td>2</td>\n",
              "      <td>3</td>\n",
              "      <td>1</td>\n",
              "      <td>1</td>\n",
              "      <td>1</td>\n",
              "      <td>3</td>\n",
              "      <td>0</td>\n",
              "      <td>Allen</td>\n",
              "    </tr>\n",
              "  </tbody>\n",
              "</table>\n",
              "</div>"
            ],
            "text/plain": [
              "   PassengerId  Survived  Pclass  ... Title  is_married     Family\n",
              "0            1       0.0       3  ...     3           0     Braund\n",
              "1            2       1.0       1  ...     4           1    Cumings\n",
              "2            3       1.0       3  ...     2           0  Heikkinen\n",
              "3            4       1.0       1  ...     4           1   Futrelle\n",
              "4            5       0.0       3  ...     3           0      Allen\n",
              "\n",
              "[5 rows x 19 columns]"
            ]
          },
          "metadata": {
            "tags": []
          },
          "execution_count": 129
        }
      ]
    },
    {
      "cell_type": "code",
      "metadata": {
        "id": "9yviciYGM_VD"
      },
      "source": [
        "def divide_df(all):\r\n",
        "  return all.loc[:890], all.loc[891:].drop(['Survived'], axis=1)"
      ],
      "execution_count": null,
      "outputs": []
    },
    {
      "cell_type": "code",
      "metadata": {
        "colab": {
          "base_uri": "https://localhost:8080/"
        },
        "id": "eSTn7J4FRand",
        "outputId": "fc1b5b22-1557-4e0a-c865-d4aadee0214d"
      },
      "source": [
        "titanic['Pclass'].value_counts()"
      ],
      "execution_count": null,
      "outputs": [
        {
          "output_type": "execute_result",
          "data": {
            "text/plain": [
              "3    709\n",
              "1    323\n",
              "2    277\n",
              "Name: Pclass, dtype: int64"
            ]
          },
          "metadata": {
            "tags": []
          },
          "execution_count": 138
        }
      ]
    },
    {
      "cell_type": "code",
      "metadata": {
        "id": "qGiRRd29QhQb"
      },
      "source": [
        "titanic = pd.get_dummies(titanic, columns=['Pclass', 'Sex', 'Embarked', 'Title', 'Deck', 'Family_size_bin', 'Age', 'Fare'])"
      ],
      "execution_count": null,
      "outputs": []
    },
    {
      "cell_type": "code",
      "metadata": {
        "id": "dUsoBKhwO_be"
      },
      "source": [
        "titanic_train, titanic_test = divide_df(titanic)"
      ],
      "execution_count": null,
      "outputs": []
    },
    {
      "cell_type": "code",
      "metadata": {
        "colab": {
          "base_uri": "https://localhost:8080/",
          "height": 496
        },
        "id": "HaYakJAuPG0I",
        "outputId": "2bbb6d21-1e64-477b-de5e-b434504ddade"
      },
      "source": [
        "titanic_train.head()"
      ],
      "execution_count": null,
      "outputs": [
        {
          "output_type": "execute_result",
          "data": {
            "text/html": [
              "<div>\n",
              "<style scoped>\n",
              "    .dataframe tbody tr th:only-of-type {\n",
              "        vertical-align: middle;\n",
              "    }\n",
              "\n",
              "    .dataframe tbody tr th {\n",
              "        vertical-align: top;\n",
              "    }\n",
              "\n",
              "    .dataframe thead th {\n",
              "        text-align: right;\n",
              "    }\n",
              "</style>\n",
              "<table border=\"1\" class=\"dataframe\">\n",
              "  <thead>\n",
              "    <tr style=\"text-align: right;\">\n",
              "      <th></th>\n",
              "      <th>PassengerId</th>\n",
              "      <th>Survived</th>\n",
              "      <th>Name</th>\n",
              "      <th>SibSp</th>\n",
              "      <th>Parch</th>\n",
              "      <th>Ticket</th>\n",
              "      <th>Cabin</th>\n",
              "      <th>Family_size</th>\n",
              "      <th>Ticket_frequency</th>\n",
              "      <th>is_married</th>\n",
              "      <th>Family</th>\n",
              "      <th>Pclass_1</th>\n",
              "      <th>Pclass_2</th>\n",
              "      <th>Pclass_3</th>\n",
              "      <th>Sex_0</th>\n",
              "      <th>Sex_1</th>\n",
              "      <th>Embarked_0</th>\n",
              "      <th>Embarked_1</th>\n",
              "      <th>Embarked_2</th>\n",
              "      <th>Title_0</th>\n",
              "      <th>Title_1</th>\n",
              "      <th>Title_2</th>\n",
              "      <th>Title_3</th>\n",
              "      <th>Title_4</th>\n",
              "      <th>Deck_0</th>\n",
              "      <th>Deck_1</th>\n",
              "      <th>Deck_2</th>\n",
              "      <th>Deck_3</th>\n",
              "      <th>Family_size_bin_1</th>\n",
              "      <th>Family_size_bin_2</th>\n",
              "      <th>Family_size_bin_3</th>\n",
              "      <th>Family_size_bin_4</th>\n",
              "      <th>Age_0</th>\n",
              "      <th>Age_1</th>\n",
              "      <th>Age_2</th>\n",
              "      <th>Age_3</th>\n",
              "      <th>Age_4</th>\n",
              "      <th>Fare_0</th>\n",
              "      <th>Fare_1</th>\n",
              "      <th>Fare_2</th>\n",
              "      <th>Fare_3</th>\n",
              "      <th>Fare_4</th>\n",
              "    </tr>\n",
              "  </thead>\n",
              "  <tbody>\n",
              "    <tr>\n",
              "      <th>0</th>\n",
              "      <td>1</td>\n",
              "      <td>0.0</td>\n",
              "      <td>Braund, Mr. Owen Harris</td>\n",
              "      <td>1</td>\n",
              "      <td>0</td>\n",
              "      <td>A/5 21171</td>\n",
              "      <td>NaN</td>\n",
              "      <td>2</td>\n",
              "      <td>1</td>\n",
              "      <td>0</td>\n",
              "      <td>Braund</td>\n",
              "      <td>0</td>\n",
              "      <td>0</td>\n",
              "      <td>1</td>\n",
              "      <td>0</td>\n",
              "      <td>1</td>\n",
              "      <td>0</td>\n",
              "      <td>0</td>\n",
              "      <td>1</td>\n",
              "      <td>0</td>\n",
              "      <td>0</td>\n",
              "      <td>0</td>\n",
              "      <td>1</td>\n",
              "      <td>0</td>\n",
              "      <td>0</td>\n",
              "      <td>0</td>\n",
              "      <td>0</td>\n",
              "      <td>1</td>\n",
              "      <td>0</td>\n",
              "      <td>1</td>\n",
              "      <td>0</td>\n",
              "      <td>0</td>\n",
              "      <td>0</td>\n",
              "      <td>1</td>\n",
              "      <td>0</td>\n",
              "      <td>0</td>\n",
              "      <td>0</td>\n",
              "      <td>1</td>\n",
              "      <td>0</td>\n",
              "      <td>0</td>\n",
              "      <td>0</td>\n",
              "      <td>0</td>\n",
              "    </tr>\n",
              "    <tr>\n",
              "      <th>1</th>\n",
              "      <td>2</td>\n",
              "      <td>1.0</td>\n",
              "      <td>Cumings, Mrs. John Bradley (Florence Briggs Th...</td>\n",
              "      <td>1</td>\n",
              "      <td>0</td>\n",
              "      <td>PC 17599</td>\n",
              "      <td>C85</td>\n",
              "      <td>2</td>\n",
              "      <td>2</td>\n",
              "      <td>1</td>\n",
              "      <td>Cumings</td>\n",
              "      <td>1</td>\n",
              "      <td>0</td>\n",
              "      <td>0</td>\n",
              "      <td>1</td>\n",
              "      <td>0</td>\n",
              "      <td>1</td>\n",
              "      <td>0</td>\n",
              "      <td>0</td>\n",
              "      <td>0</td>\n",
              "      <td>0</td>\n",
              "      <td>0</td>\n",
              "      <td>0</td>\n",
              "      <td>1</td>\n",
              "      <td>1</td>\n",
              "      <td>0</td>\n",
              "      <td>0</td>\n",
              "      <td>0</td>\n",
              "      <td>0</td>\n",
              "      <td>1</td>\n",
              "      <td>0</td>\n",
              "      <td>0</td>\n",
              "      <td>0</td>\n",
              "      <td>0</td>\n",
              "      <td>1</td>\n",
              "      <td>0</td>\n",
              "      <td>0</td>\n",
              "      <td>0</td>\n",
              "      <td>0</td>\n",
              "      <td>0</td>\n",
              "      <td>0</td>\n",
              "      <td>1</td>\n",
              "    </tr>\n",
              "    <tr>\n",
              "      <th>2</th>\n",
              "      <td>3</td>\n",
              "      <td>1.0</td>\n",
              "      <td>Heikkinen, Miss. Laina</td>\n",
              "      <td>0</td>\n",
              "      <td>0</td>\n",
              "      <td>STON/O2. 3101282</td>\n",
              "      <td>NaN</td>\n",
              "      <td>1</td>\n",
              "      <td>1</td>\n",
              "      <td>0</td>\n",
              "      <td>Heikkinen</td>\n",
              "      <td>0</td>\n",
              "      <td>0</td>\n",
              "      <td>1</td>\n",
              "      <td>1</td>\n",
              "      <td>0</td>\n",
              "      <td>0</td>\n",
              "      <td>0</td>\n",
              "      <td>1</td>\n",
              "      <td>0</td>\n",
              "      <td>0</td>\n",
              "      <td>1</td>\n",
              "      <td>0</td>\n",
              "      <td>0</td>\n",
              "      <td>0</td>\n",
              "      <td>0</td>\n",
              "      <td>0</td>\n",
              "      <td>1</td>\n",
              "      <td>1</td>\n",
              "      <td>0</td>\n",
              "      <td>0</td>\n",
              "      <td>0</td>\n",
              "      <td>0</td>\n",
              "      <td>1</td>\n",
              "      <td>0</td>\n",
              "      <td>0</td>\n",
              "      <td>0</td>\n",
              "      <td>0</td>\n",
              "      <td>1</td>\n",
              "      <td>0</td>\n",
              "      <td>0</td>\n",
              "      <td>0</td>\n",
              "    </tr>\n",
              "    <tr>\n",
              "      <th>3</th>\n",
              "      <td>4</td>\n",
              "      <td>1.0</td>\n",
              "      <td>Futrelle, Mrs. Jacques Heath (Lily May Peel)</td>\n",
              "      <td>1</td>\n",
              "      <td>0</td>\n",
              "      <td>113803</td>\n",
              "      <td>C123</td>\n",
              "      <td>2</td>\n",
              "      <td>2</td>\n",
              "      <td>1</td>\n",
              "      <td>Futrelle</td>\n",
              "      <td>1</td>\n",
              "      <td>0</td>\n",
              "      <td>0</td>\n",
              "      <td>1</td>\n",
              "      <td>0</td>\n",
              "      <td>0</td>\n",
              "      <td>0</td>\n",
              "      <td>1</td>\n",
              "      <td>0</td>\n",
              "      <td>0</td>\n",
              "      <td>0</td>\n",
              "      <td>0</td>\n",
              "      <td>1</td>\n",
              "      <td>1</td>\n",
              "      <td>0</td>\n",
              "      <td>0</td>\n",
              "      <td>0</td>\n",
              "      <td>0</td>\n",
              "      <td>1</td>\n",
              "      <td>0</td>\n",
              "      <td>0</td>\n",
              "      <td>0</td>\n",
              "      <td>0</td>\n",
              "      <td>1</td>\n",
              "      <td>0</td>\n",
              "      <td>0</td>\n",
              "      <td>0</td>\n",
              "      <td>0</td>\n",
              "      <td>0</td>\n",
              "      <td>0</td>\n",
              "      <td>1</td>\n",
              "    </tr>\n",
              "    <tr>\n",
              "      <th>4</th>\n",
              "      <td>5</td>\n",
              "      <td>0.0</td>\n",
              "      <td>Allen, Mr. William Henry</td>\n",
              "      <td>0</td>\n",
              "      <td>0</td>\n",
              "      <td>373450</td>\n",
              "      <td>NaN</td>\n",
              "      <td>1</td>\n",
              "      <td>1</td>\n",
              "      <td>0</td>\n",
              "      <td>Allen</td>\n",
              "      <td>0</td>\n",
              "      <td>0</td>\n",
              "      <td>1</td>\n",
              "      <td>0</td>\n",
              "      <td>1</td>\n",
              "      <td>0</td>\n",
              "      <td>0</td>\n",
              "      <td>1</td>\n",
              "      <td>0</td>\n",
              "      <td>0</td>\n",
              "      <td>0</td>\n",
              "      <td>1</td>\n",
              "      <td>0</td>\n",
              "      <td>0</td>\n",
              "      <td>0</td>\n",
              "      <td>0</td>\n",
              "      <td>1</td>\n",
              "      <td>1</td>\n",
              "      <td>0</td>\n",
              "      <td>0</td>\n",
              "      <td>0</td>\n",
              "      <td>0</td>\n",
              "      <td>0</td>\n",
              "      <td>1</td>\n",
              "      <td>0</td>\n",
              "      <td>0</td>\n",
              "      <td>0</td>\n",
              "      <td>1</td>\n",
              "      <td>0</td>\n",
              "      <td>0</td>\n",
              "      <td>0</td>\n",
              "    </tr>\n",
              "  </tbody>\n",
              "</table>\n",
              "</div>"
            ],
            "text/plain": [
              "   PassengerId  Survived  ... Fare_3  Fare_4\n",
              "0            1       0.0  ...      0       0\n",
              "1            2       1.0  ...      0       1\n",
              "2            3       1.0  ...      0       0\n",
              "3            4       1.0  ...      0       1\n",
              "4            5       0.0  ...      0       0\n",
              "\n",
              "[5 rows x 42 columns]"
            ]
          },
          "metadata": {
            "tags": []
          },
          "execution_count": 146
        }
      ]
    },
    {
      "cell_type": "code",
      "metadata": {
        "colab": {
          "base_uri": "https://localhost:8080/",
          "height": 445
        },
        "id": "won8xgjxPdHc",
        "outputId": "b98e2b61-9e4f-4c52-9ba3-b2c15bbd14d2"
      },
      "source": [
        "titanic_test.head()"
      ],
      "execution_count": null,
      "outputs": [
        {
          "output_type": "execute_result",
          "data": {
            "text/html": [
              "<div>\n",
              "<style scoped>\n",
              "    .dataframe tbody tr th:only-of-type {\n",
              "        vertical-align: middle;\n",
              "    }\n",
              "\n",
              "    .dataframe tbody tr th {\n",
              "        vertical-align: top;\n",
              "    }\n",
              "\n",
              "    .dataframe thead th {\n",
              "        text-align: right;\n",
              "    }\n",
              "</style>\n",
              "<table border=\"1\" class=\"dataframe\">\n",
              "  <thead>\n",
              "    <tr style=\"text-align: right;\">\n",
              "      <th></th>\n",
              "      <th>PassengerId</th>\n",
              "      <th>Name</th>\n",
              "      <th>SibSp</th>\n",
              "      <th>Parch</th>\n",
              "      <th>Ticket</th>\n",
              "      <th>Cabin</th>\n",
              "      <th>Family_size</th>\n",
              "      <th>Ticket_frequency</th>\n",
              "      <th>is_married</th>\n",
              "      <th>Family</th>\n",
              "      <th>Pclass_1</th>\n",
              "      <th>Pclass_2</th>\n",
              "      <th>Pclass_3</th>\n",
              "      <th>Sex_0</th>\n",
              "      <th>Sex_1</th>\n",
              "      <th>Embarked_0</th>\n",
              "      <th>Embarked_1</th>\n",
              "      <th>Embarked_2</th>\n",
              "      <th>Title_0</th>\n",
              "      <th>Title_1</th>\n",
              "      <th>Title_2</th>\n",
              "      <th>Title_3</th>\n",
              "      <th>Title_4</th>\n",
              "      <th>Deck_0</th>\n",
              "      <th>Deck_1</th>\n",
              "      <th>Deck_2</th>\n",
              "      <th>Deck_3</th>\n",
              "      <th>Family_size_bin_1</th>\n",
              "      <th>Family_size_bin_2</th>\n",
              "      <th>Family_size_bin_3</th>\n",
              "      <th>Family_size_bin_4</th>\n",
              "      <th>Age_0</th>\n",
              "      <th>Age_1</th>\n",
              "      <th>Age_2</th>\n",
              "      <th>Age_3</th>\n",
              "      <th>Age_4</th>\n",
              "      <th>Fare_0</th>\n",
              "      <th>Fare_1</th>\n",
              "      <th>Fare_2</th>\n",
              "      <th>Fare_3</th>\n",
              "      <th>Fare_4</th>\n",
              "    </tr>\n",
              "  </thead>\n",
              "  <tbody>\n",
              "    <tr>\n",
              "      <th>891</th>\n",
              "      <td>892</td>\n",
              "      <td>Kelly, Mr. James</td>\n",
              "      <td>0</td>\n",
              "      <td>0</td>\n",
              "      <td>330911</td>\n",
              "      <td>NaN</td>\n",
              "      <td>1</td>\n",
              "      <td>1</td>\n",
              "      <td>0</td>\n",
              "      <td>Kelly</td>\n",
              "      <td>0</td>\n",
              "      <td>0</td>\n",
              "      <td>1</td>\n",
              "      <td>0</td>\n",
              "      <td>1</td>\n",
              "      <td>0</td>\n",
              "      <td>1</td>\n",
              "      <td>0</td>\n",
              "      <td>0</td>\n",
              "      <td>0</td>\n",
              "      <td>0</td>\n",
              "      <td>1</td>\n",
              "      <td>0</td>\n",
              "      <td>0</td>\n",
              "      <td>0</td>\n",
              "      <td>0</td>\n",
              "      <td>1</td>\n",
              "      <td>1</td>\n",
              "      <td>0</td>\n",
              "      <td>0</td>\n",
              "      <td>0</td>\n",
              "      <td>0</td>\n",
              "      <td>0</td>\n",
              "      <td>1</td>\n",
              "      <td>0</td>\n",
              "      <td>0</td>\n",
              "      <td>1</td>\n",
              "      <td>0</td>\n",
              "      <td>0</td>\n",
              "      <td>0</td>\n",
              "      <td>0</td>\n",
              "    </tr>\n",
              "    <tr>\n",
              "      <th>892</th>\n",
              "      <td>893</td>\n",
              "      <td>Wilkes, Mrs. James (Ellen Needs)</td>\n",
              "      <td>1</td>\n",
              "      <td>0</td>\n",
              "      <td>363272</td>\n",
              "      <td>NaN</td>\n",
              "      <td>2</td>\n",
              "      <td>1</td>\n",
              "      <td>1</td>\n",
              "      <td>Wilkes</td>\n",
              "      <td>0</td>\n",
              "      <td>0</td>\n",
              "      <td>1</td>\n",
              "      <td>1</td>\n",
              "      <td>0</td>\n",
              "      <td>0</td>\n",
              "      <td>0</td>\n",
              "      <td>1</td>\n",
              "      <td>0</td>\n",
              "      <td>0</td>\n",
              "      <td>0</td>\n",
              "      <td>0</td>\n",
              "      <td>1</td>\n",
              "      <td>0</td>\n",
              "      <td>0</td>\n",
              "      <td>0</td>\n",
              "      <td>1</td>\n",
              "      <td>0</td>\n",
              "      <td>1</td>\n",
              "      <td>0</td>\n",
              "      <td>0</td>\n",
              "      <td>0</td>\n",
              "      <td>0</td>\n",
              "      <td>1</td>\n",
              "      <td>0</td>\n",
              "      <td>0</td>\n",
              "      <td>1</td>\n",
              "      <td>0</td>\n",
              "      <td>0</td>\n",
              "      <td>0</td>\n",
              "      <td>0</td>\n",
              "    </tr>\n",
              "    <tr>\n",
              "      <th>893</th>\n",
              "      <td>894</td>\n",
              "      <td>Myles, Mr. Thomas Francis</td>\n",
              "      <td>0</td>\n",
              "      <td>0</td>\n",
              "      <td>240276</td>\n",
              "      <td>NaN</td>\n",
              "      <td>1</td>\n",
              "      <td>1</td>\n",
              "      <td>0</td>\n",
              "      <td>Myles</td>\n",
              "      <td>0</td>\n",
              "      <td>1</td>\n",
              "      <td>0</td>\n",
              "      <td>0</td>\n",
              "      <td>1</td>\n",
              "      <td>0</td>\n",
              "      <td>1</td>\n",
              "      <td>0</td>\n",
              "      <td>0</td>\n",
              "      <td>0</td>\n",
              "      <td>0</td>\n",
              "      <td>1</td>\n",
              "      <td>0</td>\n",
              "      <td>0</td>\n",
              "      <td>0</td>\n",
              "      <td>0</td>\n",
              "      <td>1</td>\n",
              "      <td>1</td>\n",
              "      <td>0</td>\n",
              "      <td>0</td>\n",
              "      <td>0</td>\n",
              "      <td>0</td>\n",
              "      <td>0</td>\n",
              "      <td>0</td>\n",
              "      <td>1</td>\n",
              "      <td>0</td>\n",
              "      <td>0</td>\n",
              "      <td>1</td>\n",
              "      <td>0</td>\n",
              "      <td>0</td>\n",
              "      <td>0</td>\n",
              "    </tr>\n",
              "    <tr>\n",
              "      <th>894</th>\n",
              "      <td>895</td>\n",
              "      <td>Wirz, Mr. Albert</td>\n",
              "      <td>0</td>\n",
              "      <td>0</td>\n",
              "      <td>315154</td>\n",
              "      <td>NaN</td>\n",
              "      <td>1</td>\n",
              "      <td>1</td>\n",
              "      <td>0</td>\n",
              "      <td>Wirz</td>\n",
              "      <td>0</td>\n",
              "      <td>0</td>\n",
              "      <td>1</td>\n",
              "      <td>0</td>\n",
              "      <td>1</td>\n",
              "      <td>0</td>\n",
              "      <td>0</td>\n",
              "      <td>1</td>\n",
              "      <td>0</td>\n",
              "      <td>0</td>\n",
              "      <td>0</td>\n",
              "      <td>1</td>\n",
              "      <td>0</td>\n",
              "      <td>0</td>\n",
              "      <td>0</td>\n",
              "      <td>0</td>\n",
              "      <td>1</td>\n",
              "      <td>1</td>\n",
              "      <td>0</td>\n",
              "      <td>0</td>\n",
              "      <td>0</td>\n",
              "      <td>0</td>\n",
              "      <td>1</td>\n",
              "      <td>0</td>\n",
              "      <td>0</td>\n",
              "      <td>0</td>\n",
              "      <td>0</td>\n",
              "      <td>1</td>\n",
              "      <td>0</td>\n",
              "      <td>0</td>\n",
              "      <td>0</td>\n",
              "    </tr>\n",
              "    <tr>\n",
              "      <th>895</th>\n",
              "      <td>896</td>\n",
              "      <td>Hirvonen, Mrs. Alexander (Helga E Lindqvist)</td>\n",
              "      <td>1</td>\n",
              "      <td>1</td>\n",
              "      <td>3101298</td>\n",
              "      <td>NaN</td>\n",
              "      <td>3</td>\n",
              "      <td>2</td>\n",
              "      <td>1</td>\n",
              "      <td>Hirvonen</td>\n",
              "      <td>0</td>\n",
              "      <td>0</td>\n",
              "      <td>1</td>\n",
              "      <td>1</td>\n",
              "      <td>0</td>\n",
              "      <td>0</td>\n",
              "      <td>0</td>\n",
              "      <td>1</td>\n",
              "      <td>0</td>\n",
              "      <td>0</td>\n",
              "      <td>0</td>\n",
              "      <td>0</td>\n",
              "      <td>1</td>\n",
              "      <td>0</td>\n",
              "      <td>0</td>\n",
              "      <td>0</td>\n",
              "      <td>1</td>\n",
              "      <td>0</td>\n",
              "      <td>0</td>\n",
              "      <td>1</td>\n",
              "      <td>0</td>\n",
              "      <td>0</td>\n",
              "      <td>1</td>\n",
              "      <td>0</td>\n",
              "      <td>0</td>\n",
              "      <td>0</td>\n",
              "      <td>0</td>\n",
              "      <td>0</td>\n",
              "      <td>1</td>\n",
              "      <td>0</td>\n",
              "      <td>0</td>\n",
              "    </tr>\n",
              "  </tbody>\n",
              "</table>\n",
              "</div>"
            ],
            "text/plain": [
              "     PassengerId                                          Name  ...  Fare_3  Fare_4\n",
              "891          892                              Kelly, Mr. James  ...       0       0\n",
              "892          893              Wilkes, Mrs. James (Ellen Needs)  ...       0       0\n",
              "893          894                     Myles, Mr. Thomas Francis  ...       0       0\n",
              "894          895                              Wirz, Mr. Albert  ...       0       0\n",
              "895          896  Hirvonen, Mrs. Alexander (Helga E Lindqvist)  ...       0       0\n",
              "\n",
              "[5 rows x 41 columns]"
            ]
          },
          "metadata": {
            "tags": []
          },
          "execution_count": 147
        }
      ]
    },
    {
      "cell_type": "code",
      "metadata": {
        "id": "NX0mgXU6Pev8"
      },
      "source": [
        "drop_cols = ['PassengerId', 'Name', 'Ticket', 'Cabin', 'Family', 'Survived']\r\n",
        "drop_cols_2 = ['PassengerId', 'Name', 'Ticket', 'Cabin', 'Family']"
      ],
      "execution_count": null,
      "outputs": []
    },
    {
      "cell_type": "code",
      "metadata": {
        "id": "5xkSHOlHTNQD"
      },
      "source": [
        "X = StandardScaler().fit_transform(titanic_train.drop(columns=drop_cols))\r\n",
        "y = titanic_train['Survived'].values"
      ],
      "execution_count": null,
      "outputs": []
    },
    {
      "cell_type": "code",
      "metadata": {
        "id": "Qczx6jgUTaSg"
      },
      "source": [
        "X_sub = StandardScaler().fit_transform(titanic_test.drop(columns=drop_cols_2))"
      ],
      "execution_count": null,
      "outputs": []
    },
    {
      "cell_type": "code",
      "metadata": {
        "colab": {
          "base_uri": "https://localhost:8080/"
        },
        "id": "INRgk4EmaIMd",
        "outputId": "1a30dbcc-12a9-4398-f76f-965a761264d5"
      },
      "source": [
        "X_sub.shape"
      ],
      "execution_count": null,
      "outputs": [
        {
          "output_type": "execute_result",
          "data": {
            "text/plain": [
              "(418, 36)"
            ]
          },
          "metadata": {
            "tags": []
          },
          "execution_count": 185
        }
      ]
    },
    {
      "cell_type": "code",
      "metadata": {
        "id": "rg_-PVQdUzvq"
      },
      "source": [
        "X_train, X_test, y_train, y_test = train_test_split(X, y, test_size=0.25, random_state=1)"
      ],
      "execution_count": null,
      "outputs": []
    },
    {
      "cell_type": "code",
      "metadata": {
        "colab": {
          "base_uri": "https://localhost:8080/"
        },
        "id": "WxCSCzJLWu1r",
        "outputId": "b21e991c-1180-49c7-ea08-1c712e831d77"
      },
      "source": [
        "X_train.shape"
      ],
      "execution_count": null,
      "outputs": [
        {
          "output_type": "execute_result",
          "data": {
            "text/plain": [
              "(668, 36)"
            ]
          },
          "metadata": {
            "tags": []
          },
          "execution_count": 187
        }
      ]
    },
    {
      "cell_type": "code",
      "metadata": {
        "id": "ofg2l1oThn2x"
      },
      "source": [
        "y"
      ],
      "execution_count": null,
      "outputs": []
    },
    {
      "cell_type": "code",
      "metadata": {
        "id": "lJ9EXv-DWFtI"
      },
      "source": [
        "from keras.layers import Dense, Activation, Dropout"
      ],
      "execution_count": null,
      "outputs": []
    },
    {
      "cell_type": "code",
      "metadata": {
        "id": "lpwmutveWf7Z"
      },
      "source": [
        "model = tf.keras.Sequential()\r\n",
        "\r\n",
        "model.add(Dense(16, activation='relu', input_shape=(36, )))\r\n",
        "model.add(Dropout(0.5))\r\n",
        "model.add(Dense(32, activation='relu'))\r\n",
        "model.add(Dropout(0.5))\r\n",
        "model.add(Dense(16, activation='relu'))\r\n",
        "model.add(Dropout(0.5))\r\n",
        "#model.add(Dense(32, activation='relu'))\r\n",
        "#model.add(Dense(16, activation='relu'))\r\n",
        "model.add(Dense(2, activation='softmax'))\r\n",
        "model.compile(optimizer='Adam', loss='sparse_categorical_crossentropy', metrics=['accuracy'])"
      ],
      "execution_count": null,
      "outputs": []
    },
    {
      "cell_type": "code",
      "metadata": {
        "colab": {
          "base_uri": "https://localhost:8080/"
        },
        "id": "qgkGB1zIYjtf",
        "outputId": "f5391f7b-e5a5-4062-e5c4-6f3d07ffc0a6"
      },
      "source": [
        "history = model.fit(X_train, y_train, shuffle=True, epochs=200, batch_size=16, validation_split=0.25)"
      ],
      "execution_count": null,
      "outputs": [
        {
          "output_type": "stream",
          "text": [
            "Epoch 1/200\n",
            "32/32 [==============================] - 1s 8ms/step - loss: 0.7544 - accuracy: 0.5330 - val_loss: 0.6547 - val_accuracy: 0.6287\n",
            "Epoch 2/200\n",
            "32/32 [==============================] - 0s 3ms/step - loss: 0.7574 - accuracy: 0.5379 - val_loss: 0.6390 - val_accuracy: 0.6527\n",
            "Epoch 3/200\n",
            "32/32 [==============================] - 0s 3ms/step - loss: 0.7443 - accuracy: 0.5845 - val_loss: 0.6316 - val_accuracy: 0.6527\n",
            "Epoch 4/200\n",
            "32/32 [==============================] - 0s 3ms/step - loss: 0.7102 - accuracy: 0.6156 - val_loss: 0.6288 - val_accuracy: 0.6886\n",
            "Epoch 5/200\n",
            "32/32 [==============================] - 0s 3ms/step - loss: 0.7084 - accuracy: 0.5982 - val_loss: 0.6206 - val_accuracy: 0.6826\n",
            "Epoch 6/200\n",
            "32/32 [==============================] - 0s 9ms/step - loss: 0.6346 - accuracy: 0.6650 - val_loss: 0.6083 - val_accuracy: 0.6647\n",
            "Epoch 7/200\n",
            "32/32 [==============================] - 0s 3ms/step - loss: 0.7094 - accuracy: 0.5956 - val_loss: 0.6058 - val_accuracy: 0.6647\n",
            "Epoch 8/200\n",
            "32/32 [==============================] - 0s 3ms/step - loss: 0.6327 - accuracy: 0.6742 - val_loss: 0.5928 - val_accuracy: 0.6647\n",
            "Epoch 9/200\n",
            "32/32 [==============================] - 0s 3ms/step - loss: 0.6386 - accuracy: 0.6460 - val_loss: 0.5825 - val_accuracy: 0.6826\n",
            "Epoch 10/200\n",
            "32/32 [==============================] - 0s 3ms/step - loss: 0.6059 - accuracy: 0.6634 - val_loss: 0.5640 - val_accuracy: 0.6886\n",
            "Epoch 11/200\n",
            "32/32 [==============================] - 0s 3ms/step - loss: 0.6299 - accuracy: 0.6312 - val_loss: 0.5531 - val_accuracy: 0.6946\n",
            "Epoch 12/200\n",
            "32/32 [==============================] - 0s 3ms/step - loss: 0.6337 - accuracy: 0.6608 - val_loss: 0.5395 - val_accuracy: 0.7186\n",
            "Epoch 13/200\n",
            "32/32 [==============================] - 0s 3ms/step - loss: 0.5733 - accuracy: 0.6937 - val_loss: 0.5345 - val_accuracy: 0.7246\n",
            "Epoch 14/200\n",
            "32/32 [==============================] - 0s 3ms/step - loss: 0.6211 - accuracy: 0.6669 - val_loss: 0.5350 - val_accuracy: 0.7425\n",
            "Epoch 15/200\n",
            "32/32 [==============================] - 0s 4ms/step - loss: 0.6141 - accuracy: 0.6517 - val_loss: 0.5226 - val_accuracy: 0.7605\n",
            "Epoch 16/200\n",
            "32/32 [==============================] - 0s 3ms/step - loss: 0.6061 - accuracy: 0.6716 - val_loss: 0.5143 - val_accuracy: 0.7904\n",
            "Epoch 17/200\n",
            "32/32 [==============================] - 0s 3ms/step - loss: 0.5686 - accuracy: 0.6992 - val_loss: 0.5020 - val_accuracy: 0.7844\n",
            "Epoch 18/200\n",
            "32/32 [==============================] - 0s 3ms/step - loss: 0.5937 - accuracy: 0.6627 - val_loss: 0.4939 - val_accuracy: 0.8024\n",
            "Epoch 19/200\n",
            "32/32 [==============================] - 0s 3ms/step - loss: 0.5460 - accuracy: 0.7145 - val_loss: 0.4782 - val_accuracy: 0.8204\n",
            "Epoch 20/200\n",
            "32/32 [==============================] - 0s 3ms/step - loss: 0.5427 - accuracy: 0.7132 - val_loss: 0.4634 - val_accuracy: 0.8144\n",
            "Epoch 21/200\n",
            "32/32 [==============================] - 0s 3ms/step - loss: 0.5374 - accuracy: 0.7015 - val_loss: 0.4603 - val_accuracy: 0.8144\n",
            "Epoch 22/200\n",
            "32/32 [==============================] - 0s 3ms/step - loss: 0.5355 - accuracy: 0.7071 - val_loss: 0.4540 - val_accuracy: 0.8144\n",
            "Epoch 23/200\n",
            "32/32 [==============================] - 0s 3ms/step - loss: 0.5256 - accuracy: 0.7205 - val_loss: 0.4422 - val_accuracy: 0.8144\n",
            "Epoch 24/200\n",
            "32/32 [==============================] - 0s 3ms/step - loss: 0.5425 - accuracy: 0.7472 - val_loss: 0.4417 - val_accuracy: 0.8144\n",
            "Epoch 25/200\n",
            "32/32 [==============================] - 0s 3ms/step - loss: 0.6107 - accuracy: 0.6861 - val_loss: 0.4628 - val_accuracy: 0.8204\n",
            "Epoch 26/200\n",
            "32/32 [==============================] - 0s 4ms/step - loss: 0.4775 - accuracy: 0.7683 - val_loss: 0.4509 - val_accuracy: 0.8144\n",
            "Epoch 27/200\n",
            "32/32 [==============================] - 0s 3ms/step - loss: 0.5112 - accuracy: 0.7392 - val_loss: 0.4381 - val_accuracy: 0.8263\n",
            "Epoch 28/200\n",
            "32/32 [==============================] - 0s 3ms/step - loss: 0.4728 - accuracy: 0.7737 - val_loss: 0.4332 - val_accuracy: 0.8323\n",
            "Epoch 29/200\n",
            "32/32 [==============================] - 0s 3ms/step - loss: 0.5373 - accuracy: 0.7308 - val_loss: 0.4347 - val_accuracy: 0.8383\n",
            "Epoch 30/200\n",
            "32/32 [==============================] - 0s 3ms/step - loss: 0.4938 - accuracy: 0.7700 - val_loss: 0.4296 - val_accuracy: 0.8383\n",
            "Epoch 31/200\n",
            "32/32 [==============================] - 0s 3ms/step - loss: 0.5180 - accuracy: 0.7503 - val_loss: 0.4313 - val_accuracy: 0.8383\n",
            "Epoch 32/200\n",
            "32/32 [==============================] - 0s 3ms/step - loss: 0.4898 - accuracy: 0.7594 - val_loss: 0.4263 - val_accuracy: 0.8383\n",
            "Epoch 33/200\n",
            "32/32 [==============================] - 0s 3ms/step - loss: 0.4630 - accuracy: 0.7739 - val_loss: 0.4253 - val_accuracy: 0.8383\n",
            "Epoch 34/200\n",
            "32/32 [==============================] - 0s 3ms/step - loss: 0.4913 - accuracy: 0.7950 - val_loss: 0.4246 - val_accuracy: 0.8383\n",
            "Epoch 35/200\n",
            "32/32 [==============================] - 0s 3ms/step - loss: 0.4909 - accuracy: 0.7847 - val_loss: 0.4216 - val_accuracy: 0.8443\n",
            "Epoch 36/200\n",
            "32/32 [==============================] - 0s 3ms/step - loss: 0.4956 - accuracy: 0.7862 - val_loss: 0.4215 - val_accuracy: 0.8443\n",
            "Epoch 37/200\n",
            "32/32 [==============================] - 0s 3ms/step - loss: 0.4594 - accuracy: 0.7831 - val_loss: 0.4201 - val_accuracy: 0.8443\n",
            "Epoch 38/200\n",
            "32/32 [==============================] - 0s 3ms/step - loss: 0.4826 - accuracy: 0.7438 - val_loss: 0.4144 - val_accuracy: 0.8383\n",
            "Epoch 39/200\n",
            "32/32 [==============================] - 0s 9ms/step - loss: 0.4771 - accuracy: 0.7601 - val_loss: 0.4087 - val_accuracy: 0.8383\n",
            "Epoch 40/200\n",
            "32/32 [==============================] - 0s 3ms/step - loss: 0.4464 - accuracy: 0.8050 - val_loss: 0.4107 - val_accuracy: 0.8503\n",
            "Epoch 41/200\n",
            "32/32 [==============================] - 0s 3ms/step - loss: 0.4733 - accuracy: 0.8147 - val_loss: 0.4161 - val_accuracy: 0.8443\n",
            "Epoch 42/200\n",
            "32/32 [==============================] - 0s 3ms/step - loss: 0.4939 - accuracy: 0.7753 - val_loss: 0.4239 - val_accuracy: 0.8443\n",
            "Epoch 43/200\n",
            "32/32 [==============================] - 0s 4ms/step - loss: 0.4389 - accuracy: 0.8007 - val_loss: 0.4188 - val_accuracy: 0.8443\n",
            "Epoch 44/200\n",
            "32/32 [==============================] - 0s 3ms/step - loss: 0.5150 - accuracy: 0.7861 - val_loss: 0.4198 - val_accuracy: 0.8443\n",
            "Epoch 45/200\n",
            "32/32 [==============================] - 0s 3ms/step - loss: 0.4945 - accuracy: 0.7804 - val_loss: 0.4115 - val_accuracy: 0.8503\n",
            "Epoch 46/200\n",
            "32/32 [==============================] - 0s 3ms/step - loss: 0.4333 - accuracy: 0.8101 - val_loss: 0.4094 - val_accuracy: 0.8563\n",
            "Epoch 47/200\n",
            "32/32 [==============================] - 0s 3ms/step - loss: 0.5089 - accuracy: 0.8020 - val_loss: 0.4186 - val_accuracy: 0.8503\n",
            "Epoch 48/200\n",
            "32/32 [==============================] - 0s 3ms/step - loss: 0.4170 - accuracy: 0.8339 - val_loss: 0.4152 - val_accuracy: 0.8503\n",
            "Epoch 49/200\n",
            "32/32 [==============================] - 0s 3ms/step - loss: 0.4774 - accuracy: 0.7746 - val_loss: 0.4167 - val_accuracy: 0.8563\n",
            "Epoch 50/200\n",
            "32/32 [==============================] - 0s 3ms/step - loss: 0.4495 - accuracy: 0.8077 - val_loss: 0.4143 - val_accuracy: 0.8563\n",
            "Epoch 51/200\n",
            "32/32 [==============================] - 0s 3ms/step - loss: 0.4294 - accuracy: 0.8014 - val_loss: 0.4120 - val_accuracy: 0.8563\n",
            "Epoch 52/200\n",
            "32/32 [==============================] - 0s 3ms/step - loss: 0.4337 - accuracy: 0.8368 - val_loss: 0.4137 - val_accuracy: 0.8563\n",
            "Epoch 53/200\n",
            "32/32 [==============================] - 0s 3ms/step - loss: 0.4293 - accuracy: 0.7762 - val_loss: 0.4121 - val_accuracy: 0.8563\n",
            "Epoch 54/200\n",
            "32/32 [==============================] - 0s 3ms/step - loss: 0.4564 - accuracy: 0.7982 - val_loss: 0.4144 - val_accuracy: 0.8563\n",
            "Epoch 55/200\n",
            "32/32 [==============================] - 0s 3ms/step - loss: 0.4688 - accuracy: 0.7872 - val_loss: 0.4066 - val_accuracy: 0.8563\n",
            "Epoch 56/200\n",
            "32/32 [==============================] - 0s 3ms/step - loss: 0.4330 - accuracy: 0.8082 - val_loss: 0.4050 - val_accuracy: 0.8563\n",
            "Epoch 57/200\n",
            "32/32 [==============================] - 0s 3ms/step - loss: 0.4145 - accuracy: 0.8411 - val_loss: 0.4067 - val_accuracy: 0.8563\n",
            "Epoch 58/200\n",
            "32/32 [==============================] - 0s 3ms/step - loss: 0.4515 - accuracy: 0.7997 - val_loss: 0.4033 - val_accuracy: 0.8563\n",
            "Epoch 59/200\n",
            "32/32 [==============================] - 0s 3ms/step - loss: 0.4369 - accuracy: 0.8260 - val_loss: 0.4021 - val_accuracy: 0.8623\n",
            "Epoch 60/200\n",
            "32/32 [==============================] - 0s 3ms/step - loss: 0.4589 - accuracy: 0.8285 - val_loss: 0.4088 - val_accuracy: 0.8623\n",
            "Epoch 61/200\n",
            "32/32 [==============================] - 0s 3ms/step - loss: 0.4378 - accuracy: 0.7992 - val_loss: 0.4156 - val_accuracy: 0.8563\n",
            "Epoch 62/200\n",
            "32/32 [==============================] - 0s 3ms/step - loss: 0.4105 - accuracy: 0.8434 - val_loss: 0.4172 - val_accuracy: 0.8623\n",
            "Epoch 63/200\n",
            "32/32 [==============================] - 0s 3ms/step - loss: 0.4171 - accuracy: 0.8298 - val_loss: 0.4192 - val_accuracy: 0.8623\n",
            "Epoch 64/200\n",
            "32/32 [==============================] - 0s 3ms/step - loss: 0.4064 - accuracy: 0.8320 - val_loss: 0.4134 - val_accuracy: 0.8623\n",
            "Epoch 65/200\n",
            "32/32 [==============================] - 0s 3ms/step - loss: 0.4308 - accuracy: 0.7897 - val_loss: 0.4107 - val_accuracy: 0.8623\n",
            "Epoch 66/200\n",
            "32/32 [==============================] - 0s 3ms/step - loss: 0.4173 - accuracy: 0.8065 - val_loss: 0.4089 - val_accuracy: 0.8563\n",
            "Epoch 67/200\n",
            "32/32 [==============================] - 0s 3ms/step - loss: 0.4353 - accuracy: 0.8151 - val_loss: 0.4095 - val_accuracy: 0.8623\n",
            "Epoch 68/200\n",
            "32/32 [==============================] - 0s 3ms/step - loss: 0.4486 - accuracy: 0.8221 - val_loss: 0.4079 - val_accuracy: 0.8623\n",
            "Epoch 69/200\n",
            "32/32 [==============================] - 0s 3ms/step - loss: 0.4338 - accuracy: 0.8283 - val_loss: 0.4120 - val_accuracy: 0.8563\n",
            "Epoch 70/200\n",
            "32/32 [==============================] - 0s 3ms/step - loss: 0.3952 - accuracy: 0.8298 - val_loss: 0.4095 - val_accuracy: 0.8563\n",
            "Epoch 71/200\n",
            "32/32 [==============================] - 0s 3ms/step - loss: 0.3870 - accuracy: 0.8498 - val_loss: 0.4094 - val_accuracy: 0.8563\n",
            "Epoch 72/200\n",
            "32/32 [==============================] - 0s 4ms/step - loss: 0.4190 - accuracy: 0.8360 - val_loss: 0.4108 - val_accuracy: 0.8563\n",
            "Epoch 73/200\n",
            "32/32 [==============================] - 0s 3ms/step - loss: 0.4264 - accuracy: 0.8432 - val_loss: 0.4142 - val_accuracy: 0.8563\n",
            "Epoch 74/200\n",
            "32/32 [==============================] - 0s 3ms/step - loss: 0.3956 - accuracy: 0.8503 - val_loss: 0.4173 - val_accuracy: 0.8563\n",
            "Epoch 75/200\n",
            "32/32 [==============================] - 0s 3ms/step - loss: 0.4325 - accuracy: 0.8476 - val_loss: 0.4199 - val_accuracy: 0.8563\n",
            "Epoch 76/200\n",
            "32/32 [==============================] - 0s 3ms/step - loss: 0.3858 - accuracy: 0.8529 - val_loss: 0.4160 - val_accuracy: 0.8563\n",
            "Epoch 77/200\n",
            "32/32 [==============================] - 0s 3ms/step - loss: 0.3828 - accuracy: 0.8395 - val_loss: 0.4116 - val_accuracy: 0.8563\n",
            "Epoch 78/200\n",
            "32/32 [==============================] - 0s 3ms/step - loss: 0.4099 - accuracy: 0.8461 - val_loss: 0.4099 - val_accuracy: 0.8623\n",
            "Epoch 79/200\n",
            "32/32 [==============================] - 0s 3ms/step - loss: 0.4167 - accuracy: 0.8274 - val_loss: 0.4115 - val_accuracy: 0.8623\n",
            "Epoch 80/200\n",
            "32/32 [==============================] - 0s 3ms/step - loss: 0.3774 - accuracy: 0.8206 - val_loss: 0.4122 - val_accuracy: 0.8623\n",
            "Epoch 81/200\n",
            "32/32 [==============================] - 0s 3ms/step - loss: 0.4030 - accuracy: 0.8236 - val_loss: 0.4109 - val_accuracy: 0.8623\n",
            "Epoch 82/200\n",
            "32/32 [==============================] - 0s 3ms/step - loss: 0.3681 - accuracy: 0.8448 - val_loss: 0.4149 - val_accuracy: 0.8623\n",
            "Epoch 83/200\n",
            "32/32 [==============================] - 0s 3ms/step - loss: 0.3882 - accuracy: 0.8367 - val_loss: 0.4210 - val_accuracy: 0.8623\n",
            "Epoch 84/200\n",
            "32/32 [==============================] - 0s 3ms/step - loss: 0.3742 - accuracy: 0.8326 - val_loss: 0.4217 - val_accuracy: 0.8623\n",
            "Epoch 85/200\n",
            "32/32 [==============================] - 0s 3ms/step - loss: 0.3727 - accuracy: 0.8583 - val_loss: 0.4220 - val_accuracy: 0.8623\n",
            "Epoch 86/200\n",
            "32/32 [==============================] - 0s 3ms/step - loss: 0.3812 - accuracy: 0.8336 - val_loss: 0.4240 - val_accuracy: 0.8623\n",
            "Epoch 87/200\n",
            "32/32 [==============================] - 0s 3ms/step - loss: 0.4351 - accuracy: 0.8573 - val_loss: 0.4171 - val_accuracy: 0.8683\n",
            "Epoch 88/200\n",
            "32/32 [==============================] - 0s 3ms/step - loss: 0.3718 - accuracy: 0.8505 - val_loss: 0.4194 - val_accuracy: 0.8623\n",
            "Epoch 89/200\n",
            "32/32 [==============================] - 0s 9ms/step - loss: 0.3641 - accuracy: 0.8441 - val_loss: 0.4155 - val_accuracy: 0.8683\n",
            "Epoch 90/200\n",
            "32/32 [==============================] - 0s 3ms/step - loss: 0.4003 - accuracy: 0.8346 - val_loss: 0.4127 - val_accuracy: 0.8683\n",
            "Epoch 91/200\n",
            "32/32 [==============================] - 0s 3ms/step - loss: 0.4042 - accuracy: 0.8242 - val_loss: 0.4132 - val_accuracy: 0.8623\n",
            "Epoch 92/200\n",
            "32/32 [==============================] - 0s 3ms/step - loss: 0.3749 - accuracy: 0.8500 - val_loss: 0.4152 - val_accuracy: 0.8563\n",
            "Epoch 93/200\n",
            "32/32 [==============================] - 0s 3ms/step - loss: 0.3717 - accuracy: 0.8895 - val_loss: 0.4204 - val_accuracy: 0.8623\n",
            "Epoch 94/200\n",
            "32/32 [==============================] - 0s 3ms/step - loss: 0.4147 - accuracy: 0.8547 - val_loss: 0.4225 - val_accuracy: 0.8623\n",
            "Epoch 95/200\n",
            "32/32 [==============================] - 0s 3ms/step - loss: 0.3753 - accuracy: 0.8384 - val_loss: 0.4233 - val_accuracy: 0.8623\n",
            "Epoch 96/200\n",
            "32/32 [==============================] - 0s 3ms/step - loss: 0.3914 - accuracy: 0.8526 - val_loss: 0.4252 - val_accuracy: 0.8563\n",
            "Epoch 97/200\n",
            "32/32 [==============================] - 0s 3ms/step - loss: 0.3720 - accuracy: 0.8346 - val_loss: 0.4268 - val_accuracy: 0.8623\n",
            "Epoch 98/200\n",
            "32/32 [==============================] - 0s 3ms/step - loss: 0.3760 - accuracy: 0.8649 - val_loss: 0.4216 - val_accuracy: 0.8623\n",
            "Epoch 99/200\n",
            "32/32 [==============================] - 0s 3ms/step - loss: 0.4300 - accuracy: 0.8465 - val_loss: 0.4223 - val_accuracy: 0.8623\n",
            "Epoch 100/200\n",
            "32/32 [==============================] - 0s 4ms/step - loss: 0.3842 - accuracy: 0.8405 - val_loss: 0.4228 - val_accuracy: 0.8623\n",
            "Epoch 101/200\n",
            "32/32 [==============================] - 0s 3ms/step - loss: 0.3663 - accuracy: 0.8618 - val_loss: 0.4210 - val_accuracy: 0.8623\n",
            "Epoch 102/200\n",
            "32/32 [==============================] - 0s 3ms/step - loss: 0.4105 - accuracy: 0.8489 - val_loss: 0.4224 - val_accuracy: 0.8623\n",
            "Epoch 103/200\n",
            "32/32 [==============================] - 0s 3ms/step - loss: 0.4565 - accuracy: 0.8298 - val_loss: 0.4252 - val_accuracy: 0.8623\n",
            "Epoch 104/200\n",
            "32/32 [==============================] - 0s 3ms/step - loss: 0.3565 - accuracy: 0.8414 - val_loss: 0.4304 - val_accuracy: 0.8563\n",
            "Epoch 105/200\n",
            "32/32 [==============================] - 0s 3ms/step - loss: 0.3942 - accuracy: 0.8244 - val_loss: 0.4282 - val_accuracy: 0.8563\n",
            "Epoch 106/200\n",
            "32/32 [==============================] - 0s 4ms/step - loss: 0.3223 - accuracy: 0.8686 - val_loss: 0.4294 - val_accuracy: 0.8563\n",
            "Epoch 107/200\n",
            "32/32 [==============================] - 0s 3ms/step - loss: 0.3846 - accuracy: 0.8457 - val_loss: 0.4346 - val_accuracy: 0.8563\n",
            "Epoch 108/200\n",
            "32/32 [==============================] - 0s 3ms/step - loss: 0.3398 - accuracy: 0.8566 - val_loss: 0.4415 - val_accuracy: 0.8563\n",
            "Epoch 109/200\n",
            "32/32 [==============================] - 0s 3ms/step - loss: 0.3349 - accuracy: 0.8708 - val_loss: 0.4365 - val_accuracy: 0.8563\n",
            "Epoch 110/200\n",
            "32/32 [==============================] - 0s 3ms/step - loss: 0.3976 - accuracy: 0.8262 - val_loss: 0.4321 - val_accuracy: 0.8563\n",
            "Epoch 111/200\n",
            "32/32 [==============================] - 0s 3ms/step - loss: 0.3611 - accuracy: 0.8803 - val_loss: 0.4343 - val_accuracy: 0.8623\n",
            "Epoch 112/200\n",
            "32/32 [==============================] - 0s 3ms/step - loss: 0.4094 - accuracy: 0.8348 - val_loss: 0.4349 - val_accuracy: 0.8623\n",
            "Epoch 113/200\n",
            "32/32 [==============================] - 0s 3ms/step - loss: 0.3681 - accuracy: 0.8379 - val_loss: 0.4364 - val_accuracy: 0.8623\n",
            "Epoch 114/200\n",
            "32/32 [==============================] - 0s 4ms/step - loss: 0.3579 - accuracy: 0.8460 - val_loss: 0.4361 - val_accuracy: 0.8623\n",
            "Epoch 115/200\n",
            "32/32 [==============================] - 0s 3ms/step - loss: 0.3500 - accuracy: 0.8508 - val_loss: 0.4391 - val_accuracy: 0.8623\n",
            "Epoch 116/200\n",
            "32/32 [==============================] - 0s 3ms/step - loss: 0.4034 - accuracy: 0.8614 - val_loss: 0.4402 - val_accuracy: 0.8623\n",
            "Epoch 117/200\n",
            "32/32 [==============================] - 0s 3ms/step - loss: 0.3625 - accuracy: 0.8426 - val_loss: 0.4422 - val_accuracy: 0.8623\n",
            "Epoch 118/200\n",
            "32/32 [==============================] - 0s 3ms/step - loss: 0.3614 - accuracy: 0.8446 - val_loss: 0.4401 - val_accuracy: 0.8623\n",
            "Epoch 119/200\n",
            "32/32 [==============================] - 0s 4ms/step - loss: 0.4123 - accuracy: 0.8376 - val_loss: 0.4386 - val_accuracy: 0.8623\n",
            "Epoch 120/200\n",
            "32/32 [==============================] - 0s 3ms/step - loss: 0.3785 - accuracy: 0.8452 - val_loss: 0.4394 - val_accuracy: 0.8623\n",
            "Epoch 121/200\n",
            "32/32 [==============================] - 0s 3ms/step - loss: 0.3478 - accuracy: 0.8420 - val_loss: 0.4452 - val_accuracy: 0.8563\n",
            "Epoch 122/200\n",
            "32/32 [==============================] - 0s 3ms/step - loss: 0.3957 - accuracy: 0.8700 - val_loss: 0.4492 - val_accuracy: 0.8563\n",
            "Epoch 123/200\n",
            "32/32 [==============================] - 0s 4ms/step - loss: 0.3877 - accuracy: 0.8818 - val_loss: 0.4499 - val_accuracy: 0.8623\n",
            "Epoch 124/200\n",
            "32/32 [==============================] - 0s 4ms/step - loss: 0.3258 - accuracy: 0.8565 - val_loss: 0.4484 - val_accuracy: 0.8563\n",
            "Epoch 125/200\n",
            "32/32 [==============================] - 0s 3ms/step - loss: 0.3740 - accuracy: 0.8716 - val_loss: 0.4424 - val_accuracy: 0.8623\n",
            "Epoch 126/200\n",
            "32/32 [==============================] - 0s 4ms/step - loss: 0.3730 - accuracy: 0.8414 - val_loss: 0.4419 - val_accuracy: 0.8563\n",
            "Epoch 127/200\n",
            "32/32 [==============================] - 0s 3ms/step - loss: 0.3620 - accuracy: 0.8668 - val_loss: 0.4429 - val_accuracy: 0.8563\n",
            "Epoch 128/200\n",
            "32/32 [==============================] - 0s 4ms/step - loss: 0.3620 - accuracy: 0.8482 - val_loss: 0.4452 - val_accuracy: 0.8563\n",
            "Epoch 129/200\n",
            "32/32 [==============================] - 0s 9ms/step - loss: 0.3361 - accuracy: 0.8822 - val_loss: 0.4490 - val_accuracy: 0.8563\n",
            "Epoch 130/200\n",
            "32/32 [==============================] - 0s 3ms/step - loss: 0.3664 - accuracy: 0.8523 - val_loss: 0.4492 - val_accuracy: 0.8563\n",
            "Epoch 131/200\n",
            "32/32 [==============================] - 0s 3ms/step - loss: 0.3277 - accuracy: 0.8659 - val_loss: 0.4558 - val_accuracy: 0.8563\n",
            "Epoch 132/200\n",
            "32/32 [==============================] - 0s 3ms/step - loss: 0.3992 - accuracy: 0.8435 - val_loss: 0.4557 - val_accuracy: 0.8563\n",
            "Epoch 133/200\n",
            "32/32 [==============================] - 0s 3ms/step - loss: 0.3764 - accuracy: 0.8308 - val_loss: 0.4573 - val_accuracy: 0.8563\n",
            "Epoch 134/200\n",
            "32/32 [==============================] - 0s 3ms/step - loss: 0.3255 - accuracy: 0.8669 - val_loss: 0.4617 - val_accuracy: 0.8563\n",
            "Epoch 135/200\n",
            "32/32 [==============================] - 0s 3ms/step - loss: 0.4309 - accuracy: 0.8043 - val_loss: 0.4571 - val_accuracy: 0.8563\n",
            "Epoch 136/200\n",
            "32/32 [==============================] - 0s 3ms/step - loss: 0.3596 - accuracy: 0.8435 - val_loss: 0.4549 - val_accuracy: 0.8563\n",
            "Epoch 137/200\n",
            "32/32 [==============================] - 0s 3ms/step - loss: 0.4304 - accuracy: 0.8189 - val_loss: 0.4559 - val_accuracy: 0.8563\n",
            "Epoch 138/200\n",
            "32/32 [==============================] - 0s 3ms/step - loss: 0.3387 - accuracy: 0.8586 - val_loss: 0.4581 - val_accuracy: 0.8563\n",
            "Epoch 139/200\n",
            "32/32 [==============================] - 0s 3ms/step - loss: 0.3511 - accuracy: 0.8697 - val_loss: 0.4536 - val_accuracy: 0.8563\n",
            "Epoch 140/200\n",
            "32/32 [==============================] - 0s 3ms/step - loss: 0.3779 - accuracy: 0.8746 - val_loss: 0.4456 - val_accuracy: 0.8563\n",
            "Epoch 141/200\n",
            "32/32 [==============================] - 0s 3ms/step - loss: 0.3854 - accuracy: 0.8393 - val_loss: 0.4449 - val_accuracy: 0.8563\n",
            "Epoch 142/200\n",
            "32/32 [==============================] - 0s 3ms/step - loss: 0.3763 - accuracy: 0.8504 - val_loss: 0.4443 - val_accuracy: 0.8563\n",
            "Epoch 143/200\n",
            "32/32 [==============================] - 0s 3ms/step - loss: 0.3275 - accuracy: 0.8663 - val_loss: 0.4384 - val_accuracy: 0.8563\n",
            "Epoch 144/200\n",
            "32/32 [==============================] - 0s 3ms/step - loss: 0.3278 - accuracy: 0.8535 - val_loss: 0.4430 - val_accuracy: 0.8623\n",
            "Epoch 145/200\n",
            "32/32 [==============================] - 0s 3ms/step - loss: 0.3560 - accuracy: 0.8523 - val_loss: 0.4491 - val_accuracy: 0.8563\n",
            "Epoch 146/200\n",
            "32/32 [==============================] - 0s 3ms/step - loss: 0.3396 - accuracy: 0.8607 - val_loss: 0.4493 - val_accuracy: 0.8563\n",
            "Epoch 147/200\n",
            "32/32 [==============================] - 0s 3ms/step - loss: 0.3970 - accuracy: 0.8163 - val_loss: 0.4497 - val_accuracy: 0.8563\n",
            "Epoch 148/200\n",
            "32/32 [==============================] - 0s 3ms/step - loss: 0.3284 - accuracy: 0.8781 - val_loss: 0.4548 - val_accuracy: 0.8563\n",
            "Epoch 149/200\n",
            "32/32 [==============================] - 0s 3ms/step - loss: 0.3837 - accuracy: 0.8607 - val_loss: 0.4514 - val_accuracy: 0.8563\n",
            "Epoch 150/200\n",
            "32/32 [==============================] - 0s 3ms/step - loss: 0.3370 - accuracy: 0.8407 - val_loss: 0.4526 - val_accuracy: 0.8563\n",
            "Epoch 151/200\n",
            "32/32 [==============================] - 0s 3ms/step - loss: 0.3619 - accuracy: 0.8586 - val_loss: 0.4505 - val_accuracy: 0.8563\n",
            "Epoch 152/200\n",
            "32/32 [==============================] - 0s 4ms/step - loss: 0.3186 - accuracy: 0.8429 - val_loss: 0.4545 - val_accuracy: 0.8563\n",
            "Epoch 153/200\n",
            "32/32 [==============================] - 0s 3ms/step - loss: 0.3443 - accuracy: 0.8673 - val_loss: 0.4534 - val_accuracy: 0.8563\n",
            "Epoch 154/200\n",
            "32/32 [==============================] - 0s 3ms/step - loss: 0.4140 - accuracy: 0.8323 - val_loss: 0.4493 - val_accuracy: 0.8563\n",
            "Epoch 155/200\n",
            "32/32 [==============================] - 0s 3ms/step - loss: 0.4024 - accuracy: 0.8190 - val_loss: 0.4534 - val_accuracy: 0.8503\n",
            "Epoch 156/200\n",
            "32/32 [==============================] - 0s 3ms/step - loss: 0.3751 - accuracy: 0.8354 - val_loss: 0.4591 - val_accuracy: 0.8503\n",
            "Epoch 157/200\n",
            "32/32 [==============================] - 0s 3ms/step - loss: 0.3281 - accuracy: 0.8562 - val_loss: 0.4644 - val_accuracy: 0.8563\n",
            "Epoch 158/200\n",
            "32/32 [==============================] - 0s 3ms/step - loss: 0.3864 - accuracy: 0.8338 - val_loss: 0.4686 - val_accuracy: 0.8563\n",
            "Epoch 159/200\n",
            "32/32 [==============================] - 0s 3ms/step - loss: 0.3059 - accuracy: 0.8824 - val_loss: 0.4758 - val_accuracy: 0.8563\n",
            "Epoch 160/200\n",
            "32/32 [==============================] - 0s 4ms/step - loss: 0.3266 - accuracy: 0.8458 - val_loss: 0.4752 - val_accuracy: 0.8563\n",
            "Epoch 161/200\n",
            "32/32 [==============================] - 0s 4ms/step - loss: 0.3506 - accuracy: 0.8563 - val_loss: 0.4768 - val_accuracy: 0.8623\n",
            "Epoch 162/200\n",
            "32/32 [==============================] - 0s 9ms/step - loss: 0.3430 - accuracy: 0.8238 - val_loss: 0.4800 - val_accuracy: 0.8563\n",
            "Epoch 163/200\n",
            "32/32 [==============================] - 0s 3ms/step - loss: 0.3264 - accuracy: 0.8654 - val_loss: 0.4807 - val_accuracy: 0.8563\n",
            "Epoch 164/200\n",
            "32/32 [==============================] - 0s 3ms/step - loss: 0.3344 - accuracy: 0.8694 - val_loss: 0.4811 - val_accuracy: 0.8563\n",
            "Epoch 165/200\n",
            "32/32 [==============================] - 0s 4ms/step - loss: 0.3587 - accuracy: 0.8456 - val_loss: 0.4840 - val_accuracy: 0.8563\n",
            "Epoch 166/200\n",
            "32/32 [==============================] - 0s 3ms/step - loss: 0.3659 - accuracy: 0.8509 - val_loss: 0.4913 - val_accuracy: 0.8563\n",
            "Epoch 167/200\n",
            "32/32 [==============================] - 0s 3ms/step - loss: 0.3655 - accuracy: 0.8442 - val_loss: 0.4791 - val_accuracy: 0.8563\n",
            "Epoch 168/200\n",
            "32/32 [==============================] - 0s 3ms/step - loss: 0.3244 - accuracy: 0.8564 - val_loss: 0.4796 - val_accuracy: 0.8563\n",
            "Epoch 169/200\n",
            "32/32 [==============================] - 0s 3ms/step - loss: 0.3342 - accuracy: 0.8572 - val_loss: 0.4879 - val_accuracy: 0.8563\n",
            "Epoch 170/200\n",
            "32/32 [==============================] - 0s 3ms/step - loss: 0.3895 - accuracy: 0.8259 - val_loss: 0.4882 - val_accuracy: 0.8503\n",
            "Epoch 171/200\n",
            "32/32 [==============================] - 0s 4ms/step - loss: 0.3722 - accuracy: 0.8488 - val_loss: 0.4873 - val_accuracy: 0.8503\n",
            "Epoch 172/200\n",
            "32/32 [==============================] - 0s 4ms/step - loss: 0.3256 - accuracy: 0.8602 - val_loss: 0.4924 - val_accuracy: 0.8503\n",
            "Epoch 173/200\n",
            "32/32 [==============================] - 0s 3ms/step - loss: 0.3717 - accuracy: 0.8615 - val_loss: 0.4904 - val_accuracy: 0.8503\n",
            "Epoch 174/200\n",
            "32/32 [==============================] - 0s 3ms/step - loss: 0.3554 - accuracy: 0.8642 - val_loss: 0.4875 - val_accuracy: 0.8503\n",
            "Epoch 175/200\n",
            "32/32 [==============================] - 0s 3ms/step - loss: 0.3488 - accuracy: 0.8632 - val_loss: 0.4934 - val_accuracy: 0.8503\n",
            "Epoch 176/200\n",
            "32/32 [==============================] - 0s 4ms/step - loss: 0.3200 - accuracy: 0.8622 - val_loss: 0.5023 - val_accuracy: 0.8503\n",
            "Epoch 177/200\n",
            "32/32 [==============================] - 0s 3ms/step - loss: 0.3409 - accuracy: 0.8740 - val_loss: 0.5003 - val_accuracy: 0.8563\n",
            "Epoch 178/200\n",
            "32/32 [==============================] - 0s 3ms/step - loss: 0.3453 - accuracy: 0.8461 - val_loss: 0.4973 - val_accuracy: 0.8503\n",
            "Epoch 179/200\n",
            "32/32 [==============================] - 0s 4ms/step - loss: 0.3344 - accuracy: 0.8649 - val_loss: 0.5026 - val_accuracy: 0.8563\n",
            "Epoch 180/200\n",
            "32/32 [==============================] - 0s 3ms/step - loss: 0.3649 - accuracy: 0.8481 - val_loss: 0.4922 - val_accuracy: 0.8563\n",
            "Epoch 181/200\n",
            "32/32 [==============================] - 0s 4ms/step - loss: 0.3218 - accuracy: 0.8782 - val_loss: 0.5037 - val_accuracy: 0.8563\n",
            "Epoch 182/200\n",
            "32/32 [==============================] - 0s 3ms/step - loss: 0.3410 - accuracy: 0.8498 - val_loss: 0.5141 - val_accuracy: 0.8563\n",
            "Epoch 183/200\n",
            "32/32 [==============================] - 0s 4ms/step - loss: 0.3431 - accuracy: 0.8441 - val_loss: 0.5135 - val_accuracy: 0.8563\n",
            "Epoch 184/200\n",
            "32/32 [==============================] - 0s 3ms/step - loss: 0.3209 - accuracy: 0.8809 - val_loss: 0.5033 - val_accuracy: 0.8563\n",
            "Epoch 185/200\n",
            "32/32 [==============================] - 0s 3ms/step - loss: 0.3481 - accuracy: 0.8421 - val_loss: 0.5140 - val_accuracy: 0.8563\n",
            "Epoch 186/200\n",
            "32/32 [==============================] - 0s 4ms/step - loss: 0.3508 - accuracy: 0.8539 - val_loss: 0.5103 - val_accuracy: 0.8503\n",
            "Epoch 187/200\n",
            "32/32 [==============================] - 0s 3ms/step - loss: 0.3280 - accuracy: 0.8415 - val_loss: 0.5089 - val_accuracy: 0.8503\n",
            "Epoch 188/200\n",
            "32/32 [==============================] - 0s 3ms/step - loss: 0.3387 - accuracy: 0.8645 - val_loss: 0.5083 - val_accuracy: 0.8503\n",
            "Epoch 189/200\n",
            "32/32 [==============================] - 0s 3ms/step - loss: 0.3237 - accuracy: 0.8836 - val_loss: 0.5120 - val_accuracy: 0.8563\n",
            "Epoch 190/200\n",
            "32/32 [==============================] - 0s 4ms/step - loss: 0.3320 - accuracy: 0.8650 - val_loss: 0.5160 - val_accuracy: 0.8563\n",
            "Epoch 191/200\n",
            "32/32 [==============================] - 0s 3ms/step - loss: 0.2765 - accuracy: 0.8871 - val_loss: 0.5259 - val_accuracy: 0.8563\n",
            "Epoch 192/200\n",
            "32/32 [==============================] - 0s 3ms/step - loss: 0.3629 - accuracy: 0.8549 - val_loss: 0.5246 - val_accuracy: 0.8563\n",
            "Epoch 193/200\n",
            "32/32 [==============================] - 0s 3ms/step - loss: 0.3169 - accuracy: 0.8698 - val_loss: 0.5379 - val_accuracy: 0.8563\n",
            "Epoch 194/200\n",
            "32/32 [==============================] - 0s 3ms/step - loss: 0.2928 - accuracy: 0.8881 - val_loss: 0.5431 - val_accuracy: 0.8563\n",
            "Epoch 195/200\n",
            "32/32 [==============================] - 0s 3ms/step - loss: 0.3514 - accuracy: 0.8529 - val_loss: 0.5404 - val_accuracy: 0.8563\n",
            "Epoch 196/200\n",
            "32/32 [==============================] - 0s 4ms/step - loss: 0.3584 - accuracy: 0.8473 - val_loss: 0.5317 - val_accuracy: 0.8503\n",
            "Epoch 197/200\n",
            "32/32 [==============================] - 0s 4ms/step - loss: 0.3530 - accuracy: 0.8397 - val_loss: 0.5269 - val_accuracy: 0.8443\n",
            "Epoch 198/200\n",
            "32/32 [==============================] - 0s 3ms/step - loss: 0.3517 - accuracy: 0.8266 - val_loss: 0.5299 - val_accuracy: 0.8563\n",
            "Epoch 199/200\n",
            "32/32 [==============================] - 0s 4ms/step - loss: 0.3511 - accuracy: 0.8518 - val_loss: 0.5287 - val_accuracy: 0.8503\n",
            "Epoch 200/200\n",
            "32/32 [==============================] - 0s 4ms/step - loss: 0.3714 - accuracy: 0.8528 - val_loss: 0.5200 - val_accuracy: 0.8563\n"
          ],
          "name": "stdout"
        }
      ]
    },
    {
      "cell_type": "code",
      "metadata": {
        "colab": {
          "base_uri": "https://localhost:8080/"
        },
        "id": "taEhttvdY4cz",
        "outputId": "461299b4-06fc-46c1-97f8-a8611013db90"
      },
      "source": [
        "model.evaluate(X_test, y_test)"
      ],
      "execution_count": null,
      "outputs": [
        {
          "output_type": "stream",
          "text": [
            "7/7 [==============================] - 0s 2ms/step - loss: 0.5811 - accuracy: 0.8027\n"
          ],
          "name": "stdout"
        },
        {
          "output_type": "execute_result",
          "data": {
            "text/plain": [
              "[0.5811254978179932, 0.8026905655860901]"
            ]
          },
          "metadata": {
            "tags": []
          },
          "execution_count": 343
        }
      ]
    },
    {
      "cell_type": "code",
      "metadata": {
        "colab": {
          "base_uri": "https://localhost:8080/",
          "height": 283
        },
        "id": "VYAu0xb9ZEbh",
        "outputId": "5f87b5a5-0fd2-407d-c9f7-13a4be70c2b1"
      },
      "source": [
        "import matplotlib.pyplot as plt\r\n",
        "plt.figure(figsize=(12, 4))\r\n",
        "\r\n",
        "plt.subplot(1, 2, 1)\r\n",
        "plt.plot(history.history['loss'], 'b-', label='loss')\r\n",
        "plt.plot(history.history['val_loss'], 'r--', label='val_loss')\r\n",
        "plt.xlabel('Epoch')\r\n",
        "plt.legend()\r\n",
        "\r\n",
        "plt.subplot(1, 2, 2)\r\n",
        "plt.plot(history.history['accuracy'], 'g-', label='accuracy')\r\n",
        "plt.plot(history.history['val_accuracy'], 'k--', label='val_accuracy')\r\n",
        "plt.xlabel('Epoch')\r\n",
        "plt.ylim(0.7, 1)\r\n",
        "plt.legend()\r\n",
        "\r\n",
        "plt.show()"
      ],
      "execution_count": null,
      "outputs": [
        {
          "output_type": "display_data",
          "data": {
            "image/png": "[encoded data removed]",
            "text/plain": [
              "<Figure size 864x288 with 2 Axes>"
            ]
          },
          "metadata": {
            "tags": [],
            "needs_background": "light"
          }
        }
      ]
    },
    {
      "cell_type": "code",
      "metadata": {
        "id": "Dm6BU3ZgZRr1"
      },
      "source": [
        "from sklearn.ensemble import RandomForestClassifier"
      ],
      "execution_count": null,
      "outputs": []
    },
    {
      "cell_type": "code",
      "metadata": {
        "id": "lZ0ZEy7vboOh"
      },
      "source": [
        "forest = RandomForestClassifier()"
      ],
      "execution_count": null,
      "outputs": []
    },
    {
      "cell_type": "code",
      "metadata": {
        "colab": {
          "base_uri": "https://localhost:8080/"
        },
        "id": "qwsyf5vGmjEj",
        "outputId": "bb795d4d-15b1-45c3-bd82-fb45b0b40a9f"
      },
      "source": [
        "forest.fit(X_train, y_train)"
      ],
      "execution_count": null,
      "outputs": [
        {
          "output_type": "execute_result",
          "data": {
            "text/plain": [
              "RandomForestClassifier(bootstrap=True, ccp_alpha=0.0, class_weight=None,\n",
              "                       criterion='gini', max_depth=None, max_features='auto',\n",
              "                       max_leaf_nodes=None, max_samples=None,\n",
              "                       min_impurity_decrease=0.0, min_impurity_split=None,\n",
              "                       min_samples_leaf=1, min_samples_split=2,\n",
              "                       min_weight_fraction_leaf=0.0, n_estimators=100,\n",
              "                       n_jobs=None, oob_score=False, random_state=None,\n",
              "                       verbose=0, warm_start=False)"
            ]
          },
          "metadata": {
            "tags": []
          },
          "execution_count": 393
        }
      ]
    },
    {
      "cell_type": "code",
      "metadata": {
        "colab": {
          "base_uri": "https://localhost:8080/"
        },
        "id": "vzT6E-DHmnbe",
        "outputId": "6a75c08f-d1b3-4016-b3a4-925ed83c0381"
      },
      "source": [
        "print(forest.score(X_train, y_train))\r\n",
        "print(forest.score(X_test, y_test))"
      ],
      "execution_count": null,
      "outputs": [
        {
          "output_type": "stream",
          "text": [
            "0.9191616766467066\n",
            "0.7937219730941704\n"
          ],
          "name": "stdout"
        }
      ]
    },
    {
      "cell_type": "code",
      "metadata": {
        "id": "5tEPQPxhmxSO"
      },
      "source": [
        ""
      ],
      "execution_count": null,
      "outputs": []
    }
  ]
}