{
  "nbformat": 4,
  "nbformat_minor": 0,
  "metadata": {
    "colab": {
      "name": "titanic_4.ipynb",
      "provenance": [],
      "collapsed_sections": [],
      "mount_file_id": "1fFyMz99WQNJCnhqLoUC9IM061pcW8Q6I",
      "authorship_tag": "ABX9TyMc6eIHkdNfEoatIXKb2Atd",
      "include_colab_link": true
    },
    "kernelspec": {
      "name": "python3",
      "display_name": "Python 3"
    }
  },
  "cells": [
    {
      "cell_type": "markdown",
      "metadata": {
        "id": "view-in-github",
        "colab_type": "text"
      },
      "source": [
        "<a href=\"https://colab.research.google.com/github/LEE-SANG-HYUK/Titanic/blob/main/titanic_4.ipynb\" target=\"_parent\"><img src=\"https://colab.research.google.com/assets/colab-badge.svg\" alt=\"Open In Colab\"/></a>"
      ]
    },
    {
      "cell_type": "code",
      "metadata": {
        "colab": {
          "base_uri": "https://localhost:8080/",
          "height": 16
        },
        "id": "8Tf_oTbtM1PG",
        "outputId": "33c5c15e-c1a0-42fe-a2bd-fc52681813ea"
      },
      "source": [
        "import pandas as pd\r\n",
        "import numpy as np\r\n",
        "import re\r\n",
        "import sklearn\r\n",
        "import xgboost as xgb\r\n",
        "import seaborn as sns\r\n",
        "import matplotlib.pyplot as plt\r\n",
        "%matplotlib inline\r\n",
        "import tensorflow as tf\r\n",
        "\r\n",
        "import plotly.offline as py\r\n",
        "py.init_notebook_mode(connected=True)\r\n",
        "import plotly.graph_objs as go\r\n",
        "import plotly.tools as tls\r\n",
        "\r\n",
        "import warnings\r\n",
        "warnings.filterwarnings('ignore')\r\n",
        "\r\n",
        "# Going to use these 5 base models for the stacking\r\n",
        "from sklearn.ensemble import (RandomForestClassifier, AdaBoostClassifier, \r\n",
        "                              GradientBoostingClassifier, ExtraTreesClassifier)\r\n",
        "from sklearn.svm import SVC"
      ],
      "execution_count": 1,
      "outputs": [
        {
          "output_type": "display_data",
          "data": {
            "text/html": [
              "        <script type=\"text/javascript\">\n",
              "        window.PlotlyConfig = {MathJaxConfig: 'local'};\n",
              "        if (window.MathJax) {MathJax.Hub.Config({SVG: {font: \"STIX-Web\"}});}\n",
              "        if (typeof require !== 'undefined') {\n",
              "        require.undef(\"plotly\");\n",
              "        requirejs.config({\n",
              "            paths: {\n",
              "                'plotly': ['https://cdn.plot.ly/plotly-latest.min']\n",
              "            }\n",
              "        });\n",
              "        require(['plotly'], function(Plotly) {\n",
              "            window._Plotly = Plotly;\n",
              "        });\n",
              "        }\n",
              "        </script>\n",
              "        "
            ]
          },
          "metadata": {
            "tags": []
          }
        }
      ]
    },
    {
      "cell_type": "code",
      "metadata": {
        "id": "T16rsJvtM4DL"
      },
      "source": [
        "train = pd.read_csv(\"/content/drive/MyDrive/train.csv\")\r\n",
        "submit = pd.read_csv(\"/content/drive/MyDrive/test.csv\")"
      ],
      "execution_count": 2,
      "outputs": []
    },
    {
      "cell_type": "code",
      "metadata": {
        "colab": {
          "base_uri": "https://localhost:8080/",
          "height": 197
        },
        "id": "tW3SGdSXM7Ek",
        "outputId": "478dae5b-1de6-431e-cab1-d68345885f2c"
      },
      "source": [
        "train.head()"
      ],
      "execution_count": 3,
      "outputs": [
        {
          "output_type": "execute_result",
          "data": {
            "text/html": [
              "<div>\n",
              "<style scoped>\n",
              "    .dataframe tbody tr th:only-of-type {\n",
              "        vertical-align: middle;\n",
              "    }\n",
              "\n",
              "    .dataframe tbody tr th {\n",
              "        vertical-align: top;\n",
              "    }\n",
              "\n",
              "    .dataframe thead th {\n",
              "        text-align: right;\n",
              "    }\n",
              "</style>\n",
              "<table border=\"1\" class=\"dataframe\">\n",
              "  <thead>\n",
              "    <tr style=\"text-align: right;\">\n",
              "      <th></th>\n",
              "      <th>PassengerId</th>\n",
              "      <th>Survived</th>\n",
              "      <th>Pclass</th>\n",
              "      <th>Name</th>\n",
              "      <th>Sex</th>\n",
              "      <th>Age</th>\n",
              "      <th>SibSp</th>\n",
              "      <th>Parch</th>\n",
              "      <th>Ticket</th>\n",
              "      <th>Fare</th>\n",
              "      <th>Cabin</th>\n",
              "      <th>Embarked</th>\n",
              "    </tr>\n",
              "  </thead>\n",
              "  <tbody>\n",
              "    <tr>\n",
              "      <th>0</th>\n",
              "      <td>1</td>\n",
              "      <td>0</td>\n",
              "      <td>3</td>\n",
              "      <td>Braund, Mr. Owen Harris</td>\n",
              "      <td>male</td>\n",
              "      <td>22.0</td>\n",
              "      <td>1</td>\n",
              "      <td>0</td>\n",
              "      <td>A/5 21171</td>\n",
              "      <td>7.2500</td>\n",
              "      <td>NaN</td>\n",
              "      <td>S</td>\n",
              "    </tr>\n",
              "    <tr>\n",
              "      <th>1</th>\n",
              "      <td>2</td>\n",
              "      <td>1</td>\n",
              "      <td>1</td>\n",
              "      <td>Cumings, Mrs. John Bradley (Florence Briggs Th...</td>\n",
              "      <td>female</td>\n",
              "      <td>38.0</td>\n",
              "      <td>1</td>\n",
              "      <td>0</td>\n",
              "      <td>PC 17599</td>\n",
              "      <td>71.2833</td>\n",
              "      <td>C85</td>\n",
              "      <td>C</td>\n",
              "    </tr>\n",
              "    <tr>\n",
              "      <th>2</th>\n",
              "      <td>3</td>\n",
              "      <td>1</td>\n",
              "      <td>3</td>\n",
              "      <td>Heikkinen, Miss. Laina</td>\n",
              "      <td>female</td>\n",
              "      <td>26.0</td>\n",
              "      <td>0</td>\n",
              "      <td>0</td>\n",
              "      <td>STON/O2. 3101282</td>\n",
              "      <td>7.9250</td>\n",
              "      <td>NaN</td>\n",
              "      <td>S</td>\n",
              "    </tr>\n",
              "    <tr>\n",
              "      <th>3</th>\n",
              "      <td>4</td>\n",
              "      <td>1</td>\n",
              "      <td>1</td>\n",
              "      <td>Futrelle, Mrs. Jacques Heath (Lily May Peel)</td>\n",
              "      <td>female</td>\n",
              "      <td>35.0</td>\n",
              "      <td>1</td>\n",
              "      <td>0</td>\n",
              "      <td>113803</td>\n",
              "      <td>53.1000</td>\n",
              "      <td>C123</td>\n",
              "      <td>S</td>\n",
              "    </tr>\n",
              "    <tr>\n",
              "      <th>4</th>\n",
              "      <td>5</td>\n",
              "      <td>0</td>\n",
              "      <td>3</td>\n",
              "      <td>Allen, Mr. William Henry</td>\n",
              "      <td>male</td>\n",
              "      <td>35.0</td>\n",
              "      <td>0</td>\n",
              "      <td>0</td>\n",
              "      <td>373450</td>\n",
              "      <td>8.0500</td>\n",
              "      <td>NaN</td>\n",
              "      <td>S</td>\n",
              "    </tr>\n",
              "  </tbody>\n",
              "</table>\n",
              "</div>"
            ],
            "text/plain": [
              "   PassengerId  Survived  Pclass  ...     Fare Cabin  Embarked\n",
              "0            1         0       3  ...   7.2500   NaN         S\n",
              "1            2         1       1  ...  71.2833   C85         C\n",
              "2            3         1       3  ...   7.9250   NaN         S\n",
              "3            4         1       1  ...  53.1000  C123         S\n",
              "4            5         0       3  ...   8.0500   NaN         S\n",
              "\n",
              "[5 rows x 12 columns]"
            ]
          },
          "metadata": {
            "tags": []
          },
          "execution_count": 3
        }
      ]
    },
    {
      "cell_type": "code",
      "metadata": {
        "id": "_XC4ti2ENehX"
      },
      "source": [
        "full_data = [train, submit]"
      ],
      "execution_count": 4,
      "outputs": []
    },
    {
      "cell_type": "code",
      "metadata": {
        "id": "E4M3jilFPdp7"
      },
      "source": [
        "titanic = pd.concat([train, submit], axis=0).reset_index(drop=True)"
      ],
      "execution_count": 5,
      "outputs": []
    },
    {
      "cell_type": "markdown",
      "metadata": {
        "id": "ALVhpRgXOKX7"
      },
      "source": [
        "1.Age"
      ]
    },
    {
      "cell_type": "code",
      "metadata": {
        "id": "_g_Id3xQM9kY"
      },
      "source": [
        "titanic['Age'] = titanic.groupby(['Pclass', 'Sex'])['Age'].apply(lambda x: x.fillna(x.median()))"
      ],
      "execution_count": 6,
      "outputs": []
    },
    {
      "cell_type": "code",
      "metadata": {
        "id": "NEV7qVqXQVRw"
      },
      "source": [
        "titanic['Age'] = pd.cut(titanic['Age'].astype(int), 5)"
      ],
      "execution_count": 7,
      "outputs": []
    },
    {
      "cell_type": "code",
      "metadata": {
        "colab": {
          "base_uri": "https://localhost:8080/"
        },
        "id": "RCFYCxvwRGTW",
        "outputId": "cb2ae2a8-0e4f-4fa6-af16-3aa304726ea7"
      },
      "source": [
        "titanic['Age'].value_counts()"
      ],
      "execution_count": 8,
      "outputs": [
        {
          "output_type": "execute_result",
          "data": {
            "text/plain": [
              "(16.0, 32.0]     752\n",
              "(32.0, 48.0]     304\n",
              "(-0.08, 16.0]    134\n",
              "(48.0, 64.0]     106\n",
              "(64.0, 80.0]      13\n",
              "Name: Age, dtype: int64"
            ]
          },
          "metadata": {
            "tags": []
          },
          "execution_count": 8
        }
      ]
    },
    {
      "cell_type": "markdown",
      "metadata": {
        "id": "P6YluRzVOm0m"
      },
      "source": [
        "2.Fare"
      ]
    },
    {
      "cell_type": "code",
      "metadata": {
        "colab": {
          "base_uri": "https://localhost:8080/",
          "height": 77
        },
        "id": "ZrESxRkkOn8Y",
        "outputId": "c77f99ab-99dc-425f-bd3e-74b0cbb2a84e"
      },
      "source": [
        "titanic.loc[titanic['Fare'].isnull()]"
      ],
      "execution_count": 9,
      "outputs": [
        {
          "output_type": "execute_result",
          "data": {
            "text/html": [
              "<div>\n",
              "<style scoped>\n",
              "    .dataframe tbody tr th:only-of-type {\n",
              "        vertical-align: middle;\n",
              "    }\n",
              "\n",
              "    .dataframe tbody tr th {\n",
              "        vertical-align: top;\n",
              "    }\n",
              "\n",
              "    .dataframe thead th {\n",
              "        text-align: right;\n",
              "    }\n",
              "</style>\n",
              "<table border=\"1\" class=\"dataframe\">\n",
              "  <thead>\n",
              "    <tr style=\"text-align: right;\">\n",
              "      <th></th>\n",
              "      <th>PassengerId</th>\n",
              "      <th>Survived</th>\n",
              "      <th>Pclass</th>\n",
              "      <th>Name</th>\n",
              "      <th>Sex</th>\n",
              "      <th>Age</th>\n",
              "      <th>SibSp</th>\n",
              "      <th>Parch</th>\n",
              "      <th>Ticket</th>\n",
              "      <th>Fare</th>\n",
              "      <th>Cabin</th>\n",
              "      <th>Embarked</th>\n",
              "    </tr>\n",
              "  </thead>\n",
              "  <tbody>\n",
              "    <tr>\n",
              "      <th>1043</th>\n",
              "      <td>1044</td>\n",
              "      <td>NaN</td>\n",
              "      <td>3</td>\n",
              "      <td>Storey, Mr. Thomas</td>\n",
              "      <td>male</td>\n",
              "      <td>(48.0, 64.0]</td>\n",
              "      <td>0</td>\n",
              "      <td>0</td>\n",
              "      <td>3701</td>\n",
              "      <td>NaN</td>\n",
              "      <td>NaN</td>\n",
              "      <td>S</td>\n",
              "    </tr>\n",
              "  </tbody>\n",
              "</table>\n",
              "</div>"
            ],
            "text/plain": [
              "      PassengerId  Survived  Pclass  ... Fare Cabin Embarked\n",
              "1043         1044       NaN       3  ...  NaN   NaN        S\n",
              "\n",
              "[1 rows x 12 columns]"
            ]
          },
          "metadata": {
            "tags": []
          },
          "execution_count": 9
        }
      ]
    },
    {
      "cell_type": "code",
      "metadata": {
        "colab": {
          "base_uri": "https://localhost:8080/"
        },
        "id": "PkBqMGsBOtiJ",
        "outputId": "54682de7-5b9e-4101-e02c-cad1641a8896"
      },
      "source": [
        "Thomas = titanic.loc[(titanic['Pclass'] == 3) & (titanic['SibSp'] == 0) & (titanic['Embarked'] == 'S')]['Fare'].median()\r\n",
        "print(Thomas)"
      ],
      "execution_count": 10,
      "outputs": [
        {
          "output_type": "stream",
          "text": [
            "7.925\n"
          ],
          "name": "stdout"
        }
      ]
    },
    {
      "cell_type": "code",
      "metadata": {
        "id": "rzo5I3HAPkW9"
      },
      "source": [
        "titanic.loc[titanic['Fare'].isnull(), 'Fare'] = Thomas"
      ],
      "execution_count": 11,
      "outputs": []
    },
    {
      "cell_type": "code",
      "metadata": {
        "id": "ve_ugGS_PvmP"
      },
      "source": [
        "titanic['Fare'] = pd.qcut(titanic['Fare'], 5)"
      ],
      "execution_count": 12,
      "outputs": []
    },
    {
      "cell_type": "code",
      "metadata": {
        "colab": {
          "base_uri": "https://localhost:8080/"
        },
        "id": "5D-Jjgs0Rx_k",
        "outputId": "07517764-e34f-4527-cbf6-803075645d45"
      },
      "source": [
        "titanic['Fare'].value_counts()"
      ],
      "execution_count": 13,
      "outputs": [
        {
          "output_type": "execute_result",
          "data": {
            "text/plain": [
              "(-0.001, 7.854]      275\n",
              "(21.558, 41.579]     265\n",
              "(41.579, 512.329]    259\n",
              "(10.5, 21.558]       255\n",
              "(7.854, 10.5]        255\n",
              "Name: Fare, dtype: int64"
            ]
          },
          "metadata": {
            "tags": []
          },
          "execution_count": 13
        }
      ]
    },
    {
      "cell_type": "markdown",
      "metadata": {
        "id": "iPPcUGkXT2ys"
      },
      "source": [
        "3.Cabin"
      ]
    },
    {
      "cell_type": "code",
      "metadata": {
        "id": "KEdaq98AR4bE",
        "colab": {
          "base_uri": "https://localhost:8080/"
        },
        "outputId": "7b994704-706e-439b-e7f5-7b9c5d798ca8"
      },
      "source": [
        "for s in titanic['Cabin']:\r\n",
        "  if pd.notnull(s):\r\n",
        "    print(s[0])"
      ],
      "execution_count": 14,
      "outputs": [
        {
          "output_type": "stream",
          "text": [
            "C\n",
            "C\n",
            "E\n",
            "G\n",
            "C\n",
            "D\n",
            "A\n",
            "C\n",
            "B\n",
            "D\n",
            "B\n",
            "C\n",
            "B\n",
            "C\n",
            "F\n",
            "F\n",
            "C\n",
            "E\n",
            "A\n",
            "D\n",
            "D\n",
            "C\n",
            "B\n",
            "E\n",
            "D\n",
            "F\n",
            "D\n",
            "C\n",
            "B\n",
            "F\n",
            "C\n",
            "E\n",
            "B\n",
            "A\n",
            "C\n",
            "F\n",
            "A\n",
            "F\n",
            "B\n",
            "B\n",
            "G\n",
            "A\n",
            "D\n",
            "D\n",
            "C\n",
            "C\n",
            "C\n",
            "D\n",
            "G\n",
            "C\n",
            "B\n",
            "E\n",
            "B\n",
            "C\n",
            "C\n",
            "C\n",
            "D\n",
            "A\n",
            "B\n",
            "D\n",
            "C\n",
            "C\n",
            "B\n",
            "E\n",
            "C\n",
            "C\n",
            "E\n",
            "C\n",
            "B\n",
            "C\n",
            "E\n",
            "C\n",
            "D\n",
            "B\n",
            "C\n",
            "C\n",
            "C\n",
            "E\n",
            "T\n",
            "F\n",
            "C\n",
            "F\n",
            "C\n",
            "E\n",
            "D\n",
            "B\n",
            "E\n",
            "C\n",
            "B\n",
            "D\n",
            "G\n",
            "C\n",
            "E\n",
            "C\n",
            "E\n",
            "B\n",
            "C\n",
            "A\n",
            "C\n",
            "C\n",
            "C\n",
            "E\n",
            "D\n",
            "E\n",
            "E\n",
            "D\n",
            "A\n",
            "B\n",
            "C\n",
            "B\n",
            "C\n",
            "D\n",
            "C\n",
            "B\n",
            "C\n",
            "E\n",
            "D\n",
            "F\n",
            "B\n",
            "B\n",
            "C\n",
            "B\n",
            "B\n",
            "B\n",
            "C\n",
            "C\n",
            "A\n",
            "E\n",
            "C\n",
            "E\n",
            "E\n",
            "C\n",
            "A\n",
            "E\n",
            "B\n",
            "D\n",
            "A\n",
            "C\n",
            "F\n",
            "D\n",
            "D\n",
            "D\n",
            "A\n",
            "B\n",
            "B\n",
            "D\n",
            "A\n",
            "D\n",
            "E\n",
            "C\n",
            "B\n",
            "B\n",
            "D\n",
            "B\n",
            "B\n",
            "C\n",
            "F\n",
            "C\n",
            "E\n",
            "E\n",
            "C\n",
            "C\n",
            "C\n",
            "F\n",
            "C\n",
            "E\n",
            "E\n",
            "B\n",
            "B\n",
            "D\n",
            "C\n",
            "B\n",
            "B\n",
            "D\n",
            "E\n",
            "B\n",
            "B\n",
            "D\n",
            "E\n",
            "F\n",
            "B\n",
            "B\n",
            "D\n",
            "B\n",
            "D\n",
            "B\n",
            "A\n",
            "E\n",
            "B\n",
            "B\n",
            "E\n",
            "B\n",
            "E\n",
            "C\n",
            "C\n",
            "D\n",
            "E\n",
            "D\n",
            "A\n",
            "D\n",
            "B\n",
            "C\n",
            "B\n",
            "C\n",
            "B\n",
            "E\n",
            "B\n",
            "B\n",
            "A\n",
            "C\n",
            "D\n",
            "D\n",
            "A\n",
            "D\n",
            "C\n",
            "C\n",
            "F\n",
            "B\n",
            "B\n",
            "C\n",
            "C\n",
            "D\n",
            "C\n",
            "C\n",
            "C\n",
            "C\n",
            "B\n",
            "C\n",
            "C\n",
            "F\n",
            "A\n",
            "C\n",
            "G\n",
            "C\n",
            "C\n",
            "C\n",
            "B\n",
            "E\n",
            "C\n",
            "C\n",
            "D\n",
            "B\n",
            "C\n",
            "F\n",
            "E\n",
            "E\n",
            "D\n",
            "B\n",
            "E\n",
            "C\n",
            "A\n",
            "B\n",
            "C\n",
            "F\n",
            "C\n",
            "D\n",
            "C\n",
            "E\n",
            "D\n",
            "C\n",
            "C\n",
            "C\n",
            "B\n",
            "F\n",
            "A\n",
            "D\n",
            "B\n",
            "C\n",
            "B\n",
            "C\n",
            "B\n",
            "F\n",
            "F\n",
            "F\n",
            "A\n",
            "C\n",
            "B\n",
            "D\n",
            "E\n",
            "C\n",
            "E\n",
            "E\n",
            "B\n",
            "A\n",
            "C\n",
            "B\n",
            "D\n",
            "C\n",
            "B\n",
            "C\n",
            "D\n",
            "D\n",
            "C\n",
            "C\n",
            "C\n"
          ],
          "name": "stdout"
        }
      ]
    },
    {
      "cell_type": "code",
      "metadata": {
        "id": "6_kUvrC0T6di",
        "colab": {
          "base_uri": "https://localhost:8080/"
        },
        "outputId": "d6621a71-21c3-4624-8fe1-b11f90905422"
      },
      "source": [
        "print(titanic['Cabin'].unique())"
      ],
      "execution_count": 15,
      "outputs": [
        {
          "output_type": "stream",
          "text": [
            "[nan 'C85' 'C123' 'E46' 'G6' 'C103' 'D56' 'A6' 'C23 C25 C27' 'B78' 'D33'\n",
            " 'B30' 'C52' 'B28' 'C83' 'F33' 'F G73' 'E31' 'A5' 'D10 D12' 'D26' 'C110'\n",
            " 'B58 B60' 'E101' 'F E69' 'D47' 'B86' 'F2' 'C2' 'E33' 'B19' 'A7' 'C49'\n",
            " 'F4' 'A32' 'B4' 'B80' 'A31' 'D36' 'D15' 'C93' 'C78' 'D35' 'C87' 'B77'\n",
            " 'E67' 'B94' 'C125' 'C99' 'C118' 'D7' 'A19' 'B49' 'D' 'C22 C26' 'C106'\n",
            " 'C65' 'E36' 'C54' 'B57 B59 B63 B66' 'C7' 'E34' 'C32' 'B18' 'C124' 'C91'\n",
            " 'E40' 'T' 'C128' 'D37' 'B35' 'E50' 'C82' 'B96 B98' 'E10' 'E44' 'A34'\n",
            " 'C104' 'C111' 'C92' 'E38' 'D21' 'E12' 'E63' 'A14' 'B37' 'C30' 'D20' 'B79'\n",
            " 'E25' 'D46' 'B73' 'C95' 'B38' 'B39' 'B22' 'C86' 'C70' 'A16' 'C101' 'C68'\n",
            " 'A10' 'E68' 'B41' 'A20' 'D19' 'D50' 'D9' 'A23' 'B50' 'A26' 'D48' 'E58'\n",
            " 'C126' 'B71' 'B51 B53 B55' 'D49' 'B5' 'B20' 'F G63' 'C62 C64' 'E24' 'C90'\n",
            " 'C45' 'E8' 'B101' 'D45' 'C46' 'D30' 'E121' 'D11' 'E77' 'F38' 'B3' 'D6'\n",
            " 'B82 B84' 'D17' 'A36' 'B102' 'B69' 'E49' 'C47' 'D28' 'E17' 'A24' 'C50'\n",
            " 'B42' 'C148' 'B45' 'B36' 'A21' 'D34' 'A9' 'C31' 'B61' 'C53' 'D43' 'C130'\n",
            " 'C132' 'C55 C57' 'C116' 'F' 'A29' 'C6' 'C28' 'C51' 'C97' 'D22' 'B10'\n",
            " 'E45' 'E52' 'A11' 'B11' 'C80' 'C89' 'F E46' 'B26' 'F E57' 'A18' 'E60'\n",
            " 'E39 E41' 'B52 B54 B56' 'C39' 'B24' 'D40' 'D38' 'C105']\n"
          ],
          "name": "stdout"
        }
      ]
    },
    {
      "cell_type": "code",
      "metadata": {
        "colab": {
          "base_uri": "https://localhost:8080/"
        },
        "id": "Q1nD8cqvT95u",
        "outputId": "73dee567-eb79-4520-e6d3-2835090c39b4"
      },
      "source": [
        "print(titanic['Cabin'].nunique())\r\n",
        "print(titanic['Cabin'].isnull().sum())"
      ],
      "execution_count": 16,
      "outputs": [
        {
          "output_type": "stream",
          "text": [
            "186\n",
            "1014\n"
          ],
          "name": "stdout"
        }
      ]
    },
    {
      "cell_type": "code",
      "metadata": {
        "id": "m0-HbefIUyAQ"
      },
      "source": [
        "titanic['Deck'] = titanic['Cabin'].apply(lambda s: s[0] if pd.notnull(s) else 'M')"
      ],
      "execution_count": 17,
      "outputs": []
    },
    {
      "cell_type": "code",
      "metadata": {
        "colab": {
          "base_uri": "https://localhost:8080/"
        },
        "id": "pD1n-8CPVkfn",
        "outputId": "c294780c-8820-486e-d4c1-bf87da38e33d"
      },
      "source": [
        "titanic[titanic['Pclass']==1]['Deck'].value_counts()"
      ],
      "execution_count": 18,
      "outputs": [
        {
          "output_type": "execute_result",
          "data": {
            "text/plain": [
              "C    94\n",
              "M    67\n",
              "B    65\n",
              "D    40\n",
              "E    34\n",
              "A    22\n",
              "T     1\n",
              "Name: Deck, dtype: int64"
            ]
          },
          "metadata": {
            "tags": []
          },
          "execution_count": 18
        }
      ]
    },
    {
      "cell_type": "code",
      "metadata": {
        "colab": {
          "base_uri": "https://localhost:8080/"
        },
        "id": "dd_od-DgVvNZ",
        "outputId": "8685bc60-ab9b-4cdc-ed94-9c0fe008196f"
      },
      "source": [
        "titanic[titanic['Pclass']==2]['Deck'].value_counts()"
      ],
      "execution_count": 19,
      "outputs": [
        {
          "output_type": "execute_result",
          "data": {
            "text/plain": [
              "M    254\n",
              "F     13\n",
              "D      6\n",
              "E      4\n",
              "Name: Deck, dtype: int64"
            ]
          },
          "metadata": {
            "tags": []
          },
          "execution_count": 19
        }
      ]
    },
    {
      "cell_type": "code",
      "metadata": {
        "colab": {
          "base_uri": "https://localhost:8080/"
        },
        "id": "PpJ1JcydV2ro",
        "outputId": "74c1c872-2006-4c68-9abf-3fd4e42cb71a"
      },
      "source": [
        "titanic[titanic['Pclass']==3]['Deck'].value_counts()"
      ],
      "execution_count": 20,
      "outputs": [
        {
          "output_type": "execute_result",
          "data": {
            "text/plain": [
              "M    693\n",
              "F      8\n",
              "G      5\n",
              "E      3\n",
              "Name: Deck, dtype: int64"
            ]
          },
          "metadata": {
            "tags": []
          },
          "execution_count": 20
        }
      ]
    },
    {
      "cell_type": "code",
      "metadata": {
        "colab": {
          "base_uri": "https://localhost:8080/",
          "height": 77
        },
        "id": "CxUQT8f9V3zj",
        "outputId": "ba5a121b-c575-4948-f422-d97b416548f2"
      },
      "source": [
        "titanic[titanic['Deck'] == 'T']"
      ],
      "execution_count": 21,
      "outputs": [
        {
          "output_type": "execute_result",
          "data": {
            "text/html": [
              "<div>\n",
              "<style scoped>\n",
              "    .dataframe tbody tr th:only-of-type {\n",
              "        vertical-align: middle;\n",
              "    }\n",
              "\n",
              "    .dataframe tbody tr th {\n",
              "        vertical-align: top;\n",
              "    }\n",
              "\n",
              "    .dataframe thead th {\n",
              "        text-align: right;\n",
              "    }\n",
              "</style>\n",
              "<table border=\"1\" class=\"dataframe\">\n",
              "  <thead>\n",
              "    <tr style=\"text-align: right;\">\n",
              "      <th></th>\n",
              "      <th>PassengerId</th>\n",
              "      <th>Survived</th>\n",
              "      <th>Pclass</th>\n",
              "      <th>Name</th>\n",
              "      <th>Sex</th>\n",
              "      <th>Age</th>\n",
              "      <th>SibSp</th>\n",
              "      <th>Parch</th>\n",
              "      <th>Ticket</th>\n",
              "      <th>Fare</th>\n",
              "      <th>Cabin</th>\n",
              "      <th>Embarked</th>\n",
              "      <th>Deck</th>\n",
              "    </tr>\n",
              "  </thead>\n",
              "  <tbody>\n",
              "    <tr>\n",
              "      <th>339</th>\n",
              "      <td>340</td>\n",
              "      <td>0.0</td>\n",
              "      <td>1</td>\n",
              "      <td>Blackwell, Mr. Stephen Weart</td>\n",
              "      <td>male</td>\n",
              "      <td>(32.0, 48.0]</td>\n",
              "      <td>0</td>\n",
              "      <td>0</td>\n",
              "      <td>113784</td>\n",
              "      <td>(21.558, 41.579]</td>\n",
              "      <td>T</td>\n",
              "      <td>S</td>\n",
              "      <td>T</td>\n",
              "    </tr>\n",
              "  </tbody>\n",
              "</table>\n",
              "</div>"
            ],
            "text/plain": [
              "     PassengerId  Survived  Pclass  ... Cabin Embarked Deck\n",
              "339          340       0.0       1  ...     T        S    T\n",
              "\n",
              "[1 rows x 13 columns]"
            ]
          },
          "metadata": {
            "tags": []
          },
          "execution_count": 21
        }
      ]
    },
    {
      "cell_type": "code",
      "metadata": {
        "id": "S6hECbhPV7lt"
      },
      "source": [
        "idx = titanic[titanic['Deck'] == 'T'].index\r\n",
        "titanic.loc[idx, 'Deck'] = 'A'"
      ],
      "execution_count": 22,
      "outputs": []
    },
    {
      "cell_type": "code",
      "metadata": {
        "colab": {
          "base_uri": "https://localhost:8080/"
        },
        "id": "3a-L6FWaWDte",
        "outputId": "9efd495c-f388-470a-b2cf-fcd2f9f50462"
      },
      "source": [
        "titanic['Deck'] = titanic['Deck'].replace(['A', 'B', 'C'], 'ABC')\r\n",
        "titanic['Deck'] = titanic['Deck'].replace(['D', 'E'], 'DE')\r\n",
        "titanic['Deck'] = titanic['Deck'].replace(['F', 'G'], 'FG')\r\n",
        "\r\n",
        "titanic['Deck'].value_counts()"
      ],
      "execution_count": 23,
      "outputs": [
        {
          "output_type": "execute_result",
          "data": {
            "text/plain": [
              "M      1014\n",
              "ABC     182\n",
              "DE       87\n",
              "FG       26\n",
              "Name: Deck, dtype: int64"
            ]
          },
          "metadata": {
            "tags": []
          },
          "execution_count": 23
        }
      ]
    },
    {
      "cell_type": "code",
      "metadata": {
        "id": "wFgb0ka1Yr2y"
      },
      "source": [
        "titanic.loc[(titanic['Pclass']==1) & (titanic['Deck']=='M'), 'Deck'] = 'ABC'\r\n",
        "titanic.loc[(titanic['Pclass']==2) & (titanic['Deck']=='M'), 'Deck'] = 'DE'\r\n",
        "titanic.loc[(titanic['Pclass']==3) & (titanic['Deck']=='M'), 'Deck'] = 'FG'"
      ],
      "execution_count": 24,
      "outputs": []
    },
    {
      "cell_type": "markdown",
      "metadata": {
        "id": "IVYA2lX2I-v5"
      },
      "source": [
        "familysz"
      ]
    },
    {
      "cell_type": "code",
      "metadata": {
        "id": "Mx_E8l6aI-E5"
      },
      "source": [
        "titanic['Family_size'] = titanic['SibSp'] + titanic['Parch'] + 1"
      ],
      "execution_count": 25,
      "outputs": []
    },
    {
      "cell_type": "code",
      "metadata": {
        "colab": {
          "base_uri": "https://localhost:8080/"
        },
        "id": "t7P9WyUEJCPE",
        "outputId": "a17d3511-44d4-4ab8-cf18-c412ec1c869e"
      },
      "source": [
        "titanic['Family_size'].value_counts()"
      ],
      "execution_count": 26,
      "outputs": [
        {
          "output_type": "execute_result",
          "data": {
            "text/plain": [
              "1     790\n",
              "2     235\n",
              "3     159\n",
              "4      43\n",
              "6      25\n",
              "5      22\n",
              "7      16\n",
              "11     11\n",
              "8       8\n",
              "Name: Family_size, dtype: int64"
            ]
          },
          "metadata": {
            "tags": []
          },
          "execution_count": 26
        }
      ]
    },
    {
      "cell_type": "code",
      "metadata": {
        "id": "cpKyPJcnJCMz"
      },
      "source": [
        ""
      ],
      "execution_count": 26,
      "outputs": []
    },
    {
      "cell_type": "code",
      "metadata": {
        "id": "d8Ik_DC7JCCV"
      },
      "source": [
        ""
      ],
      "execution_count": 26,
      "outputs": []
    },
    {
      "cell_type": "code",
      "metadata": {
        "id": "2HRq8Xc2JB-K"
      },
      "source": [
        ""
      ],
      "execution_count": 26,
      "outputs": []
    },
    {
      "cell_type": "code",
      "metadata": {
        "id": "Lc_Pej4tW_io"
      },
      "source": [
        "from sklearn.model_selection import train_test_split"
      ],
      "execution_count": 27,
      "outputs": []
    },
    {
      "cell_type": "code",
      "metadata": {
        "colab": {
          "base_uri": "https://localhost:8080/",
          "height": 406
        },
        "id": "LuLqBkepj5Ln",
        "outputId": "da241533-b57e-47f2-fdd3-2053f013c0d9"
      },
      "source": [
        "titanic"
      ],
      "execution_count": 28,
      "outputs": [
        {
          "output_type": "execute_result",
          "data": {
            "text/html": [
              "<div>\n",
              "<style scoped>\n",
              "    .dataframe tbody tr th:only-of-type {\n",
              "        vertical-align: middle;\n",
              "    }\n",
              "\n",
              "    .dataframe tbody tr th {\n",
              "        vertical-align: top;\n",
              "    }\n",
              "\n",
              "    .dataframe thead th {\n",
              "        text-align: right;\n",
              "    }\n",
              "</style>\n",
              "<table border=\"1\" class=\"dataframe\">\n",
              "  <thead>\n",
              "    <tr style=\"text-align: right;\">\n",
              "      <th></th>\n",
              "      <th>PassengerId</th>\n",
              "      <th>Survived</th>\n",
              "      <th>Pclass</th>\n",
              "      <th>Name</th>\n",
              "      <th>Sex</th>\n",
              "      <th>Age</th>\n",
              "      <th>SibSp</th>\n",
              "      <th>Parch</th>\n",
              "      <th>Ticket</th>\n",
              "      <th>Fare</th>\n",
              "      <th>Cabin</th>\n",
              "      <th>Embarked</th>\n",
              "      <th>Deck</th>\n",
              "      <th>Family_size</th>\n",
              "    </tr>\n",
              "  </thead>\n",
              "  <tbody>\n",
              "    <tr>\n",
              "      <th>0</th>\n",
              "      <td>1</td>\n",
              "      <td>0.0</td>\n",
              "      <td>3</td>\n",
              "      <td>Braund, Mr. Owen Harris</td>\n",
              "      <td>male</td>\n",
              "      <td>(16.0, 32.0]</td>\n",
              "      <td>1</td>\n",
              "      <td>0</td>\n",
              "      <td>A/5 21171</td>\n",
              "      <td>(-0.001, 7.854]</td>\n",
              "      <td>NaN</td>\n",
              "      <td>S</td>\n",
              "      <td>FG</td>\n",
              "      <td>2</td>\n",
              "    </tr>\n",
              "    <tr>\n",
              "      <th>1</th>\n",
              "      <td>2</td>\n",
              "      <td>1.0</td>\n",
              "      <td>1</td>\n",
              "      <td>Cumings, Mrs. John Bradley (Florence Briggs Th...</td>\n",
              "      <td>female</td>\n",
              "      <td>(32.0, 48.0]</td>\n",
              "      <td>1</td>\n",
              "      <td>0</td>\n",
              "      <td>PC 17599</td>\n",
              "      <td>(41.579, 512.329]</td>\n",
              "      <td>C85</td>\n",
              "      <td>C</td>\n",
              "      <td>ABC</td>\n",
              "      <td>2</td>\n",
              "    </tr>\n",
              "    <tr>\n",
              "      <th>2</th>\n",
              "      <td>3</td>\n",
              "      <td>1.0</td>\n",
              "      <td>3</td>\n",
              "      <td>Heikkinen, Miss. Laina</td>\n",
              "      <td>female</td>\n",
              "      <td>(16.0, 32.0]</td>\n",
              "      <td>0</td>\n",
              "      <td>0</td>\n",
              "      <td>STON/O2. 3101282</td>\n",
              "      <td>(7.854, 10.5]</td>\n",
              "      <td>NaN</td>\n",
              "      <td>S</td>\n",
              "      <td>FG</td>\n",
              "      <td>1</td>\n",
              "    </tr>\n",
              "    <tr>\n",
              "      <th>3</th>\n",
              "      <td>4</td>\n",
              "      <td>1.0</td>\n",
              "      <td>1</td>\n",
              "      <td>Futrelle, Mrs. Jacques Heath (Lily May Peel)</td>\n",
              "      <td>female</td>\n",
              "      <td>(32.0, 48.0]</td>\n",
              "      <td>1</td>\n",
              "      <td>0</td>\n",
              "      <td>113803</td>\n",
              "      <td>(41.579, 512.329]</td>\n",
              "      <td>C123</td>\n",
              "      <td>S</td>\n",
              "      <td>ABC</td>\n",
              "      <td>2</td>\n",
              "    </tr>\n",
              "    <tr>\n",
              "      <th>4</th>\n",
              "      <td>5</td>\n",
              "      <td>0.0</td>\n",
              "      <td>3</td>\n",
              "      <td>Allen, Mr. William Henry</td>\n",
              "      <td>male</td>\n",
              "      <td>(32.0, 48.0]</td>\n",
              "      <td>0</td>\n",
              "      <td>0</td>\n",
              "      <td>373450</td>\n",
              "      <td>(7.854, 10.5]</td>\n",
              "      <td>NaN</td>\n",
              "      <td>S</td>\n",
              "      <td>FG</td>\n",
              "      <td>1</td>\n",
              "    </tr>\n",
              "    <tr>\n",
              "      <th>...</th>\n",
              "      <td>...</td>\n",
              "      <td>...</td>\n",
              "      <td>...</td>\n",
              "      <td>...</td>\n",
              "      <td>...</td>\n",
              "      <td>...</td>\n",
              "      <td>...</td>\n",
              "      <td>...</td>\n",
              "      <td>...</td>\n",
              "      <td>...</td>\n",
              "      <td>...</td>\n",
              "      <td>...</td>\n",
              "      <td>...</td>\n",
              "      <td>...</td>\n",
              "    </tr>\n",
              "    <tr>\n",
              "      <th>1304</th>\n",
              "      <td>1305</td>\n",
              "      <td>NaN</td>\n",
              "      <td>3</td>\n",
              "      <td>Spector, Mr. Woolf</td>\n",
              "      <td>male</td>\n",
              "      <td>(16.0, 32.0]</td>\n",
              "      <td>0</td>\n",
              "      <td>0</td>\n",
              "      <td>A.5. 3236</td>\n",
              "      <td>(7.854, 10.5]</td>\n",
              "      <td>NaN</td>\n",
              "      <td>S</td>\n",
              "      <td>FG</td>\n",
              "      <td>1</td>\n",
              "    </tr>\n",
              "    <tr>\n",
              "      <th>1305</th>\n",
              "      <td>1306</td>\n",
              "      <td>NaN</td>\n",
              "      <td>1</td>\n",
              "      <td>Oliva y Ocana, Dona. Fermina</td>\n",
              "      <td>female</td>\n",
              "      <td>(32.0, 48.0]</td>\n",
              "      <td>0</td>\n",
              "      <td>0</td>\n",
              "      <td>PC 17758</td>\n",
              "      <td>(41.579, 512.329]</td>\n",
              "      <td>C105</td>\n",
              "      <td>C</td>\n",
              "      <td>ABC</td>\n",
              "      <td>1</td>\n",
              "    </tr>\n",
              "    <tr>\n",
              "      <th>1306</th>\n",
              "      <td>1307</td>\n",
              "      <td>NaN</td>\n",
              "      <td>3</td>\n",
              "      <td>Saether, Mr. Simon Sivertsen</td>\n",
              "      <td>male</td>\n",
              "      <td>(32.0, 48.0]</td>\n",
              "      <td>0</td>\n",
              "      <td>0</td>\n",
              "      <td>SOTON/O.Q. 3101262</td>\n",
              "      <td>(-0.001, 7.854]</td>\n",
              "      <td>NaN</td>\n",
              "      <td>S</td>\n",
              "      <td>FG</td>\n",
              "      <td>1</td>\n",
              "    </tr>\n",
              "    <tr>\n",
              "      <th>1307</th>\n",
              "      <td>1308</td>\n",
              "      <td>NaN</td>\n",
              "      <td>3</td>\n",
              "      <td>Ware, Mr. Frederick</td>\n",
              "      <td>male</td>\n",
              "      <td>(16.0, 32.0]</td>\n",
              "      <td>0</td>\n",
              "      <td>0</td>\n",
              "      <td>359309</td>\n",
              "      <td>(7.854, 10.5]</td>\n",
              "      <td>NaN</td>\n",
              "      <td>S</td>\n",
              "      <td>FG</td>\n",
              "      <td>1</td>\n",
              "    </tr>\n",
              "    <tr>\n",
              "      <th>1308</th>\n",
              "      <td>1309</td>\n",
              "      <td>NaN</td>\n",
              "      <td>3</td>\n",
              "      <td>Peter, Master. Michael J</td>\n",
              "      <td>male</td>\n",
              "      <td>(16.0, 32.0]</td>\n",
              "      <td>1</td>\n",
              "      <td>1</td>\n",
              "      <td>2668</td>\n",
              "      <td>(21.558, 41.579]</td>\n",
              "      <td>NaN</td>\n",
              "      <td>C</td>\n",
              "      <td>FG</td>\n",
              "      <td>3</td>\n",
              "    </tr>\n",
              "  </tbody>\n",
              "</table>\n",
              "<p>1309 rows × 14 columns</p>\n",
              "</div>"
            ],
            "text/plain": [
              "      PassengerId  Survived  Pclass  ... Embarked Deck Family_size\n",
              "0               1       0.0       3  ...        S   FG           2\n",
              "1               2       1.0       1  ...        C  ABC           2\n",
              "2               3       1.0       3  ...        S   FG           1\n",
              "3               4       1.0       1  ...        S  ABC           2\n",
              "4               5       0.0       3  ...        S   FG           1\n",
              "...           ...       ...     ...  ...      ...  ...         ...\n",
              "1304         1305       NaN       3  ...        S   FG           1\n",
              "1305         1306       NaN       1  ...        C  ABC           1\n",
              "1306         1307       NaN       3  ...        S   FG           1\n",
              "1307         1308       NaN       3  ...        S   FG           1\n",
              "1308         1309       NaN       3  ...        C   FG           3\n",
              "\n",
              "[1309 rows x 14 columns]"
            ]
          },
          "metadata": {
            "tags": []
          },
          "execution_count": 28
        }
      ]
    },
    {
      "cell_type": "code",
      "metadata": {
        "id": "S7JyjZaDk1ds"
      },
      "source": [
        "titanic['Sex'] = titanic['Sex'].astype('category')\r\n",
        "titanic['Sex'] = titanic['Sex'].cat.codes"
      ],
      "execution_count": 29,
      "outputs": []
    },
    {
      "cell_type": "code",
      "metadata": {
        "id": "w4-znQPglfyX"
      },
      "source": [
        "titanic['Fare'] = titanic['Fare'].astype('category')\r\n",
        "titanic['Fare'] = titanic['Fare'].cat.codes"
      ],
      "execution_count": 30,
      "outputs": []
    },
    {
      "cell_type": "code",
      "metadata": {
        "id": "3aju1ws4lpDz"
      },
      "source": [
        "titanic['Age'] = titanic['Age'].astype('category')\r\n",
        "titanic['Age'] = titanic['Age'].cat.codes"
      ],
      "execution_count": 31,
      "outputs": []
    },
    {
      "cell_type": "code",
      "metadata": {
        "colab": {
          "base_uri": "https://localhost:8080/"
        },
        "id": "l3n3PEJ0mMnB",
        "outputId": "dbeef243-53a1-4dc6-b002-7ce96cbd5bfc"
      },
      "source": [
        "titanic['Embarked'].value_counts()"
      ],
      "execution_count": 32,
      "outputs": [
        {
          "output_type": "execute_result",
          "data": {
            "text/plain": [
              "S    914\n",
              "C    270\n",
              "Q    123\n",
              "Name: Embarked, dtype: int64"
            ]
          },
          "metadata": {
            "tags": []
          },
          "execution_count": 32
        }
      ]
    },
    {
      "cell_type": "code",
      "metadata": {
        "id": "ud8Ki7AjmV5g"
      },
      "source": [
        "titanic['Embarked'] = titanic['Embarked'].fillna('S')"
      ],
      "execution_count": 33,
      "outputs": []
    },
    {
      "cell_type": "code",
      "metadata": {
        "id": "72zfNJl7l6CR"
      },
      "source": [
        "titanic['Embarked'] = titanic['Embarked'].astype('category')\r\n",
        "titanic['Embarked'] = titanic['Embarked'].cat.codes"
      ],
      "execution_count": 34,
      "outputs": []
    },
    {
      "cell_type": "code",
      "metadata": {
        "id": "HLx62rLXnSXA"
      },
      "source": [
        "titanic['Deck'] = titanic['Deck'].astype('category')\r\n",
        "titanic['Deck'] = titanic['Deck'].cat.codes"
      ],
      "execution_count": 35,
      "outputs": []
    },
    {
      "cell_type": "code",
      "metadata": {
        "id": "oFRB0aRNnd4C"
      },
      "source": [
        "titanic = titanic.drop(['PassengerId', 'Ticket', 'Cabin', 'Name'], axis=1)"
      ],
      "execution_count": 36,
      "outputs": []
    },
    {
      "cell_type": "code",
      "metadata": {
        "id": "sTyRK8E0kNeV"
      },
      "source": [
        "train = titanic.loc[:890]\r\n",
        "test = titanic.loc[891:].drop(['Survived'], axis=1)"
      ],
      "execution_count": 58,
      "outputs": []
    },
    {
      "cell_type": "code",
      "metadata": {
        "colab": {
          "base_uri": "https://localhost:8080/",
          "height": 406
        },
        "id": "8mJM6p17kga6",
        "outputId": "3fed04c0-aced-419b-884c-9661c2150add"
      },
      "source": [
        "train"
      ],
      "execution_count": 59,
      "outputs": [
        {
          "output_type": "execute_result",
          "data": {
            "text/html": [
              "<div>\n",
              "<style scoped>\n",
              "    .dataframe tbody tr th:only-of-type {\n",
              "        vertical-align: middle;\n",
              "    }\n",
              "\n",
              "    .dataframe tbody tr th {\n",
              "        vertical-align: top;\n",
              "    }\n",
              "\n",
              "    .dataframe thead th {\n",
              "        text-align: right;\n",
              "    }\n",
              "</style>\n",
              "<table border=\"1\" class=\"dataframe\">\n",
              "  <thead>\n",
              "    <tr style=\"text-align: right;\">\n",
              "      <th></th>\n",
              "      <th>Survived</th>\n",
              "      <th>Pclass</th>\n",
              "      <th>Sex</th>\n",
              "      <th>Age</th>\n",
              "      <th>SibSp</th>\n",
              "      <th>Parch</th>\n",
              "      <th>Fare</th>\n",
              "      <th>Embarked</th>\n",
              "      <th>Deck</th>\n",
              "      <th>Family_size</th>\n",
              "    </tr>\n",
              "  </thead>\n",
              "  <tbody>\n",
              "    <tr>\n",
              "      <th>0</th>\n",
              "      <td>0.0</td>\n",
              "      <td>3</td>\n",
              "      <td>1</td>\n",
              "      <td>1</td>\n",
              "      <td>1</td>\n",
              "      <td>0</td>\n",
              "      <td>0</td>\n",
              "      <td>2</td>\n",
              "      <td>2</td>\n",
              "      <td>2</td>\n",
              "    </tr>\n",
              "    <tr>\n",
              "      <th>1</th>\n",
              "      <td>1.0</td>\n",
              "      <td>1</td>\n",
              "      <td>0</td>\n",
              "      <td>2</td>\n",
              "      <td>1</td>\n",
              "      <td>0</td>\n",
              "      <td>4</td>\n",
              "      <td>0</td>\n",
              "      <td>0</td>\n",
              "      <td>2</td>\n",
              "    </tr>\n",
              "    <tr>\n",
              "      <th>2</th>\n",
              "      <td>1.0</td>\n",
              "      <td>3</td>\n",
              "      <td>0</td>\n",
              "      <td>1</td>\n",
              "      <td>0</td>\n",
              "      <td>0</td>\n",
              "      <td>1</td>\n",
              "      <td>2</td>\n",
              "      <td>2</td>\n",
              "      <td>1</td>\n",
              "    </tr>\n",
              "    <tr>\n",
              "      <th>3</th>\n",
              "      <td>1.0</td>\n",
              "      <td>1</td>\n",
              "      <td>0</td>\n",
              "      <td>2</td>\n",
              "      <td>1</td>\n",
              "      <td>0</td>\n",
              "      <td>4</td>\n",
              "      <td>2</td>\n",
              "      <td>0</td>\n",
              "      <td>2</td>\n",
              "    </tr>\n",
              "    <tr>\n",
              "      <th>4</th>\n",
              "      <td>0.0</td>\n",
              "      <td>3</td>\n",
              "      <td>1</td>\n",
              "      <td>2</td>\n",
              "      <td>0</td>\n",
              "      <td>0</td>\n",
              "      <td>1</td>\n",
              "      <td>2</td>\n",
              "      <td>2</td>\n",
              "      <td>1</td>\n",
              "    </tr>\n",
              "    <tr>\n",
              "      <th>...</th>\n",
              "      <td>...</td>\n",
              "      <td>...</td>\n",
              "      <td>...</td>\n",
              "      <td>...</td>\n",
              "      <td>...</td>\n",
              "      <td>...</td>\n",
              "      <td>...</td>\n",
              "      <td>...</td>\n",
              "      <td>...</td>\n",
              "      <td>...</td>\n",
              "    </tr>\n",
              "    <tr>\n",
              "      <th>886</th>\n",
              "      <td>0.0</td>\n",
              "      <td>2</td>\n",
              "      <td>1</td>\n",
              "      <td>1</td>\n",
              "      <td>0</td>\n",
              "      <td>0</td>\n",
              "      <td>2</td>\n",
              "      <td>2</td>\n",
              "      <td>1</td>\n",
              "      <td>1</td>\n",
              "    </tr>\n",
              "    <tr>\n",
              "      <th>887</th>\n",
              "      <td>1.0</td>\n",
              "      <td>1</td>\n",
              "      <td>0</td>\n",
              "      <td>1</td>\n",
              "      <td>0</td>\n",
              "      <td>0</td>\n",
              "      <td>3</td>\n",
              "      <td>2</td>\n",
              "      <td>0</td>\n",
              "      <td>1</td>\n",
              "    </tr>\n",
              "    <tr>\n",
              "      <th>888</th>\n",
              "      <td>0.0</td>\n",
              "      <td>3</td>\n",
              "      <td>0</td>\n",
              "      <td>1</td>\n",
              "      <td>1</td>\n",
              "      <td>2</td>\n",
              "      <td>3</td>\n",
              "      <td>2</td>\n",
              "      <td>2</td>\n",
              "      <td>4</td>\n",
              "    </tr>\n",
              "    <tr>\n",
              "      <th>889</th>\n",
              "      <td>1.0</td>\n",
              "      <td>1</td>\n",
              "      <td>1</td>\n",
              "      <td>1</td>\n",
              "      <td>0</td>\n",
              "      <td>0</td>\n",
              "      <td>3</td>\n",
              "      <td>0</td>\n",
              "      <td>0</td>\n",
              "      <td>1</td>\n",
              "    </tr>\n",
              "    <tr>\n",
              "      <th>890</th>\n",
              "      <td>0.0</td>\n",
              "      <td>3</td>\n",
              "      <td>1</td>\n",
              "      <td>1</td>\n",
              "      <td>0</td>\n",
              "      <td>0</td>\n",
              "      <td>0</td>\n",
              "      <td>1</td>\n",
              "      <td>2</td>\n",
              "      <td>1</td>\n",
              "    </tr>\n",
              "  </tbody>\n",
              "</table>\n",
              "<p>891 rows × 10 columns</p>\n",
              "</div>"
            ],
            "text/plain": [
              "     Survived  Pclass  Sex  Age  ...  Fare  Embarked  Deck  Family_size\n",
              "0         0.0       3    1    1  ...     0         2     2            2\n",
              "1         1.0       1    0    2  ...     4         0     0            2\n",
              "2         1.0       3    0    1  ...     1         2     2            1\n",
              "3         1.0       1    0    2  ...     4         2     0            2\n",
              "4         0.0       3    1    2  ...     1         2     2            1\n",
              "..        ...     ...  ...  ...  ...   ...       ...   ...          ...\n",
              "886       0.0       2    1    1  ...     2         2     1            1\n",
              "887       1.0       1    0    1  ...     3         2     0            1\n",
              "888       0.0       3    0    1  ...     3         2     2            4\n",
              "889       1.0       1    1    1  ...     3         0     0            1\n",
              "890       0.0       3    1    1  ...     0         1     2            1\n",
              "\n",
              "[891 rows x 10 columns]"
            ]
          },
          "metadata": {
            "tags": []
          },
          "execution_count": 59
        }
      ]
    },
    {
      "cell_type": "code",
      "metadata": {
        "colab": {
          "base_uri": "https://localhost:8080/",
          "height": 406
        },
        "id": "Yio0Md8HkmWq",
        "outputId": "d90e7ef8-76a1-4368-d7c8-cc347418fdef"
      },
      "source": [
        "test"
      ],
      "execution_count": 60,
      "outputs": [
        {
          "output_type": "execute_result",
          "data": {
            "text/html": [
              "<div>\n",
              "<style scoped>\n",
              "    .dataframe tbody tr th:only-of-type {\n",
              "        vertical-align: middle;\n",
              "    }\n",
              "\n",
              "    .dataframe tbody tr th {\n",
              "        vertical-align: top;\n",
              "    }\n",
              "\n",
              "    .dataframe thead th {\n",
              "        text-align: right;\n",
              "    }\n",
              "</style>\n",
              "<table border=\"1\" class=\"dataframe\">\n",
              "  <thead>\n",
              "    <tr style=\"text-align: right;\">\n",
              "      <th></th>\n",
              "      <th>Pclass</th>\n",
              "      <th>Sex</th>\n",
              "      <th>Age</th>\n",
              "      <th>SibSp</th>\n",
              "      <th>Parch</th>\n",
              "      <th>Fare</th>\n",
              "      <th>Embarked</th>\n",
              "      <th>Deck</th>\n",
              "      <th>Family_size</th>\n",
              "    </tr>\n",
              "  </thead>\n",
              "  <tbody>\n",
              "    <tr>\n",
              "      <th>891</th>\n",
              "      <td>3</td>\n",
              "      <td>1</td>\n",
              "      <td>2</td>\n",
              "      <td>0</td>\n",
              "      <td>0</td>\n",
              "      <td>0</td>\n",
              "      <td>1</td>\n",
              "      <td>2</td>\n",
              "      <td>1</td>\n",
              "    </tr>\n",
              "    <tr>\n",
              "      <th>892</th>\n",
              "      <td>3</td>\n",
              "      <td>0</td>\n",
              "      <td>2</td>\n",
              "      <td>1</td>\n",
              "      <td>0</td>\n",
              "      <td>0</td>\n",
              "      <td>2</td>\n",
              "      <td>2</td>\n",
              "      <td>2</td>\n",
              "    </tr>\n",
              "    <tr>\n",
              "      <th>893</th>\n",
              "      <td>2</td>\n",
              "      <td>1</td>\n",
              "      <td>3</td>\n",
              "      <td>0</td>\n",
              "      <td>0</td>\n",
              "      <td>1</td>\n",
              "      <td>1</td>\n",
              "      <td>1</td>\n",
              "      <td>1</td>\n",
              "    </tr>\n",
              "    <tr>\n",
              "      <th>894</th>\n",
              "      <td>3</td>\n",
              "      <td>1</td>\n",
              "      <td>1</td>\n",
              "      <td>0</td>\n",
              "      <td>0</td>\n",
              "      <td>1</td>\n",
              "      <td>2</td>\n",
              "      <td>2</td>\n",
              "      <td>1</td>\n",
              "    </tr>\n",
              "    <tr>\n",
              "      <th>895</th>\n",
              "      <td>3</td>\n",
              "      <td>0</td>\n",
              "      <td>1</td>\n",
              "      <td>1</td>\n",
              "      <td>1</td>\n",
              "      <td>2</td>\n",
              "      <td>2</td>\n",
              "      <td>2</td>\n",
              "      <td>3</td>\n",
              "    </tr>\n",
              "    <tr>\n",
              "      <th>...</th>\n",
              "      <td>...</td>\n",
              "      <td>...</td>\n",
              "      <td>...</td>\n",
              "      <td>...</td>\n",
              "      <td>...</td>\n",
              "      <td>...</td>\n",
              "      <td>...</td>\n",
              "      <td>...</td>\n",
              "      <td>...</td>\n",
              "    </tr>\n",
              "    <tr>\n",
              "      <th>1304</th>\n",
              "      <td>3</td>\n",
              "      <td>1</td>\n",
              "      <td>1</td>\n",
              "      <td>0</td>\n",
              "      <td>0</td>\n",
              "      <td>1</td>\n",
              "      <td>2</td>\n",
              "      <td>2</td>\n",
              "      <td>1</td>\n",
              "    </tr>\n",
              "    <tr>\n",
              "      <th>1305</th>\n",
              "      <td>1</td>\n",
              "      <td>0</td>\n",
              "      <td>2</td>\n",
              "      <td>0</td>\n",
              "      <td>0</td>\n",
              "      <td>4</td>\n",
              "      <td>0</td>\n",
              "      <td>0</td>\n",
              "      <td>1</td>\n",
              "    </tr>\n",
              "    <tr>\n",
              "      <th>1306</th>\n",
              "      <td>3</td>\n",
              "      <td>1</td>\n",
              "      <td>2</td>\n",
              "      <td>0</td>\n",
              "      <td>0</td>\n",
              "      <td>0</td>\n",
              "      <td>2</td>\n",
              "      <td>2</td>\n",
              "      <td>1</td>\n",
              "    </tr>\n",
              "    <tr>\n",
              "      <th>1307</th>\n",
              "      <td>3</td>\n",
              "      <td>1</td>\n",
              "      <td>1</td>\n",
              "      <td>0</td>\n",
              "      <td>0</td>\n",
              "      <td>1</td>\n",
              "      <td>2</td>\n",
              "      <td>2</td>\n",
              "      <td>1</td>\n",
              "    </tr>\n",
              "    <tr>\n",
              "      <th>1308</th>\n",
              "      <td>3</td>\n",
              "      <td>1</td>\n",
              "      <td>1</td>\n",
              "      <td>1</td>\n",
              "      <td>1</td>\n",
              "      <td>3</td>\n",
              "      <td>0</td>\n",
              "      <td>2</td>\n",
              "      <td>3</td>\n",
              "    </tr>\n",
              "  </tbody>\n",
              "</table>\n",
              "<p>418 rows × 9 columns</p>\n",
              "</div>"
            ],
            "text/plain": [
              "      Pclass  Sex  Age  SibSp  Parch  Fare  Embarked  Deck  Family_size\n",
              "891        3    1    2      0      0     0         1     2            1\n",
              "892        3    0    2      1      0     0         2     2            2\n",
              "893        2    1    3      0      0     1         1     1            1\n",
              "894        3    1    1      0      0     1         2     2            1\n",
              "895        3    0    1      1      1     2         2     2            3\n",
              "...      ...  ...  ...    ...    ...   ...       ...   ...          ...\n",
              "1304       3    1    1      0      0     1         2     2            1\n",
              "1305       1    0    2      0      0     4         0     0            1\n",
              "1306       3    1    2      0      0     0         2     2            1\n",
              "1307       3    1    1      0      0     1         2     2            1\n",
              "1308       3    1    1      1      1     3         0     2            3\n",
              "\n",
              "[418 rows x 9 columns]"
            ]
          },
          "metadata": {
            "tags": []
          },
          "execution_count": 60
        }
      ]
    },
    {
      "cell_type": "code",
      "metadata": {
        "id": "Tnwi8UnMoHr1"
      },
      "source": [
        "x = train.drop(['Survived'], axis=1)\r\n",
        "y = train['Survived']"
      ],
      "execution_count": 61,
      "outputs": []
    },
    {
      "cell_type": "code",
      "metadata": {
        "id": "_trZeT_CBVJw"
      },
      "source": [
        "#x = pd.get_dummies(x, columns=x.columns)"
      ],
      "execution_count": 62,
      "outputs": []
    },
    {
      "cell_type": "code",
      "metadata": {
        "id": "rSuCB4_JGmbr"
      },
      "source": [
        "#test = pd.get_dummies(test, columns=test.columns)"
      ],
      "execution_count": 63,
      "outputs": []
    },
    {
      "cell_type": "code",
      "metadata": {
        "colab": {
          "base_uri": "https://localhost:8080/",
          "height": 406
        },
        "id": "dT1enpIeEUXp",
        "outputId": "17dad470-ebb1-47b3-9fce-b23d4b040a10"
      },
      "source": [
        "x"
      ],
      "execution_count": 64,
      "outputs": [
        {
          "output_type": "execute_result",
          "data": {
            "text/html": [
              "<div>\n",
              "<style scoped>\n",
              "    .dataframe tbody tr th:only-of-type {\n",
              "        vertical-align: middle;\n",
              "    }\n",
              "\n",
              "    .dataframe tbody tr th {\n",
              "        vertical-align: top;\n",
              "    }\n",
              "\n",
              "    .dataframe thead th {\n",
              "        text-align: right;\n",
              "    }\n",
              "</style>\n",
              "<table border=\"1\" class=\"dataframe\">\n",
              "  <thead>\n",
              "    <tr style=\"text-align: right;\">\n",
              "      <th></th>\n",
              "      <th>Pclass</th>\n",
              "      <th>Sex</th>\n",
              "      <th>Age</th>\n",
              "      <th>SibSp</th>\n",
              "      <th>Parch</th>\n",
              "      <th>Fare</th>\n",
              "      <th>Embarked</th>\n",
              "      <th>Deck</th>\n",
              "      <th>Family_size</th>\n",
              "    </tr>\n",
              "  </thead>\n",
              "  <tbody>\n",
              "    <tr>\n",
              "      <th>0</th>\n",
              "      <td>3</td>\n",
              "      <td>1</td>\n",
              "      <td>1</td>\n",
              "      <td>1</td>\n",
              "      <td>0</td>\n",
              "      <td>0</td>\n",
              "      <td>2</td>\n",
              "      <td>2</td>\n",
              "      <td>2</td>\n",
              "    </tr>\n",
              "    <tr>\n",
              "      <th>1</th>\n",
              "      <td>1</td>\n",
              "      <td>0</td>\n",
              "      <td>2</td>\n",
              "      <td>1</td>\n",
              "      <td>0</td>\n",
              "      <td>4</td>\n",
              "      <td>0</td>\n",
              "      <td>0</td>\n",
              "      <td>2</td>\n",
              "    </tr>\n",
              "    <tr>\n",
              "      <th>2</th>\n",
              "      <td>3</td>\n",
              "      <td>0</td>\n",
              "      <td>1</td>\n",
              "      <td>0</td>\n",
              "      <td>0</td>\n",
              "      <td>1</td>\n",
              "      <td>2</td>\n",
              "      <td>2</td>\n",
              "      <td>1</td>\n",
              "    </tr>\n",
              "    <tr>\n",
              "      <th>3</th>\n",
              "      <td>1</td>\n",
              "      <td>0</td>\n",
              "      <td>2</td>\n",
              "      <td>1</td>\n",
              "      <td>0</td>\n",
              "      <td>4</td>\n",
              "      <td>2</td>\n",
              "      <td>0</td>\n",
              "      <td>2</td>\n",
              "    </tr>\n",
              "    <tr>\n",
              "      <th>4</th>\n",
              "      <td>3</td>\n",
              "      <td>1</td>\n",
              "      <td>2</td>\n",
              "      <td>0</td>\n",
              "      <td>0</td>\n",
              "      <td>1</td>\n",
              "      <td>2</td>\n",
              "      <td>2</td>\n",
              "      <td>1</td>\n",
              "    </tr>\n",
              "    <tr>\n",
              "      <th>...</th>\n",
              "      <td>...</td>\n",
              "      <td>...</td>\n",
              "      <td>...</td>\n",
              "      <td>...</td>\n",
              "      <td>...</td>\n",
              "      <td>...</td>\n",
              "      <td>...</td>\n",
              "      <td>...</td>\n",
              "      <td>...</td>\n",
              "    </tr>\n",
              "    <tr>\n",
              "      <th>886</th>\n",
              "      <td>2</td>\n",
              "      <td>1</td>\n",
              "      <td>1</td>\n",
              "      <td>0</td>\n",
              "      <td>0</td>\n",
              "      <td>2</td>\n",
              "      <td>2</td>\n",
              "      <td>1</td>\n",
              "      <td>1</td>\n",
              "    </tr>\n",
              "    <tr>\n",
              "      <th>887</th>\n",
              "      <td>1</td>\n",
              "      <td>0</td>\n",
              "      <td>1</td>\n",
              "      <td>0</td>\n",
              "      <td>0</td>\n",
              "      <td>3</td>\n",
              "      <td>2</td>\n",
              "      <td>0</td>\n",
              "      <td>1</td>\n",
              "    </tr>\n",
              "    <tr>\n",
              "      <th>888</th>\n",
              "      <td>3</td>\n",
              "      <td>0</td>\n",
              "      <td>1</td>\n",
              "      <td>1</td>\n",
              "      <td>2</td>\n",
              "      <td>3</td>\n",
              "      <td>2</td>\n",
              "      <td>2</td>\n",
              "      <td>4</td>\n",
              "    </tr>\n",
              "    <tr>\n",
              "      <th>889</th>\n",
              "      <td>1</td>\n",
              "      <td>1</td>\n",
              "      <td>1</td>\n",
              "      <td>0</td>\n",
              "      <td>0</td>\n",
              "      <td>3</td>\n",
              "      <td>0</td>\n",
              "      <td>0</td>\n",
              "      <td>1</td>\n",
              "    </tr>\n",
              "    <tr>\n",
              "      <th>890</th>\n",
              "      <td>3</td>\n",
              "      <td>1</td>\n",
              "      <td>1</td>\n",
              "      <td>0</td>\n",
              "      <td>0</td>\n",
              "      <td>0</td>\n",
              "      <td>1</td>\n",
              "      <td>2</td>\n",
              "      <td>1</td>\n",
              "    </tr>\n",
              "  </tbody>\n",
              "</table>\n",
              "<p>891 rows × 9 columns</p>\n",
              "</div>"
            ],
            "text/plain": [
              "     Pclass  Sex  Age  SibSp  Parch  Fare  Embarked  Deck  Family_size\n",
              "0         3    1    1      1      0     0         2     2            2\n",
              "1         1    0    2      1      0     4         0     0            2\n",
              "2         3    0    1      0      0     1         2     2            1\n",
              "3         1    0    2      1      0     4         2     0            2\n",
              "4         3    1    2      0      0     1         2     2            1\n",
              "..      ...  ...  ...    ...    ...   ...       ...   ...          ...\n",
              "886       2    1    1      0      0     2         2     1            1\n",
              "887       1    0    1      0      0     3         2     0            1\n",
              "888       3    0    1      1      2     3         2     2            4\n",
              "889       1    1    1      0      0     3         0     0            1\n",
              "890       3    1    1      0      0     0         1     2            1\n",
              "\n",
              "[891 rows x 9 columns]"
            ]
          },
          "metadata": {
            "tags": []
          },
          "execution_count": 64
        }
      ]
    },
    {
      "cell_type": "code",
      "metadata": {
        "colab": {
          "base_uri": "https://localhost:8080/",
          "height": 406
        },
        "id": "y_4gwerxHapz",
        "outputId": "cc19affe-e259-4827-f92b-e188e814ab0e"
      },
      "source": [
        "test"
      ],
      "execution_count": 65,
      "outputs": [
        {
          "output_type": "execute_result",
          "data": {
            "text/html": [
              "<div>\n",
              "<style scoped>\n",
              "    .dataframe tbody tr th:only-of-type {\n",
              "        vertical-align: middle;\n",
              "    }\n",
              "\n",
              "    .dataframe tbody tr th {\n",
              "        vertical-align: top;\n",
              "    }\n",
              "\n",
              "    .dataframe thead th {\n",
              "        text-align: right;\n",
              "    }\n",
              "</style>\n",
              "<table border=\"1\" class=\"dataframe\">\n",
              "  <thead>\n",
              "    <tr style=\"text-align: right;\">\n",
              "      <th></th>\n",
              "      <th>Pclass</th>\n",
              "      <th>Sex</th>\n",
              "      <th>Age</th>\n",
              "      <th>SibSp</th>\n",
              "      <th>Parch</th>\n",
              "      <th>Fare</th>\n",
              "      <th>Embarked</th>\n",
              "      <th>Deck</th>\n",
              "      <th>Family_size</th>\n",
              "    </tr>\n",
              "  </thead>\n",
              "  <tbody>\n",
              "    <tr>\n",
              "      <th>891</th>\n",
              "      <td>3</td>\n",
              "      <td>1</td>\n",
              "      <td>2</td>\n",
              "      <td>0</td>\n",
              "      <td>0</td>\n",
              "      <td>0</td>\n",
              "      <td>1</td>\n",
              "      <td>2</td>\n",
              "      <td>1</td>\n",
              "    </tr>\n",
              "    <tr>\n",
              "      <th>892</th>\n",
              "      <td>3</td>\n",
              "      <td>0</td>\n",
              "      <td>2</td>\n",
              "      <td>1</td>\n",
              "      <td>0</td>\n",
              "      <td>0</td>\n",
              "      <td>2</td>\n",
              "      <td>2</td>\n",
              "      <td>2</td>\n",
              "    </tr>\n",
              "    <tr>\n",
              "      <th>893</th>\n",
              "      <td>2</td>\n",
              "      <td>1</td>\n",
              "      <td>3</td>\n",
              "      <td>0</td>\n",
              "      <td>0</td>\n",
              "      <td>1</td>\n",
              "      <td>1</td>\n",
              "      <td>1</td>\n",
              "      <td>1</td>\n",
              "    </tr>\n",
              "    <tr>\n",
              "      <th>894</th>\n",
              "      <td>3</td>\n",
              "      <td>1</td>\n",
              "      <td>1</td>\n",
              "      <td>0</td>\n",
              "      <td>0</td>\n",
              "      <td>1</td>\n",
              "      <td>2</td>\n",
              "      <td>2</td>\n",
              "      <td>1</td>\n",
              "    </tr>\n",
              "    <tr>\n",
              "      <th>895</th>\n",
              "      <td>3</td>\n",
              "      <td>0</td>\n",
              "      <td>1</td>\n",
              "      <td>1</td>\n",
              "      <td>1</td>\n",
              "      <td>2</td>\n",
              "      <td>2</td>\n",
              "      <td>2</td>\n",
              "      <td>3</td>\n",
              "    </tr>\n",
              "    <tr>\n",
              "      <th>...</th>\n",
              "      <td>...</td>\n",
              "      <td>...</td>\n",
              "      <td>...</td>\n",
              "      <td>...</td>\n",
              "      <td>...</td>\n",
              "      <td>...</td>\n",
              "      <td>...</td>\n",
              "      <td>...</td>\n",
              "      <td>...</td>\n",
              "    </tr>\n",
              "    <tr>\n",
              "      <th>1304</th>\n",
              "      <td>3</td>\n",
              "      <td>1</td>\n",
              "      <td>1</td>\n",
              "      <td>0</td>\n",
              "      <td>0</td>\n",
              "      <td>1</td>\n",
              "      <td>2</td>\n",
              "      <td>2</td>\n",
              "      <td>1</td>\n",
              "    </tr>\n",
              "    <tr>\n",
              "      <th>1305</th>\n",
              "      <td>1</td>\n",
              "      <td>0</td>\n",
              "      <td>2</td>\n",
              "      <td>0</td>\n",
              "      <td>0</td>\n",
              "      <td>4</td>\n",
              "      <td>0</td>\n",
              "      <td>0</td>\n",
              "      <td>1</td>\n",
              "    </tr>\n",
              "    <tr>\n",
              "      <th>1306</th>\n",
              "      <td>3</td>\n",
              "      <td>1</td>\n",
              "      <td>2</td>\n",
              "      <td>0</td>\n",
              "      <td>0</td>\n",
              "      <td>0</td>\n",
              "      <td>2</td>\n",
              "      <td>2</td>\n",
              "      <td>1</td>\n",
              "    </tr>\n",
              "    <tr>\n",
              "      <th>1307</th>\n",
              "      <td>3</td>\n",
              "      <td>1</td>\n",
              "      <td>1</td>\n",
              "      <td>0</td>\n",
              "      <td>0</td>\n",
              "      <td>1</td>\n",
              "      <td>2</td>\n",
              "      <td>2</td>\n",
              "      <td>1</td>\n",
              "    </tr>\n",
              "    <tr>\n",
              "      <th>1308</th>\n",
              "      <td>3</td>\n",
              "      <td>1</td>\n",
              "      <td>1</td>\n",
              "      <td>1</td>\n",
              "      <td>1</td>\n",
              "      <td>3</td>\n",
              "      <td>0</td>\n",
              "      <td>2</td>\n",
              "      <td>3</td>\n",
              "    </tr>\n",
              "  </tbody>\n",
              "</table>\n",
              "<p>418 rows × 9 columns</p>\n",
              "</div>"
            ],
            "text/plain": [
              "      Pclass  Sex  Age  SibSp  Parch  Fare  Embarked  Deck  Family_size\n",
              "891        3    1    2      0      0     0         1     2            1\n",
              "892        3    0    2      1      0     0         2     2            2\n",
              "893        2    1    3      0      0     1         1     1            1\n",
              "894        3    1    1      0      0     1         2     2            1\n",
              "895        3    0    1      1      1     2         2     2            3\n",
              "...      ...  ...  ...    ...    ...   ...       ...   ...          ...\n",
              "1304       3    1    1      0      0     1         2     2            1\n",
              "1305       1    0    2      0      0     4         0     0            1\n",
              "1306       3    1    2      0      0     0         2     2            1\n",
              "1307       3    1    1      0      0     1         2     2            1\n",
              "1308       3    1    1      1      1     3         0     2            3\n",
              "\n",
              "[418 rows x 9 columns]"
            ]
          },
          "metadata": {
            "tags": []
          },
          "execution_count": 65
        }
      ]
    },
    {
      "cell_type": "code",
      "metadata": {
        "id": "8fCjP9s0HEC9",
        "colab": {
          "base_uri": "https://localhost:8080/",
          "height": 318
        },
        "outputId": "1f94e6f6-d58b-4688-f32f-3e45a5f4e9ea"
      },
      "source": [
        "#test = test.drop(['Parch_9'], axis=1)"
      ],
      "execution_count": 66,
      "outputs": [
        {
          "output_type": "error",
          "ename": "KeyError",
          "evalue": "ignored",
          "traceback": [
            "\u001b[0;31m---------------------------------------------------------------------------\u001b[0m",
            "\u001b[0;31mKeyError\u001b[0m                                  Traceback (most recent call last)",
            "\u001b[0;32m<ipython-input-66-831591d854df>\u001b[0m in \u001b[0;36m<module>\u001b[0;34m()\u001b[0m\n\u001b[0;32m----> 1\u001b[0;31m \u001b[0mtest\u001b[0m \u001b[0;34m=\u001b[0m \u001b[0mtest\u001b[0m\u001b[0;34m.\u001b[0m\u001b[0mdrop\u001b[0m\u001b[0;34m(\u001b[0m\u001b[0;34m[\u001b[0m\u001b[0;34m'Parch_9'\u001b[0m\u001b[0;34m]\u001b[0m\u001b[0;34m,\u001b[0m \u001b[0maxis\u001b[0m\u001b[0;34m=\u001b[0m\u001b[0;36m1\u001b[0m\u001b[0;34m)\u001b[0m\u001b[0;34m\u001b[0m\u001b[0;34m\u001b[0m\u001b[0m\n\u001b[0m",
            "\u001b[0;32m/usr/local/lib/python3.7/dist-packages/pandas/core/frame.py\u001b[0m in \u001b[0;36mdrop\u001b[0;34m(self, labels, axis, index, columns, level, inplace, errors)\u001b[0m\n\u001b[1;32m   4172\u001b[0m             \u001b[0mlevel\u001b[0m\u001b[0;34m=\u001b[0m\u001b[0mlevel\u001b[0m\u001b[0;34m,\u001b[0m\u001b[0;34m\u001b[0m\u001b[0;34m\u001b[0m\u001b[0m\n\u001b[1;32m   4173\u001b[0m             \u001b[0minplace\u001b[0m\u001b[0;34m=\u001b[0m\u001b[0minplace\u001b[0m\u001b[0;34m,\u001b[0m\u001b[0;34m\u001b[0m\u001b[0;34m\u001b[0m\u001b[0m\n\u001b[0;32m-> 4174\u001b[0;31m             \u001b[0merrors\u001b[0m\u001b[0;34m=\u001b[0m\u001b[0merrors\u001b[0m\u001b[0;34m,\u001b[0m\u001b[0;34m\u001b[0m\u001b[0;34m\u001b[0m\u001b[0m\n\u001b[0m\u001b[1;32m   4175\u001b[0m         )\n\u001b[1;32m   4176\u001b[0m \u001b[0;34m\u001b[0m\u001b[0m\n",
            "\u001b[0;32m/usr/local/lib/python3.7/dist-packages/pandas/core/generic.py\u001b[0m in \u001b[0;36mdrop\u001b[0;34m(self, labels, axis, index, columns, level, inplace, errors)\u001b[0m\n\u001b[1;32m   3887\u001b[0m         \u001b[0;32mfor\u001b[0m \u001b[0maxis\u001b[0m\u001b[0;34m,\u001b[0m \u001b[0mlabels\u001b[0m \u001b[0;32min\u001b[0m \u001b[0maxes\u001b[0m\u001b[0;34m.\u001b[0m\u001b[0mitems\u001b[0m\u001b[0;34m(\u001b[0m\u001b[0;34m)\u001b[0m\u001b[0;34m:\u001b[0m\u001b[0;34m\u001b[0m\u001b[0;34m\u001b[0m\u001b[0m\n\u001b[1;32m   3888\u001b[0m             \u001b[0;32mif\u001b[0m \u001b[0mlabels\u001b[0m \u001b[0;32mis\u001b[0m \u001b[0;32mnot\u001b[0m \u001b[0;32mNone\u001b[0m\u001b[0;34m:\u001b[0m\u001b[0;34m\u001b[0m\u001b[0;34m\u001b[0m\u001b[0m\n\u001b[0;32m-> 3889\u001b[0;31m                 \u001b[0mobj\u001b[0m \u001b[0;34m=\u001b[0m \u001b[0mobj\u001b[0m\u001b[0;34m.\u001b[0m\u001b[0m_drop_axis\u001b[0m\u001b[0;34m(\u001b[0m\u001b[0mlabels\u001b[0m\u001b[0;34m,\u001b[0m \u001b[0maxis\u001b[0m\u001b[0;34m,\u001b[0m \u001b[0mlevel\u001b[0m\u001b[0;34m=\u001b[0m\u001b[0mlevel\u001b[0m\u001b[0;34m,\u001b[0m \u001b[0merrors\u001b[0m\u001b[0;34m=\u001b[0m\u001b[0merrors\u001b[0m\u001b[0;34m)\u001b[0m\u001b[0;34m\u001b[0m\u001b[0;34m\u001b[0m\u001b[0m\n\u001b[0m\u001b[1;32m   3890\u001b[0m \u001b[0;34m\u001b[0m\u001b[0m\n\u001b[1;32m   3891\u001b[0m         \u001b[0;32mif\u001b[0m \u001b[0minplace\u001b[0m\u001b[0;34m:\u001b[0m\u001b[0;34m\u001b[0m\u001b[0;34m\u001b[0m\u001b[0m\n",
            "\u001b[0;32m/usr/local/lib/python3.7/dist-packages/pandas/core/generic.py\u001b[0m in \u001b[0;36m_drop_axis\u001b[0;34m(self, labels, axis, level, errors)\u001b[0m\n\u001b[1;32m   3921\u001b[0m                 \u001b[0mnew_axis\u001b[0m \u001b[0;34m=\u001b[0m \u001b[0maxis\u001b[0m\u001b[0;34m.\u001b[0m\u001b[0mdrop\u001b[0m\u001b[0;34m(\u001b[0m\u001b[0mlabels\u001b[0m\u001b[0;34m,\u001b[0m \u001b[0mlevel\u001b[0m\u001b[0;34m=\u001b[0m\u001b[0mlevel\u001b[0m\u001b[0;34m,\u001b[0m \u001b[0merrors\u001b[0m\u001b[0;34m=\u001b[0m\u001b[0merrors\u001b[0m\u001b[0;34m)\u001b[0m\u001b[0;34m\u001b[0m\u001b[0;34m\u001b[0m\u001b[0m\n\u001b[1;32m   3922\u001b[0m             \u001b[0;32melse\u001b[0m\u001b[0;34m:\u001b[0m\u001b[0;34m\u001b[0m\u001b[0;34m\u001b[0m\u001b[0m\n\u001b[0;32m-> 3923\u001b[0;31m                 \u001b[0mnew_axis\u001b[0m \u001b[0;34m=\u001b[0m \u001b[0maxis\u001b[0m\u001b[0;34m.\u001b[0m\u001b[0mdrop\u001b[0m\u001b[0;34m(\u001b[0m\u001b[0mlabels\u001b[0m\u001b[0;34m,\u001b[0m \u001b[0merrors\u001b[0m\u001b[0;34m=\u001b[0m\u001b[0merrors\u001b[0m\u001b[0;34m)\u001b[0m\u001b[0;34m\u001b[0m\u001b[0;34m\u001b[0m\u001b[0m\n\u001b[0m\u001b[1;32m   3924\u001b[0m             \u001b[0mresult\u001b[0m \u001b[0;34m=\u001b[0m \u001b[0mself\u001b[0m\u001b[0;34m.\u001b[0m\u001b[0mreindex\u001b[0m\u001b[0;34m(\u001b[0m\u001b[0;34m**\u001b[0m\u001b[0;34m{\u001b[0m\u001b[0maxis_name\u001b[0m\u001b[0;34m:\u001b[0m \u001b[0mnew_axis\u001b[0m\u001b[0;34m}\u001b[0m\u001b[0;34m)\u001b[0m\u001b[0;34m\u001b[0m\u001b[0;34m\u001b[0m\u001b[0m\n\u001b[1;32m   3925\u001b[0m \u001b[0;34m\u001b[0m\u001b[0m\n",
            "\u001b[0;32m/usr/local/lib/python3.7/dist-packages/pandas/core/indexes/base.py\u001b[0m in \u001b[0;36mdrop\u001b[0;34m(self, labels, errors)\u001b[0m\n\u001b[1;32m   5285\u001b[0m         \u001b[0;32mif\u001b[0m \u001b[0mmask\u001b[0m\u001b[0;34m.\u001b[0m\u001b[0many\u001b[0m\u001b[0;34m(\u001b[0m\u001b[0;34m)\u001b[0m\u001b[0;34m:\u001b[0m\u001b[0;34m\u001b[0m\u001b[0;34m\u001b[0m\u001b[0m\n\u001b[1;32m   5286\u001b[0m             \u001b[0;32mif\u001b[0m \u001b[0merrors\u001b[0m \u001b[0;34m!=\u001b[0m \u001b[0;34m\"ignore\"\u001b[0m\u001b[0;34m:\u001b[0m\u001b[0;34m\u001b[0m\u001b[0;34m\u001b[0m\u001b[0m\n\u001b[0;32m-> 5287\u001b[0;31m                 \u001b[0;32mraise\u001b[0m \u001b[0mKeyError\u001b[0m\u001b[0;34m(\u001b[0m\u001b[0;34mf\"{labels[mask]} not found in axis\"\u001b[0m\u001b[0;34m)\u001b[0m\u001b[0;34m\u001b[0m\u001b[0;34m\u001b[0m\u001b[0m\n\u001b[0m\u001b[1;32m   5288\u001b[0m             \u001b[0mindexer\u001b[0m \u001b[0;34m=\u001b[0m \u001b[0mindexer\u001b[0m\u001b[0;34m[\u001b[0m\u001b[0;34m~\u001b[0m\u001b[0mmask\u001b[0m\u001b[0;34m]\u001b[0m\u001b[0;34m\u001b[0m\u001b[0;34m\u001b[0m\u001b[0m\n\u001b[1;32m   5289\u001b[0m         \u001b[0;32mreturn\u001b[0m \u001b[0mself\u001b[0m\u001b[0;34m.\u001b[0m\u001b[0mdelete\u001b[0m\u001b[0;34m(\u001b[0m\u001b[0mindexer\u001b[0m\u001b[0;34m)\u001b[0m\u001b[0;34m\u001b[0m\u001b[0;34m\u001b[0m\u001b[0m\n",
            "\u001b[0;31mKeyError\u001b[0m: \"['Parch_9'] not found in axis\""
          ]
        }
      ]
    },
    {
      "cell_type": "code",
      "metadata": {
        "colab": {
          "base_uri": "https://localhost:8080/"
        },
        "id": "_F6KSKxfBXID",
        "outputId": "0e3e534a-47c3-4223-c512-067e9a89f8dc"
      },
      "source": [
        "x.shape"
      ],
      "execution_count": 67,
      "outputs": [
        {
          "output_type": "execute_result",
          "data": {
            "text/plain": [
              "(891, 9)"
            ]
          },
          "metadata": {
            "tags": []
          },
          "execution_count": 67
        }
      ]
    },
    {
      "cell_type": "code",
      "metadata": {
        "colab": {
          "base_uri": "https://localhost:8080/"
        },
        "id": "e7iRhO3THBhc",
        "outputId": "9de1f93e-5837-425b-a6df-5f5c759c4759"
      },
      "source": [
        "test.shape"
      ],
      "execution_count": 68,
      "outputs": [
        {
          "output_type": "execute_result",
          "data": {
            "text/plain": [
              "(418, 9)"
            ]
          },
          "metadata": {
            "tags": []
          },
          "execution_count": 68
        }
      ]
    },
    {
      "cell_type": "code",
      "metadata": {
        "id": "R_T4dwpnjyoN"
      },
      "source": [
        "x_train, x_test, y_train, y_test = train_test_split(x, y, test_size=0.25, random_state=1)"
      ],
      "execution_count": 69,
      "outputs": []
    },
    {
      "cell_type": "code",
      "metadata": {
        "colab": {
          "base_uri": "https://localhost:8080/"
        },
        "id": "GwYkEzu4pqPs",
        "outputId": "adff4511-5898-499a-cbf1-0b2c2b84bc8a"
      },
      "source": [
        "x_train.shape"
      ],
      "execution_count": 70,
      "outputs": [
        {
          "output_type": "execute_result",
          "data": {
            "text/plain": [
              "(668, 9)"
            ]
          },
          "metadata": {
            "tags": []
          },
          "execution_count": 70
        }
      ]
    },
    {
      "cell_type": "code",
      "metadata": {
        "id": "PwyFKsLmjzL9"
      },
      "source": [
        "from keras.layers import Dense, Activation, Dropout"
      ],
      "execution_count": 71,
      "outputs": []
    },
    {
      "cell_type": "code",
      "metadata": {
        "id": "IVFjXlZnotcX"
      },
      "source": [
        "model = tf.keras.Sequential()\r\n",
        "\r\n",
        "model.add(Dense(16, activation='relu', input_shape=(9, )))\r\n",
        "model.add(Dropout(0.5))\r\n",
        "model.add(Dense(32, activation='relu'))\r\n",
        "model.add(Dropout(0.5))\r\n",
        "model.add(Dense(16, activation='relu'))\r\n",
        "model.add(Dropout(0.5))\r\n",
        "#model.add(Dense(32, activation='relu'))\r\n",
        "#model.add(Dense(16, activation='relu'))\r\n",
        "model.add(Dense(2, activation='softmax'))\r\n",
        "model.compile(optimizer=tf.keras.optimizers.Adam(), loss='sparse_categorical_crossentropy', metrics=['accuracy'])"
      ],
      "execution_count": 72,
      "outputs": []
    },
    {
      "cell_type": "code",
      "metadata": {
        "id": "oms85c4Mpwqy"
      },
      "source": [
        "history = model.fit(x_train, y_train, shuffle=True, epochs=200, batch_size=16, validation_split=0.25)"
      ],
      "execution_count": null,
      "outputs": []
    },
    {
      "cell_type": "code",
      "metadata": {
        "colab": {
          "base_uri": "https://localhost:8080/"
        },
        "id": "qNYU88ZNqBlA",
        "outputId": "fd1e59da-a6b9-45e4-80d3-2fdbe358ab6b"
      },
      "source": [
        "model.evaluate(x_test, y_test)"
      ],
      "execution_count": 74,
      "outputs": [
        {
          "output_type": "stream",
          "text": [
            "7/7 [==============================] - 0s 1ms/step - loss: 0.5233 - accuracy: 0.7623\n"
          ],
          "name": "stdout"
        },
        {
          "output_type": "execute_result",
          "data": {
            "text/plain": [
              "[0.5232681632041931, 0.7623318433761597]"
            ]
          },
          "metadata": {
            "tags": []
          },
          "execution_count": 74
        }
      ]
    },
    {
      "cell_type": "code",
      "metadata": {
        "id": "__ilSNnMqU-O"
      },
      "source": [
        "test_pred = model.predict(test)"
      ],
      "execution_count": 75,
      "outputs": []
    },
    {
      "cell_type": "code",
      "metadata": {
        "colab": {
          "base_uri": "https://localhost:8080/"
        },
        "id": "8YFzfV_wqsHa",
        "outputId": "a5fe2083-0f65-44e7-f726-f34aea72a9a0"
      },
      "source": [
        "test_pred"
      ],
      "execution_count": 76,
      "outputs": [
        {
          "output_type": "execute_result",
          "data": {
            "text/plain": [
              "array([[8.66643131e-01, 1.33356869e-01],\n",
              "       [7.73853838e-01, 2.26146176e-01],\n",
              "       [9.21963155e-01, 7.80368149e-02],\n",
              "       [8.06497276e-01, 1.93502724e-01],\n",
              "       [5.57955384e-01, 4.42044586e-01],\n",
              "       [7.58709252e-01, 2.41290763e-01],\n",
              "       [4.37007189e-01, 5.62992871e-01],\n",
              "       [7.38256872e-01, 2.61743158e-01],\n",
              "       [5.95231295e-01, 4.04768735e-01],\n",
              "       [7.98640013e-01, 2.01359943e-01],\n",
              "       [8.06497276e-01, 1.93502724e-01],\n",
              "       [7.85438061e-01, 2.14561969e-01],\n",
              "       [2.09284990e-05, 9.99979019e-01],\n",
              "       [8.43402088e-01, 1.56597927e-01],\n",
              "       [1.20159076e-03, 9.98798370e-01],\n",
              "       [1.23897113e-01, 8.76102865e-01],\n",
              "       [7.76927173e-01, 2.23072782e-01],\n",
              "       [7.67500043e-01, 2.32499957e-01],\n",
              "       [6.19708776e-01, 3.80291224e-01],\n",
              "       [7.32591927e-01, 2.67408133e-01],\n",
              "       [7.24409103e-01, 2.75590956e-01],\n",
              "       [8.17202747e-01, 1.82797268e-01],\n",
              "       [1.46973960e-03, 9.98530269e-01],\n",
              "       [5.54274261e-01, 4.45725799e-01],\n",
              "       [5.45269344e-04, 9.99454677e-01],\n",
              "       [8.72645438e-01, 1.27354532e-01],\n",
              "       [1.45473487e-05, 9.99985456e-01],\n",
              "       [7.67500043e-01, 2.32499957e-01],\n",
              "       [7.85438061e-01, 2.14561969e-01],\n",
              "       [7.70601690e-01, 2.29398280e-01],\n",
              "       [8.43402088e-01, 1.56597927e-01],\n",
              "       [7.94685662e-01, 2.05314323e-01],\n",
              "       [7.01326191e-01, 2.98673838e-01],\n",
              "       [5.18494785e-01, 4.81505185e-01],\n",
              "       [5.57955384e-01, 4.42044586e-01],\n",
              "       [7.67500043e-01, 2.32499957e-01],\n",
              "       [4.51650679e-01, 5.48349380e-01],\n",
              "       [4.51650679e-01, 5.48349380e-01],\n",
              "       [8.06497276e-01, 1.93502724e-01],\n",
              "       [7.35182822e-01, 2.64817208e-01],\n",
              "       [7.51738071e-01, 2.48261988e-01],\n",
              "       [8.13149989e-01, 1.86850041e-01],\n",
              "       [9.20359373e-01, 7.96406642e-02],\n",
              "       [1.44722879e-01, 8.55277181e-01],\n",
              "       [1.20159076e-03, 9.98798370e-01],\n",
              "       [8.06497276e-01, 1.93502724e-01],\n",
              "       [6.95729733e-01, 3.04270267e-01],\n",
              "       [8.05977166e-01, 1.94022819e-01],\n",
              "       [1.15463056e-01, 8.84536982e-01],\n",
              "       [3.74628007e-01, 6.25372052e-01],\n",
              "       [7.34268486e-01, 2.65731484e-01],\n",
              "       [7.05786586e-01, 2.94213384e-01],\n",
              "       [2.93401510e-01, 7.06598520e-01],\n",
              "       [4.66618076e-04, 9.99533415e-01],\n",
              "       [7.05786586e-01, 2.94213384e-01],\n",
              "       [7.85498202e-01, 2.14501783e-01],\n",
              "       [8.42543066e-01, 1.57456905e-01],\n",
              "       [8.37925017e-01, 1.62074998e-01],\n",
              "       [7.97494471e-01, 2.02505514e-01],\n",
              "       [6.13928714e-04, 9.99386072e-01],\n",
              "       [8.06497276e-01, 1.93502724e-01],\n",
              "       [7.85091460e-01, 2.14908525e-01],\n",
              "       [8.37925017e-01, 1.62074998e-01],\n",
              "       [4.37007189e-01, 5.62992871e-01],\n",
              "       [3.52452338e-01, 6.47547662e-01],\n",
              "       [1.44722879e-01, 8.55277181e-01],\n",
              "       [3.68058830e-01, 6.31941140e-01],\n",
              "       [7.63548374e-01, 2.36451671e-01],\n",
              "       [5.91002762e-01, 4.08997208e-01],\n",
              "       [4.50694934e-02, 9.54930484e-01],\n",
              "       [4.37007189e-01, 5.62992871e-01],\n",
              "       [8.06497276e-01, 1.93502724e-01],\n",
              "       [4.51650679e-01, 5.48349380e-01],\n",
              "       [6.30582750e-01, 3.69417220e-01],\n",
              "       [6.13928714e-04, 9.99386072e-01],\n",
              "       [6.01704419e-01, 3.98295581e-01],\n",
              "       [8.06497276e-01, 1.93502724e-01],\n",
              "       [9.41115394e-02, 9.05888498e-01],\n",
              "       [7.85091460e-01, 2.14908525e-01],\n",
              "       [4.37007189e-01, 5.62992871e-01],\n",
              "       [6.14443123e-01, 3.85556877e-01],\n",
              "       [8.61417890e-01, 1.38582081e-01],\n",
              "       [8.57065141e-01, 1.42934889e-01],\n",
              "       [8.06497276e-01, 1.93502724e-01],\n",
              "       [7.47146726e-01, 2.52853245e-01],\n",
              "       [7.49238491e-01, 2.50761539e-01],\n",
              "       [3.68058830e-01, 6.31941140e-01],\n",
              "       [4.51650679e-01, 5.48349380e-01],\n",
              "       [4.37007189e-01, 5.62992871e-01],\n",
              "       [5.57955384e-01, 4.42044586e-01],\n",
              "       [4.95259643e-01, 5.04740357e-01],\n",
              "       [8.37925017e-01, 1.62074998e-01],\n",
              "       [4.81138813e-05, 9.99951839e-01],\n",
              "       [8.06497276e-01, 1.93502724e-01],\n",
              "       [5.91002762e-01, 4.08997208e-01],\n",
              "       [8.37925017e-01, 1.62074998e-01],\n",
              "       [3.46023566e-03, 9.96539831e-01],\n",
              "       [8.06497276e-01, 1.93502724e-01],\n",
              "       [6.73338056e-01, 3.26661915e-01],\n",
              "       [8.42543066e-01, 1.57456905e-01],\n",
              "       [1.79681418e-04, 9.99820292e-01],\n",
              "       [7.65149295e-01, 2.34850705e-01],\n",
              "       [8.05977166e-01, 1.94022819e-01],\n",
              "       [8.37925017e-01, 1.62074998e-01],\n",
              "       [4.21010166e-01, 5.78989863e-01],\n",
              "       [7.58484721e-01, 2.41515294e-01],\n",
              "       [8.05977166e-01, 1.94022819e-01],\n",
              "       [8.05977166e-01, 1.94022819e-01],\n",
              "       [8.06497276e-01, 1.93502724e-01],\n",
              "       [8.04796576e-01, 1.95203438e-01],\n",
              "       [7.67056048e-01, 2.32943907e-01],\n",
              "       [4.37007189e-01, 5.62992871e-01],\n",
              "       [2.47549638e-02, 9.75244999e-01],\n",
              "       [4.37007189e-01, 5.62992871e-01],\n",
              "       [4.51203930e-04, 9.99548733e-01],\n",
              "       [7.49238491e-01, 2.50761539e-01],\n",
              "       [7.67500043e-01, 2.32499957e-01],\n",
              "       [5.51952720e-01, 4.48047310e-01],\n",
              "       [6.93268359e-01, 3.06731701e-01],\n",
              "       [8.74129012e-02, 9.12587047e-01],\n",
              "       [1.83221251e-01, 8.16778779e-01],\n",
              "       [8.26052368e-01, 1.73947617e-01],\n",
              "       [1.79681418e-04, 9.99820292e-01],\n",
              "       [8.37925017e-01, 1.62074998e-01],\n",
              "       [8.05977166e-01, 1.94022819e-01],\n",
              "       [3.51171106e-01, 6.48828864e-01],\n",
              "       [8.37925017e-01, 1.62074998e-01],\n",
              "       [5.18995702e-01, 4.81004298e-01],\n",
              "       [8.11658859e-01, 1.88341171e-01],\n",
              "       [8.06497276e-01, 1.93502724e-01],\n",
              "       [8.06497276e-01, 1.93502724e-01],\n",
              "       [7.32985258e-01, 2.67014772e-01],\n",
              "       [4.41971362e-01, 5.58028579e-01],\n",
              "       [8.12133312e-01, 1.87866613e-01],\n",
              "       [8.42543066e-01, 1.57456905e-01],\n",
              "       [8.37925017e-01, 1.62074998e-01],\n",
              "       [7.67500043e-01, 2.32499957e-01],\n",
              "       [7.85091460e-01, 2.14908525e-01],\n",
              "       [4.51650679e-01, 5.48349380e-01],\n",
              "       [9.80084717e-01, 1.99153125e-02],\n",
              "       [7.55009055e-01, 2.44990990e-01],\n",
              "       [2.76928549e-05, 9.99972343e-01],\n",
              "       [9.12222862e-01, 8.77770931e-02],\n",
              "       [7.63179898e-01, 2.36820057e-01],\n",
              "       [7.85438061e-01, 2.14561969e-01],\n",
              "       [8.52075398e-01, 1.47924602e-01],\n",
              "       [7.79997230e-01, 2.20002815e-01],\n",
              "       [8.06497276e-01, 1.93502724e-01],\n",
              "       [7.85438061e-01, 2.14561969e-01],\n",
              "       [7.38256872e-01, 2.61743158e-01],\n",
              "       [1.45473487e-05, 9.99985456e-01],\n",
              "       [7.54268467e-01, 2.45731518e-01],\n",
              "       [9.07796919e-01, 9.22031477e-02],\n",
              "       [3.74628007e-01, 6.25372052e-01],\n",
              "       [7.93184757e-01, 2.06815168e-01],\n",
              "       [8.37925017e-01, 1.62074998e-01],\n",
              "       [5.96302198e-06, 9.99994040e-01],\n",
              "       [6.73338056e-01, 3.26661915e-01],\n",
              "       [8.13149989e-01, 1.86850041e-01],\n",
              "       [4.12636131e-01, 5.87363899e-01],\n",
              "       [4.37007189e-01, 5.62992871e-01],\n",
              "       [6.14443123e-01, 3.85556877e-01],\n",
              "       [1.44722879e-01, 8.55277181e-01],\n",
              "       [8.37925017e-01, 1.62074998e-01],\n",
              "       [8.11658859e-01, 1.88341171e-01],\n",
              "       [4.30857271e-01, 5.69142759e-01],\n",
              "       [6.93268359e-01, 3.06731701e-01],\n",
              "       [8.00132632e-01, 1.99867427e-01],\n",
              "       [2.47549638e-02, 9.75244999e-01],\n",
              "       [4.51650679e-01, 5.48349380e-01],\n",
              "       [8.37925017e-01, 1.62074998e-01],\n",
              "       [7.67500043e-01, 2.32499957e-01],\n",
              "       [7.97494471e-01, 2.02505514e-01],\n",
              "       [7.67500043e-01, 2.32499957e-01],\n",
              "       [9.80792105e-01, 1.92079395e-02],\n",
              "       [1.38507280e-02, 9.86149311e-01],\n",
              "       [2.64967773e-02, 9.73503232e-01],\n",
              "       [7.24409103e-01, 2.75590956e-01],\n",
              "       [3.71071696e-01, 6.28928304e-01],\n",
              "       [6.11842750e-03, 9.93881583e-01],\n",
              "       [7.85091460e-01, 2.14908525e-01],\n",
              "       [7.53403127e-01, 2.46596918e-01],\n",
              "       [2.65962619e-04, 9.99733984e-01],\n",
              "       [8.05977166e-01, 1.94022819e-01],\n",
              "       [5.10940154e-05, 9.99948859e-01],\n",
              "       [8.11658859e-01, 1.88341171e-01],\n",
              "       [1.88759431e-01, 8.11240554e-01],\n",
              "       [8.47106516e-01, 1.52893469e-01],\n",
              "       [8.31366837e-01, 1.68633193e-01],\n",
              "       [8.11658859e-01, 1.88341171e-01],\n",
              "       [8.02578986e-01, 1.97421014e-01],\n",
              "       [7.85438061e-01, 2.14561969e-01],\n",
              "       [7.04996705e-01, 2.95003235e-01],\n",
              "       [8.22896600e-01, 1.77103400e-01],\n",
              "       [5.57955384e-01, 4.42044586e-01],\n",
              "       [9.20359373e-01, 7.96406642e-02],\n",
              "       [5.78825831e-01, 4.21174169e-01],\n",
              "       [6.73338056e-01, 3.26661915e-01],\n",
              "       [8.14711690e-01, 1.85288355e-01],\n",
              "       [4.51650679e-01, 5.48349380e-01],\n",
              "       [3.03523213e-01, 6.96476758e-01],\n",
              "       [5.57955384e-01, 4.42044586e-01],\n",
              "       [6.22062802e-01, 3.77937168e-01],\n",
              "       [3.14087234e-02, 9.68591332e-01],\n",
              "       [8.14711690e-01, 1.85288355e-01],\n",
              "       [6.95729733e-01, 3.04270267e-01],\n",
              "       [6.27210855e-01, 3.72789204e-01],\n",
              "       [8.14711690e-01, 1.85288355e-01],\n",
              "       [2.47549638e-02, 9.75244999e-01],\n",
              "       [8.06497276e-01, 1.93502724e-01],\n",
              "       [7.58484721e-01, 2.41515294e-01],\n",
              "       [8.37925017e-01, 1.62074998e-01],\n",
              "       [7.39744365e-01, 2.60255665e-01],\n",
              "       [1.06126517e-01, 8.93873513e-01],\n",
              "       [9.35730219e-01, 6.42697960e-02],\n",
              "       [7.63548374e-01, 2.36451671e-01],\n",
              "       [3.68058830e-01, 6.31941140e-01],\n",
              "       [8.68281841e-01, 1.31718189e-01],\n",
              "       [1.10278814e-03, 9.98897195e-01],\n",
              "       [8.06497276e-01, 1.93502724e-01],\n",
              "       [2.64558017e-01, 7.35441983e-01],\n",
              "       [8.06497276e-01, 1.93502724e-01],\n",
              "       [5.39722383e-01, 4.60277557e-01],\n",
              "       [8.37925017e-01, 1.62074998e-01],\n",
              "       [3.92050415e-01, 6.07949555e-01],\n",
              "       [3.23796809e-01, 6.76203191e-01],\n",
              "       [8.37925017e-01, 1.62074998e-01],\n",
              "       [4.37007189e-01, 5.62992871e-01],\n",
              "       [8.09499264e-01, 1.90500721e-01],\n",
              "       [8.11658859e-01, 1.88341171e-01],\n",
              "       [7.47317851e-01, 2.52682120e-01],\n",
              "       [3.15463694e-04, 9.99684572e-01],\n",
              "       [8.60298872e-01, 1.39701128e-01],\n",
              "       [7.74800479e-01, 2.25199535e-01],\n",
              "       [6.22062802e-01, 3.77937168e-01],\n",
              "       [8.37925017e-01, 1.62074998e-01],\n",
              "       [8.03095102e-01, 1.96904823e-01],\n",
              "       [7.67500043e-01, 2.32499957e-01],\n",
              "       [3.97632748e-01, 6.02367222e-01],\n",
              "       [1.79681418e-04, 9.99820292e-01],\n",
              "       [3.92050415e-01, 6.07949555e-01],\n",
              "       [8.07734579e-02, 9.19226587e-01],\n",
              "       [7.53403127e-01, 2.46596918e-01],\n",
              "       [8.06497276e-01, 1.93502724e-01],\n",
              "       [7.53439665e-01, 2.46560365e-01],\n",
              "       [8.04284930e-01, 1.95715144e-01],\n",
              "       [1.44722879e-01, 8.55277181e-01],\n",
              "       [8.00281763e-01, 1.99718222e-01],\n",
              "       [8.74129012e-02, 9.12587047e-01],\n",
              "       [4.18206632e-01, 5.81793368e-01],\n",
              "       [4.68637832e-02, 9.53136206e-01],\n",
              "       [8.06497276e-01, 1.93502724e-01],\n",
              "       [5.57955384e-01, 4.42044586e-01],\n",
              "       [8.06497276e-01, 1.93502724e-01],\n",
              "       [8.06497276e-01, 1.93502724e-01],\n",
              "       [8.37925017e-01, 1.62074998e-01],\n",
              "       [8.05977166e-01, 1.94022819e-01],\n",
              "       [8.06497276e-01, 1.93502724e-01],\n",
              "       [1.44722879e-01, 8.55277181e-01],\n",
              "       [8.37925017e-01, 1.62074998e-01],\n",
              "       [8.37022841e-01, 1.62977129e-01],\n",
              "       [8.37925017e-01, 1.62074998e-01],\n",
              "       [5.88960610e-02, 9.41103935e-01],\n",
              "       [5.51952720e-01, 4.48047310e-01],\n",
              "       [7.05786586e-01, 2.94213384e-01],\n",
              "       [8.06497276e-01, 1.93502724e-01],\n",
              "       [9.82479930e-01, 1.75200850e-02],\n",
              "       [8.37925017e-01, 1.62074998e-01],\n",
              "       [4.51650679e-01, 5.48349380e-01],\n",
              "       [8.06497276e-01, 1.93502724e-01],\n",
              "       [6.93268359e-01, 3.06731701e-01],\n",
              "       [8.05977166e-01, 1.94022819e-01],\n",
              "       [3.36980920e-05, 9.99966264e-01],\n",
              "       [4.41232681e-01, 5.58767319e-01],\n",
              "       [7.67500043e-01, 2.32499957e-01],\n",
              "       [8.74129012e-02, 9.12587047e-01],\n",
              "       [8.14711690e-01, 1.85288355e-01],\n",
              "       [8.02578986e-01, 1.97421014e-01],\n",
              "       [7.96524942e-01, 2.03475058e-01],\n",
              "       [8.14711690e-01, 1.85288355e-01],\n",
              "       [4.51650679e-01, 5.48349380e-01],\n",
              "       [7.04996705e-01, 2.95003235e-01],\n",
              "       [4.37007189e-01, 5.62992871e-01],\n",
              "       [3.61474931e-01, 6.38525069e-01],\n",
              "       [5.51952720e-01, 4.48047310e-01],\n",
              "       [9.20359373e-01, 7.96406642e-02],\n",
              "       [8.37925017e-01, 1.62074998e-01],\n",
              "       [7.34268486e-01, 2.65731484e-01],\n",
              "       [7.67500043e-01, 2.32499957e-01],\n",
              "       [8.06497276e-01, 1.93502724e-01],\n",
              "       [7.85438061e-01, 2.14561969e-01],\n",
              "       [4.37007189e-01, 5.62992871e-01],\n",
              "       [7.67500043e-01, 2.32499957e-01],\n",
              "       [8.68281841e-01, 1.31718189e-01],\n",
              "       [8.42543066e-01, 1.57456905e-01],\n",
              "       [8.06497276e-01, 1.93502724e-01],\n",
              "       [7.29606301e-02, 9.27039385e-01],\n",
              "       [7.70601690e-01, 2.29398280e-01],\n",
              "       [7.43403196e-01, 2.56596744e-01],\n",
              "       [8.37925017e-01, 1.62074998e-01],\n",
              "       [8.37925017e-01, 1.62074998e-01],\n",
              "       [7.05786586e-01, 2.94213384e-01],\n",
              "       [8.83819640e-01, 1.16180331e-01],\n",
              "       [8.06497276e-01, 1.93502724e-01],\n",
              "       [4.37007189e-01, 5.62992871e-01],\n",
              "       [3.95744145e-02, 9.60425615e-01],\n",
              "       [7.24171758e-01, 2.75828242e-01],\n",
              "       [7.44765997e-01, 2.55233943e-01],\n",
              "       [8.68281841e-01, 1.31718189e-01],\n",
              "       [5.26365876e-01, 4.73634124e-01],\n",
              "       [8.06497276e-01, 1.93502724e-01],\n",
              "       [7.67500043e-01, 2.32499957e-01],\n",
              "       [8.37925017e-01, 1.62074998e-01],\n",
              "       [6.27210855e-01, 3.72789204e-01],\n",
              "       [3.10553815e-02, 9.68944609e-01],\n",
              "       [4.37007189e-01, 5.62992871e-01],\n",
              "       [7.24409103e-01, 2.75590956e-01],\n",
              "       [8.14711690e-01, 1.85288355e-01],\n",
              "       [8.37925017e-01, 1.62074998e-01],\n",
              "       [7.94685662e-01, 2.05314323e-01],\n",
              "       [8.37925017e-01, 1.62074998e-01],\n",
              "       [7.67500043e-01, 2.32499957e-01],\n",
              "       [8.04796576e-01, 1.95203438e-01],\n",
              "       [7.85438061e-01, 2.14561969e-01],\n",
              "       [2.76928549e-05, 9.99972343e-01],\n",
              "       [8.37925017e-01, 1.62074998e-01],\n",
              "       [2.41222903e-01, 7.58777022e-01],\n",
              "       [6.93268359e-01, 3.06731701e-01],\n",
              "       [7.65149295e-01, 2.34850705e-01],\n",
              "       [7.85091460e-01, 2.14908525e-01],\n",
              "       [8.07734579e-02, 9.19226587e-01],\n",
              "       [6.95729733e-01, 3.04270267e-01],\n",
              "       [7.67500043e-01, 2.32499957e-01],\n",
              "       [4.48053211e-01, 5.51946759e-01],\n",
              "       [8.06497276e-01, 1.93502724e-01],\n",
              "       [7.68716335e-01, 2.31283635e-01],\n",
              "       [7.85091460e-01, 2.14908525e-01],\n",
              "       [9.48581636e-01, 5.14183827e-02],\n",
              "       [7.63179898e-01, 2.36820057e-01],\n",
              "       [7.67500043e-01, 2.32499957e-01],\n",
              "       [8.14711690e-01, 1.85288355e-01],\n",
              "       [8.37925017e-01, 1.62074998e-01],\n",
              "       [9.96834099e-01, 3.16591910e-03],\n",
              "       [1.09033228e-03, 9.98909712e-01],\n",
              "       [7.91689992e-01, 2.08309993e-01],\n",
              "       [6.06343865e-01, 3.93656135e-01],\n",
              "       [7.85091460e-01, 2.14908525e-01],\n",
              "       [7.32591927e-01, 2.67408133e-01],\n",
              "       [7.85091460e-01, 2.14908525e-01],\n",
              "       [1.44722879e-01, 8.55277181e-01],\n",
              "       [1.11416599e-03, 9.98885810e-01],\n",
              "       [8.14711690e-01, 1.85288355e-01],\n",
              "       [7.39744365e-01, 2.60255665e-01],\n",
              "       [8.79350245e-01, 1.20649777e-01],\n",
              "       [6.49344862e-01, 3.50655228e-01],\n",
              "       [8.53071272e-01, 1.46928743e-01],\n",
              "       [2.01684260e-03, 9.97983098e-01],\n",
              "       [8.06497276e-01, 1.93502724e-01],\n",
              "       [8.05977166e-01, 1.94022819e-01],\n",
              "       [4.95259643e-01, 5.04740357e-01],\n",
              "       [8.52788389e-01, 1.47211641e-01],\n",
              "       [1.72742337e-01, 8.27257693e-01],\n",
              "       [1.44722879e-01, 8.55277181e-01],\n",
              "       [8.06497276e-01, 1.93502724e-01],\n",
              "       [4.32236789e-04, 9.99567807e-01],\n",
              "       [9.87855732e-01, 1.21442638e-02],\n",
              "       [7.49238491e-01, 2.50761539e-01],\n",
              "       [1.86282352e-01, 8.13717663e-01],\n",
              "       [6.77305870e-05, 9.99932289e-01],\n",
              "       [7.05786586e-01, 2.94213384e-01],\n",
              "       [7.96524942e-01, 2.03475058e-01],\n",
              "       [2.30775026e-04, 9.99769270e-01],\n",
              "       [9.92398798e-01, 7.60123180e-03],\n",
              "       [8.11658859e-01, 1.88341171e-01],\n",
              "       [6.83981285e-04, 9.99315977e-01],\n",
              "       [6.13928714e-04, 9.99386072e-01],\n",
              "       [7.46915042e-01, 2.53084958e-01],\n",
              "       [7.85091460e-01, 2.14908525e-01],\n",
              "       [7.82593310e-01, 2.17406720e-01],\n",
              "       [7.93184757e-01, 2.06815168e-01],\n",
              "       [8.05977166e-01, 1.94022819e-01],\n",
              "       [7.74800479e-01, 2.25199535e-01],\n",
              "       [2.98231781e-01, 7.01768219e-01],\n",
              "       [4.95259643e-01, 5.04740357e-01],\n",
              "       [7.85091460e-01, 2.14908525e-01],\n",
              "       [4.29641549e-03, 9.95703638e-01],\n",
              "       [8.37925017e-01, 1.62074998e-01],\n",
              "       [8.84900212e-01, 1.15099818e-01],\n",
              "       [8.05977166e-01, 1.94022819e-01],\n",
              "       [7.86701620e-01, 2.13298380e-01],\n",
              "       [7.43403196e-01, 2.56596744e-01],\n",
              "       [3.91077325e-02, 9.60892320e-01],\n",
              "       [5.57955384e-01, 4.42044586e-01],\n",
              "       [9.06212330e-01, 9.37876999e-02],\n",
              "       [8.34927619e-01, 1.65072426e-01],\n",
              "       [2.09284990e-05, 9.99979019e-01],\n",
              "       [8.05977166e-01, 1.94022819e-01],\n",
              "       [2.37246568e-04, 9.99762714e-01],\n",
              "       [8.37925017e-01, 1.62074998e-01],\n",
              "       [8.05977166e-01, 1.94022819e-01],\n",
              "       [5.96302198e-06, 9.99994040e-01],\n",
              "       [8.36840153e-01, 1.63159788e-01],\n",
              "       [1.45473487e-05, 9.99985456e-01],\n",
              "       [7.43403196e-01, 2.56596744e-01],\n",
              "       [7.91351974e-01, 2.08648011e-01],\n",
              "       [7.05786586e-01, 2.94213384e-01],\n",
              "       [8.38403046e-01, 1.61597013e-01],\n",
              "       [7.69061148e-01, 2.30938867e-01],\n",
              "       [4.37007189e-01, 5.62992871e-01],\n",
              "       [5.51952720e-01, 4.48047310e-01],\n",
              "       [4.37007189e-01, 5.62992871e-01],\n",
              "       [1.23322112e-04, 9.99876618e-01],\n",
              "       [6.73338056e-01, 3.26661915e-01],\n",
              "       [8.06497276e-01, 1.93502724e-01],\n",
              "       [6.13928714e-04, 9.99386072e-01],\n",
              "       [9.20359373e-01, 7.96406642e-02],\n",
              "       [8.06497276e-01, 1.93502724e-01],\n",
              "       [6.88439906e-01, 3.11560094e-01]], dtype=float32)"
            ]
          },
          "metadata": {
            "tags": []
          },
          "execution_count": 76
        }
      ]
    },
    {
      "cell_type": "code",
      "metadata": {
        "id": "5HOLkRsOr5vv"
      },
      "source": [
        "test_pred_argmax = np.argmax(test_pred, axis=1)"
      ],
      "execution_count": 77,
      "outputs": []
    },
    {
      "cell_type": "code",
      "metadata": {
        "colab": {
          "base_uri": "https://localhost:8080/"
        },
        "id": "Dd8ASaG2t4Ev",
        "outputId": "ff31fe30-71a1-4d25-ffd5-bdd4f694382e"
      },
      "source": [
        "test_pred_argmax"
      ],
      "execution_count": 78,
      "outputs": [
        {
          "output_type": "execute_result",
          "data": {
            "text/plain": [
              "array([0, 0, 0, 0, 0, 0, 1, 0, 0, 0, 0, 0, 1, 0, 1, 1, 0, 0, 0, 0, 0, 0,\n",
              "       1, 0, 1, 0, 1, 0, 0, 0, 0, 0, 0, 0, 0, 0, 1, 1, 0, 0, 0, 0, 0, 1,\n",
              "       1, 0, 0, 0, 1, 1, 0, 0, 1, 1, 0, 0, 0, 0, 0, 1, 0, 0, 0, 1, 1, 1,\n",
              "       1, 0, 0, 1, 1, 0, 1, 0, 1, 0, 0, 1, 0, 1, 0, 0, 0, 0, 0, 0, 1, 1,\n",
              "       1, 0, 1, 0, 1, 0, 0, 0, 1, 0, 0, 0, 1, 0, 0, 0, 1, 0, 0, 0, 0, 0,\n",
              "       0, 1, 1, 1, 1, 0, 0, 0, 0, 1, 1, 0, 1, 0, 0, 1, 0, 0, 0, 0, 0, 0,\n",
              "       1, 0, 0, 0, 0, 0, 1, 0, 0, 1, 0, 0, 0, 0, 0, 0, 0, 0, 1, 0, 0, 1,\n",
              "       0, 0, 1, 0, 0, 1, 1, 0, 1, 0, 0, 1, 0, 0, 1, 1, 0, 0, 0, 0, 0, 1,\n",
              "       1, 0, 1, 1, 0, 0, 1, 0, 1, 0, 1, 0, 0, 0, 0, 0, 0, 0, 0, 0, 0, 0,\n",
              "       0, 1, 1, 0, 0, 1, 0, 0, 0, 0, 1, 0, 0, 0, 0, 1, 0, 0, 1, 0, 1, 0,\n",
              "       1, 0, 0, 0, 1, 1, 0, 1, 0, 0, 0, 1, 0, 0, 0, 0, 0, 0, 1, 1, 1, 1,\n",
              "       0, 0, 0, 0, 1, 0, 1, 1, 1, 0, 0, 0, 0, 0, 0, 0, 1, 0, 0, 0, 1, 0,\n",
              "       0, 0, 0, 0, 1, 0, 0, 0, 1, 1, 0, 1, 0, 0, 0, 0, 1, 0, 1, 1, 0, 0,\n",
              "       0, 0, 0, 0, 0, 1, 0, 0, 0, 0, 1, 0, 0, 0, 0, 0, 0, 0, 1, 1, 0, 0,\n",
              "       0, 0, 0, 0, 0, 0, 1, 1, 0, 0, 0, 0, 0, 0, 0, 0, 1, 0, 1, 0, 0, 0,\n",
              "       1, 0, 0, 1, 0, 0, 0, 0, 0, 0, 0, 0, 0, 1, 0, 0, 0, 0, 0, 1, 1, 0,\n",
              "       0, 0, 0, 0, 1, 0, 0, 1, 0, 1, 1, 0, 1, 0, 0, 1, 1, 0, 0, 1, 0, 0,\n",
              "       1, 1, 0, 0, 0, 0, 0, 0, 1, 1, 0, 1, 0, 0, 0, 0, 0, 1, 0, 0, 0, 1,\n",
              "       0, 1, 0, 0, 1, 0, 1, 0, 0, 0, 0, 0, 1, 0, 1, 1, 0, 0, 1, 0, 0, 0])"
            ]
          },
          "metadata": {
            "tags": []
          },
          "execution_count": 78
        }
      ]
    },
    {
      "cell_type": "code",
      "metadata": {
        "id": "Z9eI-tOFx7JC"
      },
      "source": [
        "sub = submit['PassengerId']"
      ],
      "execution_count": null,
      "outputs": []
    },
    {
      "cell_type": "code",
      "metadata": {
        "id": "56i3tUcB0IJ1"
      },
      "source": [
        "sub = pd.concat([sub, pd.DataFrame(test_pred_argmax, columns=['Survived'])], axis=1)"
      ],
      "execution_count": null,
      "outputs": []
    },
    {
      "cell_type": "code",
      "metadata": {
        "id": "l_XficdN2T-i"
      },
      "source": [
        "sub"
      ],
      "execution_count": null,
      "outputs": []
    },
    {
      "cell_type": "code",
      "metadata": {
        "id": "dWnQwrlI3jXg"
      },
      "source": [
        "sub.index"
      ],
      "execution_count": null,
      "outputs": []
    },
    {
      "cell_type": "code",
      "metadata": {
        "id": "3l4o36740kUr"
      },
      "source": [
        "sub.to_csv(\"/content/drive/MyDrive/submission6.csv\", index=False)"
      ],
      "execution_count": null,
      "outputs": []
    },
    {
      "cell_type": "code",
      "metadata": {
        "colab": {
          "base_uri": "https://localhost:8080/",
          "height": 283
        },
        "id": "pXf3m_wtqtCU",
        "outputId": "837c0a51-38f1-4d26-82f4-4155a8924344"
      },
      "source": [
        "import matplotlib.pyplot as plt\r\n",
        "plt.figure(figsize=(12, 4))\r\n",
        "\r\n",
        "plt.subplot(1, 2, 1)\r\n",
        "plt.plot(history.history['loss'], 'b-', label='loss')\r\n",
        "plt.plot(history.history['val_loss'], 'r--', label='val_loss')\r\n",
        "plt.xlabel('Epoch')\r\n",
        "plt.legend()\r\n",
        "\r\n",
        "plt.subplot(1, 2, 2)\r\n",
        "plt.plot(history.history['accuracy'], 'g-', label='accuracy')\r\n",
        "plt.plot(history.history['val_accuracy'], 'k--', label='val_accuracy')\r\n",
        "plt.xlabel('Epoch')\r\n",
        "plt.ylim(0.7, 1)\r\n",
        "plt.legend()\r\n",
        "\r\n",
        "plt.show()"
      ],
      "execution_count": 79,
      "outputs": [
        {
          "output_type": "display_data",
          "data": {
            "image/png": "[encoded data removed]",
            "text/plain": [
              "<Figure size 864x288 with 2 Axes>"
            ]
          },
          "metadata": {
            "tags": [],
            "needs_background": "light"
          }
        }
      ]
    },
    {
      "cell_type": "code",
      "metadata": {
        "id": "FFCwV3_drjCi"
      },
      "source": [
        "import xgboost as xgb\r\n",
        "\r\n",
        "gbm = xgb.XGBClassifier(\r\n",
        "    #learning_rate = 0.02,\r\n",
        " n_estimators= 2000,\r\n",
        " max_depth= 4,\r\n",
        " min_child_weight= 2,\r\n",
        " #gamma=1,\r\n",
        " gamma=0.9,                        \r\n",
        " subsample=0.8,\r\n",
        " colsample_bytree=0.8,\r\n",
        " objective= 'binary:logistic',\r\n",
        " nthread= -1,\r\n",
        " scale_pos_weight=1).fit(x_train, y_train)\r\n",
        "xgb_predictions = gbm.predict(x_test)"
      ],
      "execution_count": 80,
      "outputs": []
    },
    {
      "cell_type": "code",
      "metadata": {
        "colab": {
          "base_uri": "https://localhost:8080/"
        },
        "id": "zRWcvkqN7dO5",
        "outputId": "34e3acea-f8a8-4083-ce70-d54b6129ac69"
      },
      "source": [
        "gbm.score(x_train,y_train)"
      ],
      "execution_count": 81,
      "outputs": [
        {
          "output_type": "execute_result",
          "data": {
            "text/plain": [
              "0.8802395209580839"
            ]
          },
          "metadata": {
            "tags": []
          },
          "execution_count": 81
        }
      ]
    },
    {
      "cell_type": "code",
      "metadata": {
        "colab": {
          "base_uri": "https://localhost:8080/"
        },
        "id": "Qio9LWnq7gEw",
        "outputId": "defa30eb-311d-4c50-e89b-1da0340cd535"
      },
      "source": [
        "gbm.score(x_test,y_test)"
      ],
      "execution_count": 82,
      "outputs": [
        {
          "output_type": "execute_result",
          "data": {
            "text/plain": [
              "0.7757847533632287"
            ]
          },
          "metadata": {
            "tags": []
          },
          "execution_count": 82
        }
      ]
    },
    {
      "cell_type": "code",
      "metadata": {
        "id": "t-tcsAeK_qxu"
      },
      "source": [
        "gbm_pred = gbm.predict(test)\r\n",
        "gbm_pred = np.array(gbm_pred, dtype='int')"
      ],
      "execution_count": 86,
      "outputs": []
    },
    {
      "cell_type": "code",
      "metadata": {
        "colab": {
          "base_uri": "https://localhost:8080/"
        },
        "id": "II9-ilkldeAC",
        "outputId": "eaf460f8-369d-419d-87a0-19855a26b151"
      },
      "source": [
        "gbm_pred"
      ],
      "execution_count": 87,
      "outputs": [
        {
          "output_type": "execute_result",
          "data": {
            "text/plain": [
              "array([0, 0, 0, 0, 0, 0, 1, 0, 1, 0, 0, 0, 1, 0, 1, 1, 0, 0, 0, 0, 0, 1,\n",
              "       1, 0, 1, 0, 1, 0, 0, 0, 0, 0, 1, 0, 1, 0, 0, 0, 0, 0, 0, 1, 0, 1,\n",
              "       1, 0, 0, 0, 1, 0, 0, 1, 1, 1, 1, 0, 0, 0, 0, 1, 0, 0, 0, 1, 0, 1,\n",
              "       1, 0, 1, 1, 1, 0, 0, 1, 1, 0, 0, 1, 0, 1, 1, 0, 0, 0, 0, 0, 1, 0,\n",
              "       1, 1, 0, 0, 1, 0, 1, 0, 1, 0, 0, 0, 1, 0, 0, 0, 1, 0, 0, 0, 0, 0,\n",
              "       0, 1, 1, 1, 1, 0, 0, 1, 0, 1, 1, 0, 1, 0, 0, 1, 0, 1, 0, 0, 0, 0,\n",
              "       0, 0, 0, 0, 0, 0, 0, 0, 0, 1, 0, 0, 0, 0, 0, 0, 0, 0, 1, 0, 0, 0,\n",
              "       0, 0, 1, 0, 1, 0, 1, 1, 1, 0, 0, 0, 0, 0, 1, 0, 0, 0, 0, 0, 0, 1,\n",
              "       1, 0, 1, 1, 0, 1, 1, 0, 1, 0, 1, 0, 0, 0, 0, 0, 1, 0, 1, 0, 1, 0,\n",
              "       0, 0, 1, 1, 1, 1, 0, 0, 0, 0, 1, 0, 0, 0, 0, 1, 0, 0, 1, 0, 1, 0,\n",
              "       1, 0, 1, 0, 1, 1, 0, 1, 0, 0, 0, 1, 0, 0, 1, 0, 1, 0, 1, 1, 1, 1,\n",
              "       1, 0, 0, 0, 1, 0, 1, 0, 1, 0, 1, 0, 0, 0, 0, 0, 1, 0, 0, 0, 1, 1,\n",
              "       1, 0, 0, 0, 0, 0, 0, 0, 1, 1, 0, 1, 0, 0, 0, 0, 0, 1, 1, 1, 1, 0,\n",
              "       0, 0, 0, 0, 0, 1, 0, 0, 0, 0, 1, 0, 0, 0, 0, 1, 0, 0, 1, 1, 0, 1,\n",
              "       0, 0, 0, 0, 0, 0, 1, 1, 0, 0, 0, 0, 0, 0, 0, 0, 1, 0, 1, 0, 0, 0,\n",
              "       1, 0, 0, 1, 0, 0, 0, 0, 0, 0, 0, 0, 0, 1, 0, 0, 0, 0, 0, 1, 1, 0,\n",
              "       0, 0, 1, 0, 1, 0, 0, 0, 0, 1, 1, 0, 1, 0, 0, 1, 1, 1, 0, 1, 0, 0,\n",
              "       1, 1, 0, 0, 0, 0, 0, 0, 0, 0, 0, 1, 0, 0, 0, 0, 0, 1, 1, 0, 0, 1,\n",
              "       0, 1, 0, 0, 1, 0, 1, 0, 1, 1, 0, 1, 1, 1, 1, 1, 0, 0, 1, 0, 0, 0])"
            ]
          },
          "metadata": {
            "tags": []
          },
          "execution_count": 87
        }
      ]
    },
    {
      "cell_type": "code",
      "metadata": {
        "id": "UYbjjcs-CK8z"
      },
      "source": [
        "sub0 = submit['PassengerId']\r\n",
        "sub0 = pd.concat([sub0, pd.DataFrame(gbm_pred, columns=['Survived'])], axis=1)"
      ],
      "execution_count": null,
      "outputs": []
    },
    {
      "cell_type": "code",
      "metadata": {
        "id": "AifQMdx5ClKV"
      },
      "source": [
        "sub0"
      ],
      "execution_count": null,
      "outputs": []
    },
    {
      "cell_type": "code",
      "metadata": {
        "id": "kx7uPDpyCgzG"
      },
      "source": [
        "sub0.to_csv(\"/content/drive/MyDrive/submission4.csv\", index=False)"
      ],
      "execution_count": null,
      "outputs": []
    },
    {
      "cell_type": "code",
      "metadata": {
        "colab": {
          "base_uri": "https://localhost:8080/"
        },
        "id": "7yaoppY-7iqT",
        "outputId": "436ea067-518a-4390-bcc2-1883e5c82798"
      },
      "source": [
        "from sklearn.ensemble import RandomForestClassifier\r\n",
        "\r\n",
        "forest = RandomForestClassifier()\r\n",
        "\r\n",
        "forest.fit(x_train, y_train)\r\n",
        "\r\n",
        "print(forest.score(x_train, y_train))\r\n",
        "print(forest.score(x_test, y_test))"
      ],
      "execution_count": 83,
      "outputs": [
        {
          "output_type": "stream",
          "text": [
            "0.905688622754491\n",
            "0.7802690582959642\n"
          ],
          "name": "stdout"
        }
      ]
    },
    {
      "cell_type": "code",
      "metadata": {
        "id": "Bcd6o6Rl7pfW"
      },
      "source": [
        "forest_pred = forest.predict(test)\r\n",
        "forest_pred = np.array(forest_pred, dtype='int')"
      ],
      "execution_count": 84,
      "outputs": []
    },
    {
      "cell_type": "code",
      "metadata": {
        "colab": {
          "base_uri": "https://localhost:8080/"
        },
        "id": "Ct2jhySodlTo",
        "outputId": "7f775258-a2c9-4618-b9b6-264d58e108f1"
      },
      "source": [
        "forest_pred"
      ],
      "execution_count": 88,
      "outputs": [
        {
          "output_type": "execute_result",
          "data": {
            "text/plain": [
              "array([0, 0, 0, 0, 1, 0, 1, 0, 1, 0, 0, 0, 1, 0, 1, 1, 0, 0, 0, 1, 1, 0,\n",
              "       1, 0, 1, 0, 1, 0, 0, 0, 0, 0, 0, 0, 0, 0, 0, 0, 0, 0, 0, 1, 0, 1,\n",
              "       1, 0, 0, 0, 1, 0, 0, 1, 1, 1, 1, 0, 0, 0, 0, 1, 0, 0, 0, 1, 1, 1,\n",
              "       1, 0, 1, 1, 1, 0, 0, 1, 1, 0, 0, 1, 0, 1, 1, 0, 0, 0, 0, 0, 1, 0,\n",
              "       1, 1, 1, 0, 1, 0, 1, 0, 1, 0, 0, 0, 1, 0, 0, 0, 1, 0, 0, 0, 0, 0,\n",
              "       0, 1, 1, 1, 1, 0, 0, 1, 0, 1, 1, 0, 1, 0, 0, 1, 0, 1, 0, 0, 0, 0,\n",
              "       0, 0, 0, 0, 0, 0, 0, 0, 0, 1, 1, 0, 0, 0, 0, 0, 0, 0, 1, 0, 0, 0,\n",
              "       1, 0, 1, 0, 1, 1, 1, 1, 1, 0, 0, 0, 0, 0, 1, 0, 0, 0, 0, 0, 0, 1,\n",
              "       1, 1, 1, 1, 0, 1, 1, 0, 1, 0, 1, 0, 0, 0, 0, 0, 1, 0, 1, 0, 1, 0,\n",
              "       0, 0, 1, 1, 1, 1, 0, 0, 0, 0, 1, 0, 0, 0, 0, 1, 1, 0, 1, 0, 1, 0,\n",
              "       1, 0, 1, 0, 0, 0, 0, 1, 0, 0, 0, 1, 0, 0, 1, 0, 1, 0, 1, 1, 0, 1,\n",
              "       1, 0, 0, 1, 1, 0, 1, 0, 1, 0, 0, 0, 0, 0, 0, 0, 1, 0, 0, 0, 1, 1,\n",
              "       1, 0, 0, 0, 0, 0, 0, 0, 1, 1, 0, 1, 0, 0, 0, 0, 0, 1, 1, 1, 1, 0,\n",
              "       0, 0, 0, 0, 0, 1, 0, 0, 0, 0, 1, 0, 0, 0, 0, 1, 0, 0, 1, 1, 1, 1,\n",
              "       0, 0, 0, 0, 0, 0, 1, 1, 1, 0, 0, 0, 0, 0, 0, 0, 1, 0, 1, 0, 0, 0,\n",
              "       1, 0, 0, 0, 0, 1, 0, 0, 0, 0, 0, 0, 0, 1, 0, 0, 0, 1, 0, 1, 1, 0,\n",
              "       0, 0, 1, 1, 1, 0, 0, 1, 0, 1, 1, 0, 1, 0, 0, 1, 1, 1, 0, 1, 0, 0,\n",
              "       1, 1, 0, 0, 0, 1, 0, 0, 1, 1, 0, 1, 0, 0, 0, 0, 0, 1, 1, 0, 0, 1,\n",
              "       0, 1, 0, 0, 1, 0, 1, 0, 1, 1, 0, 0, 1, 1, 1, 1, 0, 0, 1, 0, 0, 0])"
            ]
          },
          "metadata": {
            "tags": []
          },
          "execution_count": 88
        }
      ]
    },
    {
      "cell_type": "code",
      "metadata": {
        "id": "uDuyjbGN71iE"
      },
      "source": [
        "sub1 = submit['PassengerId']\r\n",
        "sub1 = pd.concat([sub1, pd.DataFrame(forest_pred, columns=['Survived'])], axis=1)"
      ],
      "execution_count": null,
      "outputs": []
    },
    {
      "cell_type": "code",
      "metadata": {
        "id": "InVay5RAdwiO"
      },
      "source": [
        "new_pred = test_pred_argmax * 0.4 + gbm_pred * 0.3 + forest_pred * 0.3"
      ],
      "execution_count": 89,
      "outputs": []
    },
    {
      "cell_type": "code",
      "metadata": {
        "colab": {
          "base_uri": "https://localhost:8080/"
        },
        "id": "SR59Y-eAeJ9D",
        "outputId": "598ce3aa-8585-4777-aa59-51e873673965"
      },
      "source": [
        "new_pred"
      ],
      "execution_count": 90,
      "outputs": [
        {
          "output_type": "execute_result",
          "data": {
            "text/plain": [
              "array([0. , 0. , 0. , 0. , 0.3, 0. , 1. , 0. , 0.6, 0. , 0. , 0. , 1. ,\n",
              "       0. , 1. , 1. , 0. , 0. , 0. , 0.3, 0.3, 0.3, 1. , 0. , 1. , 0. ,\n",
              "       1. , 0. , 0. , 0. , 0. , 0. , 0.3, 0. , 0.3, 0. , 0.4, 0.4, 0. ,\n",
              "       0. , 0. , 0.6, 0. , 1. , 1. , 0. , 0. , 0. , 1. , 0.4, 0. , 0.6,\n",
              "       1. , 1. , 0.6, 0. , 0. , 0. , 0. , 1. , 0. , 0. , 0. , 1. , 0.7,\n",
              "       1. , 1. , 0. , 0.6, 1. , 1. , 0. , 0.4, 0.6, 1. , 0. , 0. , 1. ,\n",
              "       0. , 1. , 0.6, 0. , 0. , 0. , 0. , 0. , 1. , 0.4, 1. , 0.6, 0.7,\n",
              "       0. , 1. , 0. , 0.6, 0. , 1. , 0. , 0. , 0. , 1. , 0. , 0. , 0. ,\n",
              "       1. , 0. , 0. , 0. , 0. , 0. , 0. , 1. , 1. , 1. , 1. , 0. , 0. ,\n",
              "       0.6, 0. , 1. , 1. , 0. , 1. , 0. , 0. , 1. , 0. , 0.6, 0. , 0. ,\n",
              "       0. , 0. , 0.4, 0. , 0. , 0. , 0. , 0. , 0.4, 0. , 0. , 1. , 0.3,\n",
              "       0. , 0. , 0. , 0. , 0. , 0. , 0. , 1. , 0. , 0. , 0.4, 0.3, 0. ,\n",
              "       1. , 0. , 0.6, 0.7, 1. , 0.6, 1. , 0. , 0. , 0.4, 0. , 0. , 1. ,\n",
              "       0.4, 0. , 0. , 0. , 0. , 0. , 1. , 1. , 0.3, 1. , 1. , 0. , 0.6,\n",
              "       1. , 0. , 1. , 0. , 1. , 0. , 0. , 0. , 0. , 0. , 0.6, 0. , 0.6,\n",
              "       0. , 0.6, 0. , 0. , 0.4, 1. , 0.6, 0.6, 1. , 0. , 0. , 0. , 0. ,\n",
              "       1. , 0. , 0. , 0. , 0. , 1. , 0.3, 0. , 1. , 0. , 1. , 0. , 1. ,\n",
              "       0. , 0.6, 0. , 0.7, 0.7, 0. , 1. , 0. , 0. , 0. , 1. , 0. , 0. ,\n",
              "       0.6, 0. , 0.6, 0. , 1. , 1. , 0.7, 1. , 0.6, 0. , 0. , 0.3, 1. ,\n",
              "       0. , 1. , 0.4, 1. , 0. , 0.3, 0. , 0. , 0. , 0. , 0. , 1. , 0. ,\n",
              "       0. , 0. , 1. , 0.6, 0.6, 0. , 0. , 0. , 0.4, 0. , 0. , 0. , 1. ,\n",
              "       1. , 0. , 1. , 0. , 0. , 0. , 0. , 0.4, 0.6, 1. , 1. , 0.6, 0. ,\n",
              "       0. , 0. , 0. , 0. , 0. , 1. , 0. , 0. , 0. , 0. , 1. , 0. , 0. ,\n",
              "       0. , 0. , 0.6, 0. , 0. , 1. , 1. , 0.3, 0.6, 0. , 0. , 0. , 0. ,\n",
              "       0. , 0. , 1. , 1. , 0.3, 0. , 0. , 0. , 0. , 0. , 0. , 0. , 1. ,\n",
              "       0. , 1. , 0. , 0. , 0. , 1. , 0. , 0. , 0.7, 0. , 0.3, 0. , 0. ,\n",
              "       0. , 0. , 0. , 0. , 0. , 1. , 0. , 0. , 0. , 0.3, 0. , 1. , 1. ,\n",
              "       0. , 0. , 0. , 0.6, 0.3, 1. , 0. , 0. , 0.7, 0. , 1. , 1. , 0. ,\n",
              "       1. , 0. , 0. , 1. , 1. , 0.6, 0. , 1. , 0. , 0. , 1. , 1. , 0. ,\n",
              "       0. , 0. , 0.3, 0. , 0. , 0.7, 0.7, 0. , 1. , 0. , 0. , 0. , 0. ,\n",
              "       0. , 1. , 0.6, 0. , 0. , 1. , 0. , 1. , 0. , 0. , 1. , 0. , 1. ,\n",
              "       0. , 0.6, 0.6, 0. , 0.3, 1. , 0.6, 1. , 1. , 0. , 0. , 1. , 0. ,\n",
              "       0. , 0. ])"
            ]
          },
          "metadata": {
            "tags": []
          },
          "execution_count": 90
        }
      ]
    },
    {
      "cell_type": "code",
      "metadata": {
        "colab": {
          "base_uri": "https://localhost:8080/"
        },
        "id": "g9zndCBQfTrH",
        "outputId": "8b7ee5a5-758f-4730-ab21-ab2a2d27f495"
      },
      "source": [
        "new_pred[4]"
      ],
      "execution_count": 94,
      "outputs": [
        {
          "output_type": "execute_result",
          "data": {
            "text/plain": [
              "0.3"
            ]
          },
          "metadata": {
            "tags": []
          },
          "execution_count": 94
        }
      ]
    },
    {
      "cell_type": "code",
      "metadata": {
        "id": "ohyPVhGCeJ3L"
      },
      "source": [
        "for i, x in enumerate(new_pred):\r\n",
        "  if x >= 0.4:\r\n",
        "    y = 1\r\n",
        "  else:\r\n",
        "    y = 0\r\n",
        "  new_pred[i] = y"
      ],
      "execution_count": 96,
      "outputs": []
    },
    {
      "cell_type": "code",
      "metadata": {
        "id": "7f6FRB1JeJ0B"
      },
      "source": [
        "new_pred = np.array(new_pred, 'int')"
      ],
      "execution_count": 99,
      "outputs": []
    },
    {
      "cell_type": "code",
      "metadata": {
        "colab": {
          "base_uri": "https://localhost:8080/"
        },
        "id": "q5EAKGUZgQ5E",
        "outputId": "30cb4a49-0064-4c14-e2c9-1689be8ac7e9"
      },
      "source": [
        "new_pred"
      ],
      "execution_count": 100,
      "outputs": [
        {
          "output_type": "execute_result",
          "data": {
            "text/plain": [
              "array([0, 0, 0, 0, 0, 0, 1, 0, 1, 0, 0, 0, 1, 0, 1, 1, 0, 0, 0, 0, 0, 0,\n",
              "       1, 0, 1, 0, 1, 0, 0, 0, 0, 0, 0, 0, 0, 0, 1, 1, 0, 0, 0, 1, 0, 1,\n",
              "       1, 0, 0, 0, 1, 1, 0, 1, 1, 1, 1, 0, 0, 0, 0, 1, 0, 0, 0, 1, 1, 1,\n",
              "       1, 0, 1, 1, 1, 0, 1, 1, 1, 0, 0, 1, 0, 1, 1, 0, 0, 0, 0, 0, 1, 1,\n",
              "       1, 1, 1, 0, 1, 0, 1, 0, 1, 0, 0, 0, 1, 0, 0, 0, 1, 0, 0, 0, 0, 0,\n",
              "       0, 1, 1, 1, 1, 0, 0, 1, 0, 1, 1, 0, 1, 0, 0, 1, 0, 1, 0, 0, 0, 0,\n",
              "       1, 0, 0, 0, 0, 0, 1, 0, 0, 1, 0, 0, 0, 0, 0, 0, 0, 0, 1, 0, 0, 1,\n",
              "       0, 0, 1, 0, 1, 1, 1, 1, 1, 0, 0, 1, 0, 0, 1, 1, 0, 0, 0, 0, 0, 1,\n",
              "       1, 0, 1, 1, 0, 1, 1, 0, 1, 0, 1, 0, 0, 0, 0, 0, 1, 0, 1, 0, 1, 0,\n",
              "       0, 1, 1, 1, 1, 1, 0, 0, 0, 0, 1, 0, 0, 0, 0, 1, 0, 0, 1, 0, 1, 0,\n",
              "       1, 0, 1, 0, 1, 1, 0, 1, 0, 0, 0, 1, 0, 0, 1, 0, 1, 0, 1, 1, 1, 1,\n",
              "       1, 0, 0, 0, 1, 0, 1, 1, 1, 0, 0, 0, 0, 0, 0, 0, 1, 0, 0, 0, 1, 1,\n",
              "       1, 0, 0, 0, 1, 0, 0, 0, 1, 1, 0, 1, 0, 0, 0, 0, 1, 1, 1, 1, 1, 0,\n",
              "       0, 0, 0, 0, 0, 1, 0, 0, 0, 0, 1, 0, 0, 0, 0, 1, 0, 0, 1, 1, 0, 1,\n",
              "       0, 0, 0, 0, 0, 0, 1, 1, 0, 0, 0, 0, 0, 0, 0, 0, 1, 0, 1, 0, 0, 0,\n",
              "       1, 0, 0, 1, 0, 0, 0, 0, 0, 0, 0, 0, 0, 1, 0, 0, 0, 0, 0, 1, 1, 0,\n",
              "       0, 0, 1, 0, 1, 0, 0, 1, 0, 1, 1, 0, 1, 0, 0, 1, 1, 1, 0, 1, 0, 0,\n",
              "       1, 1, 0, 0, 0, 0, 0, 0, 1, 1, 0, 1, 0, 0, 0, 0, 0, 1, 1, 0, 0, 1,\n",
              "       0, 1, 0, 0, 1, 0, 1, 0, 1, 1, 0, 0, 1, 1, 1, 1, 0, 0, 1, 0, 0, 0])"
            ]
          },
          "metadata": {
            "tags": []
          },
          "execution_count": 100
        }
      ]
    },
    {
      "cell_type": "code",
      "metadata": {
        "id": "tYz9vHeigUVK"
      },
      "source": [
        "sub1 = submit['PassengerId']\r\n",
        "new_sub = pd.concat([sub1, pd.DataFrame(new_pred, columns=['Survived'])], axis=1)"
      ],
      "execution_count": 101,
      "outputs": []
    },
    {
      "cell_type": "code",
      "metadata": {
        "id": "mTvYdXr_gj5U"
      },
      "source": [
        "new_sub.to_csv(\"/content/drive/MyDrive/submission_0228_1.csv\", index=False)"
      ],
      "execution_count": 104,
      "outputs": []
    },
    {
      "cell_type": "code",
      "metadata": {
        "id": "ssApQW7vgj0a"
      },
      "source": [
        ""
      ],
      "execution_count": null,
      "outputs": []
    },
    {
      "cell_type": "code",
      "metadata": {
        "id": "y-XOpjxt748Y"
      },
      "source": [
        "sub1"
      ],
      "execution_count": null,
      "outputs": []
    },
    {
      "cell_type": "code",
      "metadata": {
        "id": "OBHj-vXh86nH"
      },
      "source": [
        "sub1.to_csv(\"/content/drive/MyDrive/submission5.csv\", index=False)"
      ],
      "execution_count": null,
      "outputs": []
    },
    {
      "cell_type": "code",
      "metadata": {
        "id": "pMHWggbh9IeR"
      },
      "source": [
        "forest_pred"
      ],
      "execution_count": null,
      "outputs": []
    },
    {
      "cell_type": "code",
      "metadata": {
        "id": "kXyC2keI-lMl"
      },
      "source": [
        "new_pred = test_pred_argmax + gbm_pred + forest_pred"
      ],
      "execution_count": 105,
      "outputs": []
    },
    {
      "cell_type": "code",
      "metadata": {
        "id": "q6cm29wQhSEC"
      },
      "source": [
        "for i, x in enumerate(new_pred):\r\n",
        "  if x >= 2:\r\n",
        "    y = 1\r\n",
        "  else:\r\n",
        "    y = 0\r\n",
        "  new_pred[i] = y"
      ],
      "execution_count": 106,
      "outputs": []
    },
    {
      "cell_type": "code",
      "metadata": {
        "colab": {
          "base_uri": "https://localhost:8080/"
        },
        "id": "j5WYw20WhXhS",
        "outputId": "8d99d587-a412-4bac-aa4a-56246b54a417"
      },
      "source": [
        "new_pred"
      ],
      "execution_count": 107,
      "outputs": [
        {
          "output_type": "execute_result",
          "data": {
            "text/plain": [
              "array([0, 0, 0, 0, 0, 0, 1, 0, 1, 0, 0, 0, 1, 0, 1, 1, 0, 0, 0, 0, 0, 0,\n",
              "       1, 0, 1, 0, 1, 0, 0, 0, 0, 0, 0, 0, 0, 0, 0, 0, 0, 0, 0, 1, 0, 1,\n",
              "       1, 0, 0, 0, 1, 0, 0, 1, 1, 1, 1, 0, 0, 0, 0, 1, 0, 0, 0, 1, 1, 1,\n",
              "       1, 0, 1, 1, 1, 0, 0, 1, 1, 0, 0, 1, 0, 1, 1, 0, 0, 0, 0, 0, 1, 0,\n",
              "       1, 1, 1, 0, 1, 0, 1, 0, 1, 0, 0, 0, 1, 0, 0, 0, 1, 0, 0, 0, 0, 0,\n",
              "       0, 1, 1, 1, 1, 0, 0, 1, 0, 1, 1, 0, 1, 0, 0, 1, 0, 1, 0, 0, 0, 0,\n",
              "       0, 0, 0, 0, 0, 0, 0, 0, 0, 1, 0, 0, 0, 0, 0, 0, 0, 0, 1, 0, 0, 0,\n",
              "       0, 0, 1, 0, 1, 1, 1, 1, 1, 0, 0, 0, 0, 0, 1, 0, 0, 0, 0, 0, 0, 1,\n",
              "       1, 0, 1, 1, 0, 1, 1, 0, 1, 0, 1, 0, 0, 0, 0, 0, 1, 0, 1, 0, 1, 0,\n",
              "       0, 0, 1, 1, 1, 1, 0, 0, 0, 0, 1, 0, 0, 0, 0, 1, 0, 0, 1, 0, 1, 0,\n",
              "       1, 0, 1, 0, 1, 1, 0, 1, 0, 0, 0, 1, 0, 0, 1, 0, 1, 0, 1, 1, 1, 1,\n",
              "       1, 0, 0, 0, 1, 0, 1, 0, 1, 0, 0, 0, 0, 0, 0, 0, 1, 0, 0, 0, 1, 1,\n",
              "       1, 0, 0, 0, 0, 0, 0, 0, 1, 1, 0, 1, 0, 0, 0, 0, 0, 1, 1, 1, 1, 0,\n",
              "       0, 0, 0, 0, 0, 1, 0, 0, 0, 0, 1, 0, 0, 0, 0, 1, 0, 0, 1, 1, 0, 1,\n",
              "       0, 0, 0, 0, 0, 0, 1, 1, 0, 0, 0, 0, 0, 0, 0, 0, 1, 0, 1, 0, 0, 0,\n",
              "       1, 0, 0, 1, 0, 0, 0, 0, 0, 0, 0, 0, 0, 1, 0, 0, 0, 0, 0, 1, 1, 0,\n",
              "       0, 0, 1, 0, 1, 0, 0, 1, 0, 1, 1, 0, 1, 0, 0, 1, 1, 1, 0, 1, 0, 0,\n",
              "       1, 1, 0, 0, 0, 0, 0, 0, 1, 1, 0, 1, 0, 0, 0, 0, 0, 1, 1, 0, 0, 1,\n",
              "       0, 1, 0, 0, 1, 0, 1, 0, 1, 1, 0, 0, 1, 1, 1, 1, 0, 0, 1, 0, 0, 0])"
            ]
          },
          "metadata": {
            "tags": []
          },
          "execution_count": 107
        }
      ]
    },
    {
      "cell_type": "code",
      "metadata": {
        "id": "PXsUz5yShZGN"
      },
      "source": [
        "sub1 = submit['PassengerId']\r\n",
        "new_sub = pd.concat([sub1, pd.DataFrame(new_pred, columns=['Survived'])], axis=1)"
      ],
      "execution_count": 108,
      "outputs": []
    },
    {
      "cell_type": "code",
      "metadata": {
        "id": "Td5-qxKWhdbs"
      },
      "source": [
        "new_sub.to_csv(\"/content/drive/MyDrive/submission_0228_2.csv\", index=False)"
      ],
      "execution_count": 109,
      "outputs": []
    },
    {
      "cell_type": "code",
      "metadata": {
        "id": "yRXElyfVhgAz"
      },
      "source": [
        ""
      ],
      "execution_count": null,
      "outputs": []
    }
  ]
}