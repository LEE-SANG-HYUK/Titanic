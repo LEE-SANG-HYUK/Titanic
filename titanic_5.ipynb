{
  "nbformat": 4,
  "nbformat_minor": 0,
  "metadata": {
    "colab": {
      "name": "titanic_5.ipynb",
      "provenance": [],
      "collapsed_sections": [],
      "mount_file_id": "1v-SkC5sAx9cogF2EgEUlawIm-p3tfakY",
      "authorship_tag": "ABX9TyNhtHMmgLQtFuoRVIkVRZ8w",
      "include_colab_link": true
    },
    "kernelspec": {
      "name": "python3",
      "display_name": "Python 3"
    }
  },
  "cells": [
    {
      "cell_type": "markdown",
      "metadata": {
        "id": "view-in-github",
        "colab_type": "text"
      },
      "source": [
        "<a href=\"https://colab.research.google.com/github/LEE-SANG-HYUK/Titanic/blob/main/titanic_5.ipynb\" target=\"_parent\"><img src=\"https://colab.research.google.com/assets/colab-badge.svg\" alt=\"Open In Colab\"/></a>"
      ]
    },
    {
      "cell_type": "code",
      "metadata": {
        "colab": {
          "base_uri": "https://localhost:8080/",
          "height": 16
        },
        "id": "8Tf_oTbtM1PG",
        "outputId": "cebb7470-18ac-4ae5-d320-97c3c0fa66b1"
      },
      "source": [
        "import pandas as pd\r\n",
        "import numpy as np\r\n",
        "import re\r\n",
        "import sklearn\r\n",
        "import xgboost as xgb\r\n",
        "import seaborn as sns\r\n",
        "import matplotlib.pyplot as plt\r\n",
        "%matplotlib inline\r\n",
        "import tensorflow as tf\r\n",
        "\r\n",
        "import plotly.offline as py\r\n",
        "py.init_notebook_mode(connected=True)\r\n",
        "import plotly.graph_objs as go\r\n",
        "import plotly.tools as tls\r\n",
        "\r\n",
        "import warnings\r\n",
        "warnings.filterwarnings('ignore')\r\n",
        "\r\n",
        "# Going to use these 5 base models for the stacking\r\n",
        "from sklearn.ensemble import (RandomForestClassifier, AdaBoostClassifier, \r\n",
        "                              GradientBoostingClassifier, ExtraTreesClassifier)\r\n",
        "from sklearn.svm import SVC"
      ],
      "execution_count": 381,
      "outputs": [
        {
          "output_type": "display_data",
          "data": {
            "text/html": [
              "        <script type=\"text/javascript\">\n",
              "        window.PlotlyConfig = {MathJaxConfig: 'local'};\n",
              "        if (window.MathJax) {MathJax.Hub.Config({SVG: {font: \"STIX-Web\"}});}\n",
              "        if (typeof require !== 'undefined') {\n",
              "        require.undef(\"plotly\");\n",
              "        requirejs.config({\n",
              "            paths: {\n",
              "                'plotly': ['https://cdn.plot.ly/plotly-latest.min']\n",
              "            }\n",
              "        });\n",
              "        require(['plotly'], function(Plotly) {\n",
              "            window._Plotly = Plotly;\n",
              "        });\n",
              "        }\n",
              "        </script>\n",
              "        "
            ]
          },
          "metadata": {
            "tags": []
          }
        }
      ]
    },
    {
      "cell_type": "code",
      "metadata": {
        "id": "T16rsJvtM4DL"
      },
      "source": [
        "train = pd.read_csv(\"/content/drive/MyDrive/train.csv\")\r\n",
        "submit = pd.read_csv(\"/content/drive/MyDrive/test.csv\")"
      ],
      "execution_count": 382,
      "outputs": []
    },
    {
      "cell_type": "code",
      "metadata": {
        "colab": {
          "base_uri": "https://localhost:8080/",
          "height": 197
        },
        "id": "tW3SGdSXM7Ek",
        "outputId": "7b9f0f32-d9b2-44fd-d41b-98a8d9f3d389"
      },
      "source": [
        "train.head()"
      ],
      "execution_count": 383,
      "outputs": [
        {
          "output_type": "execute_result",
          "data": {
            "text/html": [
              "<div>\n",
              "<style scoped>\n",
              "    .dataframe tbody tr th:only-of-type {\n",
              "        vertical-align: middle;\n",
              "    }\n",
              "\n",
              "    .dataframe tbody tr th {\n",
              "        vertical-align: top;\n",
              "    }\n",
              "\n",
              "    .dataframe thead th {\n",
              "        text-align: right;\n",
              "    }\n",
              "</style>\n",
              "<table border=\"1\" class=\"dataframe\">\n",
              "  <thead>\n",
              "    <tr style=\"text-align: right;\">\n",
              "      <th></th>\n",
              "      <th>PassengerId</th>\n",
              "      <th>Survived</th>\n",
              "      <th>Pclass</th>\n",
              "      <th>Name</th>\n",
              "      <th>Sex</th>\n",
              "      <th>Age</th>\n",
              "      <th>SibSp</th>\n",
              "      <th>Parch</th>\n",
              "      <th>Ticket</th>\n",
              "      <th>Fare</th>\n",
              "      <th>Cabin</th>\n",
              "      <th>Embarked</th>\n",
              "    </tr>\n",
              "  </thead>\n",
              "  <tbody>\n",
              "    <tr>\n",
              "      <th>0</th>\n",
              "      <td>1</td>\n",
              "      <td>0</td>\n",
              "      <td>3</td>\n",
              "      <td>Braund, Mr. Owen Harris</td>\n",
              "      <td>male</td>\n",
              "      <td>22.0</td>\n",
              "      <td>1</td>\n",
              "      <td>0</td>\n",
              "      <td>A/5 21171</td>\n",
              "      <td>7.2500</td>\n",
              "      <td>NaN</td>\n",
              "      <td>S</td>\n",
              "    </tr>\n",
              "    <tr>\n",
              "      <th>1</th>\n",
              "      <td>2</td>\n",
              "      <td>1</td>\n",
              "      <td>1</td>\n",
              "      <td>Cumings, Mrs. John Bradley (Florence Briggs Th...</td>\n",
              "      <td>female</td>\n",
              "      <td>38.0</td>\n",
              "      <td>1</td>\n",
              "      <td>0</td>\n",
              "      <td>PC 17599</td>\n",
              "      <td>71.2833</td>\n",
              "      <td>C85</td>\n",
              "      <td>C</td>\n",
              "    </tr>\n",
              "    <tr>\n",
              "      <th>2</th>\n",
              "      <td>3</td>\n",
              "      <td>1</td>\n",
              "      <td>3</td>\n",
              "      <td>Heikkinen, Miss. Laina</td>\n",
              "      <td>female</td>\n",
              "      <td>26.0</td>\n",
              "      <td>0</td>\n",
              "      <td>0</td>\n",
              "      <td>STON/O2. 3101282</td>\n",
              "      <td>7.9250</td>\n",
              "      <td>NaN</td>\n",
              "      <td>S</td>\n",
              "    </tr>\n",
              "    <tr>\n",
              "      <th>3</th>\n",
              "      <td>4</td>\n",
              "      <td>1</td>\n",
              "      <td>1</td>\n",
              "      <td>Futrelle, Mrs. Jacques Heath (Lily May Peel)</td>\n",
              "      <td>female</td>\n",
              "      <td>35.0</td>\n",
              "      <td>1</td>\n",
              "      <td>0</td>\n",
              "      <td>113803</td>\n",
              "      <td>53.1000</td>\n",
              "      <td>C123</td>\n",
              "      <td>S</td>\n",
              "    </tr>\n",
              "    <tr>\n",
              "      <th>4</th>\n",
              "      <td>5</td>\n",
              "      <td>0</td>\n",
              "      <td>3</td>\n",
              "      <td>Allen, Mr. William Henry</td>\n",
              "      <td>male</td>\n",
              "      <td>35.0</td>\n",
              "      <td>0</td>\n",
              "      <td>0</td>\n",
              "      <td>373450</td>\n",
              "      <td>8.0500</td>\n",
              "      <td>NaN</td>\n",
              "      <td>S</td>\n",
              "    </tr>\n",
              "  </tbody>\n",
              "</table>\n",
              "</div>"
            ],
            "text/plain": [
              "   PassengerId  Survived  Pclass  ...     Fare Cabin  Embarked\n",
              "0            1         0       3  ...   7.2500   NaN         S\n",
              "1            2         1       1  ...  71.2833   C85         C\n",
              "2            3         1       3  ...   7.9250   NaN         S\n",
              "3            4         1       1  ...  53.1000  C123         S\n",
              "4            5         0       3  ...   8.0500   NaN         S\n",
              "\n",
              "[5 rows x 12 columns]"
            ]
          },
          "metadata": {
            "tags": []
          },
          "execution_count": 383
        }
      ]
    },
    {
      "cell_type": "code",
      "metadata": {
        "id": "_XC4ti2ENehX"
      },
      "source": [
        "full_data = [train, submit]"
      ],
      "execution_count": 384,
      "outputs": []
    },
    {
      "cell_type": "code",
      "metadata": {
        "id": "E4M3jilFPdp7"
      },
      "source": [
        "titanic = pd.concat([train, submit], axis=0).reset_index(drop=True)"
      ],
      "execution_count": 385,
      "outputs": []
    },
    {
      "cell_type": "markdown",
      "metadata": {
        "id": "ALVhpRgXOKX7"
      },
      "source": [
        "1.Age"
      ]
    },
    {
      "cell_type": "code",
      "metadata": {
        "id": "_g_Id3xQM9kY"
      },
      "source": [
        "titanic['Age'] = titanic.groupby(['Pclass', 'Sex'])['Age'].apply(lambda x: x.fillna(x.median()))"
      ],
      "execution_count": 386,
      "outputs": []
    },
    {
      "cell_type": "code",
      "metadata": {
        "id": "NEV7qVqXQVRw"
      },
      "source": [
        "titanic['Age'] = pd.cut(titanic['Age'].astype(int), 5)"
      ],
      "execution_count": 387,
      "outputs": []
    },
    {
      "cell_type": "code",
      "metadata": {
        "colab": {
          "base_uri": "https://localhost:8080/"
        },
        "id": "RCFYCxvwRGTW",
        "outputId": "d73d9b46-eaaa-4e2d-ec92-ba97efceb4a4"
      },
      "source": [
        "titanic['Age'].value_counts()"
      ],
      "execution_count": 388,
      "outputs": [
        {
          "output_type": "execute_result",
          "data": {
            "text/plain": [
              "(16.0, 32.0]     752\n",
              "(32.0, 48.0]     304\n",
              "(-0.08, 16.0]    134\n",
              "(48.0, 64.0]     106\n",
              "(64.0, 80.0]      13\n",
              "Name: Age, dtype: int64"
            ]
          },
          "metadata": {
            "tags": []
          },
          "execution_count": 388
        }
      ]
    },
    {
      "cell_type": "markdown",
      "metadata": {
        "id": "P6YluRzVOm0m"
      },
      "source": [
        "2.Fare"
      ]
    },
    {
      "cell_type": "code",
      "metadata": {
        "colab": {
          "base_uri": "https://localhost:8080/",
          "height": 77
        },
        "id": "ZrESxRkkOn8Y",
        "outputId": "cb1ca5e6-29c3-4636-8105-7892cdff493d"
      },
      "source": [
        "titanic.loc[titanic['Fare'].isnull()]"
      ],
      "execution_count": 389,
      "outputs": [
        {
          "output_type": "execute_result",
          "data": {
            "text/html": [
              "<div>\n",
              "<style scoped>\n",
              "    .dataframe tbody tr th:only-of-type {\n",
              "        vertical-align: middle;\n",
              "    }\n",
              "\n",
              "    .dataframe tbody tr th {\n",
              "        vertical-align: top;\n",
              "    }\n",
              "\n",
              "    .dataframe thead th {\n",
              "        text-align: right;\n",
              "    }\n",
              "</style>\n",
              "<table border=\"1\" class=\"dataframe\">\n",
              "  <thead>\n",
              "    <tr style=\"text-align: right;\">\n",
              "      <th></th>\n",
              "      <th>PassengerId</th>\n",
              "      <th>Survived</th>\n",
              "      <th>Pclass</th>\n",
              "      <th>Name</th>\n",
              "      <th>Sex</th>\n",
              "      <th>Age</th>\n",
              "      <th>SibSp</th>\n",
              "      <th>Parch</th>\n",
              "      <th>Ticket</th>\n",
              "      <th>Fare</th>\n",
              "      <th>Cabin</th>\n",
              "      <th>Embarked</th>\n",
              "    </tr>\n",
              "  </thead>\n",
              "  <tbody>\n",
              "    <tr>\n",
              "      <th>1043</th>\n",
              "      <td>1044</td>\n",
              "      <td>NaN</td>\n",
              "      <td>3</td>\n",
              "      <td>Storey, Mr. Thomas</td>\n",
              "      <td>male</td>\n",
              "      <td>(48.0, 64.0]</td>\n",
              "      <td>0</td>\n",
              "      <td>0</td>\n",
              "      <td>3701</td>\n",
              "      <td>NaN</td>\n",
              "      <td>NaN</td>\n",
              "      <td>S</td>\n",
              "    </tr>\n",
              "  </tbody>\n",
              "</table>\n",
              "</div>"
            ],
            "text/plain": [
              "      PassengerId  Survived  Pclass  ... Fare Cabin Embarked\n",
              "1043         1044       NaN       3  ...  NaN   NaN        S\n",
              "\n",
              "[1 rows x 12 columns]"
            ]
          },
          "metadata": {
            "tags": []
          },
          "execution_count": 389
        }
      ]
    },
    {
      "cell_type": "code",
      "metadata": {
        "colab": {
          "base_uri": "https://localhost:8080/"
        },
        "id": "PkBqMGsBOtiJ",
        "outputId": "cfdb1636-1d7b-4482-fdca-8a860f8232fd"
      },
      "source": [
        "Thomas = titanic.loc[(titanic['Pclass'] == 3) & (titanic['SibSp'] == 0) & (titanic['Embarked'] == 'S')]['Fare'].median()\r\n",
        "print(Thomas)"
      ],
      "execution_count": 390,
      "outputs": [
        {
          "output_type": "stream",
          "text": [
            "7.925\n"
          ],
          "name": "stdout"
        }
      ]
    },
    {
      "cell_type": "code",
      "metadata": {
        "id": "rzo5I3HAPkW9"
      },
      "source": [
        "titanic.loc[titanic['Fare'].isnull(), 'Fare'] = Thomas"
      ],
      "execution_count": 391,
      "outputs": []
    },
    {
      "cell_type": "code",
      "metadata": {
        "id": "ve_ugGS_PvmP"
      },
      "source": [
        "titanic['Fare'] = pd.qcut(titanic['Fare'], 5)"
      ],
      "execution_count": 392,
      "outputs": []
    },
    {
      "cell_type": "code",
      "metadata": {
        "colab": {
          "base_uri": "https://localhost:8080/"
        },
        "id": "5D-Jjgs0Rx_k",
        "outputId": "bed25382-0672-4fdf-ae42-94b24a4327b7"
      },
      "source": [
        "titanic['Fare'].value_counts()"
      ],
      "execution_count": 393,
      "outputs": [
        {
          "output_type": "execute_result",
          "data": {
            "text/plain": [
              "(-0.001, 7.854]      275\n",
              "(21.558, 41.579]     265\n",
              "(41.579, 512.329]    259\n",
              "(10.5, 21.558]       255\n",
              "(7.854, 10.5]        255\n",
              "Name: Fare, dtype: int64"
            ]
          },
          "metadata": {
            "tags": []
          },
          "execution_count": 393
        }
      ]
    },
    {
      "cell_type": "markdown",
      "metadata": {
        "id": "iPPcUGkXT2ys"
      },
      "source": [
        "3.Cabin"
      ]
    },
    {
      "cell_type": "code",
      "metadata": {
        "id": "6_kUvrC0T6di",
        "colab": {
          "base_uri": "https://localhost:8080/"
        },
        "outputId": "948c091c-0c07-474f-a7d7-8d83021c544f"
      },
      "source": [
        "print(titanic['Cabin'].unique())"
      ],
      "execution_count": 394,
      "outputs": [
        {
          "output_type": "stream",
          "text": [
            "[nan 'C85' 'C123' 'E46' 'G6' 'C103' 'D56' 'A6' 'C23 C25 C27' 'B78' 'D33'\n",
            " 'B30' 'C52' 'B28' 'C83' 'F33' 'F G73' 'E31' 'A5' 'D10 D12' 'D26' 'C110'\n",
            " 'B58 B60' 'E101' 'F E69' 'D47' 'B86' 'F2' 'C2' 'E33' 'B19' 'A7' 'C49'\n",
            " 'F4' 'A32' 'B4' 'B80' 'A31' 'D36' 'D15' 'C93' 'C78' 'D35' 'C87' 'B77'\n",
            " 'E67' 'B94' 'C125' 'C99' 'C118' 'D7' 'A19' 'B49' 'D' 'C22 C26' 'C106'\n",
            " 'C65' 'E36' 'C54' 'B57 B59 B63 B66' 'C7' 'E34' 'C32' 'B18' 'C124' 'C91'\n",
            " 'E40' 'T' 'C128' 'D37' 'B35' 'E50' 'C82' 'B96 B98' 'E10' 'E44' 'A34'\n",
            " 'C104' 'C111' 'C92' 'E38' 'D21' 'E12' 'E63' 'A14' 'B37' 'C30' 'D20' 'B79'\n",
            " 'E25' 'D46' 'B73' 'C95' 'B38' 'B39' 'B22' 'C86' 'C70' 'A16' 'C101' 'C68'\n",
            " 'A10' 'E68' 'B41' 'A20' 'D19' 'D50' 'D9' 'A23' 'B50' 'A26' 'D48' 'E58'\n",
            " 'C126' 'B71' 'B51 B53 B55' 'D49' 'B5' 'B20' 'F G63' 'C62 C64' 'E24' 'C90'\n",
            " 'C45' 'E8' 'B101' 'D45' 'C46' 'D30' 'E121' 'D11' 'E77' 'F38' 'B3' 'D6'\n",
            " 'B82 B84' 'D17' 'A36' 'B102' 'B69' 'E49' 'C47' 'D28' 'E17' 'A24' 'C50'\n",
            " 'B42' 'C148' 'B45' 'B36' 'A21' 'D34' 'A9' 'C31' 'B61' 'C53' 'D43' 'C130'\n",
            " 'C132' 'C55 C57' 'C116' 'F' 'A29' 'C6' 'C28' 'C51' 'C97' 'D22' 'B10'\n",
            " 'E45' 'E52' 'A11' 'B11' 'C80' 'C89' 'F E46' 'B26' 'F E57' 'A18' 'E60'\n",
            " 'E39 E41' 'B52 B54 B56' 'C39' 'B24' 'D40' 'D38' 'C105']\n"
          ],
          "name": "stdout"
        }
      ]
    },
    {
      "cell_type": "code",
      "metadata": {
        "colab": {
          "base_uri": "https://localhost:8080/"
        },
        "id": "Q1nD8cqvT95u",
        "outputId": "c4a87ce9-d98c-4e7c-d23a-f37b52b0734a"
      },
      "source": [
        "print(titanic['Cabin'].nunique())\r\n",
        "print(titanic['Cabin'].isnull().sum())"
      ],
      "execution_count": 395,
      "outputs": [
        {
          "output_type": "stream",
          "text": [
            "186\n",
            "1014\n"
          ],
          "name": "stdout"
        }
      ]
    },
    {
      "cell_type": "code",
      "metadata": {
        "id": "m0-HbefIUyAQ"
      },
      "source": [
        "titanic['Deck'] = titanic['Cabin'].apply(lambda s: s[0] if pd.notnull(s) else 'M')"
      ],
      "execution_count": 396,
      "outputs": []
    },
    {
      "cell_type": "code",
      "metadata": {
        "colab": {
          "base_uri": "https://localhost:8080/"
        },
        "id": "pD1n-8CPVkfn",
        "outputId": "241a5c99-03cc-405c-bdc7-653e1a04eb60"
      },
      "source": [
        "titanic[titanic['Pclass']==1]['Deck'].value_counts()"
      ],
      "execution_count": 397,
      "outputs": [
        {
          "output_type": "execute_result",
          "data": {
            "text/plain": [
              "C    94\n",
              "M    67\n",
              "B    65\n",
              "D    40\n",
              "E    34\n",
              "A    22\n",
              "T     1\n",
              "Name: Deck, dtype: int64"
            ]
          },
          "metadata": {
            "tags": []
          },
          "execution_count": 397
        }
      ]
    },
    {
      "cell_type": "code",
      "metadata": {
        "colab": {
          "base_uri": "https://localhost:8080/"
        },
        "id": "dd_od-DgVvNZ",
        "outputId": "b93649df-5f04-4420-db83-b6c7fbe02f49"
      },
      "source": [
        "titanic[titanic['Pclass']==2]['Deck'].value_counts()"
      ],
      "execution_count": 398,
      "outputs": [
        {
          "output_type": "execute_result",
          "data": {
            "text/plain": [
              "M    254\n",
              "F     13\n",
              "D      6\n",
              "E      4\n",
              "Name: Deck, dtype: int64"
            ]
          },
          "metadata": {
            "tags": []
          },
          "execution_count": 398
        }
      ]
    },
    {
      "cell_type": "code",
      "metadata": {
        "colab": {
          "base_uri": "https://localhost:8080/"
        },
        "id": "PpJ1JcydV2ro",
        "outputId": "3b831bf1-cd24-48c3-dcc2-0668ad9442e7"
      },
      "source": [
        "titanic[titanic['Pclass']==3]['Deck'].value_counts()"
      ],
      "execution_count": 399,
      "outputs": [
        {
          "output_type": "execute_result",
          "data": {
            "text/plain": [
              "M    693\n",
              "F      8\n",
              "G      5\n",
              "E      3\n",
              "Name: Deck, dtype: int64"
            ]
          },
          "metadata": {
            "tags": []
          },
          "execution_count": 399
        }
      ]
    },
    {
      "cell_type": "code",
      "metadata": {
        "colab": {
          "base_uri": "https://localhost:8080/",
          "height": 77
        },
        "id": "CxUQT8f9V3zj",
        "outputId": "79844346-c687-4d43-cb45-68105210020e"
      },
      "source": [
        "titanic[titanic['Deck'] == 'T']"
      ],
      "execution_count": 400,
      "outputs": [
        {
          "output_type": "execute_result",
          "data": {
            "text/html": [
              "<div>\n",
              "<style scoped>\n",
              "    .dataframe tbody tr th:only-of-type {\n",
              "        vertical-align: middle;\n",
              "    }\n",
              "\n",
              "    .dataframe tbody tr th {\n",
              "        vertical-align: top;\n",
              "    }\n",
              "\n",
              "    .dataframe thead th {\n",
              "        text-align: right;\n",
              "    }\n",
              "</style>\n",
              "<table border=\"1\" class=\"dataframe\">\n",
              "  <thead>\n",
              "    <tr style=\"text-align: right;\">\n",
              "      <th></th>\n",
              "      <th>PassengerId</th>\n",
              "      <th>Survived</th>\n",
              "      <th>Pclass</th>\n",
              "      <th>Name</th>\n",
              "      <th>Sex</th>\n",
              "      <th>Age</th>\n",
              "      <th>SibSp</th>\n",
              "      <th>Parch</th>\n",
              "      <th>Ticket</th>\n",
              "      <th>Fare</th>\n",
              "      <th>Cabin</th>\n",
              "      <th>Embarked</th>\n",
              "      <th>Deck</th>\n",
              "    </tr>\n",
              "  </thead>\n",
              "  <tbody>\n",
              "    <tr>\n",
              "      <th>339</th>\n",
              "      <td>340</td>\n",
              "      <td>0.0</td>\n",
              "      <td>1</td>\n",
              "      <td>Blackwell, Mr. Stephen Weart</td>\n",
              "      <td>male</td>\n",
              "      <td>(32.0, 48.0]</td>\n",
              "      <td>0</td>\n",
              "      <td>0</td>\n",
              "      <td>113784</td>\n",
              "      <td>(21.558, 41.579]</td>\n",
              "      <td>T</td>\n",
              "      <td>S</td>\n",
              "      <td>T</td>\n",
              "    </tr>\n",
              "  </tbody>\n",
              "</table>\n",
              "</div>"
            ],
            "text/plain": [
              "     PassengerId  Survived  Pclass  ... Cabin Embarked Deck\n",
              "339          340       0.0       1  ...     T        S    T\n",
              "\n",
              "[1 rows x 13 columns]"
            ]
          },
          "metadata": {
            "tags": []
          },
          "execution_count": 400
        }
      ]
    },
    {
      "cell_type": "code",
      "metadata": {
        "id": "S6hECbhPV7lt"
      },
      "source": [
        "idx = titanic[titanic['Deck'] == 'T'].index\r\n",
        "titanic.loc[idx, 'Deck'] = 'A'"
      ],
      "execution_count": 401,
      "outputs": []
    },
    {
      "cell_type": "code",
      "metadata": {
        "colab": {
          "base_uri": "https://localhost:8080/"
        },
        "id": "3a-L6FWaWDte",
        "outputId": "23853b86-3116-417d-ee2c-c18eea9b41b8"
      },
      "source": [
        "titanic['Deck'] = titanic['Deck'].replace(['A', 'B', 'C'], 'ABC')\r\n",
        "titanic['Deck'] = titanic['Deck'].replace(['D', 'E'], 'DE')\r\n",
        "titanic['Deck'] = titanic['Deck'].replace(['F', 'G'], 'FG')\r\n",
        "\r\n",
        "titanic['Deck'].value_counts()"
      ],
      "execution_count": 402,
      "outputs": [
        {
          "output_type": "execute_result",
          "data": {
            "text/plain": [
              "M      1014\n",
              "ABC     182\n",
              "DE       87\n",
              "FG       26\n",
              "Name: Deck, dtype: int64"
            ]
          },
          "metadata": {
            "tags": []
          },
          "execution_count": 402
        }
      ]
    },
    {
      "cell_type": "code",
      "metadata": {
        "id": "wFgb0ka1Yr2y"
      },
      "source": [
        "titanic.loc[(titanic['Pclass']==1) & (titanic['Deck']=='M'), 'Deck'] = 'ABC'\r\n",
        "titanic.loc[(titanic['Pclass']==2) & (titanic['Deck']=='M'), 'Deck'] = 'DE'\r\n",
        "titanic.loc[(titanic['Pclass']==3) & (titanic['Deck']=='M'), 'Deck'] = 'FG'"
      ],
      "execution_count": 403,
      "outputs": []
    },
    {
      "cell_type": "markdown",
      "metadata": {
        "id": "IVYA2lX2I-v5"
      },
      "source": [
        "familysz"
      ]
    },
    {
      "cell_type": "code",
      "metadata": {
        "id": "Mx_E8l6aI-E5"
      },
      "source": [
        "titanic['Family_size'] = titanic['SibSp'] + titanic['Parch'] + 1"
      ],
      "execution_count": 404,
      "outputs": []
    },
    {
      "cell_type": "code",
      "metadata": {
        "colab": {
          "base_uri": "https://localhost:8080/"
        },
        "id": "t7P9WyUEJCPE",
        "outputId": "2fa6553c-b053-43b5-f923-3adeff8fbd03"
      },
      "source": [
        "titanic['Family_size'].value_counts()"
      ],
      "execution_count": 405,
      "outputs": [
        {
          "output_type": "execute_result",
          "data": {
            "text/plain": [
              "1     790\n",
              "2     235\n",
              "3     159\n",
              "4      43\n",
              "6      25\n",
              "5      22\n",
              "7      16\n",
              "11     11\n",
              "8       8\n",
              "Name: Family_size, dtype: int64"
            ]
          },
          "metadata": {
            "tags": []
          },
          "execution_count": 405
        }
      ]
    },
    {
      "cell_type": "code",
      "metadata": {
        "id": "Lc_Pej4tW_io"
      },
      "source": [
        "from sklearn.model_selection import train_test_split"
      ],
      "execution_count": 406,
      "outputs": []
    },
    {
      "cell_type": "code",
      "metadata": {
        "colab": {
          "base_uri": "https://localhost:8080/",
          "height": 406
        },
        "id": "LuLqBkepj5Ln",
        "outputId": "1ee0dd2a-9894-40cc-bbf6-24f5436a7da6"
      },
      "source": [
        "titanic"
      ],
      "execution_count": 407,
      "outputs": [
        {
          "output_type": "execute_result",
          "data": {
            "text/html": [
              "<div>\n",
              "<style scoped>\n",
              "    .dataframe tbody tr th:only-of-type {\n",
              "        vertical-align: middle;\n",
              "    }\n",
              "\n",
              "    .dataframe tbody tr th {\n",
              "        vertical-align: top;\n",
              "    }\n",
              "\n",
              "    .dataframe thead th {\n",
              "        text-align: right;\n",
              "    }\n",
              "</style>\n",
              "<table border=\"1\" class=\"dataframe\">\n",
              "  <thead>\n",
              "    <tr style=\"text-align: right;\">\n",
              "      <th></th>\n",
              "      <th>PassengerId</th>\n",
              "      <th>Survived</th>\n",
              "      <th>Pclass</th>\n",
              "      <th>Name</th>\n",
              "      <th>Sex</th>\n",
              "      <th>Age</th>\n",
              "      <th>SibSp</th>\n",
              "      <th>Parch</th>\n",
              "      <th>Ticket</th>\n",
              "      <th>Fare</th>\n",
              "      <th>Cabin</th>\n",
              "      <th>Embarked</th>\n",
              "      <th>Deck</th>\n",
              "      <th>Family_size</th>\n",
              "    </tr>\n",
              "  </thead>\n",
              "  <tbody>\n",
              "    <tr>\n",
              "      <th>0</th>\n",
              "      <td>1</td>\n",
              "      <td>0.0</td>\n",
              "      <td>3</td>\n",
              "      <td>Braund, Mr. Owen Harris</td>\n",
              "      <td>male</td>\n",
              "      <td>(16.0, 32.0]</td>\n",
              "      <td>1</td>\n",
              "      <td>0</td>\n",
              "      <td>A/5 21171</td>\n",
              "      <td>(-0.001, 7.854]</td>\n",
              "      <td>NaN</td>\n",
              "      <td>S</td>\n",
              "      <td>FG</td>\n",
              "      <td>2</td>\n",
              "    </tr>\n",
              "    <tr>\n",
              "      <th>1</th>\n",
              "      <td>2</td>\n",
              "      <td>1.0</td>\n",
              "      <td>1</td>\n",
              "      <td>Cumings, Mrs. John Bradley (Florence Briggs Th...</td>\n",
              "      <td>female</td>\n",
              "      <td>(32.0, 48.0]</td>\n",
              "      <td>1</td>\n",
              "      <td>0</td>\n",
              "      <td>PC 17599</td>\n",
              "      <td>(41.579, 512.329]</td>\n",
              "      <td>C85</td>\n",
              "      <td>C</td>\n",
              "      <td>ABC</td>\n",
              "      <td>2</td>\n",
              "    </tr>\n",
              "    <tr>\n",
              "      <th>2</th>\n",
              "      <td>3</td>\n",
              "      <td>1.0</td>\n",
              "      <td>3</td>\n",
              "      <td>Heikkinen, Miss. Laina</td>\n",
              "      <td>female</td>\n",
              "      <td>(16.0, 32.0]</td>\n",
              "      <td>0</td>\n",
              "      <td>0</td>\n",
              "      <td>STON/O2. 3101282</td>\n",
              "      <td>(7.854, 10.5]</td>\n",
              "      <td>NaN</td>\n",
              "      <td>S</td>\n",
              "      <td>FG</td>\n",
              "      <td>1</td>\n",
              "    </tr>\n",
              "    <tr>\n",
              "      <th>3</th>\n",
              "      <td>4</td>\n",
              "      <td>1.0</td>\n",
              "      <td>1</td>\n",
              "      <td>Futrelle, Mrs. Jacques Heath (Lily May Peel)</td>\n",
              "      <td>female</td>\n",
              "      <td>(32.0, 48.0]</td>\n",
              "      <td>1</td>\n",
              "      <td>0</td>\n",
              "      <td>113803</td>\n",
              "      <td>(41.579, 512.329]</td>\n",
              "      <td>C123</td>\n",
              "      <td>S</td>\n",
              "      <td>ABC</td>\n",
              "      <td>2</td>\n",
              "    </tr>\n",
              "    <tr>\n",
              "      <th>4</th>\n",
              "      <td>5</td>\n",
              "      <td>0.0</td>\n",
              "      <td>3</td>\n",
              "      <td>Allen, Mr. William Henry</td>\n",
              "      <td>male</td>\n",
              "      <td>(32.0, 48.0]</td>\n",
              "      <td>0</td>\n",
              "      <td>0</td>\n",
              "      <td>373450</td>\n",
              "      <td>(7.854, 10.5]</td>\n",
              "      <td>NaN</td>\n",
              "      <td>S</td>\n",
              "      <td>FG</td>\n",
              "      <td>1</td>\n",
              "    </tr>\n",
              "    <tr>\n",
              "      <th>...</th>\n",
              "      <td>...</td>\n",
              "      <td>...</td>\n",
              "      <td>...</td>\n",
              "      <td>...</td>\n",
              "      <td>...</td>\n",
              "      <td>...</td>\n",
              "      <td>...</td>\n",
              "      <td>...</td>\n",
              "      <td>...</td>\n",
              "      <td>...</td>\n",
              "      <td>...</td>\n",
              "      <td>...</td>\n",
              "      <td>...</td>\n",
              "      <td>...</td>\n",
              "    </tr>\n",
              "    <tr>\n",
              "      <th>1304</th>\n",
              "      <td>1305</td>\n",
              "      <td>NaN</td>\n",
              "      <td>3</td>\n",
              "      <td>Spector, Mr. Woolf</td>\n",
              "      <td>male</td>\n",
              "      <td>(16.0, 32.0]</td>\n",
              "      <td>0</td>\n",
              "      <td>0</td>\n",
              "      <td>A.5. 3236</td>\n",
              "      <td>(7.854, 10.5]</td>\n",
              "      <td>NaN</td>\n",
              "      <td>S</td>\n",
              "      <td>FG</td>\n",
              "      <td>1</td>\n",
              "    </tr>\n",
              "    <tr>\n",
              "      <th>1305</th>\n",
              "      <td>1306</td>\n",
              "      <td>NaN</td>\n",
              "      <td>1</td>\n",
              "      <td>Oliva y Ocana, Dona. Fermina</td>\n",
              "      <td>female</td>\n",
              "      <td>(32.0, 48.0]</td>\n",
              "      <td>0</td>\n",
              "      <td>0</td>\n",
              "      <td>PC 17758</td>\n",
              "      <td>(41.579, 512.329]</td>\n",
              "      <td>C105</td>\n",
              "      <td>C</td>\n",
              "      <td>ABC</td>\n",
              "      <td>1</td>\n",
              "    </tr>\n",
              "    <tr>\n",
              "      <th>1306</th>\n",
              "      <td>1307</td>\n",
              "      <td>NaN</td>\n",
              "      <td>3</td>\n",
              "      <td>Saether, Mr. Simon Sivertsen</td>\n",
              "      <td>male</td>\n",
              "      <td>(32.0, 48.0]</td>\n",
              "      <td>0</td>\n",
              "      <td>0</td>\n",
              "      <td>SOTON/O.Q. 3101262</td>\n",
              "      <td>(-0.001, 7.854]</td>\n",
              "      <td>NaN</td>\n",
              "      <td>S</td>\n",
              "      <td>FG</td>\n",
              "      <td>1</td>\n",
              "    </tr>\n",
              "    <tr>\n",
              "      <th>1307</th>\n",
              "      <td>1308</td>\n",
              "      <td>NaN</td>\n",
              "      <td>3</td>\n",
              "      <td>Ware, Mr. Frederick</td>\n",
              "      <td>male</td>\n",
              "      <td>(16.0, 32.0]</td>\n",
              "      <td>0</td>\n",
              "      <td>0</td>\n",
              "      <td>359309</td>\n",
              "      <td>(7.854, 10.5]</td>\n",
              "      <td>NaN</td>\n",
              "      <td>S</td>\n",
              "      <td>FG</td>\n",
              "      <td>1</td>\n",
              "    </tr>\n",
              "    <tr>\n",
              "      <th>1308</th>\n",
              "      <td>1309</td>\n",
              "      <td>NaN</td>\n",
              "      <td>3</td>\n",
              "      <td>Peter, Master. Michael J</td>\n",
              "      <td>male</td>\n",
              "      <td>(16.0, 32.0]</td>\n",
              "      <td>1</td>\n",
              "      <td>1</td>\n",
              "      <td>2668</td>\n",
              "      <td>(21.558, 41.579]</td>\n",
              "      <td>NaN</td>\n",
              "      <td>C</td>\n",
              "      <td>FG</td>\n",
              "      <td>3</td>\n",
              "    </tr>\n",
              "  </tbody>\n",
              "</table>\n",
              "<p>1309 rows × 14 columns</p>\n",
              "</div>"
            ],
            "text/plain": [
              "      PassengerId  Survived  Pclass  ... Embarked Deck Family_size\n",
              "0               1       0.0       3  ...        S   FG           2\n",
              "1               2       1.0       1  ...        C  ABC           2\n",
              "2               3       1.0       3  ...        S   FG           1\n",
              "3               4       1.0       1  ...        S  ABC           2\n",
              "4               5       0.0       3  ...        S   FG           1\n",
              "...           ...       ...     ...  ...      ...  ...         ...\n",
              "1304         1305       NaN       3  ...        S   FG           1\n",
              "1305         1306       NaN       1  ...        C  ABC           1\n",
              "1306         1307       NaN       3  ...        S   FG           1\n",
              "1307         1308       NaN       3  ...        S   FG           1\n",
              "1308         1309       NaN       3  ...        C   FG           3\n",
              "\n",
              "[1309 rows x 14 columns]"
            ]
          },
          "metadata": {
            "tags": []
          },
          "execution_count": 407
        }
      ]
    },
    {
      "cell_type": "code",
      "metadata": {
        "id": "S7JyjZaDk1ds"
      },
      "source": [
        "titanic['Sex'] = titanic['Sex'].astype('category')\r\n",
        "titanic['Sex'] = titanic['Sex'].cat.codes"
      ],
      "execution_count": 408,
      "outputs": []
    },
    {
      "cell_type": "code",
      "metadata": {
        "id": "w4-znQPglfyX"
      },
      "source": [
        "titanic['Fare'] = titanic['Fare'].astype('category')\r\n",
        "titanic['Fare'] = titanic['Fare'].cat.codes"
      ],
      "execution_count": 409,
      "outputs": []
    },
    {
      "cell_type": "code",
      "metadata": {
        "id": "3aju1ws4lpDz"
      },
      "source": [
        "titanic['Age'] = titanic['Age'].astype('category')\r\n",
        "titanic['Age'] = titanic['Age'].cat.codes"
      ],
      "execution_count": 410,
      "outputs": []
    },
    {
      "cell_type": "code",
      "metadata": {
        "colab": {
          "base_uri": "https://localhost:8080/"
        },
        "id": "l3n3PEJ0mMnB",
        "outputId": "9c48b0dd-5a8b-4eab-f8ef-1a6ac8ad46c7"
      },
      "source": [
        "titanic['Embarked'].value_counts()"
      ],
      "execution_count": 411,
      "outputs": [
        {
          "output_type": "execute_result",
          "data": {
            "text/plain": [
              "S    914\n",
              "C    270\n",
              "Q    123\n",
              "Name: Embarked, dtype: int64"
            ]
          },
          "metadata": {
            "tags": []
          },
          "execution_count": 411
        }
      ]
    },
    {
      "cell_type": "code",
      "metadata": {
        "id": "ud8Ki7AjmV5g"
      },
      "source": [
        "titanic['Embarked'] = titanic['Embarked'].fillna('S')"
      ],
      "execution_count": 412,
      "outputs": []
    },
    {
      "cell_type": "code",
      "metadata": {
        "id": "72zfNJl7l6CR"
      },
      "source": [
        "titanic['Embarked'] = titanic['Embarked'].astype('category')\r\n",
        "titanic['Embarked'] = titanic['Embarked'].cat.codes"
      ],
      "execution_count": 413,
      "outputs": []
    },
    {
      "cell_type": "code",
      "metadata": {
        "id": "HLx62rLXnSXA"
      },
      "source": [
        "titanic['Deck'] = titanic['Deck'].astype('category')\r\n",
        "titanic['Deck'] = titanic['Deck'].cat.codes"
      ],
      "execution_count": 414,
      "outputs": []
    },
    {
      "cell_type": "code",
      "metadata": {
        "id": "oFRB0aRNnd4C"
      },
      "source": [
        "titanic = titanic.drop(['PassengerId', 'Ticket', 'Cabin', 'Name'], axis=1)"
      ],
      "execution_count": 415,
      "outputs": []
    },
    {
      "cell_type": "code",
      "metadata": {
        "id": "sTyRK8E0kNeV"
      },
      "source": [
        "train = titanic.loc[:890]\r\n",
        "test = titanic.loc[891:].drop(['Survived'], axis=1)"
      ],
      "execution_count": 416,
      "outputs": []
    },
    {
      "cell_type": "code",
      "metadata": {
        "colab": {
          "base_uri": "https://localhost:8080/",
          "height": 406
        },
        "id": "8mJM6p17kga6",
        "outputId": "65d0ccd5-f3d6-4a36-cb44-049bd2ad64b1"
      },
      "source": [
        "train"
      ],
      "execution_count": 417,
      "outputs": [
        {
          "output_type": "execute_result",
          "data": {
            "text/html": [
              "<div>\n",
              "<style scoped>\n",
              "    .dataframe tbody tr th:only-of-type {\n",
              "        vertical-align: middle;\n",
              "    }\n",
              "\n",
              "    .dataframe tbody tr th {\n",
              "        vertical-align: top;\n",
              "    }\n",
              "\n",
              "    .dataframe thead th {\n",
              "        text-align: right;\n",
              "    }\n",
              "</style>\n",
              "<table border=\"1\" class=\"dataframe\">\n",
              "  <thead>\n",
              "    <tr style=\"text-align: right;\">\n",
              "      <th></th>\n",
              "      <th>Survived</th>\n",
              "      <th>Pclass</th>\n",
              "      <th>Sex</th>\n",
              "      <th>Age</th>\n",
              "      <th>SibSp</th>\n",
              "      <th>Parch</th>\n",
              "      <th>Fare</th>\n",
              "      <th>Embarked</th>\n",
              "      <th>Deck</th>\n",
              "      <th>Family_size</th>\n",
              "    </tr>\n",
              "  </thead>\n",
              "  <tbody>\n",
              "    <tr>\n",
              "      <th>0</th>\n",
              "      <td>0.0</td>\n",
              "      <td>3</td>\n",
              "      <td>1</td>\n",
              "      <td>1</td>\n",
              "      <td>1</td>\n",
              "      <td>0</td>\n",
              "      <td>0</td>\n",
              "      <td>2</td>\n",
              "      <td>2</td>\n",
              "      <td>2</td>\n",
              "    </tr>\n",
              "    <tr>\n",
              "      <th>1</th>\n",
              "      <td>1.0</td>\n",
              "      <td>1</td>\n",
              "      <td>0</td>\n",
              "      <td>2</td>\n",
              "      <td>1</td>\n",
              "      <td>0</td>\n",
              "      <td>4</td>\n",
              "      <td>0</td>\n",
              "      <td>0</td>\n",
              "      <td>2</td>\n",
              "    </tr>\n",
              "    <tr>\n",
              "      <th>2</th>\n",
              "      <td>1.0</td>\n",
              "      <td>3</td>\n",
              "      <td>0</td>\n",
              "      <td>1</td>\n",
              "      <td>0</td>\n",
              "      <td>0</td>\n",
              "      <td>1</td>\n",
              "      <td>2</td>\n",
              "      <td>2</td>\n",
              "      <td>1</td>\n",
              "    </tr>\n",
              "    <tr>\n",
              "      <th>3</th>\n",
              "      <td>1.0</td>\n",
              "      <td>1</td>\n",
              "      <td>0</td>\n",
              "      <td>2</td>\n",
              "      <td>1</td>\n",
              "      <td>0</td>\n",
              "      <td>4</td>\n",
              "      <td>2</td>\n",
              "      <td>0</td>\n",
              "      <td>2</td>\n",
              "    </tr>\n",
              "    <tr>\n",
              "      <th>4</th>\n",
              "      <td>0.0</td>\n",
              "      <td>3</td>\n",
              "      <td>1</td>\n",
              "      <td>2</td>\n",
              "      <td>0</td>\n",
              "      <td>0</td>\n",
              "      <td>1</td>\n",
              "      <td>2</td>\n",
              "      <td>2</td>\n",
              "      <td>1</td>\n",
              "    </tr>\n",
              "    <tr>\n",
              "      <th>...</th>\n",
              "      <td>...</td>\n",
              "      <td>...</td>\n",
              "      <td>...</td>\n",
              "      <td>...</td>\n",
              "      <td>...</td>\n",
              "      <td>...</td>\n",
              "      <td>...</td>\n",
              "      <td>...</td>\n",
              "      <td>...</td>\n",
              "      <td>...</td>\n",
              "    </tr>\n",
              "    <tr>\n",
              "      <th>886</th>\n",
              "      <td>0.0</td>\n",
              "      <td>2</td>\n",
              "      <td>1</td>\n",
              "      <td>1</td>\n",
              "      <td>0</td>\n",
              "      <td>0</td>\n",
              "      <td>2</td>\n",
              "      <td>2</td>\n",
              "      <td>1</td>\n",
              "      <td>1</td>\n",
              "    </tr>\n",
              "    <tr>\n",
              "      <th>887</th>\n",
              "      <td>1.0</td>\n",
              "      <td>1</td>\n",
              "      <td>0</td>\n",
              "      <td>1</td>\n",
              "      <td>0</td>\n",
              "      <td>0</td>\n",
              "      <td>3</td>\n",
              "      <td>2</td>\n",
              "      <td>0</td>\n",
              "      <td>1</td>\n",
              "    </tr>\n",
              "    <tr>\n",
              "      <th>888</th>\n",
              "      <td>0.0</td>\n",
              "      <td>3</td>\n",
              "      <td>0</td>\n",
              "      <td>1</td>\n",
              "      <td>1</td>\n",
              "      <td>2</td>\n",
              "      <td>3</td>\n",
              "      <td>2</td>\n",
              "      <td>2</td>\n",
              "      <td>4</td>\n",
              "    </tr>\n",
              "    <tr>\n",
              "      <th>889</th>\n",
              "      <td>1.0</td>\n",
              "      <td>1</td>\n",
              "      <td>1</td>\n",
              "      <td>1</td>\n",
              "      <td>0</td>\n",
              "      <td>0</td>\n",
              "      <td>3</td>\n",
              "      <td>0</td>\n",
              "      <td>0</td>\n",
              "      <td>1</td>\n",
              "    </tr>\n",
              "    <tr>\n",
              "      <th>890</th>\n",
              "      <td>0.0</td>\n",
              "      <td>3</td>\n",
              "      <td>1</td>\n",
              "      <td>1</td>\n",
              "      <td>0</td>\n",
              "      <td>0</td>\n",
              "      <td>0</td>\n",
              "      <td>1</td>\n",
              "      <td>2</td>\n",
              "      <td>1</td>\n",
              "    </tr>\n",
              "  </tbody>\n",
              "</table>\n",
              "<p>891 rows × 10 columns</p>\n",
              "</div>"
            ],
            "text/plain": [
              "     Survived  Pclass  Sex  Age  ...  Fare  Embarked  Deck  Family_size\n",
              "0         0.0       3    1    1  ...     0         2     2            2\n",
              "1         1.0       1    0    2  ...     4         0     0            2\n",
              "2         1.0       3    0    1  ...     1         2     2            1\n",
              "3         1.0       1    0    2  ...     4         2     0            2\n",
              "4         0.0       3    1    2  ...     1         2     2            1\n",
              "..        ...     ...  ...  ...  ...   ...       ...   ...          ...\n",
              "886       0.0       2    1    1  ...     2         2     1            1\n",
              "887       1.0       1    0    1  ...     3         2     0            1\n",
              "888       0.0       3    0    1  ...     3         2     2            4\n",
              "889       1.0       1    1    1  ...     3         0     0            1\n",
              "890       0.0       3    1    1  ...     0         1     2            1\n",
              "\n",
              "[891 rows x 10 columns]"
            ]
          },
          "metadata": {
            "tags": []
          },
          "execution_count": 417
        }
      ]
    },
    {
      "cell_type": "code",
      "metadata": {
        "colab": {
          "base_uri": "https://localhost:8080/",
          "height": 406
        },
        "id": "Yio0Md8HkmWq",
        "outputId": "c24d4ecb-7d5c-4f37-85aa-9333c406a460"
      },
      "source": [
        "test"
      ],
      "execution_count": 418,
      "outputs": [
        {
          "output_type": "execute_result",
          "data": {
            "text/html": [
              "<div>\n",
              "<style scoped>\n",
              "    .dataframe tbody tr th:only-of-type {\n",
              "        vertical-align: middle;\n",
              "    }\n",
              "\n",
              "    .dataframe tbody tr th {\n",
              "        vertical-align: top;\n",
              "    }\n",
              "\n",
              "    .dataframe thead th {\n",
              "        text-align: right;\n",
              "    }\n",
              "</style>\n",
              "<table border=\"1\" class=\"dataframe\">\n",
              "  <thead>\n",
              "    <tr style=\"text-align: right;\">\n",
              "      <th></th>\n",
              "      <th>Pclass</th>\n",
              "      <th>Sex</th>\n",
              "      <th>Age</th>\n",
              "      <th>SibSp</th>\n",
              "      <th>Parch</th>\n",
              "      <th>Fare</th>\n",
              "      <th>Embarked</th>\n",
              "      <th>Deck</th>\n",
              "      <th>Family_size</th>\n",
              "    </tr>\n",
              "  </thead>\n",
              "  <tbody>\n",
              "    <tr>\n",
              "      <th>891</th>\n",
              "      <td>3</td>\n",
              "      <td>1</td>\n",
              "      <td>2</td>\n",
              "      <td>0</td>\n",
              "      <td>0</td>\n",
              "      <td>0</td>\n",
              "      <td>1</td>\n",
              "      <td>2</td>\n",
              "      <td>1</td>\n",
              "    </tr>\n",
              "    <tr>\n",
              "      <th>892</th>\n",
              "      <td>3</td>\n",
              "      <td>0</td>\n",
              "      <td>2</td>\n",
              "      <td>1</td>\n",
              "      <td>0</td>\n",
              "      <td>0</td>\n",
              "      <td>2</td>\n",
              "      <td>2</td>\n",
              "      <td>2</td>\n",
              "    </tr>\n",
              "    <tr>\n",
              "      <th>893</th>\n",
              "      <td>2</td>\n",
              "      <td>1</td>\n",
              "      <td>3</td>\n",
              "      <td>0</td>\n",
              "      <td>0</td>\n",
              "      <td>1</td>\n",
              "      <td>1</td>\n",
              "      <td>1</td>\n",
              "      <td>1</td>\n",
              "    </tr>\n",
              "    <tr>\n",
              "      <th>894</th>\n",
              "      <td>3</td>\n",
              "      <td>1</td>\n",
              "      <td>1</td>\n",
              "      <td>0</td>\n",
              "      <td>0</td>\n",
              "      <td>1</td>\n",
              "      <td>2</td>\n",
              "      <td>2</td>\n",
              "      <td>1</td>\n",
              "    </tr>\n",
              "    <tr>\n",
              "      <th>895</th>\n",
              "      <td>3</td>\n",
              "      <td>0</td>\n",
              "      <td>1</td>\n",
              "      <td>1</td>\n",
              "      <td>1</td>\n",
              "      <td>2</td>\n",
              "      <td>2</td>\n",
              "      <td>2</td>\n",
              "      <td>3</td>\n",
              "    </tr>\n",
              "    <tr>\n",
              "      <th>...</th>\n",
              "      <td>...</td>\n",
              "      <td>...</td>\n",
              "      <td>...</td>\n",
              "      <td>...</td>\n",
              "      <td>...</td>\n",
              "      <td>...</td>\n",
              "      <td>...</td>\n",
              "      <td>...</td>\n",
              "      <td>...</td>\n",
              "    </tr>\n",
              "    <tr>\n",
              "      <th>1304</th>\n",
              "      <td>3</td>\n",
              "      <td>1</td>\n",
              "      <td>1</td>\n",
              "      <td>0</td>\n",
              "      <td>0</td>\n",
              "      <td>1</td>\n",
              "      <td>2</td>\n",
              "      <td>2</td>\n",
              "      <td>1</td>\n",
              "    </tr>\n",
              "    <tr>\n",
              "      <th>1305</th>\n",
              "      <td>1</td>\n",
              "      <td>0</td>\n",
              "      <td>2</td>\n",
              "      <td>0</td>\n",
              "      <td>0</td>\n",
              "      <td>4</td>\n",
              "      <td>0</td>\n",
              "      <td>0</td>\n",
              "      <td>1</td>\n",
              "    </tr>\n",
              "    <tr>\n",
              "      <th>1306</th>\n",
              "      <td>3</td>\n",
              "      <td>1</td>\n",
              "      <td>2</td>\n",
              "      <td>0</td>\n",
              "      <td>0</td>\n",
              "      <td>0</td>\n",
              "      <td>2</td>\n",
              "      <td>2</td>\n",
              "      <td>1</td>\n",
              "    </tr>\n",
              "    <tr>\n",
              "      <th>1307</th>\n",
              "      <td>3</td>\n",
              "      <td>1</td>\n",
              "      <td>1</td>\n",
              "      <td>0</td>\n",
              "      <td>0</td>\n",
              "      <td>1</td>\n",
              "      <td>2</td>\n",
              "      <td>2</td>\n",
              "      <td>1</td>\n",
              "    </tr>\n",
              "    <tr>\n",
              "      <th>1308</th>\n",
              "      <td>3</td>\n",
              "      <td>1</td>\n",
              "      <td>1</td>\n",
              "      <td>1</td>\n",
              "      <td>1</td>\n",
              "      <td>3</td>\n",
              "      <td>0</td>\n",
              "      <td>2</td>\n",
              "      <td>3</td>\n",
              "    </tr>\n",
              "  </tbody>\n",
              "</table>\n",
              "<p>418 rows × 9 columns</p>\n",
              "</div>"
            ],
            "text/plain": [
              "      Pclass  Sex  Age  SibSp  Parch  Fare  Embarked  Deck  Family_size\n",
              "891        3    1    2      0      0     0         1     2            1\n",
              "892        3    0    2      1      0     0         2     2            2\n",
              "893        2    1    3      0      0     1         1     1            1\n",
              "894        3    1    1      0      0     1         2     2            1\n",
              "895        3    0    1      1      1     2         2     2            3\n",
              "...      ...  ...  ...    ...    ...   ...       ...   ...          ...\n",
              "1304       3    1    1      0      0     1         2     2            1\n",
              "1305       1    0    2      0      0     4         0     0            1\n",
              "1306       3    1    2      0      0     0         2     2            1\n",
              "1307       3    1    1      0      0     1         2     2            1\n",
              "1308       3    1    1      1      1     3         0     2            3\n",
              "\n",
              "[418 rows x 9 columns]"
            ]
          },
          "metadata": {
            "tags": []
          },
          "execution_count": 418
        }
      ]
    },
    {
      "cell_type": "code",
      "metadata": {
        "id": "Tnwi8UnMoHr1"
      },
      "source": [
        "x = train.drop(['Survived'], axis=1)\r\n",
        "y = train['Survived']"
      ],
      "execution_count": 419,
      "outputs": []
    },
    {
      "cell_type": "code",
      "metadata": {
        "id": "_trZeT_CBVJw"
      },
      "source": [
        "#x = pd.get_dummies(x, columns=x.columns)"
      ],
      "execution_count": 420,
      "outputs": []
    },
    {
      "cell_type": "code",
      "metadata": {
        "id": "rSuCB4_JGmbr"
      },
      "source": [
        "#test = pd.get_dummies(test, columns=test.columns)"
      ],
      "execution_count": 421,
      "outputs": []
    },
    {
      "cell_type": "code",
      "metadata": {
        "colab": {
          "base_uri": "https://localhost:8080/",
          "height": 406
        },
        "id": "dT1enpIeEUXp",
        "outputId": "07ec63ba-caef-49ef-aa31-da1e1690ae68"
      },
      "source": [
        "x"
      ],
      "execution_count": 422,
      "outputs": [
        {
          "output_type": "execute_result",
          "data": {
            "text/html": [
              "<div>\n",
              "<style scoped>\n",
              "    .dataframe tbody tr th:only-of-type {\n",
              "        vertical-align: middle;\n",
              "    }\n",
              "\n",
              "    .dataframe tbody tr th {\n",
              "        vertical-align: top;\n",
              "    }\n",
              "\n",
              "    .dataframe thead th {\n",
              "        text-align: right;\n",
              "    }\n",
              "</style>\n",
              "<table border=\"1\" class=\"dataframe\">\n",
              "  <thead>\n",
              "    <tr style=\"text-align: right;\">\n",
              "      <th></th>\n",
              "      <th>Pclass</th>\n",
              "      <th>Sex</th>\n",
              "      <th>Age</th>\n",
              "      <th>SibSp</th>\n",
              "      <th>Parch</th>\n",
              "      <th>Fare</th>\n",
              "      <th>Embarked</th>\n",
              "      <th>Deck</th>\n",
              "      <th>Family_size</th>\n",
              "    </tr>\n",
              "  </thead>\n",
              "  <tbody>\n",
              "    <tr>\n",
              "      <th>0</th>\n",
              "      <td>3</td>\n",
              "      <td>1</td>\n",
              "      <td>1</td>\n",
              "      <td>1</td>\n",
              "      <td>0</td>\n",
              "      <td>0</td>\n",
              "      <td>2</td>\n",
              "      <td>2</td>\n",
              "      <td>2</td>\n",
              "    </tr>\n",
              "    <tr>\n",
              "      <th>1</th>\n",
              "      <td>1</td>\n",
              "      <td>0</td>\n",
              "      <td>2</td>\n",
              "      <td>1</td>\n",
              "      <td>0</td>\n",
              "      <td>4</td>\n",
              "      <td>0</td>\n",
              "      <td>0</td>\n",
              "      <td>2</td>\n",
              "    </tr>\n",
              "    <tr>\n",
              "      <th>2</th>\n",
              "      <td>3</td>\n",
              "      <td>0</td>\n",
              "      <td>1</td>\n",
              "      <td>0</td>\n",
              "      <td>0</td>\n",
              "      <td>1</td>\n",
              "      <td>2</td>\n",
              "      <td>2</td>\n",
              "      <td>1</td>\n",
              "    </tr>\n",
              "    <tr>\n",
              "      <th>3</th>\n",
              "      <td>1</td>\n",
              "      <td>0</td>\n",
              "      <td>2</td>\n",
              "      <td>1</td>\n",
              "      <td>0</td>\n",
              "      <td>4</td>\n",
              "      <td>2</td>\n",
              "      <td>0</td>\n",
              "      <td>2</td>\n",
              "    </tr>\n",
              "    <tr>\n",
              "      <th>4</th>\n",
              "      <td>3</td>\n",
              "      <td>1</td>\n",
              "      <td>2</td>\n",
              "      <td>0</td>\n",
              "      <td>0</td>\n",
              "      <td>1</td>\n",
              "      <td>2</td>\n",
              "      <td>2</td>\n",
              "      <td>1</td>\n",
              "    </tr>\n",
              "    <tr>\n",
              "      <th>...</th>\n",
              "      <td>...</td>\n",
              "      <td>...</td>\n",
              "      <td>...</td>\n",
              "      <td>...</td>\n",
              "      <td>...</td>\n",
              "      <td>...</td>\n",
              "      <td>...</td>\n",
              "      <td>...</td>\n",
              "      <td>...</td>\n",
              "    </tr>\n",
              "    <tr>\n",
              "      <th>886</th>\n",
              "      <td>2</td>\n",
              "      <td>1</td>\n",
              "      <td>1</td>\n",
              "      <td>0</td>\n",
              "      <td>0</td>\n",
              "      <td>2</td>\n",
              "      <td>2</td>\n",
              "      <td>1</td>\n",
              "      <td>1</td>\n",
              "    </tr>\n",
              "    <tr>\n",
              "      <th>887</th>\n",
              "      <td>1</td>\n",
              "      <td>0</td>\n",
              "      <td>1</td>\n",
              "      <td>0</td>\n",
              "      <td>0</td>\n",
              "      <td>3</td>\n",
              "      <td>2</td>\n",
              "      <td>0</td>\n",
              "      <td>1</td>\n",
              "    </tr>\n",
              "    <tr>\n",
              "      <th>888</th>\n",
              "      <td>3</td>\n",
              "      <td>0</td>\n",
              "      <td>1</td>\n",
              "      <td>1</td>\n",
              "      <td>2</td>\n",
              "      <td>3</td>\n",
              "      <td>2</td>\n",
              "      <td>2</td>\n",
              "      <td>4</td>\n",
              "    </tr>\n",
              "    <tr>\n",
              "      <th>889</th>\n",
              "      <td>1</td>\n",
              "      <td>1</td>\n",
              "      <td>1</td>\n",
              "      <td>0</td>\n",
              "      <td>0</td>\n",
              "      <td>3</td>\n",
              "      <td>0</td>\n",
              "      <td>0</td>\n",
              "      <td>1</td>\n",
              "    </tr>\n",
              "    <tr>\n",
              "      <th>890</th>\n",
              "      <td>3</td>\n",
              "      <td>1</td>\n",
              "      <td>1</td>\n",
              "      <td>0</td>\n",
              "      <td>0</td>\n",
              "      <td>0</td>\n",
              "      <td>1</td>\n",
              "      <td>2</td>\n",
              "      <td>1</td>\n",
              "    </tr>\n",
              "  </tbody>\n",
              "</table>\n",
              "<p>891 rows × 9 columns</p>\n",
              "</div>"
            ],
            "text/plain": [
              "     Pclass  Sex  Age  SibSp  Parch  Fare  Embarked  Deck  Family_size\n",
              "0         3    1    1      1      0     0         2     2            2\n",
              "1         1    0    2      1      0     4         0     0            2\n",
              "2         3    0    1      0      0     1         2     2            1\n",
              "3         1    0    2      1      0     4         2     0            2\n",
              "4         3    1    2      0      0     1         2     2            1\n",
              "..      ...  ...  ...    ...    ...   ...       ...   ...          ...\n",
              "886       2    1    1      0      0     2         2     1            1\n",
              "887       1    0    1      0      0     3         2     0            1\n",
              "888       3    0    1      1      2     3         2     2            4\n",
              "889       1    1    1      0      0     3         0     0            1\n",
              "890       3    1    1      0      0     0         1     2            1\n",
              "\n",
              "[891 rows x 9 columns]"
            ]
          },
          "metadata": {
            "tags": []
          },
          "execution_count": 422
        }
      ]
    },
    {
      "cell_type": "code",
      "metadata": {
        "colab": {
          "base_uri": "https://localhost:8080/",
          "height": 406
        },
        "id": "y_4gwerxHapz",
        "outputId": "66d4c1b7-a383-47c6-aa87-69f8b0521388"
      },
      "source": [
        "test"
      ],
      "execution_count": 423,
      "outputs": [
        {
          "output_type": "execute_result",
          "data": {
            "text/html": [
              "<div>\n",
              "<style scoped>\n",
              "    .dataframe tbody tr th:only-of-type {\n",
              "        vertical-align: middle;\n",
              "    }\n",
              "\n",
              "    .dataframe tbody tr th {\n",
              "        vertical-align: top;\n",
              "    }\n",
              "\n",
              "    .dataframe thead th {\n",
              "        text-align: right;\n",
              "    }\n",
              "</style>\n",
              "<table border=\"1\" class=\"dataframe\">\n",
              "  <thead>\n",
              "    <tr style=\"text-align: right;\">\n",
              "      <th></th>\n",
              "      <th>Pclass</th>\n",
              "      <th>Sex</th>\n",
              "      <th>Age</th>\n",
              "      <th>SibSp</th>\n",
              "      <th>Parch</th>\n",
              "      <th>Fare</th>\n",
              "      <th>Embarked</th>\n",
              "      <th>Deck</th>\n",
              "      <th>Family_size</th>\n",
              "    </tr>\n",
              "  </thead>\n",
              "  <tbody>\n",
              "    <tr>\n",
              "      <th>891</th>\n",
              "      <td>3</td>\n",
              "      <td>1</td>\n",
              "      <td>2</td>\n",
              "      <td>0</td>\n",
              "      <td>0</td>\n",
              "      <td>0</td>\n",
              "      <td>1</td>\n",
              "      <td>2</td>\n",
              "      <td>1</td>\n",
              "    </tr>\n",
              "    <tr>\n",
              "      <th>892</th>\n",
              "      <td>3</td>\n",
              "      <td>0</td>\n",
              "      <td>2</td>\n",
              "      <td>1</td>\n",
              "      <td>0</td>\n",
              "      <td>0</td>\n",
              "      <td>2</td>\n",
              "      <td>2</td>\n",
              "      <td>2</td>\n",
              "    </tr>\n",
              "    <tr>\n",
              "      <th>893</th>\n",
              "      <td>2</td>\n",
              "      <td>1</td>\n",
              "      <td>3</td>\n",
              "      <td>0</td>\n",
              "      <td>0</td>\n",
              "      <td>1</td>\n",
              "      <td>1</td>\n",
              "      <td>1</td>\n",
              "      <td>1</td>\n",
              "    </tr>\n",
              "    <tr>\n",
              "      <th>894</th>\n",
              "      <td>3</td>\n",
              "      <td>1</td>\n",
              "      <td>1</td>\n",
              "      <td>0</td>\n",
              "      <td>0</td>\n",
              "      <td>1</td>\n",
              "      <td>2</td>\n",
              "      <td>2</td>\n",
              "      <td>1</td>\n",
              "    </tr>\n",
              "    <tr>\n",
              "      <th>895</th>\n",
              "      <td>3</td>\n",
              "      <td>0</td>\n",
              "      <td>1</td>\n",
              "      <td>1</td>\n",
              "      <td>1</td>\n",
              "      <td>2</td>\n",
              "      <td>2</td>\n",
              "      <td>2</td>\n",
              "      <td>3</td>\n",
              "    </tr>\n",
              "    <tr>\n",
              "      <th>...</th>\n",
              "      <td>...</td>\n",
              "      <td>...</td>\n",
              "      <td>...</td>\n",
              "      <td>...</td>\n",
              "      <td>...</td>\n",
              "      <td>...</td>\n",
              "      <td>...</td>\n",
              "      <td>...</td>\n",
              "      <td>...</td>\n",
              "    </tr>\n",
              "    <tr>\n",
              "      <th>1304</th>\n",
              "      <td>3</td>\n",
              "      <td>1</td>\n",
              "      <td>1</td>\n",
              "      <td>0</td>\n",
              "      <td>0</td>\n",
              "      <td>1</td>\n",
              "      <td>2</td>\n",
              "      <td>2</td>\n",
              "      <td>1</td>\n",
              "    </tr>\n",
              "    <tr>\n",
              "      <th>1305</th>\n",
              "      <td>1</td>\n",
              "      <td>0</td>\n",
              "      <td>2</td>\n",
              "      <td>0</td>\n",
              "      <td>0</td>\n",
              "      <td>4</td>\n",
              "      <td>0</td>\n",
              "      <td>0</td>\n",
              "      <td>1</td>\n",
              "    </tr>\n",
              "    <tr>\n",
              "      <th>1306</th>\n",
              "      <td>3</td>\n",
              "      <td>1</td>\n",
              "      <td>2</td>\n",
              "      <td>0</td>\n",
              "      <td>0</td>\n",
              "      <td>0</td>\n",
              "      <td>2</td>\n",
              "      <td>2</td>\n",
              "      <td>1</td>\n",
              "    </tr>\n",
              "    <tr>\n",
              "      <th>1307</th>\n",
              "      <td>3</td>\n",
              "      <td>1</td>\n",
              "      <td>1</td>\n",
              "      <td>0</td>\n",
              "      <td>0</td>\n",
              "      <td>1</td>\n",
              "      <td>2</td>\n",
              "      <td>2</td>\n",
              "      <td>1</td>\n",
              "    </tr>\n",
              "    <tr>\n",
              "      <th>1308</th>\n",
              "      <td>3</td>\n",
              "      <td>1</td>\n",
              "      <td>1</td>\n",
              "      <td>1</td>\n",
              "      <td>1</td>\n",
              "      <td>3</td>\n",
              "      <td>0</td>\n",
              "      <td>2</td>\n",
              "      <td>3</td>\n",
              "    </tr>\n",
              "  </tbody>\n",
              "</table>\n",
              "<p>418 rows × 9 columns</p>\n",
              "</div>"
            ],
            "text/plain": [
              "      Pclass  Sex  Age  SibSp  Parch  Fare  Embarked  Deck  Family_size\n",
              "891        3    1    2      0      0     0         1     2            1\n",
              "892        3    0    2      1      0     0         2     2            2\n",
              "893        2    1    3      0      0     1         1     1            1\n",
              "894        3    1    1      0      0     1         2     2            1\n",
              "895        3    0    1      1      1     2         2     2            3\n",
              "...      ...  ...  ...    ...    ...   ...       ...   ...          ...\n",
              "1304       3    1    1      0      0     1         2     2            1\n",
              "1305       1    0    2      0      0     4         0     0            1\n",
              "1306       3    1    2      0      0     0         2     2            1\n",
              "1307       3    1    1      0      0     1         2     2            1\n",
              "1308       3    1    1      1      1     3         0     2            3\n",
              "\n",
              "[418 rows x 9 columns]"
            ]
          },
          "metadata": {
            "tags": []
          },
          "execution_count": 423
        }
      ]
    },
    {
      "cell_type": "code",
      "metadata": {
        "colab": {
          "base_uri": "https://localhost:8080/"
        },
        "id": "_F6KSKxfBXID",
        "outputId": "605b76d8-cf97-4917-aa2f-9e9236ecc239"
      },
      "source": [
        "x.shape"
      ],
      "execution_count": 424,
      "outputs": [
        {
          "output_type": "execute_result",
          "data": {
            "text/plain": [
              "(891, 9)"
            ]
          },
          "metadata": {
            "tags": []
          },
          "execution_count": 424
        }
      ]
    },
    {
      "cell_type": "code",
      "metadata": {
        "colab": {
          "base_uri": "https://localhost:8080/"
        },
        "id": "e7iRhO3THBhc",
        "outputId": "d93eba7d-5370-422d-ae59-2bea9be2fb32"
      },
      "source": [
        "test.shape"
      ],
      "execution_count": 425,
      "outputs": [
        {
          "output_type": "execute_result",
          "data": {
            "text/plain": [
              "(418, 9)"
            ]
          },
          "metadata": {
            "tags": []
          },
          "execution_count": 425
        }
      ]
    },
    {
      "cell_type": "code",
      "metadata": {
        "id": "R_T4dwpnjyoN"
      },
      "source": [
        "x_train, x_test, y_train, y_test = train_test_split(x, y, test_size=0.25, random_state=1)"
      ],
      "execution_count": 426,
      "outputs": []
    },
    {
      "cell_type": "code",
      "metadata": {
        "colab": {
          "base_uri": "https://localhost:8080/"
        },
        "id": "GwYkEzu4pqPs",
        "outputId": "9ca285e7-a823-423b-d906-a54bb604dd0e"
      },
      "source": [
        "x_train.shape"
      ],
      "execution_count": 427,
      "outputs": [
        {
          "output_type": "execute_result",
          "data": {
            "text/plain": [
              "(668, 9)"
            ]
          },
          "metadata": {
            "tags": []
          },
          "execution_count": 427
        }
      ]
    },
    {
      "cell_type": "code",
      "metadata": {
        "id": "PwyFKsLmjzL9"
      },
      "source": [
        "from keras.layers import Dense, Activation, Dropout"
      ],
      "execution_count": 428,
      "outputs": []
    },
    {
      "cell_type": "code",
      "metadata": {
        "id": "IVFjXlZnotcX"
      },
      "source": [
        "inputs = tf.keras.Input(shape=(x_train.shape[1],))\r\n",
        "\r\n",
        "x1 = tf.keras.layers.Dense(32, activation='relu')(inputs)\r\n",
        "x1 = tf.keras.layers.Dropout(0.5)(x1)\r\n",
        "x1 = tf.keras.layers.Dense(64, activation='relu')(x1)\r\n",
        "x1 = tf.keras.layers.Dropout(0.5)(x1)\r\n",
        "x1 = tf.keras.layers.Dense(2, activation='relu')(x1)\r\n",
        "x1 = tf.keras.layers.Dropout(0.5)(x1)\r\n",
        "\r\n",
        "x2 = tf.keras.layers.Dense(64, activation='tanh')(inputs)\r\n",
        "x2 = tf.keras.layers.Dropout(0.5)(x2)\r\n",
        "x2 = tf.keras.layers.Dense(128, activation='tanh')(x2)\r\n",
        "x2 = tf.keras.layers.Dropout(0.5)(x2)\r\n",
        "x2 = tf.keras.layers.Dense(2, activation='tanh')(x2)\r\n",
        "x2 = tf.keras.layers.Dropout(0.5)(x2)\r\n",
        "\r\n",
        "x3 = tf.keras.layers.Dense(128, activation='relu')(inputs)\r\n",
        "x3 = tf.keras.layers.Dropout(0.5)(x3)\r\n",
        "x3 = tf.keras.layers.Dense(256, activation='relu')(x3)\r\n",
        "x3 = tf.keras.layers.Dropout(0.5)(x3)\r\n",
        "x3 = tf.keras.layers.Dense(2, activation='relu')(x3)\r\n",
        "x3 = tf.keras.layers.Dropout(0.5)(x3)\r\n",
        "\r\n",
        "x4 = tf.keras.layers.concatenate([inputs, x1, x2, x3], axis=1)\r\n",
        "x4 = tf.keras.layers.Dense(32, activation='relu')(x4)\r\n",
        "x4 = tf.keras.layers.Dropout(0.5)(x4)\r\n",
        "x4 = tf.keras.layers.Dense(64, activation='relu')(x4)\r\n",
        "x4 = tf.keras.layers.Dropout(0.5)(x4)\r\n",
        "\r\n",
        "outputs = tf.keras.layers.Dense(2, activation='softmax')(x4)\r\n",
        "\r\n",
        "model = tf.keras.Model(inputs=inputs, outputs=outputs)\r\n",
        "\r\n",
        "model.compile(optimizer=tf.keras.optimizers.Adam(), loss='sparse_categorical_crossentropy', metrics=['accuracy'])"
      ],
      "execution_count": 590,
      "outputs": []
    },
    {
      "cell_type": "code",
      "metadata": {
        "colab": {
          "base_uri": "https://localhost:8080/"
        },
        "id": "ZJmR-9yor2G4",
        "outputId": "c61978d8-5c38-4058-c8dd-fcf8c74827d3"
      },
      "source": [
        "model.summary()"
      ],
      "execution_count": 591,
      "outputs": [
        {
          "output_type": "stream",
          "text": [
            "Model: \"model_73\"\n",
            "__________________________________________________________________________________________________\n",
            "Layer (type)                    Output Shape         Param #     Connected to                     \n",
            "==================================================================================================\n",
            "input_78 (InputLayer)           [(None, 9)]          0                                            \n",
            "__________________________________________________________________________________________________\n",
            "dense_917 (Dense)               (None, 32)           320         input_78[0][0]                   \n",
            "__________________________________________________________________________________________________\n",
            "dense_920 (Dense)               (None, 64)           640         input_78[0][0]                   \n",
            "__________________________________________________________________________________________________\n",
            "dense_923 (Dense)               (None, 128)          1280        input_78[0][0]                   \n",
            "__________________________________________________________________________________________________\n",
            "dropout_642 (Dropout)           (None, 32)           0           dense_917[0][0]                  \n",
            "__________________________________________________________________________________________________\n",
            "dropout_645 (Dropout)           (None, 64)           0           dense_920[0][0]                  \n",
            "__________________________________________________________________________________________________\n",
            "dropout_648 (Dropout)           (None, 128)          0           dense_923[0][0]                  \n",
            "__________________________________________________________________________________________________\n",
            "dense_918 (Dense)               (None, 64)           2112        dropout_642[0][0]                \n",
            "__________________________________________________________________________________________________\n",
            "dense_921 (Dense)               (None, 128)          8320        dropout_645[0][0]                \n",
            "__________________________________________________________________________________________________\n",
            "dense_924 (Dense)               (None, 256)          33024       dropout_648[0][0]                \n",
            "__________________________________________________________________________________________________\n",
            "dropout_643 (Dropout)           (None, 64)           0           dense_918[0][0]                  \n",
            "__________________________________________________________________________________________________\n",
            "dropout_646 (Dropout)           (None, 128)          0           dense_921[0][0]                  \n",
            "__________________________________________________________________________________________________\n",
            "dropout_649 (Dropout)           (None, 256)          0           dense_924[0][0]                  \n",
            "__________________________________________________________________________________________________\n",
            "dense_919 (Dense)               (None, 2)            130         dropout_643[0][0]                \n",
            "__________________________________________________________________________________________________\n",
            "dense_922 (Dense)               (None, 2)            258         dropout_646[0][0]                \n",
            "__________________________________________________________________________________________________\n",
            "dense_925 (Dense)               (None, 2)            514         dropout_649[0][0]                \n",
            "__________________________________________________________________________________________________\n",
            "dropout_644 (Dropout)           (None, 2)            0           dense_919[0][0]                  \n",
            "__________________________________________________________________________________________________\n",
            "dropout_647 (Dropout)           (None, 2)            0           dense_922[0][0]                  \n",
            "__________________________________________________________________________________________________\n",
            "dropout_650 (Dropout)           (None, 2)            0           dense_925[0][0]                  \n",
            "__________________________________________________________________________________________________\n",
            "concatenate_75 (Concatenate)    (None, 15)           0           input_78[0][0]                   \n",
            "                                                                 dropout_644[0][0]                \n",
            "                                                                 dropout_647[0][0]                \n",
            "                                                                 dropout_650[0][0]                \n",
            "__________________________________________________________________________________________________\n",
            "dense_926 (Dense)               (None, 32)           512         concatenate_75[0][0]             \n",
            "__________________________________________________________________________________________________\n",
            "dropout_651 (Dropout)           (None, 32)           0           dense_926[0][0]                  \n",
            "__________________________________________________________________________________________________\n",
            "dense_927 (Dense)               (None, 64)           2112        dropout_651[0][0]                \n",
            "__________________________________________________________________________________________________\n",
            "dropout_652 (Dropout)           (None, 64)           0           dense_927[0][0]                  \n",
            "__________________________________________________________________________________________________\n",
            "dense_928 (Dense)               (None, 2)            130         dropout_652[0][0]                \n",
            "==================================================================================================\n",
            "Total params: 49,352\n",
            "Trainable params: 49,352\n",
            "Non-trainable params: 0\n",
            "__________________________________________________________________________________________________\n"
          ],
          "name": "stdout"
        }
      ]
    },
    {
      "cell_type": "code",
      "metadata": {
        "id": "oms85c4Mpwqy",
        "colab": {
          "base_uri": "https://localhost:8080/"
        },
        "outputId": "fe840ac2-32a0-4b33-bb36-566dad42988f"
      },
      "source": [
        "history = model.fit(x_train, y_train, shuffle=True, epochs=125, batch_size=16, validation_split=0.3)"
      ],
      "execution_count": 592,
      "outputs": [
        {
          "output_type": "stream",
          "text": [
            "Epoch 1/125\n",
            "30/30 [==============================] - 1s 12ms/step - loss: 0.8488 - accuracy: 0.5303 - val_loss: 0.5759 - val_accuracy: 0.6766\n",
            "Epoch 2/125\n",
            "30/30 [==============================] - 0s 5ms/step - loss: 0.7270 - accuracy: 0.5909 - val_loss: 0.5794 - val_accuracy: 0.7363\n",
            "Epoch 3/125\n",
            "30/30 [==============================] - 0s 4ms/step - loss: 0.6288 - accuracy: 0.6339 - val_loss: 0.5392 - val_accuracy: 0.7463\n",
            "Epoch 4/125\n",
            "30/30 [==============================] - 0s 5ms/step - loss: 0.6272 - accuracy: 0.6652 - val_loss: 0.5252 - val_accuracy: 0.7512\n",
            "Epoch 5/125\n",
            "30/30 [==============================] - 0s 4ms/step - loss: 0.6614 - accuracy: 0.5963 - val_loss: 0.5383 - val_accuracy: 0.7512\n",
            "Epoch 6/125\n",
            "30/30 [==============================] - 0s 5ms/step - loss: 0.5942 - accuracy: 0.6581 - val_loss: 0.5021 - val_accuracy: 0.7562\n",
            "Epoch 7/125\n",
            "30/30 [==============================] - 0s 4ms/step - loss: 0.6297 - accuracy: 0.6510 - val_loss: 0.5004 - val_accuracy: 0.7413\n",
            "Epoch 8/125\n",
            "30/30 [==============================] - 0s 4ms/step - loss: 0.5861 - accuracy: 0.6933 - val_loss: 0.4990 - val_accuracy: 0.7761\n",
            "Epoch 9/125\n",
            "30/30 [==============================] - 0s 5ms/step - loss: 0.6150 - accuracy: 0.6674 - val_loss: 0.5180 - val_accuracy: 0.7711\n",
            "Epoch 10/125\n",
            "30/30 [==============================] - 0s 4ms/step - loss: 0.5884 - accuracy: 0.7047 - val_loss: 0.5012 - val_accuracy: 0.7811\n",
            "Epoch 11/125\n",
            "30/30 [==============================] - 0s 4ms/step - loss: 0.5982 - accuracy: 0.6721 - val_loss: 0.4904 - val_accuracy: 0.7861\n",
            "Epoch 12/125\n",
            "30/30 [==============================] - 0s 5ms/step - loss: 0.5728 - accuracy: 0.6870 - val_loss: 0.4850 - val_accuracy: 0.7861\n",
            "Epoch 13/125\n",
            "30/30 [==============================] - 0s 5ms/step - loss: 0.5783 - accuracy: 0.7036 - val_loss: 0.4934 - val_accuracy: 0.7811\n",
            "Epoch 14/125\n",
            "30/30 [==============================] - 0s 5ms/step - loss: 0.5760 - accuracy: 0.7158 - val_loss: 0.4883 - val_accuracy: 0.7960\n",
            "Epoch 15/125\n",
            "30/30 [==============================] - 0s 4ms/step - loss: 0.5748 - accuracy: 0.6922 - val_loss: 0.4634 - val_accuracy: 0.7960\n",
            "Epoch 16/125\n",
            "30/30 [==============================] - 0s 5ms/step - loss: 0.5407 - accuracy: 0.7342 - val_loss: 0.4767 - val_accuracy: 0.8010\n",
            "Epoch 17/125\n",
            "30/30 [==============================] - 0s 5ms/step - loss: 0.5604 - accuracy: 0.6979 - val_loss: 0.4703 - val_accuracy: 0.8060\n",
            "Epoch 18/125\n",
            "30/30 [==============================] - 0s 4ms/step - loss: 0.5281 - accuracy: 0.7242 - val_loss: 0.4604 - val_accuracy: 0.7960\n",
            "Epoch 19/125\n",
            "30/30 [==============================] - 0s 5ms/step - loss: 0.5464 - accuracy: 0.7550 - val_loss: 0.4669 - val_accuracy: 0.8010\n",
            "Epoch 20/125\n",
            "30/30 [==============================] - 0s 4ms/step - loss: 0.5099 - accuracy: 0.7385 - val_loss: 0.4450 - val_accuracy: 0.7910\n",
            "Epoch 21/125\n",
            "30/30 [==============================] - 0s 5ms/step - loss: 0.5813 - accuracy: 0.7307 - val_loss: 0.4534 - val_accuracy: 0.8109\n",
            "Epoch 22/125\n",
            "30/30 [==============================] - 0s 4ms/step - loss: 0.5241 - accuracy: 0.7379 - val_loss: 0.4435 - val_accuracy: 0.8109\n",
            "Epoch 23/125\n",
            "30/30 [==============================] - 0s 4ms/step - loss: 0.5406 - accuracy: 0.7522 - val_loss: 0.4535 - val_accuracy: 0.8010\n",
            "Epoch 24/125\n",
            "30/30 [==============================] - 0s 5ms/step - loss: 0.5048 - accuracy: 0.7665 - val_loss: 0.4496 - val_accuracy: 0.8060\n",
            "Epoch 25/125\n",
            "30/30 [==============================] - 0s 4ms/step - loss: 0.5538 - accuracy: 0.7181 - val_loss: 0.4437 - val_accuracy: 0.8010\n",
            "Epoch 26/125\n",
            "30/30 [==============================] - 0s 5ms/step - loss: 0.5406 - accuracy: 0.7364 - val_loss: 0.4477 - val_accuracy: 0.8109\n",
            "Epoch 27/125\n",
            "30/30 [==============================] - 0s 4ms/step - loss: 0.5352 - accuracy: 0.7548 - val_loss: 0.4355 - val_accuracy: 0.8209\n",
            "Epoch 28/125\n",
            "30/30 [==============================] - 0s 5ms/step - loss: 0.5179 - accuracy: 0.7691 - val_loss: 0.4327 - val_accuracy: 0.8159\n",
            "Epoch 29/125\n",
            "30/30 [==============================] - 0s 5ms/step - loss: 0.5542 - accuracy: 0.7615 - val_loss: 0.4533 - val_accuracy: 0.8109\n",
            "Epoch 30/125\n",
            "30/30 [==============================] - 0s 5ms/step - loss: 0.4900 - accuracy: 0.7701 - val_loss: 0.4308 - val_accuracy: 0.8259\n",
            "Epoch 31/125\n",
            "30/30 [==============================] - 0s 5ms/step - loss: 0.4690 - accuracy: 0.7999 - val_loss: 0.4223 - val_accuracy: 0.8159\n",
            "Epoch 32/125\n",
            "30/30 [==============================] - 0s 4ms/step - loss: 0.4828 - accuracy: 0.7896 - val_loss: 0.4277 - val_accuracy: 0.8308\n",
            "Epoch 33/125\n",
            "30/30 [==============================] - 0s 4ms/step - loss: 0.4818 - accuracy: 0.7944 - val_loss: 0.4267 - val_accuracy: 0.8259\n",
            "Epoch 34/125\n",
            "30/30 [==============================] - 0s 5ms/step - loss: 0.4985 - accuracy: 0.7628 - val_loss: 0.4158 - val_accuracy: 0.8259\n",
            "Epoch 35/125\n",
            "30/30 [==============================] - 0s 4ms/step - loss: 0.4715 - accuracy: 0.7799 - val_loss: 0.4283 - val_accuracy: 0.8308\n",
            "Epoch 36/125\n",
            "30/30 [==============================] - 0s 5ms/step - loss: 0.4787 - accuracy: 0.7891 - val_loss: 0.4268 - val_accuracy: 0.8358\n",
            "Epoch 37/125\n",
            "30/30 [==============================] - 0s 5ms/step - loss: 0.5033 - accuracy: 0.7627 - val_loss: 0.4159 - val_accuracy: 0.8259\n",
            "Epoch 38/125\n",
            "30/30 [==============================] - 0s 5ms/step - loss: 0.5456 - accuracy: 0.7603 - val_loss: 0.4316 - val_accuracy: 0.8308\n",
            "Epoch 39/125\n",
            "30/30 [==============================] - 0s 4ms/step - loss: 0.4914 - accuracy: 0.7834 - val_loss: 0.4211 - val_accuracy: 0.8259\n",
            "Epoch 40/125\n",
            "30/30 [==============================] - 0s 5ms/step - loss: 0.4614 - accuracy: 0.7957 - val_loss: 0.4257 - val_accuracy: 0.8259\n",
            "Epoch 41/125\n",
            "30/30 [==============================] - 0s 4ms/step - loss: 0.5094 - accuracy: 0.7962 - val_loss: 0.4309 - val_accuracy: 0.8259\n",
            "Epoch 42/125\n",
            "30/30 [==============================] - 0s 4ms/step - loss: 0.4964 - accuracy: 0.7585 - val_loss: 0.4151 - val_accuracy: 0.8259\n",
            "Epoch 43/125\n",
            "30/30 [==============================] - 0s 4ms/step - loss: 0.5127 - accuracy: 0.7715 - val_loss: 0.4244 - val_accuracy: 0.8308\n",
            "Epoch 44/125\n",
            "30/30 [==============================] - 0s 4ms/step - loss: 0.5001 - accuracy: 0.7890 - val_loss: 0.4239 - val_accuracy: 0.8308\n",
            "Epoch 45/125\n",
            "30/30 [==============================] - 0s 5ms/step - loss: 0.4872 - accuracy: 0.7935 - val_loss: 0.4215 - val_accuracy: 0.8259\n",
            "Epoch 46/125\n",
            "30/30 [==============================] - 0s 4ms/step - loss: 0.4750 - accuracy: 0.8037 - val_loss: 0.4228 - val_accuracy: 0.8159\n",
            "Epoch 47/125\n",
            "30/30 [==============================] - 0s 5ms/step - loss: 0.4336 - accuracy: 0.8123 - val_loss: 0.4132 - val_accuracy: 0.8259\n",
            "Epoch 48/125\n",
            "30/30 [==============================] - 0s 4ms/step - loss: 0.4734 - accuracy: 0.7817 - val_loss: 0.4135 - val_accuracy: 0.8259\n",
            "Epoch 49/125\n",
            "30/30 [==============================] - 0s 4ms/step - loss: 0.4631 - accuracy: 0.8048 - val_loss: 0.4157 - val_accuracy: 0.8259\n",
            "Epoch 50/125\n",
            "30/30 [==============================] - 0s 4ms/step - loss: 0.4219 - accuracy: 0.8349 - val_loss: 0.4133 - val_accuracy: 0.8308\n",
            "Epoch 51/125\n",
            "30/30 [==============================] - 0s 4ms/step - loss: 0.4863 - accuracy: 0.7939 - val_loss: 0.4176 - val_accuracy: 0.8308\n",
            "Epoch 52/125\n",
            "30/30 [==============================] - 0s 5ms/step - loss: 0.4659 - accuracy: 0.7853 - val_loss: 0.4209 - val_accuracy: 0.8308\n",
            "Epoch 53/125\n",
            "30/30 [==============================] - 0s 4ms/step - loss: 0.4425 - accuracy: 0.8243 - val_loss: 0.4208 - val_accuracy: 0.8259\n",
            "Epoch 54/125\n",
            "30/30 [==============================] - 0s 5ms/step - loss: 0.4861 - accuracy: 0.7847 - val_loss: 0.4144 - val_accuracy: 0.8209\n",
            "Epoch 55/125\n",
            "30/30 [==============================] - 0s 5ms/step - loss: 0.4465 - accuracy: 0.7989 - val_loss: 0.4132 - val_accuracy: 0.8259\n",
            "Epoch 56/125\n",
            "30/30 [==============================] - 0s 5ms/step - loss: 0.4707 - accuracy: 0.7870 - val_loss: 0.4192 - val_accuracy: 0.8259\n",
            "Epoch 57/125\n",
            "30/30 [==============================] - 0s 4ms/step - loss: 0.4217 - accuracy: 0.8313 - val_loss: 0.4143 - val_accuracy: 0.8259\n",
            "Epoch 58/125\n",
            "30/30 [==============================] - 0s 5ms/step - loss: 0.4758 - accuracy: 0.7966 - val_loss: 0.4290 - val_accuracy: 0.8308\n",
            "Epoch 59/125\n",
            "30/30 [==============================] - 0s 4ms/step - loss: 0.4753 - accuracy: 0.7935 - val_loss: 0.4150 - val_accuracy: 0.8308\n",
            "Epoch 60/125\n",
            "30/30 [==============================] - 0s 4ms/step - loss: 0.4553 - accuracy: 0.7910 - val_loss: 0.4134 - val_accuracy: 0.8308\n",
            "Epoch 61/125\n",
            "30/30 [==============================] - 0s 5ms/step - loss: 0.5055 - accuracy: 0.7650 - val_loss: 0.4186 - val_accuracy: 0.8259\n",
            "Epoch 62/125\n",
            "30/30 [==============================] - 0s 4ms/step - loss: 0.4515 - accuracy: 0.8103 - val_loss: 0.4170 - val_accuracy: 0.8259\n",
            "Epoch 63/125\n",
            "30/30 [==============================] - 0s 4ms/step - loss: 0.4532 - accuracy: 0.8003 - val_loss: 0.4295 - val_accuracy: 0.8209\n",
            "Epoch 64/125\n",
            "30/30 [==============================] - 0s 5ms/step - loss: 0.4492 - accuracy: 0.7805 - val_loss: 0.4241 - val_accuracy: 0.8308\n",
            "Epoch 65/125\n",
            "30/30 [==============================] - 0s 5ms/step - loss: 0.5056 - accuracy: 0.7559 - val_loss: 0.4253 - val_accuracy: 0.8209\n",
            "Epoch 66/125\n",
            "30/30 [==============================] - 0s 5ms/step - loss: 0.4483 - accuracy: 0.8027 - val_loss: 0.4243 - val_accuracy: 0.8259\n",
            "Epoch 67/125\n",
            "30/30 [==============================] - 0s 5ms/step - loss: 0.4647 - accuracy: 0.7954 - val_loss: 0.4222 - val_accuracy: 0.8259\n",
            "Epoch 68/125\n",
            "30/30 [==============================] - 0s 4ms/step - loss: 0.4219 - accuracy: 0.8217 - val_loss: 0.4201 - val_accuracy: 0.8209\n",
            "Epoch 69/125\n",
            "30/30 [==============================] - 0s 5ms/step - loss: 0.4480 - accuracy: 0.8220 - val_loss: 0.4347 - val_accuracy: 0.8259\n",
            "Epoch 70/125\n",
            "30/30 [==============================] - 0s 4ms/step - loss: 0.4209 - accuracy: 0.8363 - val_loss: 0.4303 - val_accuracy: 0.8308\n",
            "Epoch 71/125\n",
            "30/30 [==============================] - 0s 4ms/step - loss: 0.4522 - accuracy: 0.8064 - val_loss: 0.4353 - val_accuracy: 0.8358\n",
            "Epoch 72/125\n",
            "30/30 [==============================] - 0s 4ms/step - loss: 0.4888 - accuracy: 0.7846 - val_loss: 0.4368 - val_accuracy: 0.8358\n",
            "Epoch 73/125\n",
            "30/30 [==============================] - 0s 5ms/step - loss: 0.4951 - accuracy: 0.7907 - val_loss: 0.4414 - val_accuracy: 0.8358\n",
            "Epoch 74/125\n",
            "30/30 [==============================] - 0s 5ms/step - loss: 0.4296 - accuracy: 0.8153 - val_loss: 0.4339 - val_accuracy: 0.8259\n",
            "Epoch 75/125\n",
            "30/30 [==============================] - 0s 4ms/step - loss: 0.4501 - accuracy: 0.7999 - val_loss: 0.4302 - val_accuracy: 0.8209\n",
            "Epoch 76/125\n",
            "30/30 [==============================] - 0s 5ms/step - loss: 0.4676 - accuracy: 0.7777 - val_loss: 0.4268 - val_accuracy: 0.8259\n",
            "Epoch 77/125\n",
            "30/30 [==============================] - 0s 5ms/step - loss: 0.4488 - accuracy: 0.8221 - val_loss: 0.4236 - val_accuracy: 0.8358\n",
            "Epoch 78/125\n",
            "30/30 [==============================] - 0s 4ms/step - loss: 0.4487 - accuracy: 0.8068 - val_loss: 0.4354 - val_accuracy: 0.8408\n",
            "Epoch 79/125\n",
            "30/30 [==============================] - 0s 4ms/step - loss: 0.4341 - accuracy: 0.7978 - val_loss: 0.4306 - val_accuracy: 0.8308\n",
            "Epoch 80/125\n",
            "30/30 [==============================] - 0s 4ms/step - loss: 0.4330 - accuracy: 0.8188 - val_loss: 0.4250 - val_accuracy: 0.8259\n",
            "Epoch 81/125\n",
            "30/30 [==============================] - 0s 5ms/step - loss: 0.4306 - accuracy: 0.8278 - val_loss: 0.4340 - val_accuracy: 0.8259\n",
            "Epoch 82/125\n",
            "30/30 [==============================] - 0s 5ms/step - loss: 0.4674 - accuracy: 0.8190 - val_loss: 0.4259 - val_accuracy: 0.8308\n",
            "Epoch 83/125\n",
            "30/30 [==============================] - 0s 4ms/step - loss: 0.4114 - accuracy: 0.8263 - val_loss: 0.4235 - val_accuracy: 0.8308\n",
            "Epoch 84/125\n",
            "30/30 [==============================] - 0s 4ms/step - loss: 0.4066 - accuracy: 0.8607 - val_loss: 0.4355 - val_accuracy: 0.8259\n",
            "Epoch 85/125\n",
            "30/30 [==============================] - 0s 4ms/step - loss: 0.4458 - accuracy: 0.8032 - val_loss: 0.4304 - val_accuracy: 0.8358\n",
            "Epoch 86/125\n",
            "30/30 [==============================] - 0s 4ms/step - loss: 0.4765 - accuracy: 0.7950 - val_loss: 0.4289 - val_accuracy: 0.8308\n",
            "Epoch 87/125\n",
            "30/30 [==============================] - 0s 5ms/step - loss: 0.4423 - accuracy: 0.8223 - val_loss: 0.4319 - val_accuracy: 0.8259\n",
            "Epoch 88/125\n",
            "30/30 [==============================] - 0s 5ms/step - loss: 0.4618 - accuracy: 0.7864 - val_loss: 0.4392 - val_accuracy: 0.8308\n",
            "Epoch 89/125\n",
            "30/30 [==============================] - 0s 4ms/step - loss: 0.4465 - accuracy: 0.8057 - val_loss: 0.4305 - val_accuracy: 0.8259\n",
            "Epoch 90/125\n",
            "30/30 [==============================] - 0s 4ms/step - loss: 0.4312 - accuracy: 0.8050 - val_loss: 0.4386 - val_accuracy: 0.8259\n",
            "Epoch 91/125\n",
            "30/30 [==============================] - 0s 5ms/step - loss: 0.4209 - accuracy: 0.8212 - val_loss: 0.4293 - val_accuracy: 0.8358\n",
            "Epoch 92/125\n",
            "30/30 [==============================] - 0s 5ms/step - loss: 0.4258 - accuracy: 0.8015 - val_loss: 0.4264 - val_accuracy: 0.8308\n",
            "Epoch 93/125\n",
            "30/30 [==============================] - 0s 4ms/step - loss: 0.4056 - accuracy: 0.8485 - val_loss: 0.4259 - val_accuracy: 0.8308\n",
            "Epoch 94/125\n",
            "30/30 [==============================] - 0s 5ms/step - loss: 0.4919 - accuracy: 0.7847 - val_loss: 0.4314 - val_accuracy: 0.8209\n",
            "Epoch 95/125\n",
            "30/30 [==============================] - 0s 5ms/step - loss: 0.4288 - accuracy: 0.8256 - val_loss: 0.4304 - val_accuracy: 0.8259\n",
            "Epoch 96/125\n",
            "30/30 [==============================] - 0s 4ms/step - loss: 0.4262 - accuracy: 0.8136 - val_loss: 0.4248 - val_accuracy: 0.8308\n",
            "Epoch 97/125\n",
            "30/30 [==============================] - 0s 5ms/step - loss: 0.5193 - accuracy: 0.7802 - val_loss: 0.4361 - val_accuracy: 0.8308\n",
            "Epoch 98/125\n",
            "30/30 [==============================] - 0s 4ms/step - loss: 0.4557 - accuracy: 0.7995 - val_loss: 0.4288 - val_accuracy: 0.8308\n",
            "Epoch 99/125\n",
            "30/30 [==============================] - 0s 5ms/step - loss: 0.4197 - accuracy: 0.8186 - val_loss: 0.4268 - val_accuracy: 0.8308\n",
            "Epoch 100/125\n",
            "30/30 [==============================] - 0s 4ms/step - loss: 0.4673 - accuracy: 0.8158 - val_loss: 0.4308 - val_accuracy: 0.8308\n",
            "Epoch 101/125\n",
            "30/30 [==============================] - 0s 4ms/step - loss: 0.3947 - accuracy: 0.8527 - val_loss: 0.4255 - val_accuracy: 0.8358\n",
            "Epoch 102/125\n",
            "30/30 [==============================] - 0s 6ms/step - loss: 0.4444 - accuracy: 0.8141 - val_loss: 0.4347 - val_accuracy: 0.8259\n",
            "Epoch 103/125\n",
            "30/30 [==============================] - 0s 4ms/step - loss: 0.4921 - accuracy: 0.7950 - val_loss: 0.4282 - val_accuracy: 0.8259\n",
            "Epoch 104/125\n",
            "30/30 [==============================] - 0s 5ms/step - loss: 0.4272 - accuracy: 0.8257 - val_loss: 0.4315 - val_accuracy: 0.8259\n",
            "Epoch 105/125\n",
            "30/30 [==============================] - 0s 5ms/step - loss: 0.4622 - accuracy: 0.8019 - val_loss: 0.4349 - val_accuracy: 0.8358\n",
            "Epoch 106/125\n",
            "30/30 [==============================] - 0s 5ms/step - loss: 0.4155 - accuracy: 0.8140 - val_loss: 0.4264 - val_accuracy: 0.8358\n",
            "Epoch 107/125\n",
            "30/30 [==============================] - 0s 4ms/step - loss: 0.4115 - accuracy: 0.8479 - val_loss: 0.4288 - val_accuracy: 0.8358\n",
            "Epoch 108/125\n",
            "30/30 [==============================] - 0s 5ms/step - loss: 0.4428 - accuracy: 0.8103 - val_loss: 0.4252 - val_accuracy: 0.8358\n",
            "Epoch 109/125\n",
            "30/30 [==============================] - 0s 5ms/step - loss: 0.4127 - accuracy: 0.8200 - val_loss: 0.4368 - val_accuracy: 0.8259\n",
            "Epoch 110/125\n",
            "30/30 [==============================] - 0s 4ms/step - loss: 0.4530 - accuracy: 0.8054 - val_loss: 0.4339 - val_accuracy: 0.8308\n",
            "Epoch 111/125\n",
            "30/30 [==============================] - 0s 4ms/step - loss: 0.4279 - accuracy: 0.8063 - val_loss: 0.4357 - val_accuracy: 0.8259\n",
            "Epoch 112/125\n",
            "30/30 [==============================] - 0s 5ms/step - loss: 0.5186 - accuracy: 0.7758 - val_loss: 0.4382 - val_accuracy: 0.8259\n",
            "Epoch 113/125\n",
            "30/30 [==============================] - 0s 5ms/step - loss: 0.4377 - accuracy: 0.8172 - val_loss: 0.4343 - val_accuracy: 0.8259\n",
            "Epoch 114/125\n",
            "30/30 [==============================] - 0s 4ms/step - loss: 0.4269 - accuracy: 0.8220 - val_loss: 0.4255 - val_accuracy: 0.8259\n",
            "Epoch 115/125\n",
            "30/30 [==============================] - 0s 4ms/step - loss: 0.3854 - accuracy: 0.8409 - val_loss: 0.4340 - val_accuracy: 0.8259\n",
            "Epoch 116/125\n",
            "30/30 [==============================] - 0s 5ms/step - loss: 0.4289 - accuracy: 0.8344 - val_loss: 0.4239 - val_accuracy: 0.8259\n",
            "Epoch 117/125\n",
            "30/30 [==============================] - 0s 5ms/step - loss: 0.4589 - accuracy: 0.7830 - val_loss: 0.4428 - val_accuracy: 0.8259\n",
            "Epoch 118/125\n",
            "30/30 [==============================] - 0s 5ms/step - loss: 0.3950 - accuracy: 0.8396 - val_loss: 0.4286 - val_accuracy: 0.8259\n",
            "Epoch 119/125\n",
            "30/30 [==============================] - 0s 5ms/step - loss: 0.4299 - accuracy: 0.8208 - val_loss: 0.4356 - val_accuracy: 0.8358\n",
            "Epoch 120/125\n",
            "30/30 [==============================] - 0s 4ms/step - loss: 0.4283 - accuracy: 0.8068 - val_loss: 0.4354 - val_accuracy: 0.8259\n",
            "Epoch 121/125\n",
            "30/30 [==============================] - 0s 4ms/step - loss: 0.4139 - accuracy: 0.8303 - val_loss: 0.4365 - val_accuracy: 0.8259\n",
            "Epoch 122/125\n",
            "30/30 [==============================] - 0s 5ms/step - loss: 0.4451 - accuracy: 0.7937 - val_loss: 0.4257 - val_accuracy: 0.8308\n",
            "Epoch 123/125\n",
            "30/30 [==============================] - 0s 5ms/step - loss: 0.4882 - accuracy: 0.7806 - val_loss: 0.4329 - val_accuracy: 0.8458\n",
            "Epoch 124/125\n",
            "30/30 [==============================] - 0s 5ms/step - loss: 0.4282 - accuracy: 0.8122 - val_loss: 0.4283 - val_accuracy: 0.8308\n",
            "Epoch 125/125\n",
            "30/30 [==============================] - 0s 5ms/step - loss: 0.4570 - accuracy: 0.8094 - val_loss: 0.4346 - val_accuracy: 0.8259\n"
          ],
          "name": "stdout"
        }
      ]
    },
    {
      "cell_type": "code",
      "metadata": {
        "colab": {
          "base_uri": "https://localhost:8080/",
          "height": 283
        },
        "id": "bWL4Ncxlrw5n",
        "outputId": "32d31e17-ce9f-4a15-c2cd-2d2c6b40406d"
      },
      "source": [
        "import matplotlib.pyplot as plt\r\n",
        "plt.figure(figsize=(12, 4))\r\n",
        "\r\n",
        "plt.subplot(1, 2, 1)\r\n",
        "plt.plot(history.history['loss'], 'b-', label='loss')\r\n",
        "plt.plot(history.history['val_loss'], 'r--', label='val_loss')\r\n",
        "plt.xlabel('Epoch')\r\n",
        "plt.legend()\r\n",
        "\r\n",
        "plt.subplot(1, 2, 2)\r\n",
        "plt.plot(history.history['accuracy'], 'g-', label='accuracy')\r\n",
        "plt.plot(history.history['val_accuracy'], 'k--', label='val_accuracy')\r\n",
        "plt.xlabel('Epoch')\r\n",
        "plt.ylim(0.7, 1)\r\n",
        "plt.legend()\r\n",
        "\r\n",
        "plt.show()"
      ],
      "execution_count": 593,
      "outputs": [
        {
          "output_type": "display_data",
          "data": {
            "image/png": "[encoded data removed]",
            "text/plain": [
              "<Figure size 864x288 with 2 Axes>"
            ]
          },
          "metadata": {
            "tags": [],
            "needs_background": "light"
          }
        }
      ]
    },
    {
      "cell_type": "code",
      "metadata": {
        "colab": {
          "base_uri": "https://localhost:8080/"
        },
        "id": "qNYU88ZNqBlA",
        "outputId": "4ede9f1f-0c97-40ca-cd63-89e1c9ea4b8f"
      },
      "source": [
        "model.evaluate(x_test, y_test)"
      ],
      "execution_count": 594,
      "outputs": [
        {
          "output_type": "stream",
          "text": [
            "7/7 [==============================] - 0s 2ms/step - loss: 0.4768 - accuracy: 0.7758\n"
          ],
          "name": "stdout"
        },
        {
          "output_type": "execute_result",
          "data": {
            "text/plain": [
              "[0.47682973742485046, 0.7757847309112549]"
            ]
          },
          "metadata": {
            "tags": []
          },
          "execution_count": 594
        }
      ]
    },
    {
      "cell_type": "code",
      "metadata": {
        "id": "__ilSNnMqU-O"
      },
      "source": [
        "test_pred = model.predict(test)"
      ],
      "execution_count": 464,
      "outputs": []
    },
    {
      "cell_type": "code",
      "metadata": {
        "id": "5HOLkRsOr5vv"
      },
      "source": [
        "test_pred_argmax = np.argmax(test_pred, axis=1)"
      ],
      "execution_count": 465,
      "outputs": []
    },
    {
      "cell_type": "code",
      "metadata": {
        "colab": {
          "base_uri": "https://localhost:8080/"
        },
        "id": "Dd8ASaG2t4Ev",
        "outputId": "d40b6592-22ec-4692-e616-0e7d3196da5f"
      },
      "source": [
        "test_pred_argmax"
      ],
      "execution_count": 466,
      "outputs": [
        {
          "output_type": "execute_result",
          "data": {
            "text/plain": [
              "array([0, 0, 0, 0, 0, 0, 1, 0, 1, 0, 0, 0, 1, 0, 1, 1, 0, 0, 0, 0, 0, 0,\n",
              "       1, 0, 1, 0, 1, 0, 0, 0, 0, 0, 0, 0, 0, 0, 1, 1, 0, 0, 0, 0, 0, 1,\n",
              "       1, 0, 0, 0, 1, 1, 0, 0, 1, 1, 0, 0, 0, 0, 0, 1, 0, 0, 0, 1, 1, 1,\n",
              "       1, 0, 0, 1, 1, 0, 1, 0, 1, 0, 0, 1, 0, 1, 1, 0, 0, 0, 0, 0, 1, 1,\n",
              "       1, 1, 0, 0, 1, 0, 0, 0, 1, 0, 0, 0, 1, 0, 0, 0, 1, 0, 0, 0, 0, 0,\n",
              "       0, 1, 1, 1, 1, 0, 0, 1, 0, 1, 1, 0, 1, 0, 0, 1, 0, 0, 0, 0, 0, 0,\n",
              "       0, 0, 0, 0, 0, 0, 1, 0, 0, 1, 0, 0, 0, 0, 0, 0, 0, 0, 1, 0, 0, 1,\n",
              "       0, 0, 1, 0, 0, 1, 1, 1, 1, 0, 0, 1, 0, 0, 1, 1, 0, 0, 0, 0, 0, 1,\n",
              "       1, 0, 1, 1, 0, 0, 1, 0, 1, 0, 1, 0, 0, 0, 0, 0, 0, 0, 1, 0, 1, 0,\n",
              "       0, 1, 1, 1, 0, 1, 0, 0, 0, 0, 1, 0, 0, 0, 0, 1, 0, 0, 1, 0, 1, 0,\n",
              "       1, 0, 1, 0, 1, 1, 0, 1, 0, 0, 0, 1, 0, 0, 0, 0, 0, 0, 1, 1, 1, 1,\n",
              "       0, 0, 0, 0, 1, 0, 1, 0, 1, 0, 0, 0, 0, 0, 0, 0, 1, 0, 0, 0, 1, 1,\n",
              "       0, 0, 0, 0, 1, 0, 0, 0, 1, 0, 0, 1, 0, 0, 0, 0, 1, 0, 1, 1, 1, 0,\n",
              "       0, 0, 0, 0, 0, 1, 0, 0, 0, 0, 1, 0, 0, 0, 0, 0, 0, 0, 1, 1, 1, 1,\n",
              "       0, 0, 0, 0, 0, 0, 1, 1, 0, 0, 0, 0, 0, 0, 0, 0, 1, 0, 0, 0, 0, 0,\n",
              "       1, 0, 0, 1, 0, 0, 0, 0, 0, 0, 0, 0, 0, 1, 0, 1, 0, 0, 0, 1, 1, 0,\n",
              "       0, 0, 1, 0, 1, 0, 0, 0, 0, 1, 1, 0, 1, 0, 0, 1, 1, 0, 0, 1, 0, 0,\n",
              "       1, 1, 0, 0, 0, 0, 0, 0, 1, 0, 0, 1, 0, 0, 0, 0, 0, 1, 1, 0, 0, 1,\n",
              "       0, 1, 0, 0, 1, 0, 1, 0, 0, 0, 0, 0, 1, 1, 1, 1, 0, 0, 1, 0, 0, 0])"
            ]
          },
          "metadata": {
            "tags": []
          },
          "execution_count": 466
        }
      ]
    },
    {
      "cell_type": "code",
      "metadata": {
        "id": "Z9eI-tOFx7JC"
      },
      "source": [
        "sub = submit['PassengerId']"
      ],
      "execution_count": 467,
      "outputs": []
    },
    {
      "cell_type": "code",
      "metadata": {
        "id": "56i3tUcB0IJ1"
      },
      "source": [
        "sub = pd.concat([sub, pd.DataFrame(test_pred_argmax, columns=['Survived'])], axis=1)"
      ],
      "execution_count": 468,
      "outputs": []
    },
    {
      "cell_type": "code",
      "metadata": {
        "id": "l_XficdN2T-i",
        "colab": {
          "base_uri": "https://localhost:8080/",
          "height": 406
        },
        "outputId": "9010d23d-967a-42e5-b1a3-a0d9eb2c9ba2"
      },
      "source": [
        "sub"
      ],
      "execution_count": 469,
      "outputs": [
        {
          "output_type": "execute_result",
          "data": {
            "text/html": [
              "<div>\n",
              "<style scoped>\n",
              "    .dataframe tbody tr th:only-of-type {\n",
              "        vertical-align: middle;\n",
              "    }\n",
              "\n",
              "    .dataframe tbody tr th {\n",
              "        vertical-align: top;\n",
              "    }\n",
              "\n",
              "    .dataframe thead th {\n",
              "        text-align: right;\n",
              "    }\n",
              "</style>\n",
              "<table border=\"1\" class=\"dataframe\">\n",
              "  <thead>\n",
              "    <tr style=\"text-align: right;\">\n",
              "      <th></th>\n",
              "      <th>PassengerId</th>\n",
              "      <th>Survived</th>\n",
              "    </tr>\n",
              "  </thead>\n",
              "  <tbody>\n",
              "    <tr>\n",
              "      <th>0</th>\n",
              "      <td>892</td>\n",
              "      <td>0</td>\n",
              "    </tr>\n",
              "    <tr>\n",
              "      <th>1</th>\n",
              "      <td>893</td>\n",
              "      <td>0</td>\n",
              "    </tr>\n",
              "    <tr>\n",
              "      <th>2</th>\n",
              "      <td>894</td>\n",
              "      <td>0</td>\n",
              "    </tr>\n",
              "    <tr>\n",
              "      <th>3</th>\n",
              "      <td>895</td>\n",
              "      <td>0</td>\n",
              "    </tr>\n",
              "    <tr>\n",
              "      <th>4</th>\n",
              "      <td>896</td>\n",
              "      <td>0</td>\n",
              "    </tr>\n",
              "    <tr>\n",
              "      <th>...</th>\n",
              "      <td>...</td>\n",
              "      <td>...</td>\n",
              "    </tr>\n",
              "    <tr>\n",
              "      <th>413</th>\n",
              "      <td>1305</td>\n",
              "      <td>0</td>\n",
              "    </tr>\n",
              "    <tr>\n",
              "      <th>414</th>\n",
              "      <td>1306</td>\n",
              "      <td>1</td>\n",
              "    </tr>\n",
              "    <tr>\n",
              "      <th>415</th>\n",
              "      <td>1307</td>\n",
              "      <td>0</td>\n",
              "    </tr>\n",
              "    <tr>\n",
              "      <th>416</th>\n",
              "      <td>1308</td>\n",
              "      <td>0</td>\n",
              "    </tr>\n",
              "    <tr>\n",
              "      <th>417</th>\n",
              "      <td>1309</td>\n",
              "      <td>0</td>\n",
              "    </tr>\n",
              "  </tbody>\n",
              "</table>\n",
              "<p>418 rows × 2 columns</p>\n",
              "</div>"
            ],
            "text/plain": [
              "     PassengerId  Survived\n",
              "0            892         0\n",
              "1            893         0\n",
              "2            894         0\n",
              "3            895         0\n",
              "4            896         0\n",
              "..           ...       ...\n",
              "413         1305         0\n",
              "414         1306         1\n",
              "415         1307         0\n",
              "416         1308         0\n",
              "417         1309         0\n",
              "\n",
              "[418 rows x 2 columns]"
            ]
          },
          "metadata": {
            "tags": []
          },
          "execution_count": 469
        }
      ]
    },
    {
      "cell_type": "code",
      "metadata": {
        "id": "3l4o36740kUr"
      },
      "source": [
        "sub.to_csv(\"/content/drive/MyDrive/submission_0228.csv\", index=False)"
      ],
      "execution_count": 470,
      "outputs": []
    },
    {
      "cell_type": "code",
      "metadata": {
        "id": "oa1CzSIt_sqd"
      },
      "source": [
        ""
      ],
      "execution_count": null,
      "outputs": []
    }
  ]
}