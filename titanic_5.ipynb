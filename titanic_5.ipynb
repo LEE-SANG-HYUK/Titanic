{
  "nbformat": 4,
  "nbformat_minor": 0,
  "metadata": {
    "colab": {
      "name": "titanic_5.ipynb",
      "provenance": [],
      "collapsed_sections": [],
      "mount_file_id": "1v-SkC5sAx9cogF2EgEUlawIm-p3tfakY",
      "authorship_tag": "ABX9TyOQJwmZ4rrNMrgfOl5sAPq0",
      "include_colab_link": true
    },
    "kernelspec": {
      "name": "python3",
      "display_name": "Python 3"
    }
  },
  "cells": [
    {
      "cell_type": "markdown",
      "metadata": {
        "id": "view-in-github",
        "colab_type": "text"
      },
      "source": [
        "<a href=\"https://colab.research.google.com/github/LEE-SANG-HYUK/Titanic/blob/main/titanic_5.ipynb\" target=\"_parent\"><img src=\"https://colab.research.google.com/assets/colab-badge.svg\" alt=\"Open In Colab\"/></a>"
      ]
    },
    {
      "cell_type": "code",
      "metadata": {
        "colab": {
          "base_uri": "https://localhost:8080/",
          "height": 16
        },
        "id": "8Tf_oTbtM1PG",
        "outputId": "cebb7470-18ac-4ae5-d320-97c3c0fa66b1"
      },
      "source": [
        "import pandas as pd\r\n",
        "import numpy as np\r\n",
        "import re\r\n",
        "import sklearn\r\n",
        "import xgboost as xgb\r\n",
        "import seaborn as sns\r\n",
        "import matplotlib.pyplot as plt\r\n",
        "%matplotlib inline\r\n",
        "import tensorflow as tf\r\n",
        "\r\n",
        "import plotly.offline as py\r\n",
        "py.init_notebook_mode(connected=True)\r\n",
        "import plotly.graph_objs as go\r\n",
        "import plotly.tools as tls\r\n",
        "\r\n",
        "import warnings\r\n",
        "warnings.filterwarnings('ignore')\r\n",
        "\r\n",
        "# Going to use these 5 base models for the stacking\r\n",
        "from sklearn.ensemble import (RandomForestClassifier, AdaBoostClassifier, \r\n",
        "                              GradientBoostingClassifier, ExtraTreesClassifier)\r\n",
        "from sklearn.svm import SVC"
      ],
      "execution_count": 381,
      "outputs": [
        {
          "output_type": "display_data",
          "data": {
            "text/html": [
              "        <script type=\"text/javascript\">\n",
              "        window.PlotlyConfig = {MathJaxConfig: 'local'};\n",
              "        if (window.MathJax) {MathJax.Hub.Config({SVG: {font: \"STIX-Web\"}});}\n",
              "        if (typeof require !== 'undefined') {\n",
              "        require.undef(\"plotly\");\n",
              "        requirejs.config({\n",
              "            paths: {\n",
              "                'plotly': ['https://cdn.plot.ly/plotly-latest.min']\n",
              "            }\n",
              "        });\n",
              "        require(['plotly'], function(Plotly) {\n",
              "            window._Plotly = Plotly;\n",
              "        });\n",
              "        }\n",
              "        </script>\n",
              "        "
            ]
          },
          "metadata": {
            "tags": []
          }
        }
      ]
    },
    {
      "cell_type": "code",
      "metadata": {
        "id": "T16rsJvtM4DL"
      },
      "source": [
        "train = pd.read_csv(\"/content/drive/MyDrive/train.csv\")\r\n",
        "submit = pd.read_csv(\"/content/drive/MyDrive/test.csv\")"
      ],
      "execution_count": 382,
      "outputs": []
    },
    {
      "cell_type": "code",
      "metadata": {
        "colab": {
          "base_uri": "https://localhost:8080/",
          "height": 197
        },
        "id": "tW3SGdSXM7Ek",
        "outputId": "7b9f0f32-d9b2-44fd-d41b-98a8d9f3d389"
      },
      "source": [
        "train.head()"
      ],
      "execution_count": 383,
      "outputs": [
        {
          "output_type": "execute_result",
          "data": {
            "text/html": [
              "<div>\n",
              "<style scoped>\n",
              "    .dataframe tbody tr th:only-of-type {\n",
              "        vertical-align: middle;\n",
              "    }\n",
              "\n",
              "    .dataframe tbody tr th {\n",
              "        vertical-align: top;\n",
              "    }\n",
              "\n",
              "    .dataframe thead th {\n",
              "        text-align: right;\n",
              "    }\n",
              "</style>\n",
              "<table border=\"1\" class=\"dataframe\">\n",
              "  <thead>\n",
              "    <tr style=\"text-align: right;\">\n",
              "      <th></th>\n",
              "      <th>PassengerId</th>\n",
              "      <th>Survived</th>\n",
              "      <th>Pclass</th>\n",
              "      <th>Name</th>\n",
              "      <th>Sex</th>\n",
              "      <th>Age</th>\n",
              "      <th>SibSp</th>\n",
              "      <th>Parch</th>\n",
              "      <th>Ticket</th>\n",
              "      <th>Fare</th>\n",
              "      <th>Cabin</th>\n",
              "      <th>Embarked</th>\n",
              "    </tr>\n",
              "  </thead>\n",
              "  <tbody>\n",
              "    <tr>\n",
              "      <th>0</th>\n",
              "      <td>1</td>\n",
              "      <td>0</td>\n",
              "      <td>3</td>\n",
              "      <td>Braund, Mr. Owen Harris</td>\n",
              "      <td>male</td>\n",
              "      <td>22.0</td>\n",
              "      <td>1</td>\n",
              "      <td>0</td>\n",
              "      <td>A/5 21171</td>\n",
              "      <td>7.2500</td>\n",
              "      <td>NaN</td>\n",
              "      <td>S</td>\n",
              "    </tr>\n",
              "    <tr>\n",
              "      <th>1</th>\n",
              "      <td>2</td>\n",
              "      <td>1</td>\n",
              "      <td>1</td>\n",
              "      <td>Cumings, Mrs. John Bradley (Florence Briggs Th...</td>\n",
              "      <td>female</td>\n",
              "      <td>38.0</td>\n",
              "      <td>1</td>\n",
              "      <td>0</td>\n",
              "      <td>PC 17599</td>\n",
              "      <td>71.2833</td>\n",
              "      <td>C85</td>\n",
              "      <td>C</td>\n",
              "    </tr>\n",
              "    <tr>\n",
              "      <th>2</th>\n",
              "      <td>3</td>\n",
              "      <td>1</td>\n",
              "      <td>3</td>\n",
              "      <td>Heikkinen, Miss. Laina</td>\n",
              "      <td>female</td>\n",
              "      <td>26.0</td>\n",
              "      <td>0</td>\n",
              "      <td>0</td>\n",
              "      <td>STON/O2. 3101282</td>\n",
              "      <td>7.9250</td>\n",
              "      <td>NaN</td>\n",
              "      <td>S</td>\n",
              "    </tr>\n",
              "    <tr>\n",
              "      <th>3</th>\n",
              "      <td>4</td>\n",
              "      <td>1</td>\n",
              "      <td>1</td>\n",
              "      <td>Futrelle, Mrs. Jacques Heath (Lily May Peel)</td>\n",
              "      <td>female</td>\n",
              "      <td>35.0</td>\n",
              "      <td>1</td>\n",
              "      <td>0</td>\n",
              "      <td>113803</td>\n",
              "      <td>53.1000</td>\n",
              "      <td>C123</td>\n",
              "      <td>S</td>\n",
              "    </tr>\n",
              "    <tr>\n",
              "      <th>4</th>\n",
              "      <td>5</td>\n",
              "      <td>0</td>\n",
              "      <td>3</td>\n",
              "      <td>Allen, Mr. William Henry</td>\n",
              "      <td>male</td>\n",
              "      <td>35.0</td>\n",
              "      <td>0</td>\n",
              "      <td>0</td>\n",
              "      <td>373450</td>\n",
              "      <td>8.0500</td>\n",
              "      <td>NaN</td>\n",
              "      <td>S</td>\n",
              "    </tr>\n",
              "  </tbody>\n",
              "</table>\n",
              "</div>"
            ],
            "text/plain": [
              "   PassengerId  Survived  Pclass  ...     Fare Cabin  Embarked\n",
              "0            1         0       3  ...   7.2500   NaN         S\n",
              "1            2         1       1  ...  71.2833   C85         C\n",
              "2            3         1       3  ...   7.9250   NaN         S\n",
              "3            4         1       1  ...  53.1000  C123         S\n",
              "4            5         0       3  ...   8.0500   NaN         S\n",
              "\n",
              "[5 rows x 12 columns]"
            ]
          },
          "metadata": {
            "tags": []
          },
          "execution_count": 383
        }
      ]
    },
    {
      "cell_type": "code",
      "metadata": {
        "id": "_XC4ti2ENehX"
      },
      "source": [
        "full_data = [train, submit]"
      ],
      "execution_count": 384,
      "outputs": []
    },
    {
      "cell_type": "code",
      "metadata": {
        "id": "E4M3jilFPdp7"
      },
      "source": [
        "titanic = pd.concat([train, submit], axis=0).reset_index(drop=True)"
      ],
      "execution_count": 385,
      "outputs": []
    },
    {
      "cell_type": "markdown",
      "metadata": {
        "id": "ALVhpRgXOKX7"
      },
      "source": [
        "1.Age"
      ]
    },
    {
      "cell_type": "code",
      "metadata": {
        "id": "_g_Id3xQM9kY"
      },
      "source": [
        "titanic['Age'] = titanic.groupby(['Pclass', 'Sex'])['Age'].apply(lambda x: x.fillna(x.median()))"
      ],
      "execution_count": 386,
      "outputs": []
    },
    {
      "cell_type": "code",
      "metadata": {
        "id": "NEV7qVqXQVRw"
      },
      "source": [
        "titanic['Age'] = pd.cut(titanic['Age'].astype(int), 5)"
      ],
      "execution_count": 387,
      "outputs": []
    },
    {
      "cell_type": "code",
      "metadata": {
        "colab": {
          "base_uri": "https://localhost:8080/"
        },
        "id": "RCFYCxvwRGTW",
        "outputId": "d73d9b46-eaaa-4e2d-ec92-ba97efceb4a4"
      },
      "source": [
        "titanic['Age'].value_counts()"
      ],
      "execution_count": 388,
      "outputs": [
        {
          "output_type": "execute_result",
          "data": {
            "text/plain": [
              "(16.0, 32.0]     752\n",
              "(32.0, 48.0]     304\n",
              "(-0.08, 16.0]    134\n",
              "(48.0, 64.0]     106\n",
              "(64.0, 80.0]      13\n",
              "Name: Age, dtype: int64"
            ]
          },
          "metadata": {
            "tags": []
          },
          "execution_count": 388
        }
      ]
    },
    {
      "cell_type": "markdown",
      "metadata": {
        "id": "P6YluRzVOm0m"
      },
      "source": [
        "2.Fare"
      ]
    },
    {
      "cell_type": "code",
      "metadata": {
        "colab": {
          "base_uri": "https://localhost:8080/",
          "height": 77
        },
        "id": "ZrESxRkkOn8Y",
        "outputId": "cb1ca5e6-29c3-4636-8105-7892cdff493d"
      },
      "source": [
        "titanic.loc[titanic['Fare'].isnull()]"
      ],
      "execution_count": 389,
      "outputs": [
        {
          "output_type": "execute_result",
          "data": {
            "text/html": [
              "<div>\n",
              "<style scoped>\n",
              "    .dataframe tbody tr th:only-of-type {\n",
              "        vertical-align: middle;\n",
              "    }\n",
              "\n",
              "    .dataframe tbody tr th {\n",
              "        vertical-align: top;\n",
              "    }\n",
              "\n",
              "    .dataframe thead th {\n",
              "        text-align: right;\n",
              "    }\n",
              "</style>\n",
              "<table border=\"1\" class=\"dataframe\">\n",
              "  <thead>\n",
              "    <tr style=\"text-align: right;\">\n",
              "      <th></th>\n",
              "      <th>PassengerId</th>\n",
              "      <th>Survived</th>\n",
              "      <th>Pclass</th>\n",
              "      <th>Name</th>\n",
              "      <th>Sex</th>\n",
              "      <th>Age</th>\n",
              "      <th>SibSp</th>\n",
              "      <th>Parch</th>\n",
              "      <th>Ticket</th>\n",
              "      <th>Fare</th>\n",
              "      <th>Cabin</th>\n",
              "      <th>Embarked</th>\n",
              "    </tr>\n",
              "  </thead>\n",
              "  <tbody>\n",
              "    <tr>\n",
              "      <th>1043</th>\n",
              "      <td>1044</td>\n",
              "      <td>NaN</td>\n",
              "      <td>3</td>\n",
              "      <td>Storey, Mr. Thomas</td>\n",
              "      <td>male</td>\n",
              "      <td>(48.0, 64.0]</td>\n",
              "      <td>0</td>\n",
              "      <td>0</td>\n",
              "      <td>3701</td>\n",
              "      <td>NaN</td>\n",
              "      <td>NaN</td>\n",
              "      <td>S</td>\n",
              "    </tr>\n",
              "  </tbody>\n",
              "</table>\n",
              "</div>"
            ],
            "text/plain": [
              "      PassengerId  Survived  Pclass  ... Fare Cabin Embarked\n",
              "1043         1044       NaN       3  ...  NaN   NaN        S\n",
              "\n",
              "[1 rows x 12 columns]"
            ]
          },
          "metadata": {
            "tags": []
          },
          "execution_count": 389
        }
      ]
    },
    {
      "cell_type": "code",
      "metadata": {
        "colab": {
          "base_uri": "https://localhost:8080/"
        },
        "id": "PkBqMGsBOtiJ",
        "outputId": "cfdb1636-1d7b-4482-fdca-8a860f8232fd"
      },
      "source": [
        "Thomas = titanic.loc[(titanic['Pclass'] == 3) & (titanic['SibSp'] == 0) & (titanic['Embarked'] == 'S')]['Fare'].median()\r\n",
        "print(Thomas)"
      ],
      "execution_count": 390,
      "outputs": [
        {
          "output_type": "stream",
          "text": [
            "7.925\n"
          ],
          "name": "stdout"
        }
      ]
    },
    {
      "cell_type": "code",
      "metadata": {
        "id": "rzo5I3HAPkW9"
      },
      "source": [
        "titanic.loc[titanic['Fare'].isnull(), 'Fare'] = Thomas"
      ],
      "execution_count": 391,
      "outputs": []
    },
    {
      "cell_type": "code",
      "metadata": {
        "id": "ve_ugGS_PvmP"
      },
      "source": [
        "titanic['Fare'] = pd.qcut(titanic['Fare'], 5)"
      ],
      "execution_count": 392,
      "outputs": []
    },
    {
      "cell_type": "code",
      "metadata": {
        "colab": {
          "base_uri": "https://localhost:8080/"
        },
        "id": "5D-Jjgs0Rx_k",
        "outputId": "bed25382-0672-4fdf-ae42-94b24a4327b7"
      },
      "source": [
        "titanic['Fare'].value_counts()"
      ],
      "execution_count": 393,
      "outputs": [
        {
          "output_type": "execute_result",
          "data": {
            "text/plain": [
              "(-0.001, 7.854]      275\n",
              "(21.558, 41.579]     265\n",
              "(41.579, 512.329]    259\n",
              "(10.5, 21.558]       255\n",
              "(7.854, 10.5]        255\n",
              "Name: Fare, dtype: int64"
            ]
          },
          "metadata": {
            "tags": []
          },
          "execution_count": 393
        }
      ]
    },
    {
      "cell_type": "markdown",
      "metadata": {
        "id": "iPPcUGkXT2ys"
      },
      "source": [
        "3.Cabin"
      ]
    },
    {
      "cell_type": "code",
      "metadata": {
        "id": "6_kUvrC0T6di",
        "colab": {
          "base_uri": "https://localhost:8080/"
        },
        "outputId": "948c091c-0c07-474f-a7d7-8d83021c544f"
      },
      "source": [
        "print(titanic['Cabin'].unique())"
      ],
      "execution_count": 394,
      "outputs": [
        {
          "output_type": "stream",
          "text": [
            "[nan 'C85' 'C123' 'E46' 'G6' 'C103' 'D56' 'A6' 'C23 C25 C27' 'B78' 'D33'\n",
            " 'B30' 'C52' 'B28' 'C83' 'F33' 'F G73' 'E31' 'A5' 'D10 D12' 'D26' 'C110'\n",
            " 'B58 B60' 'E101' 'F E69' 'D47' 'B86' 'F2' 'C2' 'E33' 'B19' 'A7' 'C49'\n",
            " 'F4' 'A32' 'B4' 'B80' 'A31' 'D36' 'D15' 'C93' 'C78' 'D35' 'C87' 'B77'\n",
            " 'E67' 'B94' 'C125' 'C99' 'C118' 'D7' 'A19' 'B49' 'D' 'C22 C26' 'C106'\n",
            " 'C65' 'E36' 'C54' 'B57 B59 B63 B66' 'C7' 'E34' 'C32' 'B18' 'C124' 'C91'\n",
            " 'E40' 'T' 'C128' 'D37' 'B35' 'E50' 'C82' 'B96 B98' 'E10' 'E44' 'A34'\n",
            " 'C104' 'C111' 'C92' 'E38' 'D21' 'E12' 'E63' 'A14' 'B37' 'C30' 'D20' 'B79'\n",
            " 'E25' 'D46' 'B73' 'C95' 'B38' 'B39' 'B22' 'C86' 'C70' 'A16' 'C101' 'C68'\n",
            " 'A10' 'E68' 'B41' 'A20' 'D19' 'D50' 'D9' 'A23' 'B50' 'A26' 'D48' 'E58'\n",
            " 'C126' 'B71' 'B51 B53 B55' 'D49' 'B5' 'B20' 'F G63' 'C62 C64' 'E24' 'C90'\n",
            " 'C45' 'E8' 'B101' 'D45' 'C46' 'D30' 'E121' 'D11' 'E77' 'F38' 'B3' 'D6'\n",
            " 'B82 B84' 'D17' 'A36' 'B102' 'B69' 'E49' 'C47' 'D28' 'E17' 'A24' 'C50'\n",
            " 'B42' 'C148' 'B45' 'B36' 'A21' 'D34' 'A9' 'C31' 'B61' 'C53' 'D43' 'C130'\n",
            " 'C132' 'C55 C57' 'C116' 'F' 'A29' 'C6' 'C28' 'C51' 'C97' 'D22' 'B10'\n",
            " 'E45' 'E52' 'A11' 'B11' 'C80' 'C89' 'F E46' 'B26' 'F E57' 'A18' 'E60'\n",
            " 'E39 E41' 'B52 B54 B56' 'C39' 'B24' 'D40' 'D38' 'C105']\n"
          ],
          "name": "stdout"
        }
      ]
    },
    {
      "cell_type": "code",
      "metadata": {
        "colab": {
          "base_uri": "https://localhost:8080/"
        },
        "id": "Q1nD8cqvT95u",
        "outputId": "c4a87ce9-d98c-4e7c-d23a-f37b52b0734a"
      },
      "source": [
        "print(titanic['Cabin'].nunique())\r\n",
        "print(titanic['Cabin'].isnull().sum())"
      ],
      "execution_count": 395,
      "outputs": [
        {
          "output_type": "stream",
          "text": [
            "186\n",
            "1014\n"
          ],
          "name": "stdout"
        }
      ]
    },
    {
      "cell_type": "code",
      "metadata": {
        "id": "m0-HbefIUyAQ"
      },
      "source": [
        "titanic['Deck'] = titanic['Cabin'].apply(lambda s: s[0] if pd.notnull(s) else 'M')"
      ],
      "execution_count": 396,
      "outputs": []
    },
    {
      "cell_type": "code",
      "metadata": {
        "colab": {
          "base_uri": "https://localhost:8080/"
        },
        "id": "pD1n-8CPVkfn",
        "outputId": "241a5c99-03cc-405c-bdc7-653e1a04eb60"
      },
      "source": [
        "titanic[titanic['Pclass']==1]['Deck'].value_counts()"
      ],
      "execution_count": 397,
      "outputs": [
        {
          "output_type": "execute_result",
          "data": {
            "text/plain": [
              "C    94\n",
              "M    67\n",
              "B    65\n",
              "D    40\n",
              "E    34\n",
              "A    22\n",
              "T     1\n",
              "Name: Deck, dtype: int64"
            ]
          },
          "metadata": {
            "tags": []
          },
          "execution_count": 397
        }
      ]
    },
    {
      "cell_type": "code",
      "metadata": {
        "colab": {
          "base_uri": "https://localhost:8080/"
        },
        "id": "dd_od-DgVvNZ",
        "outputId": "b93649df-5f04-4420-db83-b6c7fbe02f49"
      },
      "source": [
        "titanic[titanic['Pclass']==2]['Deck'].value_counts()"
      ],
      "execution_count": 398,
      "outputs": [
        {
          "output_type": "execute_result",
          "data": {
            "text/plain": [
              "M    254\n",
              "F     13\n",
              "D      6\n",
              "E      4\n",
              "Name: Deck, dtype: int64"
            ]
          },
          "metadata": {
            "tags": []
          },
          "execution_count": 398
        }
      ]
    },
    {
      "cell_type": "code",
      "metadata": {
        "colab": {
          "base_uri": "https://localhost:8080/"
        },
        "id": "PpJ1JcydV2ro",
        "outputId": "3b831bf1-cd24-48c3-dcc2-0668ad9442e7"
      },
      "source": [
        "titanic[titanic['Pclass']==3]['Deck'].value_counts()"
      ],
      "execution_count": 399,
      "outputs": [
        {
          "output_type": "execute_result",
          "data": {
            "text/plain": [
              "M    693\n",
              "F      8\n",
              "G      5\n",
              "E      3\n",
              "Name: Deck, dtype: int64"
            ]
          },
          "metadata": {
            "tags": []
          },
          "execution_count": 399
        }
      ]
    },
    {
      "cell_type": "code",
      "metadata": {
        "colab": {
          "base_uri": "https://localhost:8080/",
          "height": 77
        },
        "id": "CxUQT8f9V3zj",
        "outputId": "79844346-c687-4d43-cb45-68105210020e"
      },
      "source": [
        "titanic[titanic['Deck'] == 'T']"
      ],
      "execution_count": 400,
      "outputs": [
        {
          "output_type": "execute_result",
          "data": {
            "text/html": [
              "<div>\n",
              "<style scoped>\n",
              "    .dataframe tbody tr th:only-of-type {\n",
              "        vertical-align: middle;\n",
              "    }\n",
              "\n",
              "    .dataframe tbody tr th {\n",
              "        vertical-align: top;\n",
              "    }\n",
              "\n",
              "    .dataframe thead th {\n",
              "        text-align: right;\n",
              "    }\n",
              "</style>\n",
              "<table border=\"1\" class=\"dataframe\">\n",
              "  <thead>\n",
              "    <tr style=\"text-align: right;\">\n",
              "      <th></th>\n",
              "      <th>PassengerId</th>\n",
              "      <th>Survived</th>\n",
              "      <th>Pclass</th>\n",
              "      <th>Name</th>\n",
              "      <th>Sex</th>\n",
              "      <th>Age</th>\n",
              "      <th>SibSp</th>\n",
              "      <th>Parch</th>\n",
              "      <th>Ticket</th>\n",
              "      <th>Fare</th>\n",
              "      <th>Cabin</th>\n",
              "      <th>Embarked</th>\n",
              "      <th>Deck</th>\n",
              "    </tr>\n",
              "  </thead>\n",
              "  <tbody>\n",
              "    <tr>\n",
              "      <th>339</th>\n",
              "      <td>340</td>\n",
              "      <td>0.0</td>\n",
              "      <td>1</td>\n",
              "      <td>Blackwell, Mr. Stephen Weart</td>\n",
              "      <td>male</td>\n",
              "      <td>(32.0, 48.0]</td>\n",
              "      <td>0</td>\n",
              "      <td>0</td>\n",
              "      <td>113784</td>\n",
              "      <td>(21.558, 41.579]</td>\n",
              "      <td>T</td>\n",
              "      <td>S</td>\n",
              "      <td>T</td>\n",
              "    </tr>\n",
              "  </tbody>\n",
              "</table>\n",
              "</div>"
            ],
            "text/plain": [
              "     PassengerId  Survived  Pclass  ... Cabin Embarked Deck\n",
              "339          340       0.0       1  ...     T        S    T\n",
              "\n",
              "[1 rows x 13 columns]"
            ]
          },
          "metadata": {
            "tags": []
          },
          "execution_count": 400
        }
      ]
    },
    {
      "cell_type": "code",
      "metadata": {
        "id": "S6hECbhPV7lt"
      },
      "source": [
        "idx = titanic[titanic['Deck'] == 'T'].index\r\n",
        "titanic.loc[idx, 'Deck'] = 'A'"
      ],
      "execution_count": 401,
      "outputs": []
    },
    {
      "cell_type": "code",
      "metadata": {
        "colab": {
          "base_uri": "https://localhost:8080/"
        },
        "id": "3a-L6FWaWDte",
        "outputId": "23853b86-3116-417d-ee2c-c18eea9b41b8"
      },
      "source": [
        "titanic['Deck'] = titanic['Deck'].replace(['A', 'B', 'C'], 'ABC')\r\n",
        "titanic['Deck'] = titanic['Deck'].replace(['D', 'E'], 'DE')\r\n",
        "titanic['Deck'] = titanic['Deck'].replace(['F', 'G'], 'FG')\r\n",
        "\r\n",
        "titanic['Deck'].value_counts()"
      ],
      "execution_count": 402,
      "outputs": [
        {
          "output_type": "execute_result",
          "data": {
            "text/plain": [
              "M      1014\n",
              "ABC     182\n",
              "DE       87\n",
              "FG       26\n",
              "Name: Deck, dtype: int64"
            ]
          },
          "metadata": {
            "tags": []
          },
          "execution_count": 402
        }
      ]
    },
    {
      "cell_type": "code",
      "metadata": {
        "id": "wFgb0ka1Yr2y"
      },
      "source": [
        "titanic.loc[(titanic['Pclass']==1) & (titanic['Deck']=='M'), 'Deck'] = 'ABC'\r\n",
        "titanic.loc[(titanic['Pclass']==2) & (titanic['Deck']=='M'), 'Deck'] = 'DE'\r\n",
        "titanic.loc[(titanic['Pclass']==3) & (titanic['Deck']=='M'), 'Deck'] = 'FG'"
      ],
      "execution_count": 403,
      "outputs": []
    },
    {
      "cell_type": "markdown",
      "metadata": {
        "id": "IVYA2lX2I-v5"
      },
      "source": [
        "familysz"
      ]
    },
    {
      "cell_type": "code",
      "metadata": {
        "id": "Mx_E8l6aI-E5"
      },
      "source": [
        "titanic['Family_size'] = titanic['SibSp'] + titanic['Parch'] + 1"
      ],
      "execution_count": 404,
      "outputs": []
    },
    {
      "cell_type": "code",
      "metadata": {
        "colab": {
          "base_uri": "https://localhost:8080/"
        },
        "id": "t7P9WyUEJCPE",
        "outputId": "2fa6553c-b053-43b5-f923-3adeff8fbd03"
      },
      "source": [
        "titanic['Family_size'].value_counts()"
      ],
      "execution_count": 405,
      "outputs": [
        {
          "output_type": "execute_result",
          "data": {
            "text/plain": [
              "1     790\n",
              "2     235\n",
              "3     159\n",
              "4      43\n",
              "6      25\n",
              "5      22\n",
              "7      16\n",
              "11     11\n",
              "8       8\n",
              "Name: Family_size, dtype: int64"
            ]
          },
          "metadata": {
            "tags": []
          },
          "execution_count": 405
        }
      ]
    },
    {
      "cell_type": "code",
      "metadata": {
        "id": "Lc_Pej4tW_io"
      },
      "source": [
        "from sklearn.model_selection import train_test_split"
      ],
      "execution_count": 406,
      "outputs": []
    },
    {
      "cell_type": "code",
      "metadata": {
        "colab": {
          "base_uri": "https://localhost:8080/",
          "height": 406
        },
        "id": "LuLqBkepj5Ln",
        "outputId": "1ee0dd2a-9894-40cc-bbf6-24f5436a7da6"
      },
      "source": [
        "titanic"
      ],
      "execution_count": 407,
      "outputs": [
        {
          "output_type": "execute_result",
          "data": {
            "text/html": [
              "<div>\n",
              "<style scoped>\n",
              "    .dataframe tbody tr th:only-of-type {\n",
              "        vertical-align: middle;\n",
              "    }\n",
              "\n",
              "    .dataframe tbody tr th {\n",
              "        vertical-align: top;\n",
              "    }\n",
              "\n",
              "    .dataframe thead th {\n",
              "        text-align: right;\n",
              "    }\n",
              "</style>\n",
              "<table border=\"1\" class=\"dataframe\">\n",
              "  <thead>\n",
              "    <tr style=\"text-align: right;\">\n",
              "      <th></th>\n",
              "      <th>PassengerId</th>\n",
              "      <th>Survived</th>\n",
              "      <th>Pclass</th>\n",
              "      <th>Name</th>\n",
              "      <th>Sex</th>\n",
              "      <th>Age</th>\n",
              "      <th>SibSp</th>\n",
              "      <th>Parch</th>\n",
              "      <th>Ticket</th>\n",
              "      <th>Fare</th>\n",
              "      <th>Cabin</th>\n",
              "      <th>Embarked</th>\n",
              "      <th>Deck</th>\n",
              "      <th>Family_size</th>\n",
              "    </tr>\n",
              "  </thead>\n",
              "  <tbody>\n",
              "    <tr>\n",
              "      <th>0</th>\n",
              "      <td>1</td>\n",
              "      <td>0.0</td>\n",
              "      <td>3</td>\n",
              "      <td>Braund, Mr. Owen Harris</td>\n",
              "      <td>male</td>\n",
              "      <td>(16.0, 32.0]</td>\n",
              "      <td>1</td>\n",
              "      <td>0</td>\n",
              "      <td>A/5 21171</td>\n",
              "      <td>(-0.001, 7.854]</td>\n",
              "      <td>NaN</td>\n",
              "      <td>S</td>\n",
              "      <td>FG</td>\n",
              "      <td>2</td>\n",
              "    </tr>\n",
              "    <tr>\n",
              "      <th>1</th>\n",
              "      <td>2</td>\n",
              "      <td>1.0</td>\n",
              "      <td>1</td>\n",
              "      <td>Cumings, Mrs. John Bradley (Florence Briggs Th...</td>\n",
              "      <td>female</td>\n",
              "      <td>(32.0, 48.0]</td>\n",
              "      <td>1</td>\n",
              "      <td>0</td>\n",
              "      <td>PC 17599</td>\n",
              "      <td>(41.579, 512.329]</td>\n",
              "      <td>C85</td>\n",
              "      <td>C</td>\n",
              "      <td>ABC</td>\n",
              "      <td>2</td>\n",
              "    </tr>\n",
              "    <tr>\n",
              "      <th>2</th>\n",
              "      <td>3</td>\n",
              "      <td>1.0</td>\n",
              "      <td>3</td>\n",
              "      <td>Heikkinen, Miss. Laina</td>\n",
              "      <td>female</td>\n",
              "      <td>(16.0, 32.0]</td>\n",
              "      <td>0</td>\n",
              "      <td>0</td>\n",
              "      <td>STON/O2. 3101282</td>\n",
              "      <td>(7.854, 10.5]</td>\n",
              "      <td>NaN</td>\n",
              "      <td>S</td>\n",
              "      <td>FG</td>\n",
              "      <td>1</td>\n",
              "    </tr>\n",
              "    <tr>\n",
              "      <th>3</th>\n",
              "      <td>4</td>\n",
              "      <td>1.0</td>\n",
              "      <td>1</td>\n",
              "      <td>Futrelle, Mrs. Jacques Heath (Lily May Peel)</td>\n",
              "      <td>female</td>\n",
              "      <td>(32.0, 48.0]</td>\n",
              "      <td>1</td>\n",
              "      <td>0</td>\n",
              "      <td>113803</td>\n",
              "      <td>(41.579, 512.329]</td>\n",
              "      <td>C123</td>\n",
              "      <td>S</td>\n",
              "      <td>ABC</td>\n",
              "      <td>2</td>\n",
              "    </tr>\n",
              "    <tr>\n",
              "      <th>4</th>\n",
              "      <td>5</td>\n",
              "      <td>0.0</td>\n",
              "      <td>3</td>\n",
              "      <td>Allen, Mr. William Henry</td>\n",
              "      <td>male</td>\n",
              "      <td>(32.0, 48.0]</td>\n",
              "      <td>0</td>\n",
              "      <td>0</td>\n",
              "      <td>373450</td>\n",
              "      <td>(7.854, 10.5]</td>\n",
              "      <td>NaN</td>\n",
              "      <td>S</td>\n",
              "      <td>FG</td>\n",
              "      <td>1</td>\n",
              "    </tr>\n",
              "    <tr>\n",
              "      <th>...</th>\n",
              "      <td>...</td>\n",
              "      <td>...</td>\n",
              "      <td>...</td>\n",
              "      <td>...</td>\n",
              "      <td>...</td>\n",
              "      <td>...</td>\n",
              "      <td>...</td>\n",
              "      <td>...</td>\n",
              "      <td>...</td>\n",
              "      <td>...</td>\n",
              "      <td>...</td>\n",
              "      <td>...</td>\n",
              "      <td>...</td>\n",
              "      <td>...</td>\n",
              "    </tr>\n",
              "    <tr>\n",
              "      <th>1304</th>\n",
              "      <td>1305</td>\n",
              "      <td>NaN</td>\n",
              "      <td>3</td>\n",
              "      <td>Spector, Mr. Woolf</td>\n",
              "      <td>male</td>\n",
              "      <td>(16.0, 32.0]</td>\n",
              "      <td>0</td>\n",
              "      <td>0</td>\n",
              "      <td>A.5. 3236</td>\n",
              "      <td>(7.854, 10.5]</td>\n",
              "      <td>NaN</td>\n",
              "      <td>S</td>\n",
              "      <td>FG</td>\n",
              "      <td>1</td>\n",
              "    </tr>\n",
              "    <tr>\n",
              "      <th>1305</th>\n",
              "      <td>1306</td>\n",
              "      <td>NaN</td>\n",
              "      <td>1</td>\n",
              "      <td>Oliva y Ocana, Dona. Fermina</td>\n",
              "      <td>female</td>\n",
              "      <td>(32.0, 48.0]</td>\n",
              "      <td>0</td>\n",
              "      <td>0</td>\n",
              "      <td>PC 17758</td>\n",
              "      <td>(41.579, 512.329]</td>\n",
              "      <td>C105</td>\n",
              "      <td>C</td>\n",
              "      <td>ABC</td>\n",
              "      <td>1</td>\n",
              "    </tr>\n",
              "    <tr>\n",
              "      <th>1306</th>\n",
              "      <td>1307</td>\n",
              "      <td>NaN</td>\n",
              "      <td>3</td>\n",
              "      <td>Saether, Mr. Simon Sivertsen</td>\n",
              "      <td>male</td>\n",
              "      <td>(32.0, 48.0]</td>\n",
              "      <td>0</td>\n",
              "      <td>0</td>\n",
              "      <td>SOTON/O.Q. 3101262</td>\n",
              "      <td>(-0.001, 7.854]</td>\n",
              "      <td>NaN</td>\n",
              "      <td>S</td>\n",
              "      <td>FG</td>\n",
              "      <td>1</td>\n",
              "    </tr>\n",
              "    <tr>\n",
              "      <th>1307</th>\n",
              "      <td>1308</td>\n",
              "      <td>NaN</td>\n",
              "      <td>3</td>\n",
              "      <td>Ware, Mr. Frederick</td>\n",
              "      <td>male</td>\n",
              "      <td>(16.0, 32.0]</td>\n",
              "      <td>0</td>\n",
              "      <td>0</td>\n",
              "      <td>359309</td>\n",
              "      <td>(7.854, 10.5]</td>\n",
              "      <td>NaN</td>\n",
              "      <td>S</td>\n",
              "      <td>FG</td>\n",
              "      <td>1</td>\n",
              "    </tr>\n",
              "    <tr>\n",
              "      <th>1308</th>\n",
              "      <td>1309</td>\n",
              "      <td>NaN</td>\n",
              "      <td>3</td>\n",
              "      <td>Peter, Master. Michael J</td>\n",
              "      <td>male</td>\n",
              "      <td>(16.0, 32.0]</td>\n",
              "      <td>1</td>\n",
              "      <td>1</td>\n",
              "      <td>2668</td>\n",
              "      <td>(21.558, 41.579]</td>\n",
              "      <td>NaN</td>\n",
              "      <td>C</td>\n",
              "      <td>FG</td>\n",
              "      <td>3</td>\n",
              "    </tr>\n",
              "  </tbody>\n",
              "</table>\n",
              "<p>1309 rows × 14 columns</p>\n",
              "</div>"
            ],
            "text/plain": [
              "      PassengerId  Survived  Pclass  ... Embarked Deck Family_size\n",
              "0               1       0.0       3  ...        S   FG           2\n",
              "1               2       1.0       1  ...        C  ABC           2\n",
              "2               3       1.0       3  ...        S   FG           1\n",
              "3               4       1.0       1  ...        S  ABC           2\n",
              "4               5       0.0       3  ...        S   FG           1\n",
              "...           ...       ...     ...  ...      ...  ...         ...\n",
              "1304         1305       NaN       3  ...        S   FG           1\n",
              "1305         1306       NaN       1  ...        C  ABC           1\n",
              "1306         1307       NaN       3  ...        S   FG           1\n",
              "1307         1308       NaN       3  ...        S   FG           1\n",
              "1308         1309       NaN       3  ...        C   FG           3\n",
              "\n",
              "[1309 rows x 14 columns]"
            ]
          },
          "metadata": {
            "tags": []
          },
          "execution_count": 407
        }
      ]
    },
    {
      "cell_type": "code",
      "metadata": {
        "id": "S7JyjZaDk1ds"
      },
      "source": [
        "titanic['Sex'] = titanic['Sex'].astype('category')\r\n",
        "titanic['Sex'] = titanic['Sex'].cat.codes"
      ],
      "execution_count": 408,
      "outputs": []
    },
    {
      "cell_type": "code",
      "metadata": {
        "id": "w4-znQPglfyX"
      },
      "source": [
        "titanic['Fare'] = titanic['Fare'].astype('category')\r\n",
        "titanic['Fare'] = titanic['Fare'].cat.codes"
      ],
      "execution_count": 409,
      "outputs": []
    },
    {
      "cell_type": "code",
      "metadata": {
        "id": "3aju1ws4lpDz"
      },
      "source": [
        "titanic['Age'] = titanic['Age'].astype('category')\r\n",
        "titanic['Age'] = titanic['Age'].cat.codes"
      ],
      "execution_count": 410,
      "outputs": []
    },
    {
      "cell_type": "code",
      "metadata": {
        "colab": {
          "base_uri": "https://localhost:8080/"
        },
        "id": "l3n3PEJ0mMnB",
        "outputId": "9c48b0dd-5a8b-4eab-f8ef-1a6ac8ad46c7"
      },
      "source": [
        "titanic['Embarked'].value_counts()"
      ],
      "execution_count": 411,
      "outputs": [
        {
          "output_type": "execute_result",
          "data": {
            "text/plain": [
              "S    914\n",
              "C    270\n",
              "Q    123\n",
              "Name: Embarked, dtype: int64"
            ]
          },
          "metadata": {
            "tags": []
          },
          "execution_count": 411
        }
      ]
    },
    {
      "cell_type": "code",
      "metadata": {
        "id": "ud8Ki7AjmV5g"
      },
      "source": [
        "titanic['Embarked'] = titanic['Embarked'].fillna('S')"
      ],
      "execution_count": 412,
      "outputs": []
    },
    {
      "cell_type": "code",
      "metadata": {
        "id": "72zfNJl7l6CR"
      },
      "source": [
        "titanic['Embarked'] = titanic['Embarked'].astype('category')\r\n",
        "titanic['Embarked'] = titanic['Embarked'].cat.codes"
      ],
      "execution_count": 413,
      "outputs": []
    },
    {
      "cell_type": "code",
      "metadata": {
        "id": "HLx62rLXnSXA"
      },
      "source": [
        "titanic['Deck'] = titanic['Deck'].astype('category')\r\n",
        "titanic['Deck'] = titanic['Deck'].cat.codes"
      ],
      "execution_count": 414,
      "outputs": []
    },
    {
      "cell_type": "code",
      "metadata": {
        "id": "oFRB0aRNnd4C"
      },
      "source": [
        "titanic = titanic.drop(['PassengerId', 'Ticket', 'Cabin', 'Name'], axis=1)"
      ],
      "execution_count": 415,
      "outputs": []
    },
    {
      "cell_type": "code",
      "metadata": {
        "id": "sTyRK8E0kNeV"
      },
      "source": [
        "train = titanic.loc[:890]\r\n",
        "test = titanic.loc[891:].drop(['Survived'], axis=1)"
      ],
      "execution_count": 416,
      "outputs": []
    },
    {
      "cell_type": "code",
      "metadata": {
        "colab": {
          "base_uri": "https://localhost:8080/",
          "height": 406
        },
        "id": "8mJM6p17kga6",
        "outputId": "65d0ccd5-f3d6-4a36-cb44-049bd2ad64b1"
      },
      "source": [
        "train"
      ],
      "execution_count": 417,
      "outputs": [
        {
          "output_type": "execute_result",
          "data": {
            "text/html": [
              "<div>\n",
              "<style scoped>\n",
              "    .dataframe tbody tr th:only-of-type {\n",
              "        vertical-align: middle;\n",
              "    }\n",
              "\n",
              "    .dataframe tbody tr th {\n",
              "        vertical-align: top;\n",
              "    }\n",
              "\n",
              "    .dataframe thead th {\n",
              "        text-align: right;\n",
              "    }\n",
              "</style>\n",
              "<table border=\"1\" class=\"dataframe\">\n",
              "  <thead>\n",
              "    <tr style=\"text-align: right;\">\n",
              "      <th></th>\n",
              "      <th>Survived</th>\n",
              "      <th>Pclass</th>\n",
              "      <th>Sex</th>\n",
              "      <th>Age</th>\n",
              "      <th>SibSp</th>\n",
              "      <th>Parch</th>\n",
              "      <th>Fare</th>\n",
              "      <th>Embarked</th>\n",
              "      <th>Deck</th>\n",
              "      <th>Family_size</th>\n",
              "    </tr>\n",
              "  </thead>\n",
              "  <tbody>\n",
              "    <tr>\n",
              "      <th>0</th>\n",
              "      <td>0.0</td>\n",
              "      <td>3</td>\n",
              "      <td>1</td>\n",
              "      <td>1</td>\n",
              "      <td>1</td>\n",
              "      <td>0</td>\n",
              "      <td>0</td>\n",
              "      <td>2</td>\n",
              "      <td>2</td>\n",
              "      <td>2</td>\n",
              "    </tr>\n",
              "    <tr>\n",
              "      <th>1</th>\n",
              "      <td>1.0</td>\n",
              "      <td>1</td>\n",
              "      <td>0</td>\n",
              "      <td>2</td>\n",
              "      <td>1</td>\n",
              "      <td>0</td>\n",
              "      <td>4</td>\n",
              "      <td>0</td>\n",
              "      <td>0</td>\n",
              "      <td>2</td>\n",
              "    </tr>\n",
              "    <tr>\n",
              "      <th>2</th>\n",
              "      <td>1.0</td>\n",
              "      <td>3</td>\n",
              "      <td>0</td>\n",
              "      <td>1</td>\n",
              "      <td>0</td>\n",
              "      <td>0</td>\n",
              "      <td>1</td>\n",
              "      <td>2</td>\n",
              "      <td>2</td>\n",
              "      <td>1</td>\n",
              "    </tr>\n",
              "    <tr>\n",
              "      <th>3</th>\n",
              "      <td>1.0</td>\n",
              "      <td>1</td>\n",
              "      <td>0</td>\n",
              "      <td>2</td>\n",
              "      <td>1</td>\n",
              "      <td>0</td>\n",
              "      <td>4</td>\n",
              "      <td>2</td>\n",
              "      <td>0</td>\n",
              "      <td>2</td>\n",
              "    </tr>\n",
              "    <tr>\n",
              "      <th>4</th>\n",
              "      <td>0.0</td>\n",
              "      <td>3</td>\n",
              "      <td>1</td>\n",
              "      <td>2</td>\n",
              "      <td>0</td>\n",
              "      <td>0</td>\n",
              "      <td>1</td>\n",
              "      <td>2</td>\n",
              "      <td>2</td>\n",
              "      <td>1</td>\n",
              "    </tr>\n",
              "    <tr>\n",
              "      <th>...</th>\n",
              "      <td>...</td>\n",
              "      <td>...</td>\n",
              "      <td>...</td>\n",
              "      <td>...</td>\n",
              "      <td>...</td>\n",
              "      <td>...</td>\n",
              "      <td>...</td>\n",
              "      <td>...</td>\n",
              "      <td>...</td>\n",
              "      <td>...</td>\n",
              "    </tr>\n",
              "    <tr>\n",
              "      <th>886</th>\n",
              "      <td>0.0</td>\n",
              "      <td>2</td>\n",
              "      <td>1</td>\n",
              "      <td>1</td>\n",
              "      <td>0</td>\n",
              "      <td>0</td>\n",
              "      <td>2</td>\n",
              "      <td>2</td>\n",
              "      <td>1</td>\n",
              "      <td>1</td>\n",
              "    </tr>\n",
              "    <tr>\n",
              "      <th>887</th>\n",
              "      <td>1.0</td>\n",
              "      <td>1</td>\n",
              "      <td>0</td>\n",
              "      <td>1</td>\n",
              "      <td>0</td>\n",
              "      <td>0</td>\n",
              "      <td>3</td>\n",
              "      <td>2</td>\n",
              "      <td>0</td>\n",
              "      <td>1</td>\n",
              "    </tr>\n",
              "    <tr>\n",
              "      <th>888</th>\n",
              "      <td>0.0</td>\n",
              "      <td>3</td>\n",
              "      <td>0</td>\n",
              "      <td>1</td>\n",
              "      <td>1</td>\n",
              "      <td>2</td>\n",
              "      <td>3</td>\n",
              "      <td>2</td>\n",
              "      <td>2</td>\n",
              "      <td>4</td>\n",
              "    </tr>\n",
              "    <tr>\n",
              "      <th>889</th>\n",
              "      <td>1.0</td>\n",
              "      <td>1</td>\n",
              "      <td>1</td>\n",
              "      <td>1</td>\n",
              "      <td>0</td>\n",
              "      <td>0</td>\n",
              "      <td>3</td>\n",
              "      <td>0</td>\n",
              "      <td>0</td>\n",
              "      <td>1</td>\n",
              "    </tr>\n",
              "    <tr>\n",
              "      <th>890</th>\n",
              "      <td>0.0</td>\n",
              "      <td>3</td>\n",
              "      <td>1</td>\n",
              "      <td>1</td>\n",
              "      <td>0</td>\n",
              "      <td>0</td>\n",
              "      <td>0</td>\n",
              "      <td>1</td>\n",
              "      <td>2</td>\n",
              "      <td>1</td>\n",
              "    </tr>\n",
              "  </tbody>\n",
              "</table>\n",
              "<p>891 rows × 10 columns</p>\n",
              "</div>"
            ],
            "text/plain": [
              "     Survived  Pclass  Sex  Age  ...  Fare  Embarked  Deck  Family_size\n",
              "0         0.0       3    1    1  ...     0         2     2            2\n",
              "1         1.0       1    0    2  ...     4         0     0            2\n",
              "2         1.0       3    0    1  ...     1         2     2            1\n",
              "3         1.0       1    0    2  ...     4         2     0            2\n",
              "4         0.0       3    1    2  ...     1         2     2            1\n",
              "..        ...     ...  ...  ...  ...   ...       ...   ...          ...\n",
              "886       0.0       2    1    1  ...     2         2     1            1\n",
              "887       1.0       1    0    1  ...     3         2     0            1\n",
              "888       0.0       3    0    1  ...     3         2     2            4\n",
              "889       1.0       1    1    1  ...     3         0     0            1\n",
              "890       0.0       3    1    1  ...     0         1     2            1\n",
              "\n",
              "[891 rows x 10 columns]"
            ]
          },
          "metadata": {
            "tags": []
          },
          "execution_count": 417
        }
      ]
    },
    {
      "cell_type": "code",
      "metadata": {
        "colab": {
          "base_uri": "https://localhost:8080/",
          "height": 406
        },
        "id": "Yio0Md8HkmWq",
        "outputId": "c24d4ecb-7d5c-4f37-85aa-9333c406a460"
      },
      "source": [
        "test"
      ],
      "execution_count": 418,
      "outputs": [
        {
          "output_type": "execute_result",
          "data": {
            "text/html": [
              "<div>\n",
              "<style scoped>\n",
              "    .dataframe tbody tr th:only-of-type {\n",
              "        vertical-align: middle;\n",
              "    }\n",
              "\n",
              "    .dataframe tbody tr th {\n",
              "        vertical-align: top;\n",
              "    }\n",
              "\n",
              "    .dataframe thead th {\n",
              "        text-align: right;\n",
              "    }\n",
              "</style>\n",
              "<table border=\"1\" class=\"dataframe\">\n",
              "  <thead>\n",
              "    <tr style=\"text-align: right;\">\n",
              "      <th></th>\n",
              "      <th>Pclass</th>\n",
              "      <th>Sex</th>\n",
              "      <th>Age</th>\n",
              "      <th>SibSp</th>\n",
              "      <th>Parch</th>\n",
              "      <th>Fare</th>\n",
              "      <th>Embarked</th>\n",
              "      <th>Deck</th>\n",
              "      <th>Family_size</th>\n",
              "    </tr>\n",
              "  </thead>\n",
              "  <tbody>\n",
              "    <tr>\n",
              "      <th>891</th>\n",
              "      <td>3</td>\n",
              "      <td>1</td>\n",
              "      <td>2</td>\n",
              "      <td>0</td>\n",
              "      <td>0</td>\n",
              "      <td>0</td>\n",
              "      <td>1</td>\n",
              "      <td>2</td>\n",
              "      <td>1</td>\n",
              "    </tr>\n",
              "    <tr>\n",
              "      <th>892</th>\n",
              "      <td>3</td>\n",
              "      <td>0</td>\n",
              "      <td>2</td>\n",
              "      <td>1</td>\n",
              "      <td>0</td>\n",
              "      <td>0</td>\n",
              "      <td>2</td>\n",
              "      <td>2</td>\n",
              "      <td>2</td>\n",
              "    </tr>\n",
              "    <tr>\n",
              "      <th>893</th>\n",
              "      <td>2</td>\n",
              "      <td>1</td>\n",
              "      <td>3</td>\n",
              "      <td>0</td>\n",
              "      <td>0</td>\n",
              "      <td>1</td>\n",
              "      <td>1</td>\n",
              "      <td>1</td>\n",
              "      <td>1</td>\n",
              "    </tr>\n",
              "    <tr>\n",
              "      <th>894</th>\n",
              "      <td>3</td>\n",
              "      <td>1</td>\n",
              "      <td>1</td>\n",
              "      <td>0</td>\n",
              "      <td>0</td>\n",
              "      <td>1</td>\n",
              "      <td>2</td>\n",
              "      <td>2</td>\n",
              "      <td>1</td>\n",
              "    </tr>\n",
              "    <tr>\n",
              "      <th>895</th>\n",
              "      <td>3</td>\n",
              "      <td>0</td>\n",
              "      <td>1</td>\n",
              "      <td>1</td>\n",
              "      <td>1</td>\n",
              "      <td>2</td>\n",
              "      <td>2</td>\n",
              "      <td>2</td>\n",
              "      <td>3</td>\n",
              "    </tr>\n",
              "    <tr>\n",
              "      <th>...</th>\n",
              "      <td>...</td>\n",
              "      <td>...</td>\n",
              "      <td>...</td>\n",
              "      <td>...</td>\n",
              "      <td>...</td>\n",
              "      <td>...</td>\n",
              "      <td>...</td>\n",
              "      <td>...</td>\n",
              "      <td>...</td>\n",
              "    </tr>\n",
              "    <tr>\n",
              "      <th>1304</th>\n",
              "      <td>3</td>\n",
              "      <td>1</td>\n",
              "      <td>1</td>\n",
              "      <td>0</td>\n",
              "      <td>0</td>\n",
              "      <td>1</td>\n",
              "      <td>2</td>\n",
              "      <td>2</td>\n",
              "      <td>1</td>\n",
              "    </tr>\n",
              "    <tr>\n",
              "      <th>1305</th>\n",
              "      <td>1</td>\n",
              "      <td>0</td>\n",
              "      <td>2</td>\n",
              "      <td>0</td>\n",
              "      <td>0</td>\n",
              "      <td>4</td>\n",
              "      <td>0</td>\n",
              "      <td>0</td>\n",
              "      <td>1</td>\n",
              "    </tr>\n",
              "    <tr>\n",
              "      <th>1306</th>\n",
              "      <td>3</td>\n",
              "      <td>1</td>\n",
              "      <td>2</td>\n",
              "      <td>0</td>\n",
              "      <td>0</td>\n",
              "      <td>0</td>\n",
              "      <td>2</td>\n",
              "      <td>2</td>\n",
              "      <td>1</td>\n",
              "    </tr>\n",
              "    <tr>\n",
              "      <th>1307</th>\n",
              "      <td>3</td>\n",
              "      <td>1</td>\n",
              "      <td>1</td>\n",
              "      <td>0</td>\n",
              "      <td>0</td>\n",
              "      <td>1</td>\n",
              "      <td>2</td>\n",
              "      <td>2</td>\n",
              "      <td>1</td>\n",
              "    </tr>\n",
              "    <tr>\n",
              "      <th>1308</th>\n",
              "      <td>3</td>\n",
              "      <td>1</td>\n",
              "      <td>1</td>\n",
              "      <td>1</td>\n",
              "      <td>1</td>\n",
              "      <td>3</td>\n",
              "      <td>0</td>\n",
              "      <td>2</td>\n",
              "      <td>3</td>\n",
              "    </tr>\n",
              "  </tbody>\n",
              "</table>\n",
              "<p>418 rows × 9 columns</p>\n",
              "</div>"
            ],
            "text/plain": [
              "      Pclass  Sex  Age  SibSp  Parch  Fare  Embarked  Deck  Family_size\n",
              "891        3    1    2      0      0     0         1     2            1\n",
              "892        3    0    2      1      0     0         2     2            2\n",
              "893        2    1    3      0      0     1         1     1            1\n",
              "894        3    1    1      0      0     1         2     2            1\n",
              "895        3    0    1      1      1     2         2     2            3\n",
              "...      ...  ...  ...    ...    ...   ...       ...   ...          ...\n",
              "1304       3    1    1      0      0     1         2     2            1\n",
              "1305       1    0    2      0      0     4         0     0            1\n",
              "1306       3    1    2      0      0     0         2     2            1\n",
              "1307       3    1    1      0      0     1         2     2            1\n",
              "1308       3    1    1      1      1     3         0     2            3\n",
              "\n",
              "[418 rows x 9 columns]"
            ]
          },
          "metadata": {
            "tags": []
          },
          "execution_count": 418
        }
      ]
    },
    {
      "cell_type": "code",
      "metadata": {
        "id": "Tnwi8UnMoHr1"
      },
      "source": [
        "x = train.drop(['Survived'], axis=1)\r\n",
        "y = train['Survived']"
      ],
      "execution_count": 419,
      "outputs": []
    },
    {
      "cell_type": "code",
      "metadata": {
        "id": "_trZeT_CBVJw"
      },
      "source": [
        "#x = pd.get_dummies(x, columns=x.columns)"
      ],
      "execution_count": 420,
      "outputs": []
    },
    {
      "cell_type": "code",
      "metadata": {
        "id": "rSuCB4_JGmbr"
      },
      "source": [
        "#test = pd.get_dummies(test, columns=test.columns)"
      ],
      "execution_count": 421,
      "outputs": []
    },
    {
      "cell_type": "code",
      "metadata": {
        "colab": {
          "base_uri": "https://localhost:8080/",
          "height": 406
        },
        "id": "dT1enpIeEUXp",
        "outputId": "07ec63ba-caef-49ef-aa31-da1e1690ae68"
      },
      "source": [
        "x"
      ],
      "execution_count": 422,
      "outputs": [
        {
          "output_type": "execute_result",
          "data": {
            "text/html": [
              "<div>\n",
              "<style scoped>\n",
              "    .dataframe tbody tr th:only-of-type {\n",
              "        vertical-align: middle;\n",
              "    }\n",
              "\n",
              "    .dataframe tbody tr th {\n",
              "        vertical-align: top;\n",
              "    }\n",
              "\n",
              "    .dataframe thead th {\n",
              "        text-align: right;\n",
              "    }\n",
              "</style>\n",
              "<table border=\"1\" class=\"dataframe\">\n",
              "  <thead>\n",
              "    <tr style=\"text-align: right;\">\n",
              "      <th></th>\n",
              "      <th>Pclass</th>\n",
              "      <th>Sex</th>\n",
              "      <th>Age</th>\n",
              "      <th>SibSp</th>\n",
              "      <th>Parch</th>\n",
              "      <th>Fare</th>\n",
              "      <th>Embarked</th>\n",
              "      <th>Deck</th>\n",
              "      <th>Family_size</th>\n",
              "    </tr>\n",
              "  </thead>\n",
              "  <tbody>\n",
              "    <tr>\n",
              "      <th>0</th>\n",
              "      <td>3</td>\n",
              "      <td>1</td>\n",
              "      <td>1</td>\n",
              "      <td>1</td>\n",
              "      <td>0</td>\n",
              "      <td>0</td>\n",
              "      <td>2</td>\n",
              "      <td>2</td>\n",
              "      <td>2</td>\n",
              "    </tr>\n",
              "    <tr>\n",
              "      <th>1</th>\n",
              "      <td>1</td>\n",
              "      <td>0</td>\n",
              "      <td>2</td>\n",
              "      <td>1</td>\n",
              "      <td>0</td>\n",
              "      <td>4</td>\n",
              "      <td>0</td>\n",
              "      <td>0</td>\n",
              "      <td>2</td>\n",
              "    </tr>\n",
              "    <tr>\n",
              "      <th>2</th>\n",
              "      <td>3</td>\n",
              "      <td>0</td>\n",
              "      <td>1</td>\n",
              "      <td>0</td>\n",
              "      <td>0</td>\n",
              "      <td>1</td>\n",
              "      <td>2</td>\n",
              "      <td>2</td>\n",
              "      <td>1</td>\n",
              "    </tr>\n",
              "    <tr>\n",
              "      <th>3</th>\n",
              "      <td>1</td>\n",
              "      <td>0</td>\n",
              "      <td>2</td>\n",
              "      <td>1</td>\n",
              "      <td>0</td>\n",
              "      <td>4</td>\n",
              "      <td>2</td>\n",
              "      <td>0</td>\n",
              "      <td>2</td>\n",
              "    </tr>\n",
              "    <tr>\n",
              "      <th>4</th>\n",
              "      <td>3</td>\n",
              "      <td>1</td>\n",
              "      <td>2</td>\n",
              "      <td>0</td>\n",
              "      <td>0</td>\n",
              "      <td>1</td>\n",
              "      <td>2</td>\n",
              "      <td>2</td>\n",
              "      <td>1</td>\n",
              "    </tr>\n",
              "    <tr>\n",
              "      <th>...</th>\n",
              "      <td>...</td>\n",
              "      <td>...</td>\n",
              "      <td>...</td>\n",
              "      <td>...</td>\n",
              "      <td>...</td>\n",
              "      <td>...</td>\n",
              "      <td>...</td>\n",
              "      <td>...</td>\n",
              "      <td>...</td>\n",
              "    </tr>\n",
              "    <tr>\n",
              "      <th>886</th>\n",
              "      <td>2</td>\n",
              "      <td>1</td>\n",
              "      <td>1</td>\n",
              "      <td>0</td>\n",
              "      <td>0</td>\n",
              "      <td>2</td>\n",
              "      <td>2</td>\n",
              "      <td>1</td>\n",
              "      <td>1</td>\n",
              "    </tr>\n",
              "    <tr>\n",
              "      <th>887</th>\n",
              "      <td>1</td>\n",
              "      <td>0</td>\n",
              "      <td>1</td>\n",
              "      <td>0</td>\n",
              "      <td>0</td>\n",
              "      <td>3</td>\n",
              "      <td>2</td>\n",
              "      <td>0</td>\n",
              "      <td>1</td>\n",
              "    </tr>\n",
              "    <tr>\n",
              "      <th>888</th>\n",
              "      <td>3</td>\n",
              "      <td>0</td>\n",
              "      <td>1</td>\n",
              "      <td>1</td>\n",
              "      <td>2</td>\n",
              "      <td>3</td>\n",
              "      <td>2</td>\n",
              "      <td>2</td>\n",
              "      <td>4</td>\n",
              "    </tr>\n",
              "    <tr>\n",
              "      <th>889</th>\n",
              "      <td>1</td>\n",
              "      <td>1</td>\n",
              "      <td>1</td>\n",
              "      <td>0</td>\n",
              "      <td>0</td>\n",
              "      <td>3</td>\n",
              "      <td>0</td>\n",
              "      <td>0</td>\n",
              "      <td>1</td>\n",
              "    </tr>\n",
              "    <tr>\n",
              "      <th>890</th>\n",
              "      <td>3</td>\n",
              "      <td>1</td>\n",
              "      <td>1</td>\n",
              "      <td>0</td>\n",
              "      <td>0</td>\n",
              "      <td>0</td>\n",
              "      <td>1</td>\n",
              "      <td>2</td>\n",
              "      <td>1</td>\n",
              "    </tr>\n",
              "  </tbody>\n",
              "</table>\n",
              "<p>891 rows × 9 columns</p>\n",
              "</div>"
            ],
            "text/plain": [
              "     Pclass  Sex  Age  SibSp  Parch  Fare  Embarked  Deck  Family_size\n",
              "0         3    1    1      1      0     0         2     2            2\n",
              "1         1    0    2      1      0     4         0     0            2\n",
              "2         3    0    1      0      0     1         2     2            1\n",
              "3         1    0    2      1      0     4         2     0            2\n",
              "4         3    1    2      0      0     1         2     2            1\n",
              "..      ...  ...  ...    ...    ...   ...       ...   ...          ...\n",
              "886       2    1    1      0      0     2         2     1            1\n",
              "887       1    0    1      0      0     3         2     0            1\n",
              "888       3    0    1      1      2     3         2     2            4\n",
              "889       1    1    1      0      0     3         0     0            1\n",
              "890       3    1    1      0      0     0         1     2            1\n",
              "\n",
              "[891 rows x 9 columns]"
            ]
          },
          "metadata": {
            "tags": []
          },
          "execution_count": 422
        }
      ]
    },
    {
      "cell_type": "code",
      "metadata": {
        "colab": {
          "base_uri": "https://localhost:8080/",
          "height": 406
        },
        "id": "y_4gwerxHapz",
        "outputId": "66d4c1b7-a383-47c6-aa87-69f8b0521388"
      },
      "source": [
        "test"
      ],
      "execution_count": 423,
      "outputs": [
        {
          "output_type": "execute_result",
          "data": {
            "text/html": [
              "<div>\n",
              "<style scoped>\n",
              "    .dataframe tbody tr th:only-of-type {\n",
              "        vertical-align: middle;\n",
              "    }\n",
              "\n",
              "    .dataframe tbody tr th {\n",
              "        vertical-align: top;\n",
              "    }\n",
              "\n",
              "    .dataframe thead th {\n",
              "        text-align: right;\n",
              "    }\n",
              "</style>\n",
              "<table border=\"1\" class=\"dataframe\">\n",
              "  <thead>\n",
              "    <tr style=\"text-align: right;\">\n",
              "      <th></th>\n",
              "      <th>Pclass</th>\n",
              "      <th>Sex</th>\n",
              "      <th>Age</th>\n",
              "      <th>SibSp</th>\n",
              "      <th>Parch</th>\n",
              "      <th>Fare</th>\n",
              "      <th>Embarked</th>\n",
              "      <th>Deck</th>\n",
              "      <th>Family_size</th>\n",
              "    </tr>\n",
              "  </thead>\n",
              "  <tbody>\n",
              "    <tr>\n",
              "      <th>891</th>\n",
              "      <td>3</td>\n",
              "      <td>1</td>\n",
              "      <td>2</td>\n",
              "      <td>0</td>\n",
              "      <td>0</td>\n",
              "      <td>0</td>\n",
              "      <td>1</td>\n",
              "      <td>2</td>\n",
              "      <td>1</td>\n",
              "    </tr>\n",
              "    <tr>\n",
              "      <th>892</th>\n",
              "      <td>3</td>\n",
              "      <td>0</td>\n",
              "      <td>2</td>\n",
              "      <td>1</td>\n",
              "      <td>0</td>\n",
              "      <td>0</td>\n",
              "      <td>2</td>\n",
              "      <td>2</td>\n",
              "      <td>2</td>\n",
              "    </tr>\n",
              "    <tr>\n",
              "      <th>893</th>\n",
              "      <td>2</td>\n",
              "      <td>1</td>\n",
              "      <td>3</td>\n",
              "      <td>0</td>\n",
              "      <td>0</td>\n",
              "      <td>1</td>\n",
              "      <td>1</td>\n",
              "      <td>1</td>\n",
              "      <td>1</td>\n",
              "    </tr>\n",
              "    <tr>\n",
              "      <th>894</th>\n",
              "      <td>3</td>\n",
              "      <td>1</td>\n",
              "      <td>1</td>\n",
              "      <td>0</td>\n",
              "      <td>0</td>\n",
              "      <td>1</td>\n",
              "      <td>2</td>\n",
              "      <td>2</td>\n",
              "      <td>1</td>\n",
              "    </tr>\n",
              "    <tr>\n",
              "      <th>895</th>\n",
              "      <td>3</td>\n",
              "      <td>0</td>\n",
              "      <td>1</td>\n",
              "      <td>1</td>\n",
              "      <td>1</td>\n",
              "      <td>2</td>\n",
              "      <td>2</td>\n",
              "      <td>2</td>\n",
              "      <td>3</td>\n",
              "    </tr>\n",
              "    <tr>\n",
              "      <th>...</th>\n",
              "      <td>...</td>\n",
              "      <td>...</td>\n",
              "      <td>...</td>\n",
              "      <td>...</td>\n",
              "      <td>...</td>\n",
              "      <td>...</td>\n",
              "      <td>...</td>\n",
              "      <td>...</td>\n",
              "      <td>...</td>\n",
              "    </tr>\n",
              "    <tr>\n",
              "      <th>1304</th>\n",
              "      <td>3</td>\n",
              "      <td>1</td>\n",
              "      <td>1</td>\n",
              "      <td>0</td>\n",
              "      <td>0</td>\n",
              "      <td>1</td>\n",
              "      <td>2</td>\n",
              "      <td>2</td>\n",
              "      <td>1</td>\n",
              "    </tr>\n",
              "    <tr>\n",
              "      <th>1305</th>\n",
              "      <td>1</td>\n",
              "      <td>0</td>\n",
              "      <td>2</td>\n",
              "      <td>0</td>\n",
              "      <td>0</td>\n",
              "      <td>4</td>\n",
              "      <td>0</td>\n",
              "      <td>0</td>\n",
              "      <td>1</td>\n",
              "    </tr>\n",
              "    <tr>\n",
              "      <th>1306</th>\n",
              "      <td>3</td>\n",
              "      <td>1</td>\n",
              "      <td>2</td>\n",
              "      <td>0</td>\n",
              "      <td>0</td>\n",
              "      <td>0</td>\n",
              "      <td>2</td>\n",
              "      <td>2</td>\n",
              "      <td>1</td>\n",
              "    </tr>\n",
              "    <tr>\n",
              "      <th>1307</th>\n",
              "      <td>3</td>\n",
              "      <td>1</td>\n",
              "      <td>1</td>\n",
              "      <td>0</td>\n",
              "      <td>0</td>\n",
              "      <td>1</td>\n",
              "      <td>2</td>\n",
              "      <td>2</td>\n",
              "      <td>1</td>\n",
              "    </tr>\n",
              "    <tr>\n",
              "      <th>1308</th>\n",
              "      <td>3</td>\n",
              "      <td>1</td>\n",
              "      <td>1</td>\n",
              "      <td>1</td>\n",
              "      <td>1</td>\n",
              "      <td>3</td>\n",
              "      <td>0</td>\n",
              "      <td>2</td>\n",
              "      <td>3</td>\n",
              "    </tr>\n",
              "  </tbody>\n",
              "</table>\n",
              "<p>418 rows × 9 columns</p>\n",
              "</div>"
            ],
            "text/plain": [
              "      Pclass  Sex  Age  SibSp  Parch  Fare  Embarked  Deck  Family_size\n",
              "891        3    1    2      0      0     0         1     2            1\n",
              "892        3    0    2      1      0     0         2     2            2\n",
              "893        2    1    3      0      0     1         1     1            1\n",
              "894        3    1    1      0      0     1         2     2            1\n",
              "895        3    0    1      1      1     2         2     2            3\n",
              "...      ...  ...  ...    ...    ...   ...       ...   ...          ...\n",
              "1304       3    1    1      0      0     1         2     2            1\n",
              "1305       1    0    2      0      0     4         0     0            1\n",
              "1306       3    1    2      0      0     0         2     2            1\n",
              "1307       3    1    1      0      0     1         2     2            1\n",
              "1308       3    1    1      1      1     3         0     2            3\n",
              "\n",
              "[418 rows x 9 columns]"
            ]
          },
          "metadata": {
            "tags": []
          },
          "execution_count": 423
        }
      ]
    },
    {
      "cell_type": "code",
      "metadata": {
        "colab": {
          "base_uri": "https://localhost:8080/"
        },
        "id": "_F6KSKxfBXID",
        "outputId": "605b76d8-cf97-4917-aa2f-9e9236ecc239"
      },
      "source": [
        "x.shape"
      ],
      "execution_count": 424,
      "outputs": [
        {
          "output_type": "execute_result",
          "data": {
            "text/plain": [
              "(891, 9)"
            ]
          },
          "metadata": {
            "tags": []
          },
          "execution_count": 424
        }
      ]
    },
    {
      "cell_type": "code",
      "metadata": {
        "colab": {
          "base_uri": "https://localhost:8080/"
        },
        "id": "e7iRhO3THBhc",
        "outputId": "d93eba7d-5370-422d-ae59-2bea9be2fb32"
      },
      "source": [
        "test.shape"
      ],
      "execution_count": 425,
      "outputs": [
        {
          "output_type": "execute_result",
          "data": {
            "text/plain": [
              "(418, 9)"
            ]
          },
          "metadata": {
            "tags": []
          },
          "execution_count": 425
        }
      ]
    },
    {
      "cell_type": "code",
      "metadata": {
        "id": "R_T4dwpnjyoN"
      },
      "source": [
        "x_train, x_test, y_train, y_test = train_test_split(x, y, test_size=0.25, random_state=1)"
      ],
      "execution_count": 426,
      "outputs": []
    },
    {
      "cell_type": "code",
      "metadata": {
        "colab": {
          "base_uri": "https://localhost:8080/"
        },
        "id": "GwYkEzu4pqPs",
        "outputId": "9ca285e7-a823-423b-d906-a54bb604dd0e"
      },
      "source": [
        "x_train.shape"
      ],
      "execution_count": 427,
      "outputs": [
        {
          "output_type": "execute_result",
          "data": {
            "text/plain": [
              "(668, 9)"
            ]
          },
          "metadata": {
            "tags": []
          },
          "execution_count": 427
        }
      ]
    },
    {
      "cell_type": "code",
      "metadata": {
        "id": "PwyFKsLmjzL9"
      },
      "source": [
        "from keras.layers import Dense, Activation, Dropout"
      ],
      "execution_count": 428,
      "outputs": []
    },
    {
      "cell_type": "code",
      "metadata": {
        "id": "IVFjXlZnotcX"
      },
      "source": [
        "inputs = tf.keras.Input(shape=(x_train.shape[1],))\r\n",
        "\r\n",
        "x1 = tf.keras.layers.Dense(512, activation='relu')(inputs)\r\n",
        "x1 = tf.keras.layers.Dropout(0.5)(x1)\r\n",
        "x1 = tf.keras.layers.Dense(64, activation='relu')(x1)\r\n",
        "x1 = tf.keras.layers.Dropout(0.5)(x1)\r\n",
        "x1 = tf.keras.layers.Dense(10, activation='relu')(x1)\r\n",
        "x1 = tf.keras.layers.Dropout(0.5)(x1)\r\n",
        "\r\n",
        "x2 = tf.keras.layers.Dense(64, activation='tanh')(inputs)\r\n",
        "x2 = tf.keras.layers.Dropout(0.5)(x2)\r\n",
        "x2 = tf.keras.layers.Dense(512, activation='tanh')(x2)\r\n",
        "x2 = tf.keras.layers.Dropout(0.5)(x2)\r\n",
        "x2 = tf.keras.layers.Dense(10, activation='tanh')(x2)\r\n",
        "x2 = tf.keras.layers.Dropout(0.5)(x2)\r\n",
        "\r\n",
        "x3 = tf.keras.layers.Dense(128, activation='relu')(inputs)\r\n",
        "x3 = tf.keras.layers.Dropout(0.5)(x3)\r\n",
        "x3 = tf.keras.layers.Dense(128, activation='relu')(x3)\r\n",
        "x3 = tf.keras.layers.Dropout(0.5)(x3)\r\n",
        "x3 = tf.keras.layers.Dense(10, activation='relu')(x3)\r\n",
        "x3 = tf.keras.layers.Dropout(0.5)(x3)\r\n",
        "\r\n",
        "x4 = tf.keras.layers.concatenate([inputs, x1, x2, x3], axis=1)\r\n",
        "x4 = tf.keras.layers.Dense(16, activation='relu')(x4)\r\n",
        "x4 = tf.keras.layers.Dropout(0.5)(x4)\r\n",
        "x4 = tf.keras.layers.Dense(8, activation='relu')(x4)\r\n",
        "x4 = tf.keras.layers.Dropout(0.5)(x4)\r\n",
        "\r\n",
        "outputs = tf.keras.layers.Dense(2, activation='softmax')(x4)\r\n",
        "\r\n",
        "model = tf.keras.Model(inputs=inputs, outputs=outputs)\r\n",
        "\r\n",
        "model.compile(optimizer=tf.keras.optimizers.Adam(), loss='sparse_categorical_crossentropy', metrics=['accuracy'])"
      ],
      "execution_count": 549,
      "outputs": []
    },
    {
      "cell_type": "code",
      "metadata": {
        "colab": {
          "base_uri": "https://localhost:8080/"
        },
        "id": "ZJmR-9yor2G4",
        "outputId": "66a42f4a-06e2-4dfa-d5b8-a684ff73175c"
      },
      "source": [
        "model.summary()"
      ],
      "execution_count": 550,
      "outputs": [
        {
          "output_type": "stream",
          "text": [
            "Model: \"model_67\"\n",
            "__________________________________________________________________________________________________\n",
            "Layer (type)                    Output Shape         Param #     Connected to                     \n",
            "==================================================================================================\n",
            "input_72 (InputLayer)           [(None, 9)]          0                                            \n",
            "__________________________________________________________________________________________________\n",
            "dense_845 (Dense)               (None, 512)          5120        input_72[0][0]                   \n",
            "__________________________________________________________________________________________________\n",
            "dense_848 (Dense)               (None, 64)           640         input_72[0][0]                   \n",
            "__________________________________________________________________________________________________\n",
            "dense_851 (Dense)               (None, 128)          1280        input_72[0][0]                   \n",
            "__________________________________________________________________________________________________\n",
            "dropout_576 (Dropout)           (None, 512)          0           dense_845[0][0]                  \n",
            "__________________________________________________________________________________________________\n",
            "dropout_579 (Dropout)           (None, 64)           0           dense_848[0][0]                  \n",
            "__________________________________________________________________________________________________\n",
            "dropout_582 (Dropout)           (None, 128)          0           dense_851[0][0]                  \n",
            "__________________________________________________________________________________________________\n",
            "dense_846 (Dense)               (None, 64)           32832       dropout_576[0][0]                \n",
            "__________________________________________________________________________________________________\n",
            "dense_849 (Dense)               (None, 512)          33280       dropout_579[0][0]                \n",
            "__________________________________________________________________________________________________\n",
            "dense_852 (Dense)               (None, 128)          16512       dropout_582[0][0]                \n",
            "__________________________________________________________________________________________________\n",
            "dropout_577 (Dropout)           (None, 64)           0           dense_846[0][0]                  \n",
            "__________________________________________________________________________________________________\n",
            "dropout_580 (Dropout)           (None, 512)          0           dense_849[0][0]                  \n",
            "__________________________________________________________________________________________________\n",
            "dropout_583 (Dropout)           (None, 128)          0           dense_852[0][0]                  \n",
            "__________________________________________________________________________________________________\n",
            "dense_847 (Dense)               (None, 10)           650         dropout_577[0][0]                \n",
            "__________________________________________________________________________________________________\n",
            "dense_850 (Dense)               (None, 10)           5130        dropout_580[0][0]                \n",
            "__________________________________________________________________________________________________\n",
            "dense_853 (Dense)               (None, 10)           1290        dropout_583[0][0]                \n",
            "__________________________________________________________________________________________________\n",
            "dropout_578 (Dropout)           (None, 10)           0           dense_847[0][0]                  \n",
            "__________________________________________________________________________________________________\n",
            "dropout_581 (Dropout)           (None, 10)           0           dense_850[0][0]                  \n",
            "__________________________________________________________________________________________________\n",
            "dropout_584 (Dropout)           (None, 10)           0           dense_853[0][0]                  \n",
            "__________________________________________________________________________________________________\n",
            "concatenate_69 (Concatenate)    (None, 39)           0           input_72[0][0]                   \n",
            "                                                                 dropout_578[0][0]                \n",
            "                                                                 dropout_581[0][0]                \n",
            "                                                                 dropout_584[0][0]                \n",
            "__________________________________________________________________________________________________\n",
            "dense_854 (Dense)               (None, 16)           640         concatenate_69[0][0]             \n",
            "__________________________________________________________________________________________________\n",
            "dropout_585 (Dropout)           (None, 16)           0           dense_854[0][0]                  \n",
            "__________________________________________________________________________________________________\n",
            "dense_855 (Dense)               (None, 8)            136         dropout_585[0][0]                \n",
            "__________________________________________________________________________________________________\n",
            "dropout_586 (Dropout)           (None, 8)            0           dense_855[0][0]                  \n",
            "__________________________________________________________________________________________________\n",
            "dense_856 (Dense)               (None, 2)            18          dropout_586[0][0]                \n",
            "==================================================================================================\n",
            "Total params: 97,528\n",
            "Trainable params: 97,528\n",
            "Non-trainable params: 0\n",
            "__________________________________________________________________________________________________\n"
          ],
          "name": "stdout"
        }
      ]
    },
    {
      "cell_type": "code",
      "metadata": {
        "id": "oms85c4Mpwqy",
        "colab": {
          "base_uri": "https://localhost:8080/"
        },
        "outputId": "b0437140-2953-4a40-d5c7-381b358375c6"
      },
      "source": [
        "history = model.fit(x_train, y_train, shuffle=True, epochs=125, validation_split=0.1, verbose=2)"
      ],
      "execution_count": 551,
      "outputs": [
        {
          "output_type": "stream",
          "text": [
            "Epoch 1/125\n",
            "19/19 - 1s - loss: 0.7396 - accuracy: 0.6090 - val_loss: 0.6414 - val_accuracy: 0.7164\n",
            "Epoch 2/125\n",
            "19/19 - 0s - loss: 0.7441 - accuracy: 0.6206 - val_loss: 0.6595 - val_accuracy: 0.7164\n",
            "Epoch 3/125\n",
            "19/19 - 0s - loss: 0.6827 - accuracy: 0.6306 - val_loss: 0.6556 - val_accuracy: 0.7164\n",
            "Epoch 4/125\n",
            "19/19 - 0s - loss: 0.6637 - accuracy: 0.6240 - val_loss: 0.6535 - val_accuracy: 0.7313\n",
            "Epoch 5/125\n",
            "19/19 - 0s - loss: 0.7057 - accuracy: 0.6156 - val_loss: 0.6521 - val_accuracy: 0.7164\n",
            "Epoch 6/125\n",
            "19/19 - 0s - loss: 0.6801 - accuracy: 0.6373 - val_loss: 0.6443 - val_accuracy: 0.7164\n",
            "Epoch 7/125\n",
            "19/19 - 0s - loss: 0.6688 - accuracy: 0.6306 - val_loss: 0.6437 - val_accuracy: 0.7463\n",
            "Epoch 8/125\n",
            "19/19 - 0s - loss: 0.6890 - accuracy: 0.6140 - val_loss: 0.6382 - val_accuracy: 0.7313\n",
            "Epoch 9/125\n",
            "19/19 - 0s - loss: 0.6687 - accuracy: 0.6273 - val_loss: 0.6364 - val_accuracy: 0.7164\n",
            "Epoch 10/125\n",
            "19/19 - 0s - loss: 0.6601 - accuracy: 0.6256 - val_loss: 0.6358 - val_accuracy: 0.7164\n",
            "Epoch 11/125\n",
            "19/19 - 0s - loss: 0.6443 - accuracy: 0.6373 - val_loss: 0.6372 - val_accuracy: 0.7164\n",
            "Epoch 12/125\n",
            "19/19 - 0s - loss: 0.6487 - accuracy: 0.6140 - val_loss: 0.6321 - val_accuracy: 0.7313\n",
            "Epoch 13/125\n",
            "19/19 - 0s - loss: 0.6669 - accuracy: 0.6173 - val_loss: 0.6232 - val_accuracy: 0.7463\n",
            "Epoch 14/125\n",
            "19/19 - 0s - loss: 0.6491 - accuracy: 0.6373 - val_loss: 0.6176 - val_accuracy: 0.7313\n",
            "Epoch 15/125\n",
            "19/19 - 0s - loss: 0.6539 - accuracy: 0.6273 - val_loss: 0.6118 - val_accuracy: 0.7463\n",
            "Epoch 16/125\n",
            "19/19 - 0s - loss: 0.6468 - accuracy: 0.6356 - val_loss: 0.6033 - val_accuracy: 0.7463\n",
            "Epoch 17/125\n",
            "19/19 - 0s - loss: 0.6486 - accuracy: 0.6290 - val_loss: 0.5973 - val_accuracy: 0.7463\n",
            "Epoch 18/125\n",
            "19/19 - 0s - loss: 0.6470 - accuracy: 0.6240 - val_loss: 0.6000 - val_accuracy: 0.7164\n",
            "Epoch 19/125\n",
            "19/19 - 0s - loss: 0.6304 - accuracy: 0.6506 - val_loss: 0.6023 - val_accuracy: 0.7313\n",
            "Epoch 20/125\n",
            "19/19 - 0s - loss: 0.6201 - accuracy: 0.6356 - val_loss: 0.5965 - val_accuracy: 0.7463\n",
            "Epoch 21/125\n",
            "19/19 - 0s - loss: 0.6125 - accuracy: 0.6489 - val_loss: 0.5859 - val_accuracy: 0.7761\n",
            "Epoch 22/125\n",
            "19/19 - 0s - loss: 0.6495 - accuracy: 0.6240 - val_loss: 0.5785 - val_accuracy: 0.7910\n",
            "Epoch 23/125\n",
            "19/19 - 0s - loss: 0.5971 - accuracy: 0.6456 - val_loss: 0.5653 - val_accuracy: 0.7761\n",
            "Epoch 24/125\n",
            "19/19 - 0s - loss: 0.6372 - accuracy: 0.6423 - val_loss: 0.5603 - val_accuracy: 0.7761\n",
            "Epoch 25/125\n",
            "19/19 - 0s - loss: 0.6025 - accuracy: 0.6389 - val_loss: 0.5538 - val_accuracy: 0.7761\n",
            "Epoch 26/125\n",
            "19/19 - 0s - loss: 0.6296 - accuracy: 0.6423 - val_loss: 0.5651 - val_accuracy: 0.8060\n",
            "Epoch 27/125\n",
            "19/19 - 0s - loss: 0.6035 - accuracy: 0.6406 - val_loss: 0.5540 - val_accuracy: 0.8060\n",
            "Epoch 28/125\n",
            "19/19 - 0s - loss: 0.6094 - accuracy: 0.6456 - val_loss: 0.5583 - val_accuracy: 0.8209\n",
            "Epoch 29/125\n",
            "19/19 - 0s - loss: 0.6107 - accuracy: 0.6522 - val_loss: 0.5430 - val_accuracy: 0.8060\n",
            "Epoch 30/125\n",
            "19/19 - 0s - loss: 0.5880 - accuracy: 0.6506 - val_loss: 0.5219 - val_accuracy: 0.8209\n",
            "Epoch 31/125\n",
            "19/19 - 0s - loss: 0.6001 - accuracy: 0.6606 - val_loss: 0.5392 - val_accuracy: 0.8060\n",
            "Epoch 32/125\n",
            "19/19 - 0s - loss: 0.5929 - accuracy: 0.6622 - val_loss: 0.5330 - val_accuracy: 0.8209\n",
            "Epoch 33/125\n",
            "19/19 - 0s - loss: 0.5670 - accuracy: 0.6789 - val_loss: 0.5142 - val_accuracy: 0.8358\n",
            "Epoch 34/125\n",
            "19/19 - 0s - loss: 0.5827 - accuracy: 0.6722 - val_loss: 0.4961 - val_accuracy: 0.8358\n",
            "Epoch 35/125\n",
            "19/19 - 0s - loss: 0.5839 - accuracy: 0.6855 - val_loss: 0.4948 - val_accuracy: 0.8358\n",
            "Epoch 36/125\n",
            "19/19 - 0s - loss: 0.5930 - accuracy: 0.6656 - val_loss: 0.4968 - val_accuracy: 0.8507\n",
            "Epoch 37/125\n",
            "19/19 - 0s - loss: 0.5569 - accuracy: 0.7055 - val_loss: 0.4845 - val_accuracy: 0.8507\n",
            "Epoch 38/125\n",
            "19/19 - 0s - loss: 0.5867 - accuracy: 0.6905 - val_loss: 0.4718 - val_accuracy: 0.8507\n",
            "Epoch 39/125\n",
            "19/19 - 0s - loss: 0.5712 - accuracy: 0.7022 - val_loss: 0.4713 - val_accuracy: 0.8507\n",
            "Epoch 40/125\n",
            "19/19 - 0s - loss: 0.5892 - accuracy: 0.6922 - val_loss: 0.4921 - val_accuracy: 0.8657\n",
            "Epoch 41/125\n",
            "19/19 - 0s - loss: 0.5800 - accuracy: 0.7055 - val_loss: 0.4984 - val_accuracy: 0.8507\n",
            "Epoch 42/125\n",
            "19/19 - 0s - loss: 0.5817 - accuracy: 0.6972 - val_loss: 0.4942 - val_accuracy: 0.8507\n",
            "Epoch 43/125\n",
            "19/19 - 0s - loss: 0.5791 - accuracy: 0.6972 - val_loss: 0.4813 - val_accuracy: 0.8507\n",
            "Epoch 44/125\n",
            "19/19 - 0s - loss: 0.5578 - accuracy: 0.7221 - val_loss: 0.4814 - val_accuracy: 0.8657\n",
            "Epoch 45/125\n",
            "19/19 - 0s - loss: 0.5702 - accuracy: 0.7038 - val_loss: 0.4782 - val_accuracy: 0.8358\n",
            "Epoch 46/125\n",
            "19/19 - 0s - loss: 0.5616 - accuracy: 0.7005 - val_loss: 0.4892 - val_accuracy: 0.8358\n",
            "Epoch 47/125\n",
            "19/19 - 0s - loss: 0.5690 - accuracy: 0.6972 - val_loss: 0.4891 - val_accuracy: 0.8209\n",
            "Epoch 48/125\n",
            "19/19 - 0s - loss: 0.5440 - accuracy: 0.7121 - val_loss: 0.4795 - val_accuracy: 0.8358\n",
            "Epoch 49/125\n",
            "19/19 - 0s - loss: 0.5578 - accuracy: 0.7255 - val_loss: 0.4737 - val_accuracy: 0.8507\n",
            "Epoch 50/125\n",
            "19/19 - 0s - loss: 0.5590 - accuracy: 0.7188 - val_loss: 0.4674 - val_accuracy: 0.8657\n",
            "Epoch 51/125\n",
            "19/19 - 0s - loss: 0.5603 - accuracy: 0.7155 - val_loss: 0.4770 - val_accuracy: 0.8657\n",
            "Epoch 52/125\n",
            "19/19 - 0s - loss: 0.5594 - accuracy: 0.7354 - val_loss: 0.4950 - val_accuracy: 0.8657\n",
            "Epoch 53/125\n",
            "19/19 - 0s - loss: 0.5628 - accuracy: 0.7188 - val_loss: 0.4815 - val_accuracy: 0.8507\n",
            "Epoch 54/125\n",
            "19/19 - 0s - loss: 0.5430 - accuracy: 0.7238 - val_loss: 0.4674 - val_accuracy: 0.8358\n",
            "Epoch 55/125\n",
            "19/19 - 0s - loss: 0.5259 - accuracy: 0.7321 - val_loss: 0.4561 - val_accuracy: 0.8507\n",
            "Epoch 56/125\n",
            "19/19 - 0s - loss: 0.5504 - accuracy: 0.7238 - val_loss: 0.4646 - val_accuracy: 0.8507\n",
            "Epoch 57/125\n",
            "19/19 - 0s - loss: 0.5199 - accuracy: 0.7471 - val_loss: 0.4792 - val_accuracy: 0.8507\n",
            "Epoch 58/125\n",
            "19/19 - 0s - loss: 0.5529 - accuracy: 0.7205 - val_loss: 0.4736 - val_accuracy: 0.8358\n",
            "Epoch 59/125\n",
            "19/19 - 0s - loss: 0.5492 - accuracy: 0.7238 - val_loss: 0.4692 - val_accuracy: 0.8358\n",
            "Epoch 60/125\n",
            "19/19 - 0s - loss: 0.5487 - accuracy: 0.7321 - val_loss: 0.4682 - val_accuracy: 0.8358\n",
            "Epoch 61/125\n",
            "19/19 - 0s - loss: 0.5384 - accuracy: 0.7338 - val_loss: 0.4698 - val_accuracy: 0.8507\n",
            "Epoch 62/125\n",
            "19/19 - 0s - loss: 0.5429 - accuracy: 0.7304 - val_loss: 0.4735 - val_accuracy: 0.8507\n",
            "Epoch 63/125\n",
            "19/19 - 0s - loss: 0.5426 - accuracy: 0.7504 - val_loss: 0.4700 - val_accuracy: 0.8507\n",
            "Epoch 64/125\n",
            "19/19 - 0s - loss: 0.5196 - accuracy: 0.7504 - val_loss: 0.4778 - val_accuracy: 0.8358\n",
            "Epoch 65/125\n",
            "19/19 - 0s - loss: 0.5260 - accuracy: 0.7587 - val_loss: 0.4760 - val_accuracy: 0.8358\n",
            "Epoch 66/125\n",
            "19/19 - 0s - loss: 0.5568 - accuracy: 0.7304 - val_loss: 0.4654 - val_accuracy: 0.8358\n",
            "Epoch 67/125\n",
            "19/19 - 0s - loss: 0.5625 - accuracy: 0.7121 - val_loss: 0.4671 - val_accuracy: 0.8507\n",
            "Epoch 68/125\n",
            "19/19 - 0s - loss: 0.5366 - accuracy: 0.7238 - val_loss: 0.4731 - val_accuracy: 0.8507\n",
            "Epoch 69/125\n",
            "19/19 - 0s - loss: 0.5290 - accuracy: 0.7388 - val_loss: 0.4734 - val_accuracy: 0.8507\n",
            "Epoch 70/125\n",
            "19/19 - 0s - loss: 0.5482 - accuracy: 0.7388 - val_loss: 0.4748 - val_accuracy: 0.8358\n",
            "Epoch 71/125\n",
            "19/19 - 0s - loss: 0.5222 - accuracy: 0.7354 - val_loss: 0.4673 - val_accuracy: 0.8507\n",
            "Epoch 72/125\n",
            "19/19 - 0s - loss: 0.5358 - accuracy: 0.7238 - val_loss: 0.4691 - val_accuracy: 0.8507\n",
            "Epoch 73/125\n",
            "19/19 - 0s - loss: 0.5015 - accuracy: 0.7537 - val_loss: 0.4675 - val_accuracy: 0.8358\n",
            "Epoch 74/125\n",
            "19/19 - 0s - loss: 0.5379 - accuracy: 0.7404 - val_loss: 0.4701 - val_accuracy: 0.8209\n",
            "Epoch 75/125\n",
            "19/19 - 0s - loss: 0.5043 - accuracy: 0.7704 - val_loss: 0.4844 - val_accuracy: 0.8358\n",
            "Epoch 76/125\n",
            "19/19 - 0s - loss: 0.5316 - accuracy: 0.7571 - val_loss: 0.4701 - val_accuracy: 0.8657\n",
            "Epoch 77/125\n",
            "19/19 - 0s - loss: 0.5185 - accuracy: 0.7521 - val_loss: 0.4669 - val_accuracy: 0.8657\n",
            "Epoch 78/125\n",
            "19/19 - 0s - loss: 0.5331 - accuracy: 0.7404 - val_loss: 0.4595 - val_accuracy: 0.8507\n",
            "Epoch 79/125\n",
            "19/19 - 0s - loss: 0.5191 - accuracy: 0.7354 - val_loss: 0.4507 - val_accuracy: 0.8507\n",
            "Epoch 80/125\n",
            "19/19 - 0s - loss: 0.5270 - accuracy: 0.7454 - val_loss: 0.4677 - val_accuracy: 0.8507\n",
            "Epoch 81/125\n",
            "19/19 - 0s - loss: 0.5240 - accuracy: 0.7471 - val_loss: 0.4787 - val_accuracy: 0.8358\n",
            "Epoch 82/125\n",
            "19/19 - 0s - loss: 0.5506 - accuracy: 0.7488 - val_loss: 0.4844 - val_accuracy: 0.8507\n",
            "Epoch 83/125\n",
            "19/19 - 0s - loss: 0.5111 - accuracy: 0.7471 - val_loss: 0.4744 - val_accuracy: 0.8507\n",
            "Epoch 84/125\n",
            "19/19 - 0s - loss: 0.5149 - accuracy: 0.7421 - val_loss: 0.4710 - val_accuracy: 0.8507\n",
            "Epoch 85/125\n",
            "19/19 - 0s - loss: 0.5394 - accuracy: 0.7521 - val_loss: 0.4850 - val_accuracy: 0.8507\n",
            "Epoch 86/125\n",
            "19/19 - 0s - loss: 0.5362 - accuracy: 0.7587 - val_loss: 0.4759 - val_accuracy: 0.8657\n",
            "Epoch 87/125\n",
            "19/19 - 0s - loss: 0.5158 - accuracy: 0.7537 - val_loss: 0.4928 - val_accuracy: 0.8358\n",
            "Epoch 88/125\n",
            "19/19 - 0s - loss: 0.5288 - accuracy: 0.7271 - val_loss: 0.4934 - val_accuracy: 0.8507\n",
            "Epoch 89/125\n",
            "19/19 - 0s - loss: 0.5226 - accuracy: 0.7454 - val_loss: 0.4776 - val_accuracy: 0.8507\n",
            "Epoch 90/125\n",
            "19/19 - 0s - loss: 0.5251 - accuracy: 0.7438 - val_loss: 0.4796 - val_accuracy: 0.8507\n",
            "Epoch 91/125\n",
            "19/19 - 0s - loss: 0.5268 - accuracy: 0.7354 - val_loss: 0.4763 - val_accuracy: 0.8507\n",
            "Epoch 92/125\n",
            "19/19 - 0s - loss: 0.5284 - accuracy: 0.7438 - val_loss: 0.4880 - val_accuracy: 0.8507\n",
            "Epoch 93/125\n",
            "19/19 - 0s - loss: 0.5107 - accuracy: 0.7504 - val_loss: 0.4864 - val_accuracy: 0.8507\n",
            "Epoch 94/125\n",
            "19/19 - 0s - loss: 0.5219 - accuracy: 0.7654 - val_loss: 0.4610 - val_accuracy: 0.8657\n",
            "Epoch 95/125\n",
            "19/19 - 0s - loss: 0.5015 - accuracy: 0.7654 - val_loss: 0.4587 - val_accuracy: 0.8657\n",
            "Epoch 96/125\n",
            "19/19 - 0s - loss: 0.5031 - accuracy: 0.7571 - val_loss: 0.4559 - val_accuracy: 0.8507\n",
            "Epoch 97/125\n",
            "19/19 - 0s - loss: 0.5216 - accuracy: 0.7488 - val_loss: 0.4676 - val_accuracy: 0.8507\n",
            "Epoch 98/125\n",
            "19/19 - 0s - loss: 0.5073 - accuracy: 0.7621 - val_loss: 0.4912 - val_accuracy: 0.8657\n",
            "Epoch 99/125\n",
            "19/19 - 0s - loss: 0.5035 - accuracy: 0.7554 - val_loss: 0.4883 - val_accuracy: 0.8358\n",
            "Epoch 100/125\n",
            "19/19 - 0s - loss: 0.5333 - accuracy: 0.7621 - val_loss: 0.4859 - val_accuracy: 0.8358\n",
            "Epoch 101/125\n",
            "19/19 - 0s - loss: 0.5172 - accuracy: 0.7621 - val_loss: 0.4776 - val_accuracy: 0.8358\n",
            "Epoch 102/125\n",
            "19/19 - 0s - loss: 0.5081 - accuracy: 0.7554 - val_loss: 0.4888 - val_accuracy: 0.8209\n",
            "Epoch 103/125\n",
            "19/19 - 0s - loss: 0.5146 - accuracy: 0.7521 - val_loss: 0.4754 - val_accuracy: 0.8507\n",
            "Epoch 104/125\n",
            "19/19 - 0s - loss: 0.4928 - accuracy: 0.7820 - val_loss: 0.4866 - val_accuracy: 0.8507\n",
            "Epoch 105/125\n",
            "19/19 - 0s - loss: 0.4900 - accuracy: 0.7488 - val_loss: 0.4719 - val_accuracy: 0.8657\n",
            "Epoch 106/125\n",
            "19/19 - 0s - loss: 0.5062 - accuracy: 0.7671 - val_loss: 0.4591 - val_accuracy: 0.8507\n",
            "Epoch 107/125\n",
            "19/19 - 0s - loss: 0.5063 - accuracy: 0.7654 - val_loss: 0.4574 - val_accuracy: 0.8507\n",
            "Epoch 108/125\n",
            "19/19 - 0s - loss: 0.5285 - accuracy: 0.7521 - val_loss: 0.4631 - val_accuracy: 0.8806\n",
            "Epoch 109/125\n",
            "19/19 - 0s - loss: 0.5200 - accuracy: 0.7504 - val_loss: 0.4770 - val_accuracy: 0.8657\n",
            "Epoch 110/125\n",
            "19/19 - 0s - loss: 0.4928 - accuracy: 0.7837 - val_loss: 0.4805 - val_accuracy: 0.8358\n",
            "Epoch 111/125\n",
            "19/19 - 0s - loss: 0.5169 - accuracy: 0.7504 - val_loss: 0.4779 - val_accuracy: 0.8507\n",
            "Epoch 112/125\n",
            "19/19 - 0s - loss: 0.5034 - accuracy: 0.7770 - val_loss: 0.4973 - val_accuracy: 0.8657\n",
            "Epoch 113/125\n",
            "19/19 - 0s - loss: 0.5133 - accuracy: 0.7704 - val_loss: 0.4879 - val_accuracy: 0.8358\n",
            "Epoch 114/125\n",
            "19/19 - 0s - loss: 0.5364 - accuracy: 0.7488 - val_loss: 0.4733 - val_accuracy: 0.8358\n",
            "Epoch 115/125\n",
            "19/19 - 0s - loss: 0.4808 - accuracy: 0.7804 - val_loss: 0.4690 - val_accuracy: 0.8358\n",
            "Epoch 116/125\n",
            "19/19 - 0s - loss: 0.5150 - accuracy: 0.7421 - val_loss: 0.4992 - val_accuracy: 0.7910\n",
            "Epoch 117/125\n",
            "19/19 - 0s - loss: 0.4928 - accuracy: 0.7754 - val_loss: 0.4988 - val_accuracy: 0.7910\n",
            "Epoch 118/125\n",
            "19/19 - 0s - loss: 0.5265 - accuracy: 0.7421 - val_loss: 0.4747 - val_accuracy: 0.8657\n",
            "Epoch 119/125\n",
            "19/19 - 0s - loss: 0.4980 - accuracy: 0.7804 - val_loss: 0.4791 - val_accuracy: 0.7910\n",
            "Epoch 120/125\n",
            "19/19 - 0s - loss: 0.5181 - accuracy: 0.7554 - val_loss: 0.5035 - val_accuracy: 0.7910\n",
            "Epoch 121/125\n",
            "19/19 - 0s - loss: 0.5163 - accuracy: 0.7621 - val_loss: 0.5158 - val_accuracy: 0.7910\n",
            "Epoch 122/125\n",
            "19/19 - 0s - loss: 0.5030 - accuracy: 0.7637 - val_loss: 0.5022 - val_accuracy: 0.8060\n",
            "Epoch 123/125\n",
            "19/19 - 0s - loss: 0.5082 - accuracy: 0.7671 - val_loss: 0.4904 - val_accuracy: 0.8060\n",
            "Epoch 124/125\n",
            "19/19 - 0s - loss: 0.5111 - accuracy: 0.7537 - val_loss: 0.4925 - val_accuracy: 0.8060\n",
            "Epoch 125/125\n",
            "19/19 - 0s - loss: 0.5075 - accuracy: 0.7754 - val_loss: 0.5104 - val_accuracy: 0.8060\n"
          ],
          "name": "stdout"
        }
      ]
    },
    {
      "cell_type": "code",
      "metadata": {
        "colab": {
          "base_uri": "https://localhost:8080/",
          "height": 283
        },
        "id": "bWL4Ncxlrw5n",
        "outputId": "71acdf5d-82ca-408f-c783-71340869d6f4"
      },
      "source": [
        "import matplotlib.pyplot as plt\r\n",
        "plt.figure(figsize=(12, 4))\r\n",
        "\r\n",
        "plt.subplot(1, 2, 1)\r\n",
        "plt.plot(history.history['loss'], 'b-', label='loss')\r\n",
        "plt.plot(history.history['val_loss'], 'r--', label='val_loss')\r\n",
        "plt.xlabel('Epoch')\r\n",
        "plt.legend()\r\n",
        "\r\n",
        "plt.subplot(1, 2, 2)\r\n",
        "plt.plot(history.history['accuracy'], 'g-', label='accuracy')\r\n",
        "plt.plot(history.history['val_accuracy'], 'k--', label='val_accuracy')\r\n",
        "plt.xlabel('Epoch')\r\n",
        "plt.ylim(0.7, 1)\r\n",
        "plt.legend()\r\n",
        "\r\n",
        "plt.show()"
      ],
      "execution_count": 552,
      "outputs": [
        {
          "output_type": "display_data",
          "data": {
            "image/png": "[encoded data removed]",
            "text/plain": [
              "<Figure size 864x288 with 2 Axes>"
            ]
          },
          "metadata": {
            "tags": [],
            "needs_background": "light"
          }
        }
      ]
    },
    {
      "cell_type": "code",
      "metadata": {
        "colab": {
          "base_uri": "https://localhost:8080/"
        },
        "id": "qNYU88ZNqBlA",
        "outputId": "82bb840f-58a0-4596-9bbd-f5c7395ac551"
      },
      "source": [
        "model.evaluate(x_test, y_test)"
      ],
      "execution_count": 553,
      "outputs": [
        {
          "output_type": "stream",
          "text": [
            "7/7 [==============================] - 0s 2ms/step - loss: 0.4854 - accuracy: 0.7803\n"
          ],
          "name": "stdout"
        },
        {
          "output_type": "execute_result",
          "data": {
            "text/plain": [
              "[0.4853822886943817, 0.7802690863609314]"
            ]
          },
          "metadata": {
            "tags": []
          },
          "execution_count": 553
        }
      ]
    },
    {
      "cell_type": "code",
      "metadata": {
        "id": "__ilSNnMqU-O"
      },
      "source": [
        "test_pred = model.predict(test)"
      ],
      "execution_count": 464,
      "outputs": []
    },
    {
      "cell_type": "code",
      "metadata": {
        "id": "5HOLkRsOr5vv"
      },
      "source": [
        "test_pred_argmax = np.argmax(test_pred, axis=1)"
      ],
      "execution_count": 465,
      "outputs": []
    },
    {
      "cell_type": "code",
      "metadata": {
        "colab": {
          "base_uri": "https://localhost:8080/"
        },
        "id": "Dd8ASaG2t4Ev",
        "outputId": "d40b6592-22ec-4692-e616-0e7d3196da5f"
      },
      "source": [
        "test_pred_argmax"
      ],
      "execution_count": 466,
      "outputs": [
        {
          "output_type": "execute_result",
          "data": {
            "text/plain": [
              "array([0, 0, 0, 0, 0, 0, 1, 0, 1, 0, 0, 0, 1, 0, 1, 1, 0, 0, 0, 0, 0, 0,\n",
              "       1, 0, 1, 0, 1, 0, 0, 0, 0, 0, 0, 0, 0, 0, 1, 1, 0, 0, 0, 0, 0, 1,\n",
              "       1, 0, 0, 0, 1, 1, 0, 0, 1, 1, 0, 0, 0, 0, 0, 1, 0, 0, 0, 1, 1, 1,\n",
              "       1, 0, 0, 1, 1, 0, 1, 0, 1, 0, 0, 1, 0, 1, 1, 0, 0, 0, 0, 0, 1, 1,\n",
              "       1, 1, 0, 0, 1, 0, 0, 0, 1, 0, 0, 0, 1, 0, 0, 0, 1, 0, 0, 0, 0, 0,\n",
              "       0, 1, 1, 1, 1, 0, 0, 1, 0, 1, 1, 0, 1, 0, 0, 1, 0, 0, 0, 0, 0, 0,\n",
              "       0, 0, 0, 0, 0, 0, 1, 0, 0, 1, 0, 0, 0, 0, 0, 0, 0, 0, 1, 0, 0, 1,\n",
              "       0, 0, 1, 0, 0, 1, 1, 1, 1, 0, 0, 1, 0, 0, 1, 1, 0, 0, 0, 0, 0, 1,\n",
              "       1, 0, 1, 1, 0, 0, 1, 0, 1, 0, 1, 0, 0, 0, 0, 0, 0, 0, 1, 0, 1, 0,\n",
              "       0, 1, 1, 1, 0, 1, 0, 0, 0, 0, 1, 0, 0, 0, 0, 1, 0, 0, 1, 0, 1, 0,\n",
              "       1, 0, 1, 0, 1, 1, 0, 1, 0, 0, 0, 1, 0, 0, 0, 0, 0, 0, 1, 1, 1, 1,\n",
              "       0, 0, 0, 0, 1, 0, 1, 0, 1, 0, 0, 0, 0, 0, 0, 0, 1, 0, 0, 0, 1, 1,\n",
              "       0, 0, 0, 0, 1, 0, 0, 0, 1, 0, 0, 1, 0, 0, 0, 0, 1, 0, 1, 1, 1, 0,\n",
              "       0, 0, 0, 0, 0, 1, 0, 0, 0, 0, 1, 0, 0, 0, 0, 0, 0, 0, 1, 1, 1, 1,\n",
              "       0, 0, 0, 0, 0, 0, 1, 1, 0, 0, 0, 0, 0, 0, 0, 0, 1, 0, 0, 0, 0, 0,\n",
              "       1, 0, 0, 1, 0, 0, 0, 0, 0, 0, 0, 0, 0, 1, 0, 1, 0, 0, 0, 1, 1, 0,\n",
              "       0, 0, 1, 0, 1, 0, 0, 0, 0, 1, 1, 0, 1, 0, 0, 1, 1, 0, 0, 1, 0, 0,\n",
              "       1, 1, 0, 0, 0, 0, 0, 0, 1, 0, 0, 1, 0, 0, 0, 0, 0, 1, 1, 0, 0, 1,\n",
              "       0, 1, 0, 0, 1, 0, 1, 0, 0, 0, 0, 0, 1, 1, 1, 1, 0, 0, 1, 0, 0, 0])"
            ]
          },
          "metadata": {
            "tags": []
          },
          "execution_count": 466
        }
      ]
    },
    {
      "cell_type": "code",
      "metadata": {
        "id": "Z9eI-tOFx7JC"
      },
      "source": [
        "sub = submit['PassengerId']"
      ],
      "execution_count": 467,
      "outputs": []
    },
    {
      "cell_type": "code",
      "metadata": {
        "id": "56i3tUcB0IJ1"
      },
      "source": [
        "sub = pd.concat([sub, pd.DataFrame(test_pred_argmax, columns=['Survived'])], axis=1)"
      ],
      "execution_count": 468,
      "outputs": []
    },
    {
      "cell_type": "code",
      "metadata": {
        "id": "l_XficdN2T-i",
        "colab": {
          "base_uri": "https://localhost:8080/",
          "height": 406
        },
        "outputId": "9010d23d-967a-42e5-b1a3-a0d9eb2c9ba2"
      },
      "source": [
        "sub"
      ],
      "execution_count": 469,
      "outputs": [
        {
          "output_type": "execute_result",
          "data": {
            "text/html": [
              "<div>\n",
              "<style scoped>\n",
              "    .dataframe tbody tr th:only-of-type {\n",
              "        vertical-align: middle;\n",
              "    }\n",
              "\n",
              "    .dataframe tbody tr th {\n",
              "        vertical-align: top;\n",
              "    }\n",
              "\n",
              "    .dataframe thead th {\n",
              "        text-align: right;\n",
              "    }\n",
              "</style>\n",
              "<table border=\"1\" class=\"dataframe\">\n",
              "  <thead>\n",
              "    <tr style=\"text-align: right;\">\n",
              "      <th></th>\n",
              "      <th>PassengerId</th>\n",
              "      <th>Survived</th>\n",
              "    </tr>\n",
              "  </thead>\n",
              "  <tbody>\n",
              "    <tr>\n",
              "      <th>0</th>\n",
              "      <td>892</td>\n",
              "      <td>0</td>\n",
              "    </tr>\n",
              "    <tr>\n",
              "      <th>1</th>\n",
              "      <td>893</td>\n",
              "      <td>0</td>\n",
              "    </tr>\n",
              "    <tr>\n",
              "      <th>2</th>\n",
              "      <td>894</td>\n",
              "      <td>0</td>\n",
              "    </tr>\n",
              "    <tr>\n",
              "      <th>3</th>\n",
              "      <td>895</td>\n",
              "      <td>0</td>\n",
              "    </tr>\n",
              "    <tr>\n",
              "      <th>4</th>\n",
              "      <td>896</td>\n",
              "      <td>0</td>\n",
              "    </tr>\n",
              "    <tr>\n",
              "      <th>...</th>\n",
              "      <td>...</td>\n",
              "      <td>...</td>\n",
              "    </tr>\n",
              "    <tr>\n",
              "      <th>413</th>\n",
              "      <td>1305</td>\n",
              "      <td>0</td>\n",
              "    </tr>\n",
              "    <tr>\n",
              "      <th>414</th>\n",
              "      <td>1306</td>\n",
              "      <td>1</td>\n",
              "    </tr>\n",
              "    <tr>\n",
              "      <th>415</th>\n",
              "      <td>1307</td>\n",
              "      <td>0</td>\n",
              "    </tr>\n",
              "    <tr>\n",
              "      <th>416</th>\n",
              "      <td>1308</td>\n",
              "      <td>0</td>\n",
              "    </tr>\n",
              "    <tr>\n",
              "      <th>417</th>\n",
              "      <td>1309</td>\n",
              "      <td>0</td>\n",
              "    </tr>\n",
              "  </tbody>\n",
              "</table>\n",
              "<p>418 rows × 2 columns</p>\n",
              "</div>"
            ],
            "text/plain": [
              "     PassengerId  Survived\n",
              "0            892         0\n",
              "1            893         0\n",
              "2            894         0\n",
              "3            895         0\n",
              "4            896         0\n",
              "..           ...       ...\n",
              "413         1305         0\n",
              "414         1306         1\n",
              "415         1307         0\n",
              "416         1308         0\n",
              "417         1309         0\n",
              "\n",
              "[418 rows x 2 columns]"
            ]
          },
          "metadata": {
            "tags": []
          },
          "execution_count": 469
        }
      ]
    },
    {
      "cell_type": "code",
      "metadata": {
        "id": "3l4o36740kUr"
      },
      "source": [
        "sub.to_csv(\"/content/drive/MyDrive/submission_0228.csv\", index=False)"
      ],
      "execution_count": 470,
      "outputs": []
    },
    {
      "cell_type": "code",
      "metadata": {
        "id": "oa1CzSIt_sqd"
      },
      "source": [
        ""
      ],
      "execution_count": null,
      "outputs": []
    }
  ]
}